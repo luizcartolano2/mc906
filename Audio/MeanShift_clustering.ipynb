{
 "cells": [
  {
   "cell_type": "code",
   "execution_count": 1,
   "metadata": {},
   "outputs": [],
   "source": [
    "import pandas as pd\n",
    "import os\n",
    "import numpy as np\n",
    "import matplotlib.pyplot as plt\n",
    "from collections import OrderedDict\n",
    "import itertools\n",
    "from scipy.spatial.distance import cdist\n",
    "from sklearn.model_selection import train_test_split\n",
    "from sklearn.metrics import confusion_matrix\n",
    "from sklearn.preprocessing import LabelEncoder, StandardScaler\n",
    "import pylab as pl\n",
    "from sklearn.decomposition import PCA\n",
    "from sklearn.cluster import MeanShift, estimate_bandwidth\n",
    "import warnings\n",
    "warnings.filterwarnings(\"ignore\")"
   ]
  },
  {
   "cell_type": "markdown",
   "metadata": {},
   "source": [
    "## Leitura e Split dos Dados"
   ]
  },
  {
   "cell_type": "markdown",
   "metadata": {},
   "source": [
    "Mean Shift é um algoritmo de clustering hierárquico. Em contraste com os algoritmos de aprendizado de máquina supervisionados, o clustering tenta agrupar dados sem ter sido treinado primeiro em dados rotulados. Ao contrário de K-Means, ao usar o Mean Shift, você não precisa saber o número de categorias (clusters) de antemão. A desvantagem do Mean Shift é que ele é computacionalmente caro - O (n²)."
   ]
  },
  {
   "cell_type": "code",
   "execution_count": 9,
   "metadata": {},
   "outputs": [
    {
     "data": {
      "text/html": [
       "<div>\n",
       "<style scoped>\n",
       "    .dataframe tbody tr th:only-of-type {\n",
       "        vertical-align: middle;\n",
       "    }\n",
       "\n",
       "    .dataframe tbody tr th {\n",
       "        vertical-align: top;\n",
       "    }\n",
       "\n",
       "    .dataframe thead th {\n",
       "        text-align: right;\n",
       "    }\n",
       "</style>\n",
       "<table border=\"1\" class=\"dataframe\">\n",
       "  <thead>\n",
       "    <tr style=\"text-align: right;\">\n",
       "      <th></th>\n",
       "      <th>bandwidth_kurtosis</th>\n",
       "      <th>bandwidth_mean</th>\n",
       "      <th>bandwidth_skew</th>\n",
       "      <th>bandwidth_std</th>\n",
       "      <th>centroid_kurtosis</th>\n",
       "      <th>centroid_mean</th>\n",
       "      <th>centroid_skew</th>\n",
       "      <th>centroid_std</th>\n",
       "      <th>chroma_kurtosis</th>\n",
       "      <th>chroma_mean</th>\n",
       "      <th>...</th>\n",
       "      <th>rmse_std</th>\n",
       "      <th>roloff_kurtosis</th>\n",
       "      <th>roloff_mean</th>\n",
       "      <th>roloff_skew</th>\n",
       "      <th>roloff_std</th>\n",
       "      <th>tempo</th>\n",
       "      <th>zcr_kurtosis</th>\n",
       "      <th>zcr_mean</th>\n",
       "      <th>zcr_skew</th>\n",
       "      <th>zcr_std</th>\n",
       "    </tr>\n",
       "  </thead>\n",
       "  <tbody>\n",
       "    <tr>\n",
       "      <th>0</th>\n",
       "      <td>0.792825</td>\n",
       "      <td>3072.275133</td>\n",
       "      <td>-1.201043</td>\n",
       "      <td>507.373242</td>\n",
       "      <td>-0.381658</td>\n",
       "      <td>2891.428242</td>\n",
       "      <td>-0.181103</td>\n",
       "      <td>927.581419</td>\n",
       "      <td>-0.996609</td>\n",
       "      <td>0.425177</td>\n",
       "      <td>...</td>\n",
       "      <td>0.062612</td>\n",
       "      <td>-0.297401</td>\n",
       "      <td>6602.908278</td>\n",
       "      <td>-0.864370</td>\n",
       "      <td>2199.022393</td>\n",
       "      <td>172.265625</td>\n",
       "      <td>1.592372</td>\n",
       "      <td>0.116526</td>\n",
       "      <td>1.002750</td>\n",
       "      <td>0.067756</td>\n",
       "    </tr>\n",
       "    <tr>\n",
       "      <th>1</th>\n",
       "      <td>-0.036886</td>\n",
       "      <td>3108.915592</td>\n",
       "      <td>-0.024222</td>\n",
       "      <td>474.607726</td>\n",
       "      <td>-0.275559</td>\n",
       "      <td>3004.068629</td>\n",
       "      <td>0.356506</td>\n",
       "      <td>926.389547</td>\n",
       "      <td>-0.967589</td>\n",
       "      <td>0.432395</td>\n",
       "      <td>...</td>\n",
       "      <td>0.059313</td>\n",
       "      <td>-0.708399</td>\n",
       "      <td>6694.672852</td>\n",
       "      <td>-0.429503</td>\n",
       "      <td>2034.134902</td>\n",
       "      <td>172.265625</td>\n",
       "      <td>1.310963</td>\n",
       "      <td>0.120320</td>\n",
       "      <td>0.941287</td>\n",
       "      <td>0.061194</td>\n",
       "    </tr>\n",
       "    <tr>\n",
       "      <th>2</th>\n",
       "      <td>-0.035471</td>\n",
       "      <td>2882.196422</td>\n",
       "      <td>0.507558</td>\n",
       "      <td>516.427608</td>\n",
       "      <td>1.138507</td>\n",
       "      <td>2707.773790</td>\n",
       "      <td>1.216916</td>\n",
       "      <td>1150.399104</td>\n",
       "      <td>-0.820446</td>\n",
       "      <td>0.411499</td>\n",
       "      <td>...</td>\n",
       "      <td>0.048298</td>\n",
       "      <td>-0.871476</td>\n",
       "      <td>5628.779297</td>\n",
       "      <td>0.228863</td>\n",
       "      <td>2278.133044</td>\n",
       "      <td>172.265625</td>\n",
       "      <td>6.739282</td>\n",
       "      <td>0.109788</td>\n",
       "      <td>2.212498</td>\n",
       "      <td>0.071455</td>\n",
       "    </tr>\n",
       "    <tr>\n",
       "      <th>3</th>\n",
       "      <td>-0.676834</td>\n",
       "      <td>2769.930595</td>\n",
       "      <td>-0.005707</td>\n",
       "      <td>505.898959</td>\n",
       "      <td>1.717588</td>\n",
       "      <td>2484.916583</td>\n",
       "      <td>1.299290</td>\n",
       "      <td>1124.511334</td>\n",
       "      <td>-0.655082</td>\n",
       "      <td>0.376489</td>\n",
       "      <td>...</td>\n",
       "      <td>0.049686</td>\n",
       "      <td>-0.925599</td>\n",
       "      <td>5121.589543</td>\n",
       "      <td>0.220824</td>\n",
       "      <td>2375.281410</td>\n",
       "      <td>172.265625</td>\n",
       "      <td>9.388941</td>\n",
       "      <td>0.101765</td>\n",
       "      <td>2.606648</td>\n",
       "      <td>0.071890</td>\n",
       "    </tr>\n",
       "    <tr>\n",
       "      <th>4</th>\n",
       "      <td>-0.415972</td>\n",
       "      <td>2986.595010</td>\n",
       "      <td>-0.510374</td>\n",
       "      <td>542.023823</td>\n",
       "      <td>-0.832082</td>\n",
       "      <td>2609.975944</td>\n",
       "      <td>0.112207</td>\n",
       "      <td>923.236585</td>\n",
       "      <td>-0.952736</td>\n",
       "      <td>0.410691</td>\n",
       "      <td>...</td>\n",
       "      <td>0.058376</td>\n",
       "      <td>-0.958447</td>\n",
       "      <td>5969.666466</td>\n",
       "      <td>-0.532559</td>\n",
       "      <td>2395.954406</td>\n",
       "      <td>172.265625</td>\n",
       "      <td>-0.388210</td>\n",
       "      <td>0.097341</td>\n",
       "      <td>0.692448</td>\n",
       "      <td>0.055044</td>\n",
       "    </tr>\n",
       "  </tbody>\n",
       "</table>\n",
       "<p>5 rows × 82 columns</p>\n",
       "</div>"
      ],
      "text/plain": [
       "   bandwidth_kurtosis  bandwidth_mean  bandwidth_skew  bandwidth_std  \\\n",
       "0            0.792825     3072.275133       -1.201043     507.373242   \n",
       "1           -0.036886     3108.915592       -0.024222     474.607726   \n",
       "2           -0.035471     2882.196422        0.507558     516.427608   \n",
       "3           -0.676834     2769.930595       -0.005707     505.898959   \n",
       "4           -0.415972     2986.595010       -0.510374     542.023823   \n",
       "\n",
       "   centroid_kurtosis  centroid_mean  centroid_skew  centroid_std  \\\n",
       "0          -0.381658    2891.428242      -0.181103    927.581419   \n",
       "1          -0.275559    3004.068629       0.356506    926.389547   \n",
       "2           1.138507    2707.773790       1.216916   1150.399104   \n",
       "3           1.717588    2484.916583       1.299290   1124.511334   \n",
       "4          -0.832082    2609.975944       0.112207    923.236585   \n",
       "\n",
       "   chroma_kurtosis  chroma_mean    ...     rmse_std  roloff_kurtosis  \\\n",
       "0        -0.996609     0.425177    ...     0.062612        -0.297401   \n",
       "1        -0.967589     0.432395    ...     0.059313        -0.708399   \n",
       "2        -0.820446     0.411499    ...     0.048298        -0.871476   \n",
       "3        -0.655082     0.376489    ...     0.049686        -0.925599   \n",
       "4        -0.952736     0.410691    ...     0.058376        -0.958447   \n",
       "\n",
       "   roloff_mean  roloff_skew   roloff_std       tempo  zcr_kurtosis  zcr_mean  \\\n",
       "0  6602.908278    -0.864370  2199.022393  172.265625      1.592372  0.116526   \n",
       "1  6694.672852    -0.429503  2034.134902  172.265625      1.310963  0.120320   \n",
       "2  5628.779297     0.228863  2278.133044  172.265625      6.739282  0.109788   \n",
       "3  5121.589543     0.220824  2375.281410  172.265625      9.388941  0.101765   \n",
       "4  5969.666466    -0.532559  2395.954406  172.265625     -0.388210  0.097341   \n",
       "\n",
       "   zcr_skew   zcr_std  \n",
       "0  1.002750  0.067756  \n",
       "1  0.941287  0.061194  \n",
       "2  2.212498  0.071455  \n",
       "3  2.606648  0.071890  \n",
       "4  0.692448  0.055044  \n",
       "\n",
       "[5 rows x 82 columns]"
      ]
     },
     "execution_count": 9,
     "metadata": {},
     "output_type": "execute_result"
    }
   ],
   "source": [
    "# leitura do arquivo .csv\n",
    "df_features = pd.read_csv('features_2.csv', sep=';')\n",
    "df_features.head()"
   ]
  },
  {
   "cell_type": "code",
   "execution_count": 10,
   "metadata": {},
   "outputs": [
    {
     "data": {
      "text/html": [
       "<div>\n",
       "<style scoped>\n",
       "    .dataframe tbody tr th:only-of-type {\n",
       "        vertical-align: middle;\n",
       "    }\n",
       "\n",
       "    .dataframe tbody tr th {\n",
       "        vertical-align: top;\n",
       "    }\n",
       "\n",
       "    .dataframe thead th {\n",
       "        text-align: right;\n",
       "    }\n",
       "</style>\n",
       "<table border=\"1\" class=\"dataframe\">\n",
       "  <thead>\n",
       "    <tr style=\"text-align: right;\">\n",
       "      <th></th>\n",
       "      <th>genre</th>\n",
       "    </tr>\n",
       "  </thead>\n",
       "  <tbody>\n",
       "    <tr>\n",
       "      <th>0</th>\n",
       "      <td>6</td>\n",
       "    </tr>\n",
       "    <tr>\n",
       "      <th>1</th>\n",
       "      <td>6</td>\n",
       "    </tr>\n",
       "    <tr>\n",
       "      <th>2</th>\n",
       "      <td>6</td>\n",
       "    </tr>\n",
       "    <tr>\n",
       "      <th>3</th>\n",
       "      <td>6</td>\n",
       "    </tr>\n",
       "    <tr>\n",
       "      <th>4</th>\n",
       "      <td>6</td>\n",
       "    </tr>\n",
       "  </tbody>\n",
       "</table>\n",
       "</div>"
      ],
      "text/plain": [
       "   genre\n",
       "0      6\n",
       "1      6\n",
       "2      6\n",
       "3      6\n",
       "4      6"
      ]
     },
     "execution_count": 10,
     "metadata": {},
     "output_type": "execute_result"
    }
   ],
   "source": [
    "# salvamos a coluna com os generos como sendo nosso y\n",
    "y = df_features[[\"genre\"]]\n",
    "y.head()"
   ]
  },
  {
   "cell_type": "code",
   "execution_count": 11,
   "metadata": {},
   "outputs": [
    {
     "data": {
      "text/html": [
       "<div>\n",
       "<style scoped>\n",
       "    .dataframe tbody tr th:only-of-type {\n",
       "        vertical-align: middle;\n",
       "    }\n",
       "\n",
       "    .dataframe tbody tr th {\n",
       "        vertical-align: top;\n",
       "    }\n",
       "\n",
       "    .dataframe thead th {\n",
       "        text-align: right;\n",
       "    }\n",
       "</style>\n",
       "<table border=\"1\" class=\"dataframe\">\n",
       "  <thead>\n",
       "    <tr style=\"text-align: right;\">\n",
       "      <th></th>\n",
       "      <th>bandwidth_kurtosis</th>\n",
       "      <th>bandwidth_mean</th>\n",
       "      <th>bandwidth_skew</th>\n",
       "      <th>bandwidth_std</th>\n",
       "      <th>centroid_kurtosis</th>\n",
       "      <th>centroid_mean</th>\n",
       "      <th>centroid_skew</th>\n",
       "      <th>centroid_std</th>\n",
       "      <th>chroma_kurtosis</th>\n",
       "      <th>chroma_mean</th>\n",
       "      <th>...</th>\n",
       "      <th>rmse_std</th>\n",
       "      <th>roloff_kurtosis</th>\n",
       "      <th>roloff_mean</th>\n",
       "      <th>roloff_skew</th>\n",
       "      <th>roloff_std</th>\n",
       "      <th>tempo</th>\n",
       "      <th>zcr_kurtosis</th>\n",
       "      <th>zcr_mean</th>\n",
       "      <th>zcr_skew</th>\n",
       "      <th>zcr_std</th>\n",
       "    </tr>\n",
       "  </thead>\n",
       "  <tbody>\n",
       "    <tr>\n",
       "      <th>0</th>\n",
       "      <td>0.792825</td>\n",
       "      <td>3072.275133</td>\n",
       "      <td>-1.201043</td>\n",
       "      <td>507.373242</td>\n",
       "      <td>-0.381658</td>\n",
       "      <td>2891.428242</td>\n",
       "      <td>-0.181103</td>\n",
       "      <td>927.581419</td>\n",
       "      <td>-0.996609</td>\n",
       "      <td>0.425177</td>\n",
       "      <td>...</td>\n",
       "      <td>0.062612</td>\n",
       "      <td>-0.297401</td>\n",
       "      <td>6602.908278</td>\n",
       "      <td>-0.864370</td>\n",
       "      <td>2199.022393</td>\n",
       "      <td>172.265625</td>\n",
       "      <td>1.592372</td>\n",
       "      <td>0.116526</td>\n",
       "      <td>1.002750</td>\n",
       "      <td>0.067756</td>\n",
       "    </tr>\n",
       "    <tr>\n",
       "      <th>1</th>\n",
       "      <td>-0.036886</td>\n",
       "      <td>3108.915592</td>\n",
       "      <td>-0.024222</td>\n",
       "      <td>474.607726</td>\n",
       "      <td>-0.275559</td>\n",
       "      <td>3004.068629</td>\n",
       "      <td>0.356506</td>\n",
       "      <td>926.389547</td>\n",
       "      <td>-0.967589</td>\n",
       "      <td>0.432395</td>\n",
       "      <td>...</td>\n",
       "      <td>0.059313</td>\n",
       "      <td>-0.708399</td>\n",
       "      <td>6694.672852</td>\n",
       "      <td>-0.429503</td>\n",
       "      <td>2034.134902</td>\n",
       "      <td>172.265625</td>\n",
       "      <td>1.310963</td>\n",
       "      <td>0.120320</td>\n",
       "      <td>0.941287</td>\n",
       "      <td>0.061194</td>\n",
       "    </tr>\n",
       "    <tr>\n",
       "      <th>2</th>\n",
       "      <td>-0.035471</td>\n",
       "      <td>2882.196422</td>\n",
       "      <td>0.507558</td>\n",
       "      <td>516.427608</td>\n",
       "      <td>1.138507</td>\n",
       "      <td>2707.773790</td>\n",
       "      <td>1.216916</td>\n",
       "      <td>1150.399104</td>\n",
       "      <td>-0.820446</td>\n",
       "      <td>0.411499</td>\n",
       "      <td>...</td>\n",
       "      <td>0.048298</td>\n",
       "      <td>-0.871476</td>\n",
       "      <td>5628.779297</td>\n",
       "      <td>0.228863</td>\n",
       "      <td>2278.133044</td>\n",
       "      <td>172.265625</td>\n",
       "      <td>6.739282</td>\n",
       "      <td>0.109788</td>\n",
       "      <td>2.212498</td>\n",
       "      <td>0.071455</td>\n",
       "    </tr>\n",
       "    <tr>\n",
       "      <th>3</th>\n",
       "      <td>-0.676834</td>\n",
       "      <td>2769.930595</td>\n",
       "      <td>-0.005707</td>\n",
       "      <td>505.898959</td>\n",
       "      <td>1.717588</td>\n",
       "      <td>2484.916583</td>\n",
       "      <td>1.299290</td>\n",
       "      <td>1124.511334</td>\n",
       "      <td>-0.655082</td>\n",
       "      <td>0.376489</td>\n",
       "      <td>...</td>\n",
       "      <td>0.049686</td>\n",
       "      <td>-0.925599</td>\n",
       "      <td>5121.589543</td>\n",
       "      <td>0.220824</td>\n",
       "      <td>2375.281410</td>\n",
       "      <td>172.265625</td>\n",
       "      <td>9.388941</td>\n",
       "      <td>0.101765</td>\n",
       "      <td>2.606648</td>\n",
       "      <td>0.071890</td>\n",
       "    </tr>\n",
       "    <tr>\n",
       "      <th>4</th>\n",
       "      <td>-0.415972</td>\n",
       "      <td>2986.595010</td>\n",
       "      <td>-0.510374</td>\n",
       "      <td>542.023823</td>\n",
       "      <td>-0.832082</td>\n",
       "      <td>2609.975944</td>\n",
       "      <td>0.112207</td>\n",
       "      <td>923.236585</td>\n",
       "      <td>-0.952736</td>\n",
       "      <td>0.410691</td>\n",
       "      <td>...</td>\n",
       "      <td>0.058376</td>\n",
       "      <td>-0.958447</td>\n",
       "      <td>5969.666466</td>\n",
       "      <td>-0.532559</td>\n",
       "      <td>2395.954406</td>\n",
       "      <td>172.265625</td>\n",
       "      <td>-0.388210</td>\n",
       "      <td>0.097341</td>\n",
       "      <td>0.692448</td>\n",
       "      <td>0.055044</td>\n",
       "    </tr>\n",
       "  </tbody>\n",
       "</table>\n",
       "<p>5 rows × 81 columns</p>\n",
       "</div>"
      ],
      "text/plain": [
       "   bandwidth_kurtosis  bandwidth_mean  bandwidth_skew  bandwidth_std  \\\n",
       "0            0.792825     3072.275133       -1.201043     507.373242   \n",
       "1           -0.036886     3108.915592       -0.024222     474.607726   \n",
       "2           -0.035471     2882.196422        0.507558     516.427608   \n",
       "3           -0.676834     2769.930595       -0.005707     505.898959   \n",
       "4           -0.415972     2986.595010       -0.510374     542.023823   \n",
       "\n",
       "   centroid_kurtosis  centroid_mean  centroid_skew  centroid_std  \\\n",
       "0          -0.381658    2891.428242      -0.181103    927.581419   \n",
       "1          -0.275559    3004.068629       0.356506    926.389547   \n",
       "2           1.138507    2707.773790       1.216916   1150.399104   \n",
       "3           1.717588    2484.916583       1.299290   1124.511334   \n",
       "4          -0.832082    2609.975944       0.112207    923.236585   \n",
       "\n",
       "   chroma_kurtosis  chroma_mean    ...     rmse_std  roloff_kurtosis  \\\n",
       "0        -0.996609     0.425177    ...     0.062612        -0.297401   \n",
       "1        -0.967589     0.432395    ...     0.059313        -0.708399   \n",
       "2        -0.820446     0.411499    ...     0.048298        -0.871476   \n",
       "3        -0.655082     0.376489    ...     0.049686        -0.925599   \n",
       "4        -0.952736     0.410691    ...     0.058376        -0.958447   \n",
       "\n",
       "   roloff_mean  roloff_skew   roloff_std       tempo  zcr_kurtosis  zcr_mean  \\\n",
       "0  6602.908278    -0.864370  2199.022393  172.265625      1.592372  0.116526   \n",
       "1  6694.672852    -0.429503  2034.134902  172.265625      1.310963  0.120320   \n",
       "2  5628.779297     0.228863  2278.133044  172.265625      6.739282  0.109788   \n",
       "3  5121.589543     0.220824  2375.281410  172.265625      9.388941  0.101765   \n",
       "4  5969.666466    -0.532559  2395.954406  172.265625     -0.388210  0.097341   \n",
       "\n",
       "   zcr_skew   zcr_std  \n",
       "0  1.002750  0.067756  \n",
       "1  0.941287  0.061194  \n",
       "2  2.212498  0.071455  \n",
       "3  2.606648  0.071890  \n",
       "4  0.692448  0.055044  \n",
       "\n",
       "[5 rows x 81 columns]"
      ]
     },
     "execution_count": 11,
     "metadata": {},
     "output_type": "execute_result"
    }
   ],
   "source": [
    "# com excecao da coluna com os generos as demais serao usadas como X\n",
    "X = df_features.drop(['genre'], axis=1)\n",
    "X.head()"
   ]
  },
  {
   "cell_type": "markdown",
   "metadata": {},
   "source": [
    "### Normalização"
   ]
  },
  {
   "cell_type": "code",
   "execution_count": 12,
   "metadata": {},
   "outputs": [],
   "source": [
    "scaler = StandardScaler()\n",
    "X = scaler.fit_transform(X)"
   ]
  },
  {
   "cell_type": "markdown",
   "metadata": {},
   "source": [
    "##  Hierarchical Clustering - Mean Shift "
   ]
  },
  {
   "cell_type": "code",
   "execution_count": 13,
   "metadata": {},
   "outputs": [
    {
     "data": {
      "image/png": "[encoded data removed]",
      "text/plain": [
       "<Figure size 576x288 with 1 Axes>"
      ]
     },
     "metadata": {
      "needs_background": "light"
     },
     "output_type": "display_data"
    }
   ],
   "source": [
    "# checando o numero otimo de features\n",
    "pca = PCA(random_state=123)\n",
    "pca.fit(X)\n",
    "features = range(pca.n_components_)\n",
    "\n",
    "plt.figure(figsize=(8,4))\n",
    "plt.bar(features[:15], pca.explained_variance_[:15], color='lightskyblue')\n",
    "plt.xlabel('PCA feature')\n",
    "plt.ylabel('Variance')\n",
    "plt.xticks(features[:15])\n",
    "plt.show()"
   ]
  },
  {
   "cell_type": "markdown",
   "metadata": {},
   "source": [
    "O numero de features ideal seriam duas."
   ]
  },
  {
   "cell_type": "code",
   "execution_count": 14,
   "metadata": {},
   "outputs": [
    {
     "name": "stdout",
     "output_type": "stream",
     "text": [
      "Shape dos novos dados de X: (19958, 2)\n"
     ]
    }
   ],
   "source": [
    "pca = PCA(n_components=2, random_state=123)\n",
    "data_reduced = pca.fit_transform(X)\n",
    "print('Shape dos novos dados de X: ' + str(data_reduced.shape))"
   ]
  },
  {
   "cell_type": "code",
   "execution_count": 21,
   "metadata": {},
   "outputs": [],
   "source": [
    "data_train, X_test, y_train, y_test = train_test_split(data_reduced, y.values, test_size=0.5, shuffle=True)"
   ]
  },
  {
   "cell_type": "markdown",
   "metadata": {},
   "source": [
    "verificando se tem uma qtd homogenea de distribuicao dos dados :D"
   ]
  },
  {
   "cell_type": "code",
   "execution_count": 24,
   "metadata": {},
   "outputs": [
    {
     "data": {
      "text/plain": [
       "((1042,),\n",
       " (992,),\n",
       " (1001,),\n",
       " (966,),\n",
       " (970,),\n",
       " (987,),\n",
       " (1025,),\n",
       " (989,),\n",
       " (996,),\n",
       " (1011,))"
      ]
     },
     "execution_count": 24,
     "metadata": {},
     "output_type": "execute_result"
    }
   ],
   "source": [
    "y_train[y_train==0].shape,y_train[y_train==1].shape,y_train[y_train==2].shape,y_train[y_train==3].shape,y_train[y_train==4].shape,y_train[y_train==5].shape,y_train[y_train==6].shape,y_train[y_train==7].shape,y_train[y_train==8].shape,y_train[y_train==9].shape,"
   ]
  },
  {
   "cell_type": "code",
   "execution_count": 35,
   "metadata": {},
   "outputs": [],
   "source": [
    "# cria o objeto ShiftMeans com o numero de clusters\n",
    "bandwidth = estimate_bandwidth(data_train)"
   ]
  },
  {
   "cell_type": "code",
   "execution_count": 52,
   "metadata": {},
   "outputs": [],
   "source": [
    "ms = MeanShift(bandwidth=2, n_jobs=-1).fit(data_train)"
   ]
  },
  {
   "cell_type": "code",
   "execution_count": 53,
   "metadata": {},
   "outputs": [
    {
     "data": {
      "text/plain": [
       "MeanShift(bandwidth=2, bin_seeding=False, cluster_all=True, min_bin_freq=1,\n",
       "     n_jobs=-1, seeds=None)"
      ]
     },
     "execution_count": 53,
     "metadata": {},
     "output_type": "execute_result"
    }
   ],
   "source": [
    "ms"
   ]
  },
  {
   "cell_type": "code",
   "execution_count": 54,
   "metadata": {},
   "outputs": [
    {
     "name": "stdout",
     "output_type": "stream",
     "text": [
      "Clusters centers: [[-1.07542847 -2.00630827]\n",
      " [-0.70510775  1.54039632]\n",
      " [-3.37725878 13.40956357]\n",
      " [-2.73345507 10.69434251]\n",
      " [ 3.81954396 -7.35525131]\n",
      " [-6.18782704  9.83257174]\n",
      " [-9.25863944 10.07045251]\n",
      " [-2.76205795 15.68313678]]\n",
      "Numero estimado de clusters:  8\n"
     ]
    }
   ],
   "source": [
    "# faz o predict usando a tecnica a\\\n",
    "labels = ms.labels_\n",
    "cluster_centers = ms.cluster_centers_\n",
    "print(\"Clusters centers:\", cluster_centers)\n",
    "n_clusters_ = len(np.unique(labels))\n",
    "\n",
    "print(\"Numero estimado de clusters: \", n_clusters_)"
   ]
  },
  {
   "cell_type": "code",
   "execution_count": 55,
   "metadata": {},
   "outputs": [
    {
     "data": {
      "text/plain": [
       "array([1, 1, 1, ..., 0, 1, 1])"
      ]
     },
     "execution_count": 55,
     "metadata": {},
     "output_type": "execute_result"
    }
   ],
   "source": [
    "labels"
   ]
  },
  {
   "cell_type": "code",
   "execution_count": 59,
   "metadata": {},
   "outputs": [
    {
     "data": {
      "image/png": "[encoded data removed]",
      "text/plain": [
       "<Figure size 432x288 with 1 Axes>"
      ]
     },
     "metadata": {
      "needs_background": "light"
     },
     "output_type": "display_data"
    }
   ],
   "source": [
    "colors = 10*['r.','g.','b.','c.','k.','y.','m.']\n",
    "\n",
    "# plota os clusters encontrados\n",
    "plt.scatter(\n",
    "    data_train[labels == 0, 0], data_train[labels == 0, 1],\n",
    "    s=50, c='orange',\n",
    "    marker='o', edgecolor='black',\n",
    "    label='cluster 1'\n",
    ")\n",
    "\n",
    "plt.scatter(\n",
    "    data_train[labels == 1, 0], data_train[labels == 1, 1],\n",
    "    s=50, c='blue',\n",
    "    marker='o', edgecolor='black',\n",
    "    label='cluster 2'\n",
    ")\n",
    "\n",
    "plt.scatter(\n",
    "    data_train[labels == 2, 0], data_train[labels == 2, 1],\n",
    "    s=50, c='red',\n",
    "    marker='v', edgecolor='black',\n",
    "    label='cluster 3'\n",
    ")\n",
    "\n",
    "plt.scatter(\n",
    "    data_train[labels == 3, 0], data_train[labels == 3, 1],\n",
    "    s=50, c='yellow',\n",
    "    marker='v', edgecolor='black',\n",
    "    label='cluster 4'\n",
    ")\n",
    "\n",
    "plt.scatter(\n",
    "    data_train[labels == 4, 0], data_train[labels == 4, 1],\n",
    "    s=50, c='purple',\n",
    "    marker='v', edgecolor='black',\n",
    "    label='cluster 5'\n",
    ")\n",
    "\n",
    "plt.scatter(\n",
    "    data_train[labels == 5, 0], data_train[labels == 5, 1],\n",
    "    s=50, c='black',\n",
    "    marker='v', edgecolor='black',\n",
    "    label='cluster 6'\n",
    ")\n",
    "\n",
    "plt.scatter(\n",
    "    data_train[labels == 6, 0], data_train[labels == 6, 1],\n",
    "    s=50, c='green',\n",
    "    marker='v', edgecolor='black',\n",
    "    label='cluster 7'\n",
    ")\n",
    "\n",
    "plt.scatter(\n",
    "    data_train[labels == 7, 0], data_train[labels == 7, 1],\n",
    "    s=50, c='pink',\n",
    "    marker='v', edgecolor='black',\n",
    "    label='cluster 8'\n",
    ")\n",
    "\n",
    "plt.scatter(\n",
    "    cluster_centers[:, 0], cluster_centers[:, 1],\n",
    "    s=250, marker='*',\n",
    "    c='white', edgecolor='black',\n",
    "    label='centroids'\n",
    ")\n",
    "\n",
    "plt.legend(scatterpoints=1)\n",
    "plt.grid()\n",
    "plt.show()"
   ]
  },
  {
   "cell_type": "code",
   "execution_count": null,
   "metadata": {},
   "outputs": [],
   "source": []
  },
  {
   "cell_type": "code",
   "execution_count": null,
   "metadata": {},
   "outputs": [],
   "source": []
  }
 ],
 "metadata": {
  "kernelspec": {
   "display_name": "Python 3",
   "language": "python",
   "name": "python3"
  },
  "language_info": {
   "codemirror_mode": {
    "name": "ipython",
    "version": 3
   },
   "file_extension": ".py",
   "mimetype": "text/x-python",
   "name": "python",
   "nbconvert_exporter": "python",
   "pygments_lexer": "ipython3",
   "version": "3.7.2"
  }
 },
 "nbformat": 4,
 "nbformat_minor": 2
}
