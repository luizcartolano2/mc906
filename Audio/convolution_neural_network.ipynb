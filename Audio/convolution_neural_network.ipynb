{
 "cells": [
  {
   "cell_type": "code",
   "execution_count": 2,
   "metadata": {},
   "outputs": [
    {
     "name": "stderr",
     "output_type": "stream",
     "text": [
      "Using TensorFlow backend.\n"
     ]
    }
   ],
   "source": [
    "import pandas as pd\n",
    "import os\n",
    "import numpy as np\n",
    "import matplotlib.pyplot as plt\n",
    "from collections import OrderedDict\n",
    "import itertools\n",
    "\n",
    "from sklearn.model_selection import train_test_split\n",
    "from sklearn.metrics import confusion_matrix\n",
    "from sklearn.preprocessing import LabelEncoder, StandardScaler\n",
    "\n",
    "import keras\n",
    "from keras.utils import to_categorical\n",
    "from keras.models import Sequential\n",
    "from keras.layers import Dense\n",
    "from keras.layers import Activation\n",
    "from keras.layers import Conv1D, GlobalAveragePooling1D, MaxPooling1D\n",
    "from keras.layers import Dropout\n",
    "from keras.layers import Flatten\n",
    "from keras.layers import BatchNormalization\n",
    "\n",
    "import warnings\n",
    "warnings.filterwarnings(\"ignore\")"
   ]
  },
  {
   "cell_type": "markdown",
   "metadata": {},
   "source": [
    "## Leitura e Split dos Dados"
   ]
  },
  {
   "cell_type": "markdown",
   "metadata": {},
   "source": [
    "### Leitura e separação do X e y"
   ]
  },
  {
   "cell_type": "code",
   "execution_count": 3,
   "metadata": {
    "scrolled": true
   },
   "outputs": [
    {
     "data": {
      "text/html": [
       "<div>\n",
       "<style scoped>\n",
       "    .dataframe tbody tr th:only-of-type {\n",
       "        vertical-align: middle;\n",
       "    }\n",
       "\n",
       "    .dataframe tbody tr th {\n",
       "        vertical-align: top;\n",
       "    }\n",
       "\n",
       "    .dataframe thead th {\n",
       "        text-align: right;\n",
       "    }\n",
       "</style>\n",
       "<table border=\"1\" class=\"dataframe\">\n",
       "  <thead>\n",
       "    <tr style=\"text-align: right;\">\n",
       "      <th></th>\n",
       "      <th>bandwidth_kurtosis</th>\n",
       "      <th>bandwidth_mean</th>\n",
       "      <th>bandwidth_skew</th>\n",
       "      <th>bandwidth_std</th>\n",
       "      <th>centroid_kurtosis</th>\n",
       "      <th>centroid_mean</th>\n",
       "      <th>centroid_skew</th>\n",
       "      <th>centroid_std</th>\n",
       "      <th>chroma_kurtosis</th>\n",
       "      <th>chroma_mean</th>\n",
       "      <th>...</th>\n",
       "      <th>rmse_std</th>\n",
       "      <th>roloff_kurtosis</th>\n",
       "      <th>roloff_mean</th>\n",
       "      <th>roloff_skew</th>\n",
       "      <th>roloff_std</th>\n",
       "      <th>tempo</th>\n",
       "      <th>zcr_kurtosis</th>\n",
       "      <th>zcr_mean</th>\n",
       "      <th>zcr_skew</th>\n",
       "      <th>zcr_std</th>\n",
       "    </tr>\n",
       "  </thead>\n",
       "  <tbody>\n",
       "    <tr>\n",
       "      <th>0</th>\n",
       "      <td>0.792825</td>\n",
       "      <td>3072.275133</td>\n",
       "      <td>-1.201043</td>\n",
       "      <td>507.373242</td>\n",
       "      <td>-0.381658</td>\n",
       "      <td>2891.428242</td>\n",
       "      <td>-0.181103</td>\n",
       "      <td>927.581419</td>\n",
       "      <td>-0.996609</td>\n",
       "      <td>0.425177</td>\n",
       "      <td>...</td>\n",
       "      <td>0.062612</td>\n",
       "      <td>-0.297401</td>\n",
       "      <td>6602.908278</td>\n",
       "      <td>-0.864370</td>\n",
       "      <td>2199.022393</td>\n",
       "      <td>172.265625</td>\n",
       "      <td>1.592372</td>\n",
       "      <td>0.116526</td>\n",
       "      <td>1.002750</td>\n",
       "      <td>0.067756</td>\n",
       "    </tr>\n",
       "    <tr>\n",
       "      <th>1</th>\n",
       "      <td>-0.036886</td>\n",
       "      <td>3108.915592</td>\n",
       "      <td>-0.024222</td>\n",
       "      <td>474.607726</td>\n",
       "      <td>-0.275559</td>\n",
       "      <td>3004.068629</td>\n",
       "      <td>0.356506</td>\n",
       "      <td>926.389547</td>\n",
       "      <td>-0.967589</td>\n",
       "      <td>0.432395</td>\n",
       "      <td>...</td>\n",
       "      <td>0.059313</td>\n",
       "      <td>-0.708399</td>\n",
       "      <td>6694.672852</td>\n",
       "      <td>-0.429503</td>\n",
       "      <td>2034.134902</td>\n",
       "      <td>172.265625</td>\n",
       "      <td>1.310963</td>\n",
       "      <td>0.120320</td>\n",
       "      <td>0.941287</td>\n",
       "      <td>0.061194</td>\n",
       "    </tr>\n",
       "    <tr>\n",
       "      <th>2</th>\n",
       "      <td>-0.035471</td>\n",
       "      <td>2882.196422</td>\n",
       "      <td>0.507558</td>\n",
       "      <td>516.427608</td>\n",
       "      <td>1.138507</td>\n",
       "      <td>2707.773790</td>\n",
       "      <td>1.216916</td>\n",
       "      <td>1150.399104</td>\n",
       "      <td>-0.820446</td>\n",
       "      <td>0.411499</td>\n",
       "      <td>...</td>\n",
       "      <td>0.048298</td>\n",
       "      <td>-0.871476</td>\n",
       "      <td>5628.779297</td>\n",
       "      <td>0.228863</td>\n",
       "      <td>2278.133044</td>\n",
       "      <td>172.265625</td>\n",
       "      <td>6.739282</td>\n",
       "      <td>0.109788</td>\n",
       "      <td>2.212498</td>\n",
       "      <td>0.071455</td>\n",
       "    </tr>\n",
       "    <tr>\n",
       "      <th>3</th>\n",
       "      <td>-0.676834</td>\n",
       "      <td>2769.930595</td>\n",
       "      <td>-0.005707</td>\n",
       "      <td>505.898959</td>\n",
       "      <td>1.717588</td>\n",
       "      <td>2484.916583</td>\n",
       "      <td>1.299290</td>\n",
       "      <td>1124.511334</td>\n",
       "      <td>-0.655082</td>\n",
       "      <td>0.376489</td>\n",
       "      <td>...</td>\n",
       "      <td>0.049686</td>\n",
       "      <td>-0.925599</td>\n",
       "      <td>5121.589543</td>\n",
       "      <td>0.220824</td>\n",
       "      <td>2375.281410</td>\n",
       "      <td>172.265625</td>\n",
       "      <td>9.388941</td>\n",
       "      <td>0.101765</td>\n",
       "      <td>2.606648</td>\n",
       "      <td>0.071890</td>\n",
       "    </tr>\n",
       "    <tr>\n",
       "      <th>4</th>\n",
       "      <td>-0.415972</td>\n",
       "      <td>2986.595010</td>\n",
       "      <td>-0.510374</td>\n",
       "      <td>542.023823</td>\n",
       "      <td>-0.832082</td>\n",
       "      <td>2609.975944</td>\n",
       "      <td>0.112207</td>\n",
       "      <td>923.236585</td>\n",
       "      <td>-0.952736</td>\n",
       "      <td>0.410691</td>\n",
       "      <td>...</td>\n",
       "      <td>0.058376</td>\n",
       "      <td>-0.958447</td>\n",
       "      <td>5969.666466</td>\n",
       "      <td>-0.532559</td>\n",
       "      <td>2395.954406</td>\n",
       "      <td>172.265625</td>\n",
       "      <td>-0.388210</td>\n",
       "      <td>0.097341</td>\n",
       "      <td>0.692448</td>\n",
       "      <td>0.055044</td>\n",
       "    </tr>\n",
       "  </tbody>\n",
       "</table>\n",
       "<p>5 rows × 82 columns</p>\n",
       "</div>"
      ],
      "text/plain": [
       "   bandwidth_kurtosis  bandwidth_mean  bandwidth_skew  bandwidth_std  \\\n",
       "0            0.792825     3072.275133       -1.201043     507.373242   \n",
       "1           -0.036886     3108.915592       -0.024222     474.607726   \n",
       "2           -0.035471     2882.196422        0.507558     516.427608   \n",
       "3           -0.676834     2769.930595       -0.005707     505.898959   \n",
       "4           -0.415972     2986.595010       -0.510374     542.023823   \n",
       "\n",
       "   centroid_kurtosis  centroid_mean  centroid_skew  centroid_std  \\\n",
       "0          -0.381658    2891.428242      -0.181103    927.581419   \n",
       "1          -0.275559    3004.068629       0.356506    926.389547   \n",
       "2           1.138507    2707.773790       1.216916   1150.399104   \n",
       "3           1.717588    2484.916583       1.299290   1124.511334   \n",
       "4          -0.832082    2609.975944       0.112207    923.236585   \n",
       "\n",
       "   chroma_kurtosis  chroma_mean    ...     rmse_std  roloff_kurtosis  \\\n",
       "0        -0.996609     0.425177    ...     0.062612        -0.297401   \n",
       "1        -0.967589     0.432395    ...     0.059313        -0.708399   \n",
       "2        -0.820446     0.411499    ...     0.048298        -0.871476   \n",
       "3        -0.655082     0.376489    ...     0.049686        -0.925599   \n",
       "4        -0.952736     0.410691    ...     0.058376        -0.958447   \n",
       "\n",
       "   roloff_mean  roloff_skew   roloff_std       tempo  zcr_kurtosis  zcr_mean  \\\n",
       "0  6602.908278    -0.864370  2199.022393  172.265625      1.592372  0.116526   \n",
       "1  6694.672852    -0.429503  2034.134902  172.265625      1.310963  0.120320   \n",
       "2  5628.779297     0.228863  2278.133044  172.265625      6.739282  0.109788   \n",
       "3  5121.589543     0.220824  2375.281410  172.265625      9.388941  0.101765   \n",
       "4  5969.666466    -0.532559  2395.954406  172.265625     -0.388210  0.097341   \n",
       "\n",
       "   zcr_skew   zcr_std  \n",
       "0  1.002750  0.067756  \n",
       "1  0.941287  0.061194  \n",
       "2  2.212498  0.071455  \n",
       "3  2.606648  0.071890  \n",
       "4  0.692448  0.055044  \n",
       "\n",
       "[5 rows x 82 columns]"
      ]
     },
     "execution_count": 3,
     "metadata": {},
     "output_type": "execute_result"
    }
   ],
   "source": [
    "# leitura do arquivo .csv\n",
    "df_features = pd.read_csv('features_2.csv', sep=';')\n",
    "df_features.head()"
   ]
  },
  {
   "cell_type": "code",
   "execution_count": 4,
   "metadata": {},
   "outputs": [
    {
     "data": {
      "text/html": [
       "<div>\n",
       "<style scoped>\n",
       "    .dataframe tbody tr th:only-of-type {\n",
       "        vertical-align: middle;\n",
       "    }\n",
       "\n",
       "    .dataframe tbody tr th {\n",
       "        vertical-align: top;\n",
       "    }\n",
       "\n",
       "    .dataframe thead th {\n",
       "        text-align: right;\n",
       "    }\n",
       "</style>\n",
       "<table border=\"1\" class=\"dataframe\">\n",
       "  <thead>\n",
       "    <tr style=\"text-align: right;\">\n",
       "      <th></th>\n",
       "      <th>genre</th>\n",
       "    </tr>\n",
       "  </thead>\n",
       "  <tbody>\n",
       "    <tr>\n",
       "      <th>0</th>\n",
       "      <td>6</td>\n",
       "    </tr>\n",
       "    <tr>\n",
       "      <th>1</th>\n",
       "      <td>6</td>\n",
       "    </tr>\n",
       "    <tr>\n",
       "      <th>2</th>\n",
       "      <td>6</td>\n",
       "    </tr>\n",
       "    <tr>\n",
       "      <th>3</th>\n",
       "      <td>6</td>\n",
       "    </tr>\n",
       "    <tr>\n",
       "      <th>4</th>\n",
       "      <td>6</td>\n",
       "    </tr>\n",
       "  </tbody>\n",
       "</table>\n",
       "</div>"
      ],
      "text/plain": [
       "   genre\n",
       "0      6\n",
       "1      6\n",
       "2      6\n",
       "3      6\n",
       "4      6"
      ]
     },
     "execution_count": 4,
     "metadata": {},
     "output_type": "execute_result"
    }
   ],
   "source": [
    "# salvamos a coluna com os generos como sendo nosso y\n",
    "y = df_features[[\"genre\"]]\n",
    "y.head()"
   ]
  },
  {
   "cell_type": "code",
   "execution_count": 5,
   "metadata": {},
   "outputs": [],
   "source": [
    "encoder = LabelEncoder()\n",
    "y = encoder.fit_transform(y)"
   ]
  },
  {
   "cell_type": "code",
   "execution_count": 6,
   "metadata": {},
   "outputs": [],
   "source": [
    "from keras.utils import to_categorical\n",
    "categorical_labels = to_categorical(y, num_classes=10)"
   ]
  },
  {
   "cell_type": "code",
   "execution_count": 76,
   "metadata": {},
   "outputs": [
    {
     "data": {
      "text/plain": [
       "((1383,),\n",
       " (1407,),\n",
       " (1431,),\n",
       " (1366,),\n",
       " (1384,),\n",
       " (1396,),\n",
       " (1405,),\n",
       " (1381,),\n",
       " (1396,),\n",
       " (1421,))"
      ]
     },
     "execution_count": 76,
     "metadata": {},
     "output_type": "execute_result"
    }
   ],
   "source": [
    "t = np.argmax(y_train, axis = 1)\n",
    "t[t==0].shape,t[t==1].shape,t[t==2].shape,t[t==3].shape,t[t==4].shape,t[t==5].shape,t[t==6].shape,t[t==7].shape,t[t==8].shape,t[t==9].shape"
   ]
  },
  {
   "cell_type": "code",
   "execution_count": 7,
   "metadata": {},
   "outputs": [
    {
     "data": {
      "text/html": [
       "<div>\n",
       "<style scoped>\n",
       "    .dataframe tbody tr th:only-of-type {\n",
       "        vertical-align: middle;\n",
       "    }\n",
       "\n",
       "    .dataframe tbody tr th {\n",
       "        vertical-align: top;\n",
       "    }\n",
       "\n",
       "    .dataframe thead th {\n",
       "        text-align: right;\n",
       "    }\n",
       "</style>\n",
       "<table border=\"1\" class=\"dataframe\">\n",
       "  <thead>\n",
       "    <tr style=\"text-align: right;\">\n",
       "      <th></th>\n",
       "      <th>bandwidth_kurtosis</th>\n",
       "      <th>bandwidth_mean</th>\n",
       "      <th>bandwidth_skew</th>\n",
       "      <th>bandwidth_std</th>\n",
       "      <th>centroid_kurtosis</th>\n",
       "      <th>centroid_mean</th>\n",
       "      <th>centroid_skew</th>\n",
       "      <th>centroid_std</th>\n",
       "      <th>chroma_kurtosis</th>\n",
       "      <th>chroma_mean</th>\n",
       "      <th>...</th>\n",
       "      <th>rmse_std</th>\n",
       "      <th>roloff_kurtosis</th>\n",
       "      <th>roloff_mean</th>\n",
       "      <th>roloff_skew</th>\n",
       "      <th>roloff_std</th>\n",
       "      <th>tempo</th>\n",
       "      <th>zcr_kurtosis</th>\n",
       "      <th>zcr_mean</th>\n",
       "      <th>zcr_skew</th>\n",
       "      <th>zcr_std</th>\n",
       "    </tr>\n",
       "  </thead>\n",
       "  <tbody>\n",
       "    <tr>\n",
       "      <th>0</th>\n",
       "      <td>0.792825</td>\n",
       "      <td>3072.275133</td>\n",
       "      <td>-1.201043</td>\n",
       "      <td>507.373242</td>\n",
       "      <td>-0.381658</td>\n",
       "      <td>2891.428242</td>\n",
       "      <td>-0.181103</td>\n",
       "      <td>927.581419</td>\n",
       "      <td>-0.996609</td>\n",
       "      <td>0.425177</td>\n",
       "      <td>...</td>\n",
       "      <td>0.062612</td>\n",
       "      <td>-0.297401</td>\n",
       "      <td>6602.908278</td>\n",
       "      <td>-0.864370</td>\n",
       "      <td>2199.022393</td>\n",
       "      <td>172.265625</td>\n",
       "      <td>1.592372</td>\n",
       "      <td>0.116526</td>\n",
       "      <td>1.002750</td>\n",
       "      <td>0.067756</td>\n",
       "    </tr>\n",
       "    <tr>\n",
       "      <th>1</th>\n",
       "      <td>-0.036886</td>\n",
       "      <td>3108.915592</td>\n",
       "      <td>-0.024222</td>\n",
       "      <td>474.607726</td>\n",
       "      <td>-0.275559</td>\n",
       "      <td>3004.068629</td>\n",
       "      <td>0.356506</td>\n",
       "      <td>926.389547</td>\n",
       "      <td>-0.967589</td>\n",
       "      <td>0.432395</td>\n",
       "      <td>...</td>\n",
       "      <td>0.059313</td>\n",
       "      <td>-0.708399</td>\n",
       "      <td>6694.672852</td>\n",
       "      <td>-0.429503</td>\n",
       "      <td>2034.134902</td>\n",
       "      <td>172.265625</td>\n",
       "      <td>1.310963</td>\n",
       "      <td>0.120320</td>\n",
       "      <td>0.941287</td>\n",
       "      <td>0.061194</td>\n",
       "    </tr>\n",
       "    <tr>\n",
       "      <th>2</th>\n",
       "      <td>-0.035471</td>\n",
       "      <td>2882.196422</td>\n",
       "      <td>0.507558</td>\n",
       "      <td>516.427608</td>\n",
       "      <td>1.138507</td>\n",
       "      <td>2707.773790</td>\n",
       "      <td>1.216916</td>\n",
       "      <td>1150.399104</td>\n",
       "      <td>-0.820446</td>\n",
       "      <td>0.411499</td>\n",
       "      <td>...</td>\n",
       "      <td>0.048298</td>\n",
       "      <td>-0.871476</td>\n",
       "      <td>5628.779297</td>\n",
       "      <td>0.228863</td>\n",
       "      <td>2278.133044</td>\n",
       "      <td>172.265625</td>\n",
       "      <td>6.739282</td>\n",
       "      <td>0.109788</td>\n",
       "      <td>2.212498</td>\n",
       "      <td>0.071455</td>\n",
       "    </tr>\n",
       "    <tr>\n",
       "      <th>3</th>\n",
       "      <td>-0.676834</td>\n",
       "      <td>2769.930595</td>\n",
       "      <td>-0.005707</td>\n",
       "      <td>505.898959</td>\n",
       "      <td>1.717588</td>\n",
       "      <td>2484.916583</td>\n",
       "      <td>1.299290</td>\n",
       "      <td>1124.511334</td>\n",
       "      <td>-0.655082</td>\n",
       "      <td>0.376489</td>\n",
       "      <td>...</td>\n",
       "      <td>0.049686</td>\n",
       "      <td>-0.925599</td>\n",
       "      <td>5121.589543</td>\n",
       "      <td>0.220824</td>\n",
       "      <td>2375.281410</td>\n",
       "      <td>172.265625</td>\n",
       "      <td>9.388941</td>\n",
       "      <td>0.101765</td>\n",
       "      <td>2.606648</td>\n",
       "      <td>0.071890</td>\n",
       "    </tr>\n",
       "    <tr>\n",
       "      <th>4</th>\n",
       "      <td>-0.415972</td>\n",
       "      <td>2986.595010</td>\n",
       "      <td>-0.510374</td>\n",
       "      <td>542.023823</td>\n",
       "      <td>-0.832082</td>\n",
       "      <td>2609.975944</td>\n",
       "      <td>0.112207</td>\n",
       "      <td>923.236585</td>\n",
       "      <td>-0.952736</td>\n",
       "      <td>0.410691</td>\n",
       "      <td>...</td>\n",
       "      <td>0.058376</td>\n",
       "      <td>-0.958447</td>\n",
       "      <td>5969.666466</td>\n",
       "      <td>-0.532559</td>\n",
       "      <td>2395.954406</td>\n",
       "      <td>172.265625</td>\n",
       "      <td>-0.388210</td>\n",
       "      <td>0.097341</td>\n",
       "      <td>0.692448</td>\n",
       "      <td>0.055044</td>\n",
       "    </tr>\n",
       "  </tbody>\n",
       "</table>\n",
       "<p>5 rows × 81 columns</p>\n",
       "</div>"
      ],
      "text/plain": [
       "   bandwidth_kurtosis  bandwidth_mean  bandwidth_skew  bandwidth_std  \\\n",
       "0            0.792825     3072.275133       -1.201043     507.373242   \n",
       "1           -0.036886     3108.915592       -0.024222     474.607726   \n",
       "2           -0.035471     2882.196422        0.507558     516.427608   \n",
       "3           -0.676834     2769.930595       -0.005707     505.898959   \n",
       "4           -0.415972     2986.595010       -0.510374     542.023823   \n",
       "\n",
       "   centroid_kurtosis  centroid_mean  centroid_skew  centroid_std  \\\n",
       "0          -0.381658    2891.428242      -0.181103    927.581419   \n",
       "1          -0.275559    3004.068629       0.356506    926.389547   \n",
       "2           1.138507    2707.773790       1.216916   1150.399104   \n",
       "3           1.717588    2484.916583       1.299290   1124.511334   \n",
       "4          -0.832082    2609.975944       0.112207    923.236585   \n",
       "\n",
       "   chroma_kurtosis  chroma_mean    ...     rmse_std  roloff_kurtosis  \\\n",
       "0        -0.996609     0.425177    ...     0.062612        -0.297401   \n",
       "1        -0.967589     0.432395    ...     0.059313        -0.708399   \n",
       "2        -0.820446     0.411499    ...     0.048298        -0.871476   \n",
       "3        -0.655082     0.376489    ...     0.049686        -0.925599   \n",
       "4        -0.952736     0.410691    ...     0.058376        -0.958447   \n",
       "\n",
       "   roloff_mean  roloff_skew   roloff_std       tempo  zcr_kurtosis  zcr_mean  \\\n",
       "0  6602.908278    -0.864370  2199.022393  172.265625      1.592372  0.116526   \n",
       "1  6694.672852    -0.429503  2034.134902  172.265625      1.310963  0.120320   \n",
       "2  5628.779297     0.228863  2278.133044  172.265625      6.739282  0.109788   \n",
       "3  5121.589543     0.220824  2375.281410  172.265625      9.388941  0.101765   \n",
       "4  5969.666466    -0.532559  2395.954406  172.265625     -0.388210  0.097341   \n",
       "\n",
       "   zcr_skew   zcr_std  \n",
       "0  1.002750  0.067756  \n",
       "1  0.941287  0.061194  \n",
       "2  2.212498  0.071455  \n",
       "3  2.606648  0.071890  \n",
       "4  0.692448  0.055044  \n",
       "\n",
       "[5 rows x 81 columns]"
      ]
     },
     "execution_count": 7,
     "metadata": {},
     "output_type": "execute_result"
    }
   ],
   "source": [
    "# com excecao da coluna com os generos as demais serao usadas como X\n",
    "X = df_features.drop(['genre'], axis=1)\n",
    "X.head()"
   ]
  },
  {
   "cell_type": "markdown",
   "metadata": {},
   "source": [
    "### Divisão do dataset"
   ]
  },
  {
   "cell_type": "code",
   "execution_count": 8,
   "metadata": {},
   "outputs": [],
   "source": [
    "# iremos dividir o dataset entre treino, validacao e teste. As proporcoes serão de 70%. 15% e 15%\n",
    "X_train, X_test, y_train, y_test = train_test_split(X.values, categorical_labels, test_size=0.3, shuffle=True)\n",
    "X_validacao, X_test, y_validacao, y_test = train_test_split(X_test, y_test, test_size=0.5, shuffle=True)"
   ]
  },
  {
   "cell_type": "code",
   "execution_count": 70,
   "metadata": {},
   "outputs": [
    {
     "data": {
      "text/plain": [
       "((125730,),\n",
       " (13970,),\n",
       " (0,),\n",
       " (1992,),\n",
       " (1992,),\n",
       " (1992,),\n",
       " (2000,),\n",
       " (2000,),\n",
       " (2000,),\n",
       " (1996,))"
      ]
     },
     "execution_count": 70,
     "metadata": {},
     "output_type": "execute_result"
    }
   ],
   "source": [
    "y_train[y_train==0].shape,y_train[y_train==1].shape,y_train[y_train==2].shape,y_train[y_train==3].shape,y[y==4].shape,y[y==5].shape,y[y==6].shape,y[y==7].shape,y[y==8].shape,y[y==9].shape,"
   ]
  },
  {
   "cell_type": "code",
   "execution_count": 9,
   "metadata": {},
   "outputs": [
    {
     "data": {
      "text/plain": [
       "((13970, 81), (13970, 10))"
      ]
     },
     "execution_count": 9,
     "metadata": {},
     "output_type": "execute_result"
    }
   ],
   "source": [
    "X_train.shape, y_train.shape"
   ]
  },
  {
   "cell_type": "code",
   "execution_count": 10,
   "metadata": {},
   "outputs": [
    {
     "data": {
      "text/plain": [
       "((2994, 81), (2994, 10))"
      ]
     },
     "execution_count": 10,
     "metadata": {},
     "output_type": "execute_result"
    }
   ],
   "source": [
    "X_validacao.shape, y_validacao.shape"
   ]
  },
  {
   "cell_type": "code",
   "execution_count": 11,
   "metadata": {},
   "outputs": [
    {
     "data": {
      "text/plain": [
       "((2994, 81), (2994, 10))"
      ]
     },
     "execution_count": 11,
     "metadata": {},
     "output_type": "execute_result"
    }
   ],
   "source": [
    "X_test.shape, y_test.shape"
   ]
  },
  {
   "cell_type": "markdown",
   "metadata": {},
   "source": [
    "### Normalização dos valores de X"
   ]
  },
  {
   "cell_type": "code",
   "execution_count": 12,
   "metadata": {},
   "outputs": [],
   "source": [
    "# para ter resultados mais independentes cada um dos datasets sera normalizado individualmente\n",
    "scaler = StandardScaler()"
   ]
  },
  {
   "cell_type": "code",
   "execution_count": 13,
   "metadata": {},
   "outputs": [],
   "source": [
    "# normalizacao do dataset de treino\n",
    "X_train = scaler.fit_transform(X_train)"
   ]
  },
  {
   "cell_type": "code",
   "execution_count": 14,
   "metadata": {},
   "outputs": [],
   "source": [
    "# normalizacao do dataset de validacao\n",
    "X_validacao = scaler.fit_transform(X_validacao)"
   ]
  },
  {
   "cell_type": "code",
   "execution_count": 15,
   "metadata": {},
   "outputs": [],
   "source": [
    "# normalizacao do dataset de teste\n",
    "X_test = scaler.fit_transform(X_test)"
   ]
  },
  {
   "cell_type": "markdown",
   "metadata": {},
   "source": [
    "## Definicao do Modelo da Rede Neural"
   ]
  },
  {
   "cell_type": "markdown",
   "metadata": {},
   "source": [
    "### Tentativa #1"
   ]
  },
  {
   "cell_type": "code",
   "execution_count": 15,
   "metadata": {
    "scrolled": true
   },
   "outputs": [
    {
     "name": "stdout",
     "output_type": "stream",
     "text": [
      "WARNING:tensorflow:From /anaconda3/lib/python3.7/site-packages/tensorflow/python/framework/op_def_library.py:263: colocate_with (from tensorflow.python.framework.ops) is deprecated and will be removed in a future version.\n",
      "Instructions for updating:\n",
      "Colocations handled automatically by placer.\n",
      "_________________________________________________________________\n",
      "Layer (type)                 Output Shape              Param #   \n",
      "=================================================================\n",
      "dense_1 (Dense)              (None, 512)               41984     \n",
      "_________________________________________________________________\n",
      "dense_2 (Dense)              (None, 256)               131328    \n",
      "_________________________________________________________________\n",
      "dense_3 (Dense)              (None, 128)               32896     \n",
      "_________________________________________________________________\n",
      "dense_4 (Dense)              (None, 64)                8256      \n",
      "_________________________________________________________________\n",
      "dense_5 (Dense)              (None, 10)                650       \n",
      "=================================================================\n",
      "Total params: 215,114\n",
      "Trainable params: 215,114\n",
      "Non-trainable params: 0\n",
      "_________________________________________________________________\n"
     ]
    }
   ],
   "source": [
    "model = Sequential()\n",
    "model.add(Dense(512, activation='relu', input_shape=(X_train.shape[1],)))\n",
    "model.add(Dense(256, activation='relu'))\n",
    "model.add(Dense(128, activation='relu'))\n",
    "model.add(Dense(64, activation='relu'))\n",
    "model.add(Dense(10, activation='softmax'))\n",
    "model.summary()"
   ]
  },
  {
   "cell_type": "code",
   "execution_count": 16,
   "metadata": {},
   "outputs": [],
   "source": [
    "model.compile(loss=keras.losses.categorical_crossentropy,\n",
    "              optimizer='adam',\n",
    "              metrics=['accuracy'])"
   ]
  },
  {
   "cell_type": "code",
   "execution_count": 17,
   "metadata": {
    "scrolled": true
   },
   "outputs": [
    {
     "name": "stdout",
     "output_type": "stream",
     "text": [
      "WARNING:tensorflow:From /anaconda3/lib/python3.7/site-packages/tensorflow/python/ops/math_ops.py:3066: to_int32 (from tensorflow.python.ops.math_ops) is deprecated and will be removed in a future version.\n",
      "Instructions for updating:\n",
      "Use tf.cast instead.\n",
      "Train on 13970 samples, validate on 2994 samples\n",
      "Epoch 1/20\n",
      "13970/13970 [==============================] - 1s 49us/step - loss: 1.4555 - acc: 0.4946 - val_loss: 0.9638 - val_acc: 0.6653\n",
      "Epoch 2/20\n",
      "13970/13970 [==============================] - 0s 25us/step - loss: 0.8230 - acc: 0.7110 - val_loss: 0.7309 - val_acc: 0.7492\n",
      "Epoch 3/20\n",
      "13970/13970 [==============================] - 0s 25us/step - loss: 0.6243 - acc: 0.7899 - val_loss: 0.6629 - val_acc: 0.7635\n",
      "Epoch 4/20\n",
      "13970/13970 [==============================] - 0s 25us/step - loss: 0.5206 - acc: 0.8291 - val_loss: 0.5538 - val_acc: 0.8123\n",
      "Epoch 5/20\n",
      "13970/13970 [==============================] - 0s 25us/step - loss: 0.4173 - acc: 0.8642 - val_loss: 0.5064 - val_acc: 0.8370\n",
      "Epoch 6/20\n",
      "13970/13970 [==============================] - 0s 25us/step - loss: 0.3399 - acc: 0.8923 - val_loss: 0.4759 - val_acc: 0.8370\n",
      "Epoch 7/20\n",
      "13970/13970 [==============================] - 0s 25us/step - loss: 0.2745 - acc: 0.9175 - val_loss: 0.4467 - val_acc: 0.8497\n",
      "Epoch 8/20\n",
      "13970/13970 [==============================] - 0s 25us/step - loss: 0.2268 - acc: 0.9329 - val_loss: 0.4154 - val_acc: 0.8627\n",
      "Epoch 9/20\n",
      "13970/13970 [==============================] - 0s 25us/step - loss: 0.1750 - acc: 0.9513 - val_loss: 0.4324 - val_acc: 0.8607\n",
      "Epoch 10/20\n",
      "13970/13970 [==============================] - 0s 25us/step - loss: 0.1447 - acc: 0.9600 - val_loss: 0.4026 - val_acc: 0.8661\n",
      "Epoch 11/20\n",
      "13970/13970 [==============================] - 0s 25us/step - loss: 0.1175 - acc: 0.9680 - val_loss: 0.4184 - val_acc: 0.8617\n",
      "Epoch 12/20\n",
      "13970/13970 [==============================] - 0s 25us/step - loss: 0.0869 - acc: 0.9795 - val_loss: 0.3899 - val_acc: 0.8764\n",
      "Epoch 13/20\n",
      "13970/13970 [==============================] - 0s 25us/step - loss: 0.0652 - acc: 0.9868 - val_loss: 0.3971 - val_acc: 0.8791\n",
      "Epoch 14/20\n",
      "13970/13970 [==============================] - 0s 25us/step - loss: 0.0496 - acc: 0.9903 - val_loss: 0.3980 - val_acc: 0.8814\n",
      "Epoch 15/20\n",
      "13970/13970 [==============================] - 0s 25us/step - loss: 0.0401 - acc: 0.9937 - val_loss: 0.4028 - val_acc: 0.8824\n",
      "Epoch 16/20\n",
      "13970/13970 [==============================] - 0s 25us/step - loss: 0.0322 - acc: 0.9956 - val_loss: 0.3931 - val_acc: 0.8854\n",
      "Epoch 17/20\n",
      "13970/13970 [==============================] - 0s 24us/step - loss: 0.0216 - acc: 0.9979 - val_loss: 0.4008 - val_acc: 0.8898\n",
      "Epoch 18/20\n",
      "13970/13970 [==============================] - 0s 25us/step - loss: 0.0171 - acc: 0.9984 - val_loss: 0.4282 - val_acc: 0.8831\n",
      "Epoch 19/20\n",
      "13970/13970 [==============================] - 0s 25us/step - loss: 0.0159 - acc: 0.9980 - val_loss: 0.4122 - val_acc: 0.8914\n",
      "Epoch 20/20\n",
      "13970/13970 [==============================] - 0s 24us/step - loss: 0.0121 - acc: 0.9986 - val_loss: 0.4321 - val_acc: 0.8891\n"
     ]
    }
   ],
   "source": [
    "hist = model.fit(X_train, y_train,\n",
    "          batch_size=512,\n",
    "          epochs=20,\n",
    "          verbose=1,\n",
    "          validation_data=(X_validacao, y_validacao))"
   ]
  },
  {
   "cell_type": "code",
   "execution_count": 18,
   "metadata": {},
   "outputs": [
    {
     "data": {
      "image/png": "[encoded data removed]",
      "text/plain": [
       "<Figure size 1080x504 with 2 Axes>"
      ]
     },
     "metadata": {
      "needs_background": "light"
     },
     "output_type": "display_data"
    }
   ],
   "source": [
    "plt.figure(figsize=(15,7))\n",
    "\n",
    "plt.subplot(1,2,1)\n",
    "plt.plot(hist.history['acc'], label='train')\n",
    "plt.plot(hist.history['val_acc'], label='validation')\n",
    "plt.title('Accuracy')\n",
    "plt.xlabel('Epochs')\n",
    "plt.ylabel('Accuracy')\n",
    "plt.legend()\n",
    "\n",
    "plt.subplot(1,2,2)\n",
    "plt.plot(hist.history['loss'], label='train')\n",
    "plt.plot(hist.history['val_loss'], label='validation')\n",
    "plt.title('Loss')\n",
    "plt.xlabel('Epochs')\n",
    "plt.ylabel('Loss')\n",
    "plt.legend()\n",
    "\n",
    "plt.tight_layout()\n",
    "plt.show()"
   ]
  },
  {
   "cell_type": "code",
   "execution_count": 56,
   "metadata": {},
   "outputs": [],
   "source": [
    "#http://scikit-learn.org/stable/auto_examples/model_selection/plot_confusion_matrix.html\n",
    "def plot_confusion_matrix(cm, classes,\n",
    "                          normalize=False,\n",
    "                          title='Confusion matrix',\n",
    "                          cmap=plt.cm.Blues):\n",
    "    \"\"\"\n",
    "    This function prints and plots the confusion matrix.\n",
    "    Normalization can be applied by setting `normalize=True`.\n",
    "    \"\"\"\n",
    "    if normalize:\n",
    "        cm = cm.astype('float') / cm.sum(axis=1)[:, np.newaxis]\n",
    "        print(\"Normalized confusion matrix\")\n",
    "    else:\n",
    "        print('Confusion matrix, without normalization')\n",
    "\n",
    "    plt.imshow(cm, interpolation='nearest', cmap=cmap)\n",
    "    plt.title(title)\n",
    "    plt.colorbar()\n",
    "    tick_marks = np.arange(len(classes))\n",
    "    plt.xticks(tick_marks, classes, rotation=45)\n",
    "    plt.yticks(tick_marks, classes)\n",
    "\n",
    "    fmt = '.2f' if normalize else 'd'\n",
    "    thresh = cm.max() / 2.\n",
    "    for i, j in itertools.product(range(cm.shape[0]), range(cm.shape[1])):\n",
    "        plt.text(j, i, format(cm[i, j], fmt),\n",
    "                 horizontalalignment=\"center\",\n",
    "                 color=\"white\" if cm[i, j] > thresh else \"black\")\n",
    "\n",
    "    plt.tight_layout()\n",
    "    plt.ylabel('True label')\n",
    "    plt.xlabel('Predicted label')"
   ]
  },
  {
   "cell_type": "code",
   "execution_count": 20,
   "metadata": {},
   "outputs": [],
   "source": [
    "preds = np.argmax(model.predict(X_test), axis = 1)\n",
    "y_orig = np.argmax(y_test, axis = 1)\n",
    "cm = confusion_matrix(preds, y_orig)"
   ]
  },
  {
   "cell_type": "code",
   "execution_count": 23,
   "metadata": {
    "scrolled": false
   },
   "outputs": [
    {
     "name": "stdout",
     "output_type": "stream",
     "text": [
      "Normalized confusion matrix\n"
     ]
    },
    {
     "data": {
      "image/png": "[encoded data removed]",
      "text/plain": [
       "<Figure size 576x576 with 2 Axes>"
      ]
     },
     "metadata": {
      "needs_background": "light"
     },
     "output_type": "display_data"
    }
   ],
   "source": [
    "genres = {'metal': 0, 'disco': 1, 'classical': 2, 'hiphop': 3, 'jazz': 4, \n",
    "          'country': 5, 'pop': 6, 'blues': 7, 'reggae': 8, 'rock': 9}\n",
    "\n",
    "\n",
    "keys = OrderedDict(sorted(genres.items(), key=lambda t: t[1])).keys()\n",
    "\n",
    "plt.figure(figsize=(8,8))\n",
    "plot_confusion_matrix(cm, keys, normalize=True)"
   ]
  },
  {
   "cell_type": "markdown",
   "metadata": {},
   "source": [
    "### Tentativa #2"
   ]
  },
  {
   "cell_type": "code",
   "execution_count": 16,
   "metadata": {},
   "outputs": [],
   "source": [
    "X_train2 = np.expand_dims(X_train, axis=2)\n",
    "X_validacao2 = np.expand_dims(X_validacao, axis=2)"
   ]
  },
  {
   "cell_type": "code",
   "execution_count": 51,
   "metadata": {
    "scrolled": false
   },
   "outputs": [
    {
     "name": "stdout",
     "output_type": "stream",
     "text": [
      "_________________________________________________________________\n",
      "Layer (type)                 Output Shape              Param #   \n",
      "=================================================================\n",
      "conv1d_61 (Conv1D)           (None, 80, 16)            48        \n",
      "_________________________________________________________________\n",
      "max_pooling1d_61 (MaxPooling (None, 40, 16)            0         \n",
      "_________________________________________________________________\n",
      "dropout_60 (Dropout)         (None, 40, 16)            0         \n",
      "_________________________________________________________________\n",
      "conv1d_62 (Conv1D)           (None, 39, 32)            1056      \n",
      "_________________________________________________________________\n",
      "max_pooling1d_62 (MaxPooling (None, 19, 32)            0         \n",
      "_________________________________________________________________\n",
      "dropout_61 (Dropout)         (None, 19, 32)            0         \n",
      "_________________________________________________________________\n",
      "conv1d_63 (Conv1D)           (None, 18, 64)            4160      \n",
      "_________________________________________________________________\n",
      "max_pooling1d_63 (MaxPooling (None, 9, 64)             0         \n",
      "_________________________________________________________________\n",
      "dropout_62 (Dropout)         (None, 9, 64)             0         \n",
      "_________________________________________________________________\n",
      "conv1d_64 (Conv1D)           (None, 8, 128)            16512     \n",
      "_________________________________________________________________\n",
      "max_pooling1d_64 (MaxPooling (None, 4, 128)            0         \n",
      "_________________________________________________________________\n",
      "dropout_63 (Dropout)         (None, 4, 128)            0         \n",
      "_________________________________________________________________\n",
      "conv1d_65 (Conv1D)           (None, 3, 64)             16448     \n",
      "_________________________________________________________________\n",
      "max_pooling1d_65 (MaxPooling (None, 1, 64)             0         \n",
      "_________________________________________________________________\n",
      "dropout_64 (Dropout)         (None, 1, 64)             0         \n",
      "_________________________________________________________________\n",
      "flatten_12 (Flatten)         (None, 64)                0         \n",
      "_________________________________________________________________\n",
      "dense_12 (Dense)             (None, 10)                650       \n",
      "=================================================================\n",
      "Total params: 38,874\n",
      "Trainable params: 38,874\n",
      "Non-trainable params: 0\n",
      "_________________________________________________________________\n"
     ]
    }
   ],
   "source": [
    "input_shape = (X_train2.shape[1],X_train2.shape[2])\n",
    "\n",
    "model_2 = Sequential()\n",
    "\n",
    "model_2.add(Conv1D(16, kernel_size=2, strides=1,activation='relu', input_shape=input_shape))\n",
    "model_2.add(MaxPooling1D(pool_size=1,strides=2))\n",
    "model_2.add(Dropout(0.25))\n",
    "\n",
    "model_2.add(Conv1D(32, kernel_size=2, strides=1, activation='relu', input_shape=input_shape))\n",
    "model_2.add(MaxPooling1D(pool_size=2,strides=2))\n",
    "model_2.add(Dropout(0.25))\n",
    "\n",
    "model_2.add(Conv1D(64, kernel_size=2,strides=1, activation='relu', input_shape=input_shape))\n",
    "model_2.add(MaxPooling1D(pool_size=2,strides=2))\n",
    "model_2.add(Dropout(0.25))\n",
    "\n",
    "model_2.add(Conv1D(128, kernel_size=2,strides=1, activation='relu', input_shape=input_shape))\n",
    "model_2.add(MaxPooling1D(pool_size=2,strides=2))\n",
    "model_2.add(Dropout(0.25))\n",
    "\n",
    "model_2.add(Conv1D(64, kernel_size=2,strides=1, activation='relu', input_shape=input_shape))\n",
    "model_2.add(MaxPooling1D(pool_size=3,strides=3))\n",
    "model_2.add(Dropout(0.25))\n",
    "\n",
    "model_2.add(Flatten())\n",
    "model_2.add(Dense(10, activation='softmax'))\n",
    "\n",
    "model_2.summary()"
   ]
  },
  {
   "cell_type": "code",
   "execution_count": 52,
   "metadata": {},
   "outputs": [],
   "source": [
    "model_2.compile(loss=keras.losses.categorical_crossentropy,\n",
    "              optimizer=keras.optimizers.Adam(),\n",
    "              metrics=['accuracy'])"
   ]
  },
  {
   "cell_type": "code",
   "execution_count": 53,
   "metadata": {},
   "outputs": [
    {
     "name": "stdout",
     "output_type": "stream",
     "text": [
      "Train on 13970 samples, validate on 2994 samples\n",
      "Epoch 1/100\n",
      "13970/13970 [==============================] - 4s 312us/step - loss: 2.0325 - acc: 0.2304 - val_loss: 1.8109 - val_acc: 0.3764\n",
      "Epoch 2/100\n",
      "13970/13970 [==============================] - 3s 197us/step - loss: 1.7322 - acc: 0.3656 - val_loss: 1.5655 - val_acc: 0.4452\n",
      "Epoch 3/100\n",
      "13970/13970 [==============================] - 3s 191us/step - loss: 1.5573 - acc: 0.4393 - val_loss: 1.4010 - val_acc: 0.5147\n",
      "Epoch 4/100\n",
      "13970/13970 [==============================] - 4s 262us/step - loss: 1.4564 - acc: 0.4795 - val_loss: 1.2805 - val_acc: 0.5578\n",
      "Epoch 5/100\n",
      "13970/13970 [==============================] - 3s 236us/step - loss: 1.3872 - acc: 0.5057 - val_loss: 1.2257 - val_acc: 0.5802\n",
      "Epoch 6/100\n",
      "13970/13970 [==============================] - 3s 192us/step - loss: 1.3295 - acc: 0.5267 - val_loss: 1.1493 - val_acc: 0.6005\n",
      "Epoch 7/100\n",
      "13970/13970 [==============================] - 3s 202us/step - loss: 1.2852 - acc: 0.5422 - val_loss: 1.0960 - val_acc: 0.6136\n",
      "Epoch 8/100\n",
      "13970/13970 [==============================] - 3s 202us/step - loss: 1.2599 - acc: 0.5533 - val_loss: 1.0769 - val_acc: 0.6319\n",
      "Epoch 9/100\n",
      "13970/13970 [==============================] - 4s 296us/step - loss: 1.2278 - acc: 0.5632 - val_loss: 1.0512 - val_acc: 0.6363\n",
      "Epoch 10/100\n",
      "13970/13970 [==============================] - 4s 256us/step - loss: 1.1988 - acc: 0.5735 - val_loss: 1.0185 - val_acc: 0.6500\n",
      "Epoch 11/100\n",
      "13970/13970 [==============================] - 3s 201us/step - loss: 1.1777 - acc: 0.5835 - val_loss: 0.9738 - val_acc: 0.6607\n",
      "Epoch 12/100\n",
      "13970/13970 [==============================] - 3s 204us/step - loss: 1.1592 - acc: 0.5899 - val_loss: 0.9696 - val_acc: 0.6703\n",
      "Epoch 13/100\n",
      "13970/13970 [==============================] - 3s 207us/step - loss: 1.1392 - acc: 0.5944 - val_loss: 0.9470 - val_acc: 0.6740\n",
      "Epoch 14/100\n",
      "13970/13970 [==============================] - 3s 199us/step - loss: 1.1147 - acc: 0.6061 - val_loss: 0.9276 - val_acc: 0.6844\n",
      "Epoch 15/100\n",
      "13970/13970 [==============================] - 3s 212us/step - loss: 1.1042 - acc: 0.6102 - val_loss: 0.9191 - val_acc: 0.6797\n",
      "Epoch 16/100\n",
      "13970/13970 [==============================] - 3s 211us/step - loss: 1.0870 - acc: 0.6135 - val_loss: 0.8913 - val_acc: 0.6997\n",
      "Epoch 17/100\n",
      "13970/13970 [==============================] - 3s 239us/step - loss: 1.0757 - acc: 0.6190 - val_loss: 0.8775 - val_acc: 0.7007\n",
      "Epoch 18/100\n",
      "13970/13970 [==============================] - 3s 237us/step - loss: 1.0670 - acc: 0.6187 - val_loss: 0.8856 - val_acc: 0.6981\n",
      "Epoch 19/100\n",
      "13970/13970 [==============================] - 3s 233us/step - loss: 1.0619 - acc: 0.6259 - val_loss: 0.8664 - val_acc: 0.7057\n",
      "Epoch 20/100\n",
      "13970/13970 [==============================] - 3s 201us/step - loss: 1.0372 - acc: 0.6299 - val_loss: 0.8362 - val_acc: 0.7211\n",
      "Epoch 21/100\n",
      "13970/13970 [==============================] - 3s 228us/step - loss: 1.0390 - acc: 0.6316 - val_loss: 0.8316 - val_acc: 0.7211\n",
      "Epoch 22/100\n",
      "13970/13970 [==============================] - 3s 210us/step - loss: 1.0215 - acc: 0.6345 - val_loss: 0.8092 - val_acc: 0.7281\n",
      "Epoch 23/100\n",
      "13970/13970 [==============================] - 3s 206us/step - loss: 1.0234 - acc: 0.6389 - val_loss: 0.8205 - val_acc: 0.7164\n",
      "Epoch 24/100\n",
      "13970/13970 [==============================] - 3s 214us/step - loss: 0.9932 - acc: 0.6467 - val_loss: 0.7973 - val_acc: 0.7255\n",
      "Epoch 25/100\n",
      "13970/13970 [==============================] - 3s 203us/step - loss: 1.0130 - acc: 0.6445 - val_loss: 0.8006 - val_acc: 0.7198\n",
      "Epoch 26/100\n",
      "13970/13970 [==============================] - 3s 206us/step - loss: 0.9966 - acc: 0.6471 - val_loss: 0.7898 - val_acc: 0.7305\n",
      "Epoch 27/100\n",
      "13970/13970 [==============================] - 3s 210us/step - loss: 0.9865 - acc: 0.6468 - val_loss: 0.7805 - val_acc: 0.7295\n",
      "Epoch 28/100\n",
      "13970/13970 [==============================] - 3s 225us/step - loss: 0.9722 - acc: 0.6526 - val_loss: 0.7668 - val_acc: 0.7381\n",
      "Epoch 29/100\n",
      "13970/13970 [==============================] - 3s 216us/step - loss: 0.9759 - acc: 0.6538 - val_loss: 0.7580 - val_acc: 0.7448\n",
      "Epoch 30/100\n",
      "13970/13970 [==============================] - 3s 203us/step - loss: 0.9548 - acc: 0.6593 - val_loss: 0.7611 - val_acc: 0.7455\n",
      "Epoch 31/100\n",
      "13970/13970 [==============================] - 3s 213us/step - loss: 0.9608 - acc: 0.6618 - val_loss: 0.7486 - val_acc: 0.7465\n",
      "Epoch 32/100\n",
      "13970/13970 [==============================] - 3s 221us/step - loss: 0.9430 - acc: 0.6678 - val_loss: 0.7436 - val_acc: 0.7472\n",
      "Epoch 33/100\n",
      "13970/13970 [==============================] - 3s 201us/step - loss: 0.9416 - acc: 0.6639 - val_loss: 0.7323 - val_acc: 0.7555\n",
      "Epoch 34/100\n",
      "13970/13970 [==============================] - 3s 216us/step - loss: 0.9405 - acc: 0.6677 - val_loss: 0.7374 - val_acc: 0.7505\n",
      "Epoch 35/100\n",
      "13970/13970 [==============================] - 3s 212us/step - loss: 0.9336 - acc: 0.6654 - val_loss: 0.7275 - val_acc: 0.7498\n",
      "Epoch 36/100\n",
      "13970/13970 [==============================] - 3s 216us/step - loss: 0.9305 - acc: 0.6680 - val_loss: 0.7275 - val_acc: 0.7625\n",
      "Epoch 37/100\n",
      "13970/13970 [==============================] - 3s 216us/step - loss: 0.9270 - acc: 0.6761 - val_loss: 0.7125 - val_acc: 0.7625\n",
      "Epoch 38/100\n",
      "13970/13970 [==============================] - 3s 198us/step - loss: 0.9257 - acc: 0.6772 - val_loss: 0.7146 - val_acc: 0.7669\n",
      "Epoch 39/100\n",
      "13970/13970 [==============================] - 3s 206us/step - loss: 0.9096 - acc: 0.6823 - val_loss: 0.7033 - val_acc: 0.7719\n",
      "Epoch 40/100\n",
      "13970/13970 [==============================] - 3s 204us/step - loss: 0.9078 - acc: 0.6821 - val_loss: 0.7086 - val_acc: 0.7705\n",
      "Epoch 41/100\n",
      "13970/13970 [==============================] - 3s 199us/step - loss: 0.9005 - acc: 0.6853 - val_loss: 0.7061 - val_acc: 0.7619\n",
      "Epoch 42/100\n",
      "13970/13970 [==============================] - 3s 213us/step - loss: 0.9065 - acc: 0.6763 - val_loss: 0.6866 - val_acc: 0.7742\n",
      "Epoch 43/100\n",
      "13970/13970 [==============================] - 3s 216us/step - loss: 0.8876 - acc: 0.6876 - val_loss: 0.6720 - val_acc: 0.7762\n",
      "Epoch 44/100\n",
      "13970/13970 [==============================] - 3s 214us/step - loss: 0.8843 - acc: 0.6874 - val_loss: 0.6909 - val_acc: 0.7672\n",
      "Epoch 45/100\n",
      "13970/13970 [==============================] - 3s 216us/step - loss: 0.8850 - acc: 0.6908 - val_loss: 0.6905 - val_acc: 0.7675\n",
      "Epoch 46/100\n",
      "13970/13970 [==============================] - 3s 212us/step - loss: 0.8785 - acc: 0.6922 - val_loss: 0.6789 - val_acc: 0.7685\n",
      "Epoch 47/100\n",
      "13970/13970 [==============================] - 3s 218us/step - loss: 0.8747 - acc: 0.6900 - val_loss: 0.6705 - val_acc: 0.7702\n",
      "Epoch 48/100\n",
      "13970/13970 [==============================] - 3s 221us/step - loss: 0.8793 - acc: 0.6869 - val_loss: 0.6618 - val_acc: 0.7776\n",
      "Epoch 49/100\n",
      "13970/13970 [==============================] - 3s 224us/step - loss: 0.8733 - acc: 0.6931 - val_loss: 0.6634 - val_acc: 0.7792\n",
      "Epoch 50/100\n",
      "13970/13970 [==============================] - 3s 219us/step - loss: 0.8740 - acc: 0.6922 - val_loss: 0.6611 - val_acc: 0.7796\n",
      "Epoch 51/100\n",
      "13970/13970 [==============================] - 3s 211us/step - loss: 0.8717 - acc: 0.6911 - val_loss: 0.6625 - val_acc: 0.7779\n",
      "Epoch 52/100\n",
      "13970/13970 [==============================] - 3s 220us/step - loss: 0.8534 - acc: 0.6977 - val_loss: 0.6485 - val_acc: 0.7792\n",
      "Epoch 53/100\n",
      "13970/13970 [==============================] - 3s 217us/step - loss: 0.8588 - acc: 0.6989 - val_loss: 0.6476 - val_acc: 0.7739\n",
      "Epoch 54/100\n",
      "13970/13970 [==============================] - 3s 218us/step - loss: 0.8586 - acc: 0.6966 - val_loss: 0.6515 - val_acc: 0.7846\n",
      "Epoch 55/100\n",
      "13970/13970 [==============================] - 3s 219us/step - loss: 0.8537 - acc: 0.6987 - val_loss: 0.6471 - val_acc: 0.7849\n",
      "Epoch 56/100\n",
      "13970/13970 [==============================] - 3s 205us/step - loss: 0.8583 - acc: 0.6916 - val_loss: 0.6468 - val_acc: 0.7822\n",
      "Epoch 57/100\n",
      "13970/13970 [==============================] - 3s 194us/step - loss: 0.8592 - acc: 0.6949 - val_loss: 0.6439 - val_acc: 0.7812\n",
      "Epoch 58/100\n",
      "13970/13970 [==============================] - 3s 194us/step - loss: 0.8453 - acc: 0.6981 - val_loss: 0.6480 - val_acc: 0.7762\n",
      "Epoch 59/100\n",
      "13970/13970 [==============================] - 3s 199us/step - loss: 0.8458 - acc: 0.7013 - val_loss: 0.6413 - val_acc: 0.7842\n",
      "Epoch 60/100\n",
      "13970/13970 [==============================] - 3s 202us/step - loss: 0.8415 - acc: 0.7019 - val_loss: 0.6406 - val_acc: 0.7806\n",
      "Epoch 61/100\n",
      "13970/13970 [==============================] - 3s 203us/step - loss: 0.8484 - acc: 0.7010 - val_loss: 0.6225 - val_acc: 0.7906\n",
      "Epoch 62/100\n",
      "13970/13970 [==============================] - 3s 204us/step - loss: 0.8374 - acc: 0.7067 - val_loss: 0.6314 - val_acc: 0.7889\n",
      "Epoch 63/100\n",
      "13970/13970 [==============================] - 3s 217us/step - loss: 0.8387 - acc: 0.7052 - val_loss: 0.6263 - val_acc: 0.7886\n",
      "Epoch 64/100\n",
      "13970/13970 [==============================] - 3s 211us/step - loss: 0.8392 - acc: 0.7060 - val_loss: 0.6245 - val_acc: 0.7889\n",
      "Epoch 65/100\n",
      "13970/13970 [==============================] - 3s 191us/step - loss: 0.8374 - acc: 0.7030 - val_loss: 0.6319 - val_acc: 0.7902\n",
      "Epoch 66/100\n",
      "13970/13970 [==============================] - 3s 198us/step - loss: 0.8246 - acc: 0.7079 - val_loss: 0.6300 - val_acc: 0.7872\n",
      "Epoch 67/100\n",
      "13970/13970 [==============================] - 3s 208us/step - loss: 0.8329 - acc: 0.7025 - val_loss: 0.6288 - val_acc: 0.7842\n",
      "Epoch 68/100\n",
      "13970/13970 [==============================] - 3s 207us/step - loss: 0.8265 - acc: 0.7112 - val_loss: 0.6288 - val_acc: 0.7939\n",
      "Epoch 69/100\n",
      "13970/13970 [==============================] - 3s 204us/step - loss: 0.8281 - acc: 0.7084 - val_loss: 0.6272 - val_acc: 0.7889\n",
      "Epoch 70/100\n",
      "13970/13970 [==============================] - 3s 197us/step - loss: 0.8251 - acc: 0.7092 - val_loss: 0.6247 - val_acc: 0.7882\n",
      "Epoch 71/100\n",
      "13970/13970 [==============================] - 3s 208us/step - loss: 0.8281 - acc: 0.7067 - val_loss: 0.6216 - val_acc: 0.7859\n",
      "Epoch 72/100\n",
      "13970/13970 [==============================] - 3s 204us/step - loss: 0.8121 - acc: 0.7177 - val_loss: 0.6149 - val_acc: 0.7956\n",
      "Epoch 73/100\n",
      "13970/13970 [==============================] - 3s 200us/step - loss: 0.8102 - acc: 0.7116 - val_loss: 0.6140 - val_acc: 0.7916\n",
      "Epoch 74/100\n",
      "13970/13970 [==============================] - 3s 225us/step - loss: 0.8180 - acc: 0.7106 - val_loss: 0.6102 - val_acc: 0.7936\n",
      "Epoch 75/100\n",
      "13970/13970 [==============================] - 5s 334us/step - loss: 0.8152 - acc: 0.7130 - val_loss: 0.6094 - val_acc: 0.7933\n",
      "Epoch 76/100\n",
      "13970/13970 [==============================] - 3s 204us/step - loss: 0.8052 - acc: 0.7149 - val_loss: 0.6028 - val_acc: 0.7963\n",
      "Epoch 77/100\n",
      "13970/13970 [==============================] - 3s 226us/step - loss: 0.8217 - acc: 0.7110 - val_loss: 0.6141 - val_acc: 0.7943\n",
      "Epoch 78/100\n",
      "13970/13970 [==============================] - 3s 231us/step - loss: 0.8071 - acc: 0.7152 - val_loss: 0.6043 - val_acc: 0.7986\n",
      "Epoch 79/100\n",
      "13970/13970 [==============================] - 3s 210us/step - loss: 0.8101 - acc: 0.7132 - val_loss: 0.6173 - val_acc: 0.7976\n",
      "Epoch 80/100\n",
      "13970/13970 [==============================] - ETA: 0s - loss: 0.8004 - acc: 0.713 - 3s 216us/step - loss: 0.8023 - acc: 0.7125 - val_loss: 0.5998 - val_acc: 0.7966\n",
      "Epoch 81/100\n",
      "13970/13970 [==============================] - 3s 200us/step - loss: 0.8009 - acc: 0.7185 - val_loss: 0.5993 - val_acc: 0.7963\n",
      "Epoch 82/100\n",
      "13970/13970 [==============================] - 3s 220us/step - loss: 0.7994 - acc: 0.7173 - val_loss: 0.6091 - val_acc: 0.7859\n",
      "Epoch 83/100\n",
      "13970/13970 [==============================] - 3s 197us/step - loss: 0.7982 - acc: 0.7180 - val_loss: 0.5947 - val_acc: 0.7996\n",
      "Epoch 84/100\n",
      "13970/13970 [==============================] - 3s 194us/step - loss: 0.7975 - acc: 0.7150 - val_loss: 0.5916 - val_acc: 0.8006\n",
      "Epoch 85/100\n",
      "13970/13970 [==============================] - 3s 228us/step - loss: 0.8028 - acc: 0.7152 - val_loss: 0.5910 - val_acc: 0.8009\n",
      "Epoch 86/100\n",
      "13970/13970 [==============================] - 3s 205us/step - loss: 0.7911 - acc: 0.7225 - val_loss: 0.6002 - val_acc: 0.8009\n",
      "Epoch 87/100\n",
      "13970/13970 [==============================] - 3s 202us/step - loss: 0.7978 - acc: 0.7193 - val_loss: 0.5988 - val_acc: 0.7989\n",
      "Epoch 88/100\n",
      "13970/13970 [==============================] - 3s 239us/step - loss: 0.8044 - acc: 0.7126 - val_loss: 0.5919 - val_acc: 0.8019\n",
      "Epoch 89/100\n",
      "13970/13970 [==============================] - 3s 221us/step - loss: 0.7980 - acc: 0.7219 - val_loss: 0.5854 - val_acc: 0.7996\n",
      "Epoch 90/100\n",
      "13970/13970 [==============================] - 3s 200us/step - loss: 0.7900 - acc: 0.7197 - val_loss: 0.5776 - val_acc: 0.8039\n",
      "Epoch 91/100\n",
      "13970/13970 [==============================] - 3s 213us/step - loss: 0.7976 - acc: 0.7185 - val_loss: 0.5933 - val_acc: 0.8023\n",
      "Epoch 92/100\n",
      "13970/13970 [==============================] - 3s 211us/step - loss: 0.7866 - acc: 0.7215 - val_loss: 0.5817 - val_acc: 0.8006\n",
      "Epoch 93/100\n",
      "13970/13970 [==============================] - 3s 207us/step - loss: 0.7757 - acc: 0.7268 - val_loss: 0.5827 - val_acc: 0.8043\n",
      "Epoch 94/100\n",
      "13970/13970 [==============================] - 3s 208us/step - loss: 0.7883 - acc: 0.7255 - val_loss: 0.5758 - val_acc: 0.8086\n",
      "Epoch 95/100\n",
      "13970/13970 [==============================] - 3s 209us/step - loss: 0.7915 - acc: 0.7250 - val_loss: 0.5828 - val_acc: 0.8069\n",
      "Epoch 96/100\n",
      "13970/13970 [==============================] - 3s 207us/step - loss: 0.7720 - acc: 0.7227 - val_loss: 0.5691 - val_acc: 0.8126\n",
      "Epoch 97/100\n",
      "13970/13970 [==============================] - 3s 192us/step - loss: 0.7997 - acc: 0.7155 - val_loss: 0.5756 - val_acc: 0.8029\n",
      "Epoch 98/100\n",
      "13970/13970 [==============================] - 3s 197us/step - loss: 0.7797 - acc: 0.7207 - val_loss: 0.5780 - val_acc: 0.8110\n",
      "Epoch 99/100\n",
      "13970/13970 [==============================] - 3s 207us/step - loss: 0.7945 - acc: 0.7192 - val_loss: 0.5719 - val_acc: 0.8046\n",
      "Epoch 100/100\n",
      "13970/13970 [==============================] - 3s 203us/step - loss: 0.7772 - acc: 0.7246 - val_loss: 0.5659 - val_acc: 0.8126\n"
     ]
    }
   ],
   "source": [
    "hist_2 = model_2.fit(X_train2, y_train,\n",
    "          batch_size=32,\n",
    "          epochs=100,\n",
    "          verbose=1,\n",
    "          validation_data=(X_validacao2, y_validacao))"
   ]
  },
  {
   "cell_type": "code",
   "execution_count": 54,
   "metadata": {},
   "outputs": [
    {
     "data": {
      "image/png": "[encoded data removed]",
      "text/plain": [
       "<Figure size 1080x504 with 2 Axes>"
      ]
     },
     "metadata": {
      "needs_background": "light"
     },
     "output_type": "display_data"
    }
   ],
   "source": [
    "plt.figure(figsize=(15,7))\n",
    "\n",
    "plt.subplot(1,2,1)\n",
    "plt.plot(hist_2.history['acc'], label='train')\n",
    "plt.plot(hist_2.history['val_acc'], label='validation')\n",
    "plt.title('Accuracy')\n",
    "plt.xlabel('Epochs')\n",
    "plt.ylabel('Accuracy')\n",
    "plt.legend()\n",
    "\n",
    "plt.subplot(1,2,2)\n",
    "plt.plot(hist_2.history['loss'], label='train')\n",
    "plt.plot(hist_2.history['val_loss'], label='validation')\n",
    "plt.title('Loss')\n",
    "plt.xlabel('Epochs')\n",
    "plt.ylabel('Loss')\n",
    "plt.legend()\n",
    "\n",
    "plt.tight_layout()\n",
    "plt.show()"
   ]
  },
  {
   "cell_type": "code",
   "execution_count": 58,
   "metadata": {},
   "outputs": [],
   "source": [
    "X_test2 = np.expand_dims(X_test, axis=2)"
   ]
  },
  {
   "cell_type": "code",
   "execution_count": 60,
   "metadata": {},
   "outputs": [],
   "source": [
    "preds = np.argmax(model_2.predict(X_test2), axis = 1)\n",
    "y_orig = np.argmax(y_test, axis = 1)\n",
    "cm = confusion_matrix(preds, y_orig)"
   ]
  },
  {
   "cell_type": "code",
   "execution_count": 64,
   "metadata": {},
   "outputs": [
    {
     "name": "stdout",
     "output_type": "stream",
     "text": [
      "val_loss = 0.535 and val_acc = 0.829\n"
     ]
    }
   ],
   "source": [
    "score = model_2.evaluate(X_test2, y_test, verbose=0)\n",
    "print(\"val_loss = {:.3f} and val_acc = {:.3f}\".format(score[0], score[1]))"
   ]
  },
  {
   "cell_type": "code",
   "execution_count": 63,
   "metadata": {
    "scrolled": false
   },
   "outputs": [
    {
     "name": "stdout",
     "output_type": "stream",
     "text": [
      "Normalized confusion matrix\n"
     ]
    },
    {
     "data": {
      "image/png": "[encoded data removed]",
      "text/plain": [
       "<Figure size 576x576 with 2 Axes>"
      ]
     },
     "metadata": {
      "needs_background": "light"
     },
     "output_type": "display_data"
    }
   ],
   "source": [
    "genres = {'metal': 0, 'disco': 1, 'classical': 2, 'hiphop': 3, 'jazz': 4, \n",
    "          'country': 5, 'pop': 6, 'blues': 7, 'reggae': 8, 'rock': 9}\n",
    "\n",
    "\n",
    "keys = OrderedDict(sorted(genres.items(), key=lambda t: t[1])).keys()\n",
    "\n",
    "plt.figure(figsize=(8,8))\n",
    "plot_confusion_matrix(cm, keys, normalize=True)"
   ]
  }
 ],
 "metadata": {
  "kernelspec": {
   "display_name": "Python 3",
   "language": "python",
   "name": "python3"
  },
  "language_info": {
   "codemirror_mode": {
    "name": "ipython",
    "version": 3
   },
   "file_extension": ".py",
   "mimetype": "text/x-python",
   "name": "python",
   "nbconvert_exporter": "python",
   "pygments_lexer": "ipython3",
   "version": "3.7.2"
  }
 },
 "nbformat": 4,
 "nbformat_minor": 2
}
