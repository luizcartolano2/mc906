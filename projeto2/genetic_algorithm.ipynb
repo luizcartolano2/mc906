{
 "cells": [
  {
   "cell_type": "markdown",
   "metadata": {},
   "source": [
    "# FALTA FAZER:\n",
    "1. criterio de selecao\n",
    "2. algoritmo genetico em si"
   ]
  },
  {
   "cell_type": "code",
   "execution_count": 1,
   "metadata": {},
   "outputs": [],
   "source": [
    "# import das bibliotecas\n",
    "import os\n",
    "import pandas as pd\n",
    "import random\n",
    "from greedy_filter import *"
   ]
  },
  {
   "cell_type": "code",
   "execution_count": 2,
   "metadata": {},
   "outputs": [],
   "source": [
    "# definicao das constantes\n",
    "PATH_EXCEL = os.getcwd() + '/excel_files/'"
   ]
  },
  {
   "cell_type": "markdown",
   "metadata": {},
   "source": [
    "Estruturas que irao armazenar os dataframes com o histórico de preços das ações.\n",
    "1. dict_excels: dicionario onde a chave é o nome da ação e o valor da chave é o dataframe\n",
    "2. filenames: lista com o nome dos arquivos\n",
    "3. excels: lista com os dataframes"
   ]
  },
  {
   "cell_type": "code",
   "execution_count": 3,
   "metadata": {},
   "outputs": [],
   "source": [
    "dict_excels = {}\n",
    "filenames = []\n",
    "excels = []\n",
    "for filename in os.listdir(PATH_EXCEL):\n",
    "    filenames.append(filename[:filename.find('.')])\n",
    "    excels.append(pd.read_excel(PATH_EXCEL + filename).sort_values(by=['Exchange Date']).reset_index(drop=True))\n",
    "    dict_excels[filename[:filename.find('.')]] = (pd.read_excel(PATH_EXCEL + filename).sort_values(by=['Exchange Date']).reset_index(drop=True))"
   ]
  },
  {
   "cell_type": "markdown",
   "metadata": {},
   "source": [
    "## Modelagem do problema\n",
    "### Algoritmo Genético 1 - Escolha dos Parâmetros das Regras de Filtro\n",
    "1. Gene: cada um dos parâmetros do filtro\n",
    "    1. x - porcentagem de variação: porcentagem acima/abaixo da ultima subida ou queda\n",
    "       1. varia de 0 a 1\n",
    "       2. varia de 0.01 a 0.10\n",
    "    2. h - hold days: após um sinal de compra/venda esperamos por h dias\n",
    "       1. varia de 1 até o número de dias entre a data atual e a data onde acabam as informacoes\n",
    "       2. varia de 1 até 30\n",
    "    3. d - delay days: após receber um sinal ignora-se os próximos d dias\n",
    "       1. varia de 1 até o número de dias entre a data atual e a data onde acabam as informacoes\n",
    "       2. varia de 1 até 30\n",
    "    4. p - previous days: olha-se p dias para tomar uma decisão\n",
    "       1. varia de 0 até o número de dias transcorridos até o momento\n",
    "       2. varia de 30 até o número máximo de dias\n",
    "2. Cromossomo: conjunto de parâmetros\n",
    "    1. Estrutura usada: lista com os parâmetros &rarr; [x, h, d, p]\n",
    "3. População: conjunto de cromossomos\n",
    "    1. Tamanho da População:\n",
    "4. Mutação:\n",
    "    1. taxa de mutação:\n",
    "5. Crossover:\n",
    "    1. taxa de crossover:\n",
    "6. Critério de Parada:\n",
    "7. Seleção:\n",
    "    1. Fitness: cálculo do lucro obtido por cada cromossomo\n",
    "    2. Técnica de Seleção:\n",
    "        1. Técnica 1:\n",
    "        2. Técnica 2:"
   ]
  },
  {
   "cell_type": "markdown",
   "metadata": {},
   "source": [
    "Funções para realizar o crossover entre dois cromossomos"
   ]
  },
  {
   "cell_type": "code",
   "execution_count": 4,
   "metadata": {},
   "outputs": [],
   "source": [
    "def crossover(chromosome1, chromosome2):\n",
    "    \"\"\"\n",
    "        Funcao para realizar o crossover entre dois cromossomos\n",
    "        :param: chromosome1 - cromossomo pai\n",
    "        :param: chromosome2 - cromossomo mae\n",
    "        :return: new_chromosome1 - primeiro filho gerado no crossover\n",
    "        :return: new_chromosome2 - segundo filho gerado no crossover\n",
    "    \"\"\"\n",
    "    # escolhe um gene aleatorio para realizar o crossover\n",
    "    rand = random.randint(1,len(chromosome1) - 1)\n",
    "\n",
    "    # gera os dois novos cromossomos\n",
    "    new_chromosome1 = chromosome1[:rand] + chromosome2[rand:]\n",
    "    new_chromosome2 = chromosome2[:rand] + chromosome1[rand:]\n",
    "    \n",
    "    return new_chromosome1, new_chromosome2"
   ]
  },
  {
   "cell_type": "markdown",
   "metadata": {},
   "source": [
    "Funções para realizar a mutação de um cromossomo"
   ]
  },
  {
   "cell_type": "code",
   "execution_count": 5,
   "metadata": {},
   "outputs": [],
   "source": [
    "def mutation(chromossome, today_index, last_day_index):\n",
    "    \"\"\"\n",
    "        Funcao para realizar a mutacao de um dado cromossomo\n",
    "        :param: chromossome - cromossomo que ira passar pelo processo de mutacao\n",
    "        :param: today_index - indice da tabela referente a data atual da acao\n",
    "        :param: last_day_index - indice da tabela referente a ultima data da qual se tem informacao da acao\n",
    "        :return: new_chromossome - novo cromossomo apos o processo de mutacao\n",
    "    \"\"\"\n",
    "    # faz a copia do cromossomo original\n",
    "    new_chromossome = chromossome\n",
    "    \n",
    "    # escolhe, aleatoriamente, um gene para ser alterado\n",
    "    gene_position = random.randint(0,len(chromossome) - 1)\n",
    "    \n",
    "    # modifica o gene escolhido seguindo, como unica regra, os valores que ele pode assumir\n",
    "    if gene_position == 0:\n",
    "        new_chromossome[0] = random.random()\n",
    "    elif gene_position == 1:\n",
    "        new_chromossome[1] = random.randint(0, last_day_index - today_index)\n",
    "    elif gene_position == 2:\n",
    "        new_chromossome[2] = random.randint(0, last_day_index - today_index)\n",
    "    elif gene_position == 3:\n",
    "        new_chromossome[3] = random.randint(0, today_index)\n",
    "    else:\n",
    "        raise Exception('Gene inexistente no cromossomo!')\n",
    "        \n",
    "    return new_chromossome\n",
    "\n",
    "def mutation_v2(chromossome):\n",
    "    \"\"\"\n",
    "        Funcao para realizar a mutacao de um dado cromossomo\n",
    "        :param: chromossome - cromossomo que ira passar pelo processo de mutacao\n",
    "        :return: new_chromossome - novo cromossomo apos o processo de mutacao\n",
    "    \"\"\"\n",
    "    # faz a copia do cromossomo original\n",
    "    new_chromossome = chromossome\n",
    "    \n",
    "    # escolhe, aleatoriamente, um gene para ser alterado\n",
    "    gene_position = random.randint(0,len(chromossome) - 1)\n",
    "    \n",
    "    # modifica o gene escolhido seguindo, como unica regra, os valores que ele pode assumir\n",
    "    if gene_position == 0:\n",
    "        new_chromossome[0] = random.uniform(0.01,0.10)\n",
    "    elif gene_position == 1:\n",
    "        new_chromossome[1] = random.randint(1,30)\n",
    "    elif gene_position == 2:\n",
    "        new_chromossome[2] = random.randint(1,30)\n",
    "    elif gene_position == 3:\n",
    "        new_chromossome[3] = random.randint(30,500)\n",
    "    else:\n",
    "        raise Exception('Gene inexistente no cromossomo!')\n",
    "        \n",
    "    return new_chromossome"
   ]
  },
  {
   "cell_type": "markdown",
   "metadata": {},
   "source": [
    "Função para realizar a inicialização randômica de uma população"
   ]
  },
  {
   "cell_type": "code",
   "execution_count": 6,
   "metadata": {},
   "outputs": [],
   "source": [
    "def create_population(population_size):\n",
    "    \"\"\"\n",
    "        Funcao para criar uma populacao randomica de cromossomos\n",
    "        :param: population_size - tamanho da populacao que sera criada\n",
    "        :return: population - nova populacao\n",
    "    \"\"\"\n",
    "    population = []\n",
    "    for i in range(0, population_size):\n",
    "        population.append([random.random(), random.randint(1,30), random.randint(1,30), random.randint(1,500)])\n",
    "        \n",
    "    return population"
   ]
  },
  {
   "cell_type": "code",
   "execution_count": 13,
   "metadata": {},
   "outputs": [],
   "source": [
    "def fitness(np_array, chromossomes, budget):\n",
    "    \"\"\"\n",
    "        Funcao para calcular o lucro de cada um dos cromossomos de uma dada populacao\n",
    "        :param: np_array - conjunto de dados de determinada acao\n",
    "        :param: chromossomes - lista de cromossomos que sera avaliada\n",
    "        :param: budget - dinheiro inicial do problema\n",
    "        :return: fit_chromossomes - matriz com os cromossomos e o lucro(em porcentagem) obtido por eles\n",
    "    \"\"\"\n",
    "    fit_chromossomes = []\n",
    "    for chromossome in chromossomes:\n",
    "        money = greedy_filter_rule(np_array, chromossome, budget)\n",
    "        fit_chromossomes.append([chromossome, (money-budget)/budget])\n",
    "        \n",
    "    return fit_chromossomes"
   ]
  },
  {
   "cell_type": "code",
   "execution_count": 14,
   "metadata": {},
   "outputs": [
    {
     "data": {
      "text/plain": [
       "[[[0.003586974437413959, 9, 26, 398], 1.170062999999999],\n",
       " [[0.9873071062401202, 24, 20, 75], 0.0],\n",
       " [[0.260349698576539, 28, 1, 485], 1.4162860000000002],\n",
       " [[0.8459171881349796, 10, 27, 28], 0.0],\n",
       " [[0.16680953853788993, 30, 21, 72], 0.48962199999999995],\n",
       " [[0.4425677313540157, 4, 3, 132], 0.0],\n",
       " [[0.4811693745131408, 28, 6, 198], 0.0],\n",
       " [[0.7974728689933931, 19, 10, 137], 0.0],\n",
       " [[0.7369850174651227, 25, 18, 309], 0.0],\n",
       " [[0.635594239644741, 1, 6, 31], 0.0]]"
      ]
     },
     "execution_count": 14,
     "metadata": {},
     "output_type": "execute_result"
    }
   ],
   "source": [
    "np_array = excels[0].values\n",
    "chromossomes = create_population(10)\n",
    "budget = 10000\n",
    "fitness(np_array, chromossomes, budget)"
   ]
  },
  {
   "cell_type": "code",
   "execution_count": 37,
   "metadata": {
    "scrolled": true
   },
   "outputs": [
    {
     "name": "stdout",
     "output_type": "stream",
     "text": [
      "100\n"
     ]
    },
    {
     "data": {
      "text/plain": [
       "[[[0.6545666149176183, 21, 18, 167], 0.0],\n",
       " [[0.9409669790405667, 9, 5, 185], 0.0],\n",
       " [[0.6545666149176183, 21, 16, 355], 0.0],\n",
       " [[0.2947182397067649, 27, 5, 185], 0.0],\n",
       " [[0.6545666149176183, 21, 18, 282], 0.0],\n",
       " [[0.4391587897794711, 21, 5, 185], 0.0],\n",
       " [[0.6545666149176183, 21, 13, 122], 0.0],\n",
       " [[0.44040325229043376, 15, 5, 185], 0.0],\n",
       " [[0.6545666149176183, 21, 5, 131], 0.0],\n",
       " [[0.48625978382466184, 25, 25, 185], 0.0],\n",
       " [[0.6545666149176183, 21, 15, 20], 0.0],\n",
       " [[0.6322985067781749, 15, 5, 185], 0.0],\n",
       " [[0.6545666149176183, 9, 21, 347], 0.0],\n",
       " [[0.8999324276282289, 21, 5, 185], 0.0],\n",
       " [[0.6545666149176183, 21, 5, 217], 0.0],\n",
       " [[0.7741343449598641, 2, 10, 185], 0.0],\n",
       " [[0.6545666149176183, 21, 5, 59], 0.0],\n",
       " [[0.19030238687979273, 29, 25, 185], 0.0],\n",
       " [[0.6545666149176183, 21, 21, 385], 0.0],\n",
       " [[0.37589729336978017, 21, 5, 185], 0.0],\n",
       " [[0.6545666149176183, 4, 25, 222], 0.0],\n",
       " [[0.021905360164286458, 21, 5, 185], 0.19994000000000034],\n",
       " [[0.9409669790405667, 9, 16, 355], 0.0],\n",
       " [[0.2947182397067649, 27, 18, 167], 0.0],\n",
       " [[0.9409669790405667, 21, 18, 282], 0.0],\n",
       " [[0.4391587897794711, 9, 18, 167], 0.0],\n",
       " [[0.9409669790405667, 15, 13, 122], 0.0],\n",
       " [[0.44040325229043376, 9, 18, 167], 0.0],\n",
       " [[0.9409669790405667, 9, 25, 131], 0.0],\n",
       " [[0.48625978382466184, 25, 18, 167], 0.0],\n",
       " [[0.9409669790405667, 9, 18, 20], 0.0],\n",
       " [[0.6322985067781749, 15, 15, 167], 0.0],\n",
       " [[0.9409669790405667, 9, 21, 347], 0.0],\n",
       " [[0.8999324276282289, 9, 18, 167], 0.0],\n",
       " [[0.9409669790405667, 2, 10, 217], 0.0],\n",
       " [[0.7741343449598641, 9, 18, 167], 0.0],\n",
       " [[0.9409669790405667, 29, 25, 59], 0.0],\n",
       " [[0.19030238687979273, 9, 18, 167], 0.0],\n",
       " [[0.9409669790405667, 9, 21, 385], 0.0],\n",
       " [[0.37589729336978017, 21, 18, 167], 0.0],\n",
       " [[0.9409669790405667, 4, 25, 222], 0.0],\n",
       " [[0.021905360164286458, 9, 18, 167], 0.13229000000000016],\n",
       " [[0.2947182397067649, 27, 16, 282], 0.0],\n",
       " [[0.4391587897794711, 21, 18, 355], 0.0],\n",
       " [[0.2947182397067649, 27, 16, 122], 0.0],\n",
       " [[0.44040325229043376, 15, 13, 355], 0.0],\n",
       " [[0.2947182397067649, 27, 25, 131], 0.0],\n",
       " [[0.48625978382466184, 25, 16, 355], 0.0],\n",
       " [[0.2947182397067649, 15, 15, 20], 0.0],\n",
       " [[0.6322985067781749, 27, 16, 355], 0.0],\n",
       " [[0.2947182397067649, 27, 21, 347], 0.0],\n",
       " [[0.8999324276282289, 9, 16, 355], 0.0],\n",
       " [[0.2947182397067649, 2, 10, 217], 0.0],\n",
       " [[0.7741343449598641, 27, 16, 355], 0.0],\n",
       " [[0.2947182397067649, 29, 25, 59], 0.0],\n",
       " [[0.19030238687979273, 27, 16, 355], 0.0],\n",
       " [[0.2947182397067649, 27, 16, 385], 0.0],\n",
       " [[0.37589729336978017, 21, 21, 355], 0.0],\n",
       " [[0.2947182397067649, 27, 16, 222], 0.0],\n",
       " [[0.021905360164286458, 4, 25, 355], 0.1741439999999997],\n",
       " [[0.4391587897794711, 15, 13, 122], 0.0],\n",
       " [[0.44040325229043376, 21, 18, 282], 0.0],\n",
       " [[0.4391587897794711, 21, 18, 131], 0.0],\n",
       " [[0.48625978382466184, 25, 25, 282], 0.0],\n",
       " [[0.4391587897794711, 21, 15, 20], 0.0],\n",
       " [[0.6322985067781749, 15, 18, 282], 0.0],\n",
       " [[0.4391587897794711, 21, 18, 347], 0.0],\n",
       " [[0.8999324276282289, 9, 21, 282], 0.0],\n",
       " [[0.4391587897794711, 2, 10, 217], 0.0],\n",
       " [[0.7741343449598641, 21, 18, 282], 0.0],\n",
       " [[0.4391587897794711, 29, 25, 59], 0.0],\n",
       " [[0.19030238687979273, 21, 18, 282], 0.0],\n",
       " [[0.4391587897794711, 21, 21, 385], 0.0],\n",
       " [[0.37589729336978017, 21, 18, 282], 0.0],\n",
       " [[0.4391587897794711, 21, 18, 222], 0.0],\n",
       " [[0.021905360164286458, 4, 25, 282], 0.1741439999999997],\n",
       " [[0.44040325229043376, 15, 13, 131], 0.0],\n",
       " [[0.48625978382466184, 25, 25, 122], 0.0],\n",
       " [[0.44040325229043376, 15, 13, 20], 0.0],\n",
       " [[0.6322985067781749, 15, 15, 122], 0.0],\n",
       " [[0.44040325229043376, 15, 21, 347], 0.0],\n",
       " [[0.8999324276282289, 9, 13, 122], 0.0],\n",
       " [[0.44040325229043376, 15, 13, 217], 0.0],\n",
       " [[0.7741343449598641, 2, 10, 122], 0.0],\n",
       " [[0.44040325229043376, 29, 25, 59], 0.0],\n",
       " [[0.19030238687979273, 15, 13, 122], 0.0],\n",
       " [[0.44040325229043376, 15, 13, 385], 0.0],\n",
       " [[0.37589729336978017, 21, 21, 122], 0.0],\n",
       " [[0.44040325229043376, 4, 25, 222], 0.0],\n",
       " [[0.021905360164286458, 15, 13, 122], 0.14501900000000023],\n",
       " [[0.6545666149176183, 21, 5, 185], 0.0],\n",
       " [[0.9409669790405667, 9, 18, 167], 0.0],\n",
       " [[0.2947182397067649, 27, 16, 355], 0.0],\n",
       " [[0.4391587897794711, 21, 18, 282], 0.0],\n",
       " [[0.44040325229043376, 15, 13, 122], 0.0],\n",
       " [[0.48625978382466184, 25, 25, 131], 0.0],\n",
       " [[0.6322985067781749, 15, 15, 20], 0.0],\n",
       " [[0.8999324276282289, 9, 21, 347], 0.0],\n",
       " [[0.7741343449598641, 2, 10, 217], 0.0],\n",
       " [[0.19030238687979273, 29, 25, 59], 0.0]]"
      ]
     },
     "execution_count": 37,
     "metadata": {},
     "output_type": "execute_result"
    }
   ],
   "source": [
    "number_to_combine = 12 # número \"n\" que serão combinados 2 a 2 para gerar a nova geração\n",
    "len_next_generation = 100 # tamanho que definimos para a proxima geração\n",
    "percentage_new_generation = 0.9 # porcentagem máxima da nova geracao que será por crossover\n",
    "\n",
    "new_generation = []\n",
    "for i in range (number_to_combine):\n",
    "    for j in range (i+1,number_to_combine):\n",
    "        new_chromossome1, new_chromossome2 = crossover(chromossomes[i], chromossomes[j])\n",
    "        new_generation.append(new_chromossome1)\n",
    "        new_generation.append(new_chromossome2)\n",
    "\n",
    "actual_len = len(new_generation)\n",
    "if (actual_len > len_next_generation * percentage_new_generation):\n",
    "    new_generation = new_generation[:int(len_next_generation * percentage_new_generation)]\n",
    "    actual_len = len(new_generation)\n",
    "\n",
    "for i in range (0, len_next_generation - actual_len):\n",
    "    new_generation.append(chromossomes[i])\n",
    "        \n",
    "print (len(new_generation))\n",
    "fitness(np_array, new_generation, budget)"
   ]
  },
  {
   "cell_type": "code",
   "execution_count": 14,
   "metadata": {},
   "outputs": [
    {
     "name": "stdout",
     "output_type": "stream",
     "text": [
      "[[0.6545666149176183, 21, 5, 185], [0.9409669790405667, 9, 18, 167], [0.2947182397067649, 27, 16, 355], [0.4391587897794711, 21, 18, 282], [0.44040325229043376, 15, 13, 122], [0.48625978382466184, 25, 25, 131], [0.6322985067781749, 15, 15, 20], [0.8999324276282289, 9, 21, 347], [0.7741343449598641, 2, 10, 217], [0.19030238687979273, 29, 25, 59], [0.37589729336978017, 21, 21, 385], [0.021905360164286458, 4, 25, 222], [0.9400888363580845, 5, 13, 100], [0.36647763751693463, 12, 2, 155], [0.9429109033364939, 11, 2, 96], [0.17229671445501016, 9, 24, 381], [0.7629052455182017, 23, 2, 317], [0.889025651302524, 5, 17, 423], [0.416874565617806, 2, 8, 399], [0.33686422595634136, 1, 30, 445], [0.251002331755819, 28, 5, 437], [0.2869569758851811, 8, 27, 408], [0.4162287649056645, 26, 6, 396], [0.17535234171617853, 15, 21, 170], [0.08581197284442654, 29, 25, 441], [0.5975961302401221, 3, 19, 33], [0.4790226453365256, 19, 21, 193], [0.3115130796554427, 2, 10, 91], [0.5242249197711314, 19, 21, 169], [0.8327119390997982, 15, 3, 8], [0.04329481493932352, 23, 17, 346], [0.9671470464330337, 18, 28, 337], [0.08625551141173893, 15, 6, 329], [0.6789205259986711, 9, 9, 436], [0.7823993376728272, 16, 29, 233], [0.4615786712686357, 7, 1, 435], [0.34958824615858564, 13, 28, 72], [0.3208310563385748, 24, 4, 195], [0.9296027623269881, 24, 7, 466], [0.3950980615691343, 25, 8, 390], [0.009851499759574112, 10, 14, 270], [0.703776375999488, 21, 5, 240], [0.06593029307005194, 26, 5, 191], [0.21306905786710795, 16, 24, 52], [0.43666184274917097, 17, 9, 408], [0.3476365545669632, 23, 26, 150], [0.4401901621576133, 9, 23, 315], [0.927928823691651, 11, 1, 120], [0.4067465736435597, 10, 18, 16], [0.22739144293307267, 4, 1, 232], [0.48660651735117755, 23, 30, 134], [0.16195482885549495, 10, 6, 109], [0.9590317805797257, 20, 19, 282], [0.17888133920099514, 21, 11, 340], [0.3055495941812585, 29, 12, 271], [0.993027768484485, 28, 15, 115], [0.46626382103075925, 25, 28, 441], [0.6497199887857192, 2, 10, 464], [0.15490267300860627, 16, 1, 277], [0.475806866556408, 13, 12, 287], [0.3651546212662149, 20, 1, 86], [0.75791692691044, 23, 17, 368], [0.789047091284597, 8, 14, 87], [0.7897734825468651, 8, 25, 323], [0.4602320453636247, 2, 4, 119], [0.3685398021111088, 3, 19, 192], [0.38342257158105375, 18, 28, 5], [0.9324226021432107, 12, 15, 406], [0.011245569236805308, 13, 17, 42], [0.08869635831888578, 5, 26, 386], [0.36558005993512566, 22, 15, 69], [0.392984678244915, 22, 18, 129], [0.34014213062577425, 26, 24, 210], [0.17344648335238122, 30, 14, 371], [0.4093650259614031, 14, 2, 14], [0.948294076953384, 15, 23, 136], [0.2475419091251373, 12, 19, 451], [0.3483333808017667, 23, 5, 180], [0.09237328952426682, 21, 17, 356], [0.6199338233571531, 7, 3, 66], [0.845792325894778, 20, 28, 450], [0.49154392683159254, 19, 7, 374], [0.9172023659925789, 16, 6, 148], [0.18790252587059308, 2, 23, 397], [0.5157678705619807, 19, 20, 398], [0.8920069554668786, 3, 16, 394], [0.3193564985867625, 26, 15, 124], [0.3933721877569969, 14, 28, 212], [0.332598279044352, 28, 9, 350], [0.6174676791544415, 20, 7, 97], [0.7082960399733926, 19, 19, 416], [0.9832903707734556, 8, 14, 410], [0.3433390776242986, 30, 29, 55], [0.5059151937846156, 1, 1, 202], [0.5739017496618954, 2, 12, 366], [0.15623383263127466, 17, 3, 498], [0.14035368969348272, 10, 29, 355], [0.9905586332268262, 28, 12, 321], [0.2919237360232124, 9, 15, 401], [0.38748547478816486, 13, 13, 217]]\n"
     ]
    }
   ],
   "source": [
    "print (chromossomes)"
   ]
  },
  {
   "cell_type": "code",
   "execution_count": null,
   "metadata": {},
   "outputs": [],
   "source": []
  }
 ],
 "metadata": {
  "kernelspec": {
   "display_name": "Python 3",
   "language": "python",
   "name": "python3"
  },
  "language_info": {
   "codemirror_mode": {
    "name": "ipython",
    "version": 3
   },
   "file_extension": ".py",
   "mimetype": "text/x-python",
   "name": "python",
   "nbconvert_exporter": "python",
   "pygments_lexer": "ipython3",
   "version": "3.6.5"
  }
 },
 "nbformat": 4,
 "nbformat_minor": 2
}
