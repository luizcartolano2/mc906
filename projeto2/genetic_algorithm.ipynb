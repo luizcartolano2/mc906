{
 "cells": [
  {
   "cell_type": "markdown",
   "metadata": {},
   "source": [
    "# FALTA FAZER:\n",
    "1. criterio de selecao\n",
    "2. algoritmo genetico em si"
   ]
  },
  {
   "cell_type": "code",
   "execution_count": null,
   "metadata": {},
   "outputs": [],
   "source": [
    "# import das bibliotecas\n",
    "import os\n",
    "import pandas as pd\n",
    "import random\n",
    "from greedy_filter import *"
   ]
  },
  {
   "cell_type": "code",
   "execution_count": null,
   "metadata": {},
   "outputs": [],
   "source": [
    "# definicao das constantes\n",
    "PATH_EXCEL = os.getcwd() + '/excel_files/'"
   ]
  },
  {
   "cell_type": "markdown",
   "metadata": {},
   "source": [
    "Estruturas que irao armazenar os dataframes com o histórico de preços das ações.\n",
    "1. dict_excels: dicionario onde a chave é o nome da ação e o valor da chave é o dataframe\n",
    "2. filenames: lista com o nome dos arquivos\n",
    "3. excels: lista com os dataframes"
   ]
  },
  {
   "cell_type": "code",
   "execution_count": null,
   "metadata": {},
   "outputs": [],
   "source": [
    "dict_excels = {}\n",
    "filenames = []\n",
    "excels = []\n",
    "for filename in os.listdir(PATH_EXCEL):\n",
    "    filenames.append(filename[:filename.find('.')])\n",
    "    excels.append(pd.read_excel(PATH_EXCEL + filename).sort_values(by=['Exchange Date']).reset_index(drop=True))\n",
    "    dict_excels[filename[:filename.find('.')]] = (pd.read_excel(PATH_EXCEL + filename).sort_values(by=['Exchange Date']).reset_index(drop=True))"
   ]
  },
  {
   "cell_type": "markdown",
   "metadata": {},
   "source": [
    "## Modelagem do problema\n",
    "### Algoritmo Genético 1 - Escolha dos Parâmetros das Regras de Filtro\n",
    "1. Gene: cada um dos parâmetros do filtro\n",
    "    1. x - porcentagem de variação: porcentagem acima/abaixo da ultima subida ou queda\n",
    "       1. varia de 0 a 1\n",
    "       2. varia de 0.01 a 0.10\n",
    "    2. h - hold days: após um sinal de compra/venda esperamos por h dias\n",
    "       1. varia de 1 até o número de dias entre a data atual e a data onde acabam as informacoes\n",
    "       2. varia de 1 até 30\n",
    "    3. d - delay days: após receber um sinal ignora-se os próximos d dias\n",
    "       1. varia de 1 até o número de dias entre a data atual e a data onde acabam as informacoes\n",
    "       2. varia de 1 até 30\n",
    "    4. p - previous days: olha-se p dias para tomar uma decisão\n",
    "       1. varia de 0 até o número de dias transcorridos até o momento\n",
    "       2. varia de 30 até o número máximo de dias\n",
    "2. Cromossomo: conjunto de parâmetros\n",
    "    1. Estrutura usada: lista com os parâmetros &rarr; [x, h, d, p]\n",
    "3. População: conjunto de cromossomos\n",
    "    1. Tamanho da População:\n",
    "4. Mutação:\n",
    "    1. taxa de mutação:\n",
    "5. Crossover:\n",
    "    1. taxa de crossover:\n",
    "6. Critério de Parada:\n",
    "7. Seleção:\n",
    "    1. Fitness: cálculo do lucro obtido por cada cromossomo\n",
    "    2. Técnica de Seleção:\n",
    "        1. Técnica 1:\n",
    "        2. Técnica 2:"
   ]
  },
  {
   "cell_type": "markdown",
   "metadata": {},
   "source": [
    "Funções para realizar o crossover entre dois cromossomos"
   ]
  },
  {
   "cell_type": "code",
   "execution_count": null,
   "metadata": {},
   "outputs": [],
   "source": [
    "def crossover(chromosome1, chromosome2):\n",
    "    \"\"\"\n",
    "        Funcao para realizar o crossover entre dois cromossomos\n",
    "        :param: chromosome1 - cromossomo pai\n",
    "        :param: chromosome2 - cromossomo mae\n",
    "        :return: new_chromosome1 - primeiro filho gerado no crossover\n",
    "        :return: new_chromosome2 - segundo filho gerado no crossover\n",
    "    \"\"\"\n",
    "    # escolhe um gene aleatorio para realizar o crossover\n",
    "    rand = random.randint(1,len(chromosome1) - 1)\n",
    "\n",
    "    # gera os dois novos cromossomos\n",
    "    new_chromosome1 = chromosome1[:rand] + chromosome2[rand:]\n",
    "    new_chromosome2 = chromosome2[:rand] + chromosome1[rand:]\n",
    "    \n",
    "    return new_chromosome1, new_chromosome2\n",
    "\n",
    "def crossover2(chromosome1, chromosome2):\n",
    "    \"\"\"\n",
    "        Funcao para realizar o crossover entre dois cromossomos com 2 pontos de corte\n",
    "        :param: chromosome1 - cromossomo pai\n",
    "        :param: chromosome2 - cromossomo mae\n",
    "        :return: new_chromosome1 - primeiro filho gerado no crossover\n",
    "        :return: new_chromosome2 - segundo filho gerado no crossover\n",
    "    \"\"\"\n",
    "    # escolhe um gene aleatorio para realizar o crossover\n",
    "    rand = random.randint(1,len(chromosome1) - 2)\n",
    "    rand2 = random.randint(rand+1, len(chromosome1) - 1)\n",
    "    # gera os dois novos cromossomos\n",
    "    new_chromosome1 = chromosome1[:rand] + chromosome2[rand:rand2] + chromosome1[rand2:]\n",
    "    new_chromosome2 = chromosome2[:rand] + chromosome1[rand:rand2] + chromosome2[rand2:]\n",
    "    \n",
    "    return new_chromosome1, new_chromosome2"
   ]
  },
  {
   "cell_type": "markdown",
   "metadata": {},
   "source": [
    "Funções para realizar a mutação de um cromossomo"
   ]
  },
  {
   "cell_type": "code",
   "execution_count": null,
   "metadata": {},
   "outputs": [],
   "source": [
    "def mutation(chromossome, today_index, last_day_index):\n",
    "    \"\"\"\n",
    "        Funcao para realizar a mutacao de um dado cromossomo\n",
    "        :param: chromossome - cromossomo que ira passar pelo processo de mutacao\n",
    "        :param: today_index - indice da tabela referente a data atual da acao\n",
    "        :param: last_day_index - indice da tabela referente a ultima data da qual se tem informacao da acao\n",
    "        :return: new_chromossome - novo cromossomo apos o processo de mutacao\n",
    "    \"\"\"\n",
    "    # faz a copia do cromossomo original\n",
    "    new_chromossome = chromossome\n",
    "    \n",
    "    # escolhe, aleatoriamente, um gene para ser alterado\n",
    "    gene_position = random.randint(0,len(chromossome) - 1)\n",
    "    \n",
    "    # modifica o gene escolhido seguindo, como unica regra, os valores que ele pode assumir\n",
    "    if gene_position == 0:\n",
    "        new_chromossome[0] = random.random()\n",
    "    elif gene_position == 1:\n",
    "        new_chromossome[1] = random.randint(0, last_day_index - today_index)\n",
    "    elif gene_position == 2:\n",
    "        new_chromossome[2] = random.randint(0, last_day_index - today_index)\n",
    "    elif gene_position == 3:\n",
    "        new_chromossome[3] = random.randint(0, today_index)\n",
    "    else:\n",
    "        raise Exception('Gene inexistente no cromossomo!')\n",
    "        \n",
    "    return new_chromossome\n",
    "\n",
    "def mutation_v2(chromossome):\n",
    "    \"\"\"\n",
    "        Funcao para realizar a mutacao de um dado cromossomo\n",
    "        :param: chromossome - cromossomo que ira passar pelo processo de mutacao\n",
    "        :return: new_chromossome - novo cromossomo apos o processo de mutacao\n",
    "    \"\"\"\n",
    "    # faz a copia do cromossomo original\n",
    "    new_chromossome = chromossome\n",
    "    \n",
    "    # escolhe, aleatoriamente, um gene para ser alterado\n",
    "    gene_position = random.randint(0,len(chromossome) - 1)\n",
    "    \n",
    "    # modifica o gene escolhido seguindo, como unica regra, os valores que ele pode assumir\n",
    "    if gene_position == 0:\n",
    "        new_chromossome[0] = random.uniform(0.01,0.10)\n",
    "    elif gene_position == 1:\n",
    "        new_chromossome[1] = random.randint(1,30)\n",
    "    elif gene_position == 2:\n",
    "        new_chromossome[2] = random.randint(1,30)\n",
    "    elif gene_position == 3:\n",
    "        new_chromossome[3] = random.randint(30,500)\n",
    "    else:\n",
    "        raise Exception('Gene inexistente no cromossomo!')\n",
    "        \n",
    "    return new_chromossome"
   ]
  },
  {
   "cell_type": "markdown",
   "metadata": {},
   "source": [
    "Função para realizar a inicialização randômica de uma população"
   ]
  },
  {
   "cell_type": "code",
   "execution_count": null,
   "metadata": {},
   "outputs": [],
   "source": [
    "def create_population(population_size):\n",
    "    \"\"\"\n",
    "        Funcao para criar uma populacao randomica de cromossomos\n",
    "        :param: population_size - tamanho da populacao que sera criada\n",
    "        :return: population - nova populacao\n",
    "    \"\"\"\n",
    "    population = []\n",
    "    for i in range(0, population_size):\n",
    "        population.append([random.uniform(0,0.1), random.randint(1,30), random.randint(1,30), random.randint(1,500)])\n",
    "        \n",
    "    return population"
   ]
  },
  {
   "cell_type": "code",
   "execution_count": null,
   "metadata": {},
   "outputs": [],
   "source": [
    "def fitness(np_array, chromossomes, budget):\n",
    "    \"\"\"\n",
    "        Funcao para calcular o lucro de cada um dos cromossomos de uma dada populacao\n",
    "        :param: np_array - conjunto de dados de determinada acao\n",
    "        :param: chromossomes - lista de cromossomos que sera avaliada\n",
    "        :param: budget - dinheiro inicial do problema\n",
    "        :return: fit_chromossomes - matriz com os cromossomos e o lucro(em porcentagem) obtido por eles\n",
    "    \"\"\"\n",
    "    fit_chromossomes = []\n",
    "    for chromossome in chromossomes:\n",
    "        money = greedy_filter_rule(np_array, chromossome, budget)\n",
    "        fit_chromossomes.append([chromossome, (money-budget)/budget])\n",
    "        \n",
    "    return fit_chromossomes"
   ]
  },
  {
   "cell_type": "code",
   "execution_count": null,
   "metadata": {},
   "outputs": [],
   "source": [
    "np_array = excels[0].values\n",
    "chromossomes = create_population(10)\n",
    "budget = 10000\n",
    "array_with_fitness = fitness(np_array, chromossomes, budget)"
   ]
  },
  {
   "cell_type": "code",
   "execution_count": null,
   "metadata": {},
   "outputs": [],
   "source": [
    "array_with_fitness.sort(key=lambda x: x[1], reverse = True)\n",
    "print (array_with_fitness)"
   ]
  },
  {
   "cell_type": "code",
   "execution_count": null,
   "metadata": {},
   "outputs": [],
   "source": [
    "def generate_children(old_generation, crossover_function):\n",
    "    size_generation = len(old_generation)\n",
    "    children = []\n",
    "    for i in range (size_generation):\n",
    "        for j in range (i+1, size_generation):\n",
    "            new_chromossome1, new_chromossome2 = crossover_function(old_generation[i], old_generation[j])\n",
    "            children.append(new_chromossome1)\n",
    "            children.append(new_chromossome2)\n",
    "    return children"
   ]
  },
  {
   "cell_type": "code",
   "execution_count": null,
   "metadata": {
    "scrolled": true
   },
   "outputs": [],
   "source": [
    "print(chromossomes[:10])\n",
    "b = generate_children(chromossomes[:10], crossover2)\n",
    "c = b + chromossomes[:10]"
   ]
  },
  {
   "cell_type": "code",
   "execution_count": null,
   "metadata": {},
   "outputs": [],
   "source": [
    "def selection(stock_value, list_chromossomes, budget, cut_size):\n",
    "    fitness_array = fitness(stock_value, list_chromossomes, budget)\n",
    "    fitness_array.sort(key=lambda x: x[1], reverse = True)\n",
    "    new_generation = []\n",
    "    for i in range (0,cut_size):\n",
    "        new_generation.append(fitness_array[i][0])\n",
    "    return new_generation, fitness_array[:cut_size]"
   ]
  },
  {
   "cell_type": "code",
   "execution_count": null,
   "metadata": {
    "scrolled": true
   },
   "outputs": [],
   "source": [
    "# number_to_combine = 10 # número \"n\" que serão combinados 2 a 2 para gerar a nova geração\n",
    "# len_next_generation = 10 # tamanho que definimos para a proxima geração\n",
    "# percentage_new_generation = 0.9 # porcentagem máxima da nova geracao que será por crossover"
   ]
  },
  {
   "cell_type": "code",
   "execution_count": null,
   "metadata": {},
   "outputs": [],
   "source": [
    "d,e = selection(np_array, c, 10000, 10)"
   ]
  },
  {
   "cell_type": "code",
   "execution_count": null,
   "metadata": {},
   "outputs": [],
   "source": [
    "print (d)"
   ]
  },
  {
   "cell_type": "code",
   "execution_count": null,
   "metadata": {},
   "outputs": [],
   "source": [
    "print(e)"
   ]
  }
 ],
 "metadata": {
  "kernelspec": {
   "display_name": "Python 3",
   "language": "python",
   "name": "python3"
  },
  "language_info": {
   "codemirror_mode": {
    "name": "ipython",
    "version": 3
   },
   "file_extension": ".py",
   "mimetype": "text/x-python",
   "name": "python",
   "nbconvert_exporter": "python",
   "pygments_lexer": "ipython3",
   "version": "3.6.5"
  }
 },
 "nbformat": 4,
 "nbformat_minor": 2
}
