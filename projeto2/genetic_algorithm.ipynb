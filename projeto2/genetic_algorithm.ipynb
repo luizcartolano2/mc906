{
 "cells": [
  {
   "cell_type": "markdown",
   "metadata": {},
   "source": [
    "# Falta fazer\n",
    "## Relatório\n",
    "## Documentação"
   ]
  },
  {
   "cell_type": "code",
   "execution_count": 1,
   "metadata": {},
   "outputs": [],
   "source": [
    "# import das bibliotecas\n",
    "import os\n",
    "import pandas as pd\n",
    "import random\n",
    "import time\n",
    "from greedy_filter import *\n",
    "from math import inf\n",
    "import numpy as np\n",
    "import matplotlib.pyplot as plt\n",
    "from sklearn import linear_model"
   ]
  },
  {
   "cell_type": "code",
   "execution_count": 2,
   "metadata": {},
   "outputs": [],
   "source": [
    "# definicao das constantes\n",
    "PATH_EXCEL = os.getcwd() + '/excel_files/'"
   ]
  },
  {
   "cell_type": "markdown",
   "metadata": {},
   "source": [
    "Estruturas que irao armazenar os dataframes com o histórico de preços das ações.\n",
    "1. dict_excels: dicionario onde a chave é o nome da ação e o valor da chave é o dataframe\n",
    "2. filenames: lista com o nome dos arquivos\n",
    "3. excels: lista com os dataframes"
   ]
  },
  {
   "cell_type": "code",
   "execution_count": 3,
   "metadata": {},
   "outputs": [],
   "source": [
    "dict_excels = {}\n",
    "filenames = []\n",
    "excels = []\n",
    "for filename in os.listdir(PATH_EXCEL):\n",
    "    filenames.append(filename[:filename.find('.')])\n",
    "    excels.append(pd.read_excel(PATH_EXCEL + filename).sort_values(by=['Exchange Date']).reset_index(drop=True))\n",
    "    dict_excels[filename[:filename.find('.')]] = (pd.read_excel(PATH_EXCEL + filename).sort_values(by=['Exchange Date']).reset_index(drop=True))"
   ]
  },
  {
   "cell_type": "markdown",
   "metadata": {},
   "source": [
    "## Modelagem do problema\n",
    "### Algoritmo Genético 1 - Escolha dos Parâmetros das Regras de Filtro\n",
    "1. Gene: cada um dos parâmetros do filtro\n",
    "    1. x - porcentagem de variação: porcentagem acima/abaixo da ultima subida ou queda\n",
    "       1. varia de 0 a 1\n",
    "       2. varia de 0.01 a 0.10\n",
    "    2. h - hold days: após um sinal de compra/venda esperamos por h dias\n",
    "       1. varia de 1 até o número de dias entre a data atual e a data onde acabam as informacoes\n",
    "       2. varia de 1 até 30\n",
    "    3. d - delay days: após receber um sinal ignora-se os próximos d dias\n",
    "       1. varia de 1 até o número de dias entre a data atual e a data onde acabam as informacoes\n",
    "       2. varia de 1 até 30\n",
    "    4. p - previous days: olha-se p dias para tomar uma decisão\n",
    "       1. varia de 0 até o número de dias transcorridos até o momento\n",
    "       2. varia de 30 até o número máximo de dias\n",
    "2. Cromossomo: conjunto de parâmetros\n",
    "    1. Estrutura usada: lista com os parâmetros &rarr; [x, h, d, p]\n",
    "3. População: conjunto de cromossomos\n",
    "    1. Tamanho da População:\n",
    "4. Mutação:\n",
    "    1. taxa de mutação:\n",
    "5. Crossover:\n",
    "    1. taxa de crossover:\n",
    "6. Critério de Parada:\n",
    "7. Seleção:\n",
    "    1. Fitness: cálculo do lucro obtido por cada cromossomo\n",
    "    2. Técnica de Seleção:\n",
    "        1. Técnica 1:\n",
    "        2. Técnica 2:"
   ]
  },
  {
   "cell_type": "markdown",
   "metadata": {},
   "source": [
    "Funções para realizar o crossover entre dois cromossomos"
   ]
  },
  {
   "cell_type": "code",
   "execution_count": 4,
   "metadata": {},
   "outputs": [],
   "source": [
    "def crossover(chromosome1, chromosome2):\n",
    "    \"\"\"\n",
    "        Funcao para realizar o crossover entre dois cromossomos\n",
    "        :param: chromosome1 - cromossomo pai\n",
    "        :param: chromosome2 - cromossomo mae\n",
    "        :return: new_chromosome1 - primeiro filho gerado no crossover\n",
    "        :return: new_chromosome2 - segundo filho gerado no crossover\n",
    "    \"\"\"\n",
    "    # escolhe um gene aleatorio para realizar o crossover\n",
    "    rand = random.randint(1,len(chromosome1) - 1)\n",
    "\n",
    "    # gera os dois novos cromossomos\n",
    "    new_chromosome1 = chromosome1[:rand] + chromosome2[rand:]\n",
    "    new_chromosome2 = chromosome2[:rand] + chromosome1[rand:]\n",
    "    \n",
    "    return new_chromosome1, new_chromosome2\n",
    "\n",
    "def crossover2(chromosome1, chromosome2):\n",
    "    \"\"\"\n",
    "        Funcao para realizar o crossover entre dois cromossomos com 2 pontos de corte\n",
    "        :param: chromosome1 - cromossomo pai\n",
    "        :param: chromosome2 - cromossomo mae\n",
    "        :return: new_chromosome1 - primeiro filho gerado no crossover\n",
    "        :return: new_chromosome2 - segundo filho gerado no crossover\n",
    "    \"\"\"\n",
    "    # escolhe um gene aleatorio para realizar o crossover\n",
    "    rand = random.randint(1,len(chromosome1) - 2)\n",
    "    rand2 = random.randint(rand+1, len(chromosome1) - 1)\n",
    "    # gera os dois novos cromossomos\n",
    "    new_chromosome1 = chromosome1[:rand] + chromosome2[rand:rand2] + chromosome1[rand2:]\n",
    "    new_chromosome2 = chromosome2[:rand] + chromosome1[rand:rand2] + chromosome2[rand2:]\n",
    "    \n",
    "    return new_chromosome1, new_chromosome2"
   ]
  },
  {
   "cell_type": "markdown",
   "metadata": {},
   "source": [
    "Funções para realizar a mutação de um cromossomo"
   ]
  },
  {
   "cell_type": "code",
   "execution_count": 5,
   "metadata": {},
   "outputs": [],
   "source": [
    "def mutation(chromossome):\n",
    "    \"\"\"\n",
    "        Funcao para realizar a mutacao de um dado cromossomo\n",
    "        :param: chromossome - cromossomo que ira passar pelo processo de mutacao\n",
    "        :param: today_index - indice da tabela referente a data atual da acao\n",
    "        :param: last_day_index - indice da tabela referente a ultima data da qual se tem informacao da acao\n",
    "        :return: new_chromossome - novo cromossomo apos o processo de mutacao\n",
    "    \"\"\"\n",
    "    # faz a copia do cromossomo original\n",
    "    new_chromossome = chromossome\n",
    "    \n",
    "    # escolhe, aleatoriamente, um gene para ser alterado\n",
    "    gene_initial_position = random.randint(0,len(chromossome) - 1)\n",
    "    gene_final_position = random.randint(gene_initial_position, len(chromossome) - 1)\n",
    "    \n",
    "    # modifica o conjunto de genes escolhidos seguindo, como unica regra, os valores que eles podem assumir\n",
    "    for i in range(gene_initial_position, gene_final_position + 1):\n",
    "        if i == 0:\n",
    "            new_chromossome[0] = random.uniform(0.01,0.10)\n",
    "        elif i == 1:\n",
    "            new_chromossome[1] = random.randint(1,30)\n",
    "        elif i == 2:\n",
    "            new_chromossome[2] = random.randint(1,30)\n",
    "        elif i == 3:\n",
    "            new_chromossome[3] = random.randint(30,500)\n",
    "        else:\n",
    "            raise Exception('Gene inexistente no cromossomo!')\n",
    "        \n",
    "    return new_chromossome\n",
    "\n",
    "def mutation_v2(chromossome):\n",
    "    \"\"\"\n",
    "        Funcao para realizar a mutacao de um dado cromossomo\n",
    "        :param: chromossome - cromossomo que ira passar pelo processo de mutacao\n",
    "        :return: new_chromossome - novo cromossomo apos o processo de mutacao\n",
    "    \"\"\"\n",
    "    # faz a copia do cromossomo original\n",
    "    new_chromossome = chromossome\n",
    "    \n",
    "    # escolhe, aleatoriamente, um gene para ser alterado\n",
    "    gene_position = random.randint(0,len(chromossome) - 1)\n",
    "    \n",
    "    # modifica o gene escolhido seguindo, como unica regra, os valores que ele pode assumir\n",
    "    if gene_position == 0:\n",
    "        new_chromossome[0] = random.uniform(0.01,0.10)\n",
    "    elif gene_position == 1:\n",
    "        new_chromossome[1] = random.randint(1,30)\n",
    "    elif gene_position == 2:\n",
    "        new_chromossome[2] = random.randint(1,30)\n",
    "    elif gene_position == 3:\n",
    "        new_chromossome[3] = random.randint(30,500)\n",
    "    else:\n",
    "        raise Exception('Gene inexistente no cromossomo!')\n",
    "        \n",
    "    return new_chromossome"
   ]
  },
  {
   "cell_type": "markdown",
   "metadata": {},
   "source": [
    "Função para realizar a inicialização randômica de uma população"
   ]
  },
  {
   "cell_type": "code",
   "execution_count": 6,
   "metadata": {},
   "outputs": [],
   "source": [
    "def create_population(population_size):\n",
    "    \"\"\"\n",
    "        Funcao para criar uma populacao randomica de cromossomos\n",
    "        :param: population_size - tamanho da populacao que sera criada\n",
    "        :return: population - nova populacao\n",
    "    \"\"\"\n",
    "    population = []\n",
    "    for i in range(0, population_size):\n",
    "        population.append([random.uniform(0,0.1), random.randint(1,30), random.randint(1,30), random.randint(1,500)])\n",
    "        \n",
    "    return population"
   ]
  },
  {
   "cell_type": "code",
   "execution_count": 7,
   "metadata": {},
   "outputs": [],
   "source": [
    "def fitness(np_array, chromossomes, budget):\n",
    "    \"\"\"\n",
    "        Funcao para calcular o lucro de cada um dos cromossomos de uma dada populacao\n",
    "        :param: np_array - conjunto de dados de determinada acao\n",
    "        :param: chromossomes - lista de cromossomos que sera avaliada\n",
    "        :param: budget - dinheiro inicial do problema\n",
    "        :return: fit_chromossomes - matriz com os cromossomos e o lucro(em porcentagem) obtido por eles\n",
    "    \"\"\"\n",
    "    fit_chromossomes = []\n",
    "    for chromossome in chromossomes:\n",
    "        money = greedy_filter_rule(np_array, chromossome, budget)\n",
    "        fit_chromossomes.append([chromossome, (money-budget)/budget])\n",
    "        \n",
    "    return fit_chromossomes"
   ]
  },
  {
   "cell_type": "code",
   "execution_count": 8,
   "metadata": {},
   "outputs": [],
   "source": [
    "def selection(stock_value, list_chromossomes, budget, cut_size):\n",
    "    \"\"\"\n",
    "        :param: stock_value - \n",
    "        :param: list_chromossomes - \n",
    "        :param: budget - \n",
    "        :param: cut_size - \n",
    "        \n",
    "        :return: new_generation - \n",
    "        :return: fitness_array - \n",
    "    \"\"\"\n",
    "    fitness_array = fitness(stock_value, list_chromossomes, budget)\n",
    "    fitness_array.sort(key=lambda x: x[1], reverse = True)\n",
    "    new_generation = []\n",
    "    for i in range (0,cut_size):\n",
    "        new_generation.append(fitness_array[i][0])\n",
    "    return new_generation, fitness_array[:cut_size]"
   ]
  },
  {
   "cell_type": "code",
   "execution_count": 9,
   "metadata": {},
   "outputs": [],
   "source": [
    "def roulette_selection(stock_value, list_chromossomes, budget, cut_size):\n",
    "    \"\"\"\n",
    "        :param: stock_value - \n",
    "        :param: list_chromossomes - \n",
    "        :param: budget - \n",
    "        :param: cut_size - \n",
    "        \n",
    "        :return: new_population - \n",
    "        :return: cut_size - \n",
    "    \"\"\"\n",
    "    fitness_array = fitness(stock_value, list_chromossomes, budget)\n",
    "    fitness_array = linear_normalization(fitness_array)\n",
    "\n",
    "    adds_skills = 0\n",
    "    for fit in fitness_array:\n",
    "        adds_skills = adds_skills + fit[1]\n",
    "    \n",
    "    new_population = []\n",
    "    for i in range(cut_size):\n",
    "        r = random.uniform(0, adds_skills)\n",
    "        temp_soma = 0\n",
    "        for fit in fitness_array:\n",
    "            temp_soma = temp_soma + fit[1]\n",
    "            if temp_soma >= r:\n",
    "                new_population.append(fit[0])\n",
    "                break\n",
    "    return new_population, fitness(stock_value, new_population, budget)"
   ]
  },
  {
   "cell_type": "code",
   "execution_count": 10,
   "metadata": {},
   "outputs": [],
   "source": [
    "def stop_criterion(old_population, new_population, limit_to_converge):\n",
    "    \"\"\"\n",
    "        :param: old_population - populacao ao iniciar a iteracao\n",
    "        :param: new_population - populacao ao fim da iteracao\n",
    "        :param: limit_to_converge - limiar abaixo do qual iremos considerar que ambas as pop convergem\n",
    "\n",
    "        :return: True se for para parar, False c.c.\n",
    "    \"\"\"\n",
    "    soma_old = 0\n",
    "    for x in old_population:\n",
    "        soma_old = soma_old + x[1]\n",
    "\n",
    "    soma_new = 0\n",
    "    for x in new_population:\n",
    "        soma_new = soma_new + x[1]\n",
    "    \n",
    "    media_old = soma_old / len(old_population)\n",
    "    media_new = soma_new / len(new_population)\n",
    "    \n",
    "    if abs(media_new - media_old) < limit_to_converge:\n",
    "        return True\n",
    "    else:\n",
    "        return False"
   ]
  },
  {
   "cell_type": "code",
   "execution_count": 11,
   "metadata": {},
   "outputs": [],
   "source": [
    "def generate_children(old_generation, crossover_function, crossover_rate):\n",
    "    \"\"\"\n",
    "        :param: old_generation - \n",
    "        :param: crossover_function - \n",
    "        :param: crossover_rate - \n",
    "        \n",
    "        :return: children - \n",
    "    \"\"\"\n",
    "    size_generation = len(old_generation)\n",
    "    number_to_crossover = int(size_generation * crossover_rate)\n",
    "    random.shuffle(old_generation)\n",
    "    children = []\n",
    "    for i in range (number_to_crossover):\n",
    "        for j in range (i+1, number_to_crossover):\n",
    "            new_chromossome1, new_chromossome2 = crossover_function(old_generation[i], old_generation[j])\n",
    "            children.append(new_chromossome1)\n",
    "            children.append(new_chromossome2)\n",
    "    return children"
   ]
  },
  {
   "cell_type": "code",
   "execution_count": 12,
   "metadata": {},
   "outputs": [],
   "source": [
    "def mutation_chromossome(chromossomes, mutation_function, mutation_rate):\n",
    "    \"\"\"\n",
    "        :param: chromossomes - \n",
    "        :param: mutation_function - \n",
    "        :param: mutation_rate - \n",
    "        \n",
    "        :return: chromossomes - \n",
    "    \"\"\"\n",
    "    number_chromossomes_to_mutate = int(len(chromossomes) * mutation_rate)\n",
    "    random.shuffle(chromossomes)\n",
    "    for i in range (0,number_chromossomes_to_mutate):\n",
    "        chromossomes[i] = mutation_function(chromossomes[i])\n",
    "    return chromossomes\n",
    "    "
   ]
  },
  {
   "cell_type": "code",
   "execution_count": 20,
   "metadata": {},
   "outputs": [],
   "source": [
    "def evolutionary_strategy1(stock_values, first_population, budget, crossover_function, mutation_func,delta, mutation_rate, crossover_rate, min_iteration_converge):\n",
    "    \"\"\"\n",
    "        :param: stock_values - \n",
    "        :param: first_population - \n",
    "        :param: budget - \n",
    "        :param: crossover_function - \n",
    "        :param: delta -\n",
    "        \n",
    "        :return: old_population - \n",
    "    \"\"\"\n",
    "    flag = False\n",
    "    iteration = 0\n",
    "    old_population = first_population\n",
    "    while (not flag):\n",
    "        fitness_old_population = fitness(stock_values, old_population, budget)\n",
    "        children = generate_children(first_population, crossover_function, crossover_rate)\n",
    "        parents_and_children = old_population + children\n",
    "        chromossomes_parents_children_mutated = mutation_chromossome(parents_and_children, mutation_func, mutation_rate)\n",
    "        new_population, fitness_new_population = selection(stock_values, chromossomes_parents_children_mutated, budget, len(old_population))\n",
    "        flag = (stop_criterion(fitness_old_population, fitness_new_population, delta) and iteration > min_iteration_converge)\n",
    "        iteration = iteration + 1\n",
    "        old_population = new_population\n",
    "    return old_population\n",
    "        "
   ]
  },
  {
   "cell_type": "code",
   "execution_count": 14,
   "metadata": {},
   "outputs": [],
   "source": [
    "def linear_normalization(fitness_population, increment=20):\n",
    "    pop_size = len(fitness_population)\n",
    "    fitness_population = sorted(fitness_population, key=lambda x: x[1], reverse = False)\n",
    "    min_value = 1\n",
    "    max_value = 201\n",
    "    normalized_fitness = []\n",
    "    for i in range(pop_size):\n",
    "        temp_fit = min_value + ((max_value - min_value)/(pop_size - 1)) * (i)\n",
    "        normalized_fitness.append([fitness_population[i][0],temp_fit])\n",
    "    \n",
    "    return normalized_fitness"
   ]
  },
  {
   "cell_type": "code",
   "execution_count": 15,
   "metadata": {},
   "outputs": [],
   "source": [
    "def evolutionary_strategy2(stock_values, first_population, budget, crossover_function, mutation_func,delta, mutation_rate, crossover_rate, min_iteration_converge):\n",
    "    \"\"\"\n",
    "        :param: stock_values - \n",
    "        :param: first_population - \n",
    "        :param: budget - \n",
    "        :param: crossover_function - \n",
    "        :param: mutation_func - \n",
    "        :param: delta -\n",
    "        \n",
    "        :return: old_population - \n",
    "    \"\"\"\n",
    "    flag = False\n",
    "    iteration = 0\n",
    "    old_population = first_population\n",
    "    while (not flag):\n",
    "        fitness_old_population = fitness(stock_values, old_population, budget)\n",
    "        children = generate_children(first_population, crossover_function, crossover_rate)\n",
    "        parents_and_children = old_population + children\n",
    "        chromossomes_parents_children_mutated = mutation_chromossome(parents_and_children, mutation_func, mutation_rate)\n",
    "        chromossomes_parents_children_mutated = random.sample(chromossomes_parents_children_mutated, len(chromossomes_parents_children_mutated))\n",
    "        new_population, fitness_new_population = roulette_selection(stock_values, chromossomes_parents_children_mutated, budget, len(old_population))\n",
    "        flag = (stop_criterion(fitness_old_population, fitness_new_population, delta) and iteration > min_iteration_converge)\n",
    "        iteration = iteration + 1\n",
    "        old_population = new_population\n",
    "    return old_population\n",
    "\n"
   ]
  },
  {
   "cell_type": "markdown",
   "metadata": {},
   "source": [
    "# Let's play - Igor"
   ]
  },
  {
   "cell_type": "markdown",
   "metadata": {},
   "source": [
    "## Primeiro conjunto de testes"
   ]
  },
  {
   "cell_type": "markdown",
   "metadata": {},
   "source": [
    "### Variaveis que serão usadas para a primeira população\n",
    "Para as ações da Alphabet serão testados:\n",
    "1. Dados Fixos:\n",
    "    1. Budget &rarr; 10.000,00\n",
    "    2. Delta para considerar convergência &rarr; 0.01\n",
    "2. Dados variáveis:\n",
    "    1. População:\n",
    "        1. Para uma população de 100 e outra de 1000, testamos:\n",
    "            1. Duas funções de Crossover:\n",
    "                1. Taxa de Crossover &rarr; 0.3\n",
    "                2. Taxa de Crossover &rarr; 0.8\n",
    "            2. Duas funções de Mutação:\n",
    "                1. Taxa de Mutação &rarr; 0.3\n",
    "                2. Taxa de Mutação &rarr; 0.8\n"
   ]
  },
  {
   "cell_type": "markdown",
   "metadata": {},
   "source": [
    "#### Primeira iteração:\n",
    "1. População &rarr; 100\n",
    "2. Budget &rarr; 10.000\n",
    "3. Delta &rarr; 0.01\n",
    "4. Crossover &rarr; crossover\n",
    "    1. Taxa &rarr; 0.3\n",
    "5. Mutação &rarr; mutation\n",
    "    1. Taxa &rarr; 0.3"
   ]
  },
  {
   "cell_type": "markdown",
   "metadata": {},
   "source": [
    "Dados fixos que serão usados para todas as iterações de 100 cromossomos"
   ]
  },
  {
   "cell_type": "code",
   "execution_count": 16,
   "metadata": {},
   "outputs": [],
   "source": [
    "population_len = 100\n",
    "budget = 10000\n",
    "delta_to_converge = 0.01\n",
    "min_iteration_converget = 3\n",
    "np_array = excels[5].values # Irá utilizar a primeira lista de valores da bolsa\n",
    "chromossomes = create_population(population_len)"
   ]
  },
  {
   "cell_type": "markdown",
   "metadata": {},
   "source": [
    "Aplicação da estratégia evolucionária"
   ]
  },
  {
   "cell_type": "code",
   "execution_count": 17,
   "metadata": {},
   "outputs": [],
   "source": [
    "# Dados variáveis\n",
    "mutation_rate = 0.3\n",
    "crossover_rate = 0.3"
   ]
  },
  {
   "cell_type": "code",
   "execution_count": null,
   "metadata": {},
   "outputs": [],
   "source": [
    "begin_time = time.time()\n",
    "best_chromossomes_temp = evolutionary_strategy1(np_array, chromossomes, budget, crossover, mutation, delta_to_converge, mutation_rate, crossover_rate, min_iteration_converget)\n",
    "print (\"Tempo para convergir: \", round(time.time() - begin_time, 2), \"segundos\")"
   ]
  },
  {
   "cell_type": "markdown",
   "metadata": {},
   "source": [
    "#### Segunda iteração:\n",
    "1. População &rarr; 100\n",
    "2. Budget &rarr; 10.000\n",
    "3. Delta &rarr; 0.001\n",
    "4. Crossover &rarr; crossover\n",
    "    1. Taxa &rarr; 0.8\n",
    "5. Mutação &rarr; mutation\n",
    "    1. Taxa &rarr; 0.3"
   ]
  },
  {
   "cell_type": "code",
   "execution_count": 165,
   "metadata": {},
   "outputs": [],
   "source": [
    "# Dados variáveis\n",
    "mutation_rate = 0.3\n",
    "crossover_rate = 0.8"
   ]
  },
  {
   "cell_type": "code",
   "execution_count": 167,
   "metadata": {},
   "outputs": [],
   "source": [
    "begin_time = time.time()\n",
    "best_chromossomes_2 = evolutionary_strategy1(np_array, chromossomes, budget, crossover, mutation, delta_to_converge, mutation_rate, crossover_rate, min_iteration_converget)\n",
    "print (\"Tempo para convergir: \", round(time.time() - begin_time, 2), \"segundos\")"
   ]
  },
  {
   "cell_type": "markdown",
   "metadata": {},
   "source": [
    "#### Terceira iteração:\n",
    "1. População &rarr; 100\n",
    "2. Budget &rarr; 10.000\n",
    "3. Delta &rarr; 0.001\n",
    "4. Crossover &rarr; crossover\n",
    "    1. Taxa &rarr; 0.3\n",
    "5. Mutação &rarr; mutation\n",
    "    1. Taxa &rarr; 0.8"
   ]
  },
  {
   "cell_type": "code",
   "execution_count": null,
   "metadata": {},
   "outputs": [],
   "source": [
    "# Dados variáveis\n",
    "mutation_rate = 0.8\n",
    "crossover_rate = 0.3"
   ]
  },
  {
   "cell_type": "code",
   "execution_count": null,
   "metadata": {},
   "outputs": [],
   "source": [
    "begin_time = time.time()\n",
    "best_chromossomes_3 = evolutionary_strategy1(np_array, chromossomes, budget, crossover, mutation, delta_to_converge, mutation_rate, crossover_rate, min_iteration_converget)\n",
    "print (\"Tempo para convergir: \", round(time.time() - begin_time, 2), \"segundos\")"
   ]
  },
  {
   "cell_type": "markdown",
   "metadata": {},
   "source": [
    "#### Quarta iteração:\n",
    "1. População &rarr; 100\n",
    "2. Budget &rarr; 10.000\n",
    "3. Delta &rarr; 0.001\n",
    "4. Crossover &rarr; crossover2\n",
    "    1. Taxa &rarr; 0.3\n",
    "5. Mutação &rarr; mutation\n",
    "    1. Taxa &rarr; 0.3"
   ]
  },
  {
   "cell_type": "code",
   "execution_count": null,
   "metadata": {},
   "outputs": [],
   "source": [
    "# Dados variáveis\n",
    "mutation_rate = 0.3\n",
    "crossover_rate = 0.3"
   ]
  },
  {
   "cell_type": "code",
   "execution_count": null,
   "metadata": {},
   "outputs": [],
   "source": [
    "begin_time = time.time()\n",
    "best_chromossomes_4 = evolutionary_strategy1(np_array, chromossomes, budget, crossover2, mutation, delta_to_converge, mutation_rate, crossover_rate, min_iteration_converget)\n",
    "print (\"Tempo para convergir: \", round(time.time() - begin_time, 2), \"segundos\")"
   ]
  },
  {
   "cell_type": "markdown",
   "metadata": {},
   "source": [
    "#### Quinta iteração:\n",
    "1. População &rarr; 100\n",
    "2. Budget &rarr; 10.000\n",
    "3. Delta &rarr; 0.001\n",
    "4. Crossover &rarr; crossover2\n",
    "    1. Taxa &rarr; 0.8\n",
    "5. Mutação &rarr; mutation\n",
    "    1. Taxa &rarr; 0.3"
   ]
  },
  {
   "cell_type": "code",
   "execution_count": null,
   "metadata": {},
   "outputs": [],
   "source": [
    "# Dados variáveis\n",
    "mutation_rate = 0.3\n",
    "crossover_rate = 0.8"
   ]
  },
  {
   "cell_type": "code",
   "execution_count": null,
   "metadata": {},
   "outputs": [],
   "source": [
    "begin_time = time.time()\n",
    "best_chromossomes_5 = evolutionary_strategy1(np_array, chromossomes, budget, crossover2, mutation, delta_to_converge, mutation_rate, crossover_rate, min_iteration_converget)\n",
    "print (\"Tempo para convergir: \", round(time.time() - begin_time, 2), \"segundos\")"
   ]
  },
  {
   "cell_type": "markdown",
   "metadata": {},
   "source": [
    "#### Sexta iteração:\n",
    "1. População &rarr; 100\n",
    "2. Budget &rarr; 10.000\n",
    "3. Delta &rarr; 0.001\n",
    "4. Crossover &rarr; crossover2\n",
    "    1. Taxa &rarr; 0.3\n",
    "5. Mutação &rarr; mutation\n",
    "    1. Taxa &rarr; 0.8"
   ]
  },
  {
   "cell_type": "code",
   "execution_count": null,
   "metadata": {},
   "outputs": [],
   "source": [
    "# Dados variáveis\n",
    "mutation_rate = 0.8\n",
    "crossover_rate = 0.3"
   ]
  },
  {
   "cell_type": "code",
   "execution_count": null,
   "metadata": {},
   "outputs": [],
   "source": [
    "begin_time = time.time()\n",
    "best_chromossomes_6 = evolutionary_strategy1(np_array, chromossomes, budget, crossover2, mutation, delta_to_converge, mutation_rate, crossover_rate, min_iteration_converget)\n",
    "print (\"Tempo para convergir: \", round(time.time() - begin_time, 2), \"segundos\")"
   ]
  },
  {
   "cell_type": "markdown",
   "metadata": {},
   "source": [
    "#### Sétima iteração:\n",
    "1. População &rarr; 100\n",
    "2. Budget &rarr; 10.000\n",
    "3. Delta &rarr; 0.001\n",
    "4. Crossover &rarr; crossover\n",
    "    1. Taxa &rarr; 0.3\n",
    "5. Mutação &rarr; mutation_v2\n",
    "    1. Taxa &rarr; 0.3"
   ]
  },
  {
   "cell_type": "code",
   "execution_count": null,
   "metadata": {},
   "outputs": [],
   "source": [
    "# Dados variáveis\n",
    "mutation_rate = 0.3\n",
    "crossover_rate = 0.3"
   ]
  },
  {
   "cell_type": "code",
   "execution_count": null,
   "metadata": {},
   "outputs": [],
   "source": [
    "begin_time = time.time()\n",
    "best_chromossomes_7 = evolutionary_strategy1(np_array, chromossomes, budget, crossover, mutation_v2, delta_to_converge, mutation_rate, crossover_rate, min_iteration_converget)\n",
    "print (\"Tempo para convergir: \", round(time.time() - begin_time, 2), \"segundos\")"
   ]
  },
  {
   "cell_type": "markdown",
   "metadata": {},
   "source": [
    "#### Oitava iteração:\n",
    "1. População &rarr; 100\n",
    "2. Budget &rarr; 10.000\n",
    "3. Delta &rarr; 0.001\n",
    "4. Crossover &rarr; crossover\n",
    "    1. Taxa &rarr; 0.8\n",
    "5. Mutação &rarr; mutation_v2\n",
    "    1. Taxa &rarr; 0.3"
   ]
  },
  {
   "cell_type": "code",
   "execution_count": null,
   "metadata": {},
   "outputs": [],
   "source": [
    "# Dados variáveis\n",
    "mutation_rate = 0.3\n",
    "crossover_rate = 0.8"
   ]
  },
  {
   "cell_type": "code",
   "execution_count": null,
   "metadata": {},
   "outputs": [],
   "source": [
    "begin_time = time.time()\n",
    "best_chromossomes_8 = evolutionary_strategy1(np_array, chromossomes, budget, crossover, mutation_v2, delta_to_converge, mutation_rate, crossover_rate, min_iteration_converget)\n",
    "print (\"Tempo para convergir: \", round(time.time() - begin_time, 2), \"segundos\")"
   ]
  },
  {
   "cell_type": "markdown",
   "metadata": {},
   "source": [
    "#### Nona iteração:\n",
    "1. População &rarr; 100\n",
    "2. Budget &rarr; 10.000\n",
    "3. Delta &rarr; 0.001\n",
    "4. Crossover &rarr; crossover\n",
    "    1. Taxa &rarr; 0.3\n",
    "5. Mutação &rarr; mutation_v2\n",
    "    1. Taxa &rarr; 0.8"
   ]
  },
  {
   "cell_type": "code",
   "execution_count": null,
   "metadata": {},
   "outputs": [],
   "source": [
    "# Dados variáveis\n",
    "mutation_rate = 0.8\n",
    "crossover_rate = 0.3"
   ]
  },
  {
   "cell_type": "code",
   "execution_count": null,
   "metadata": {},
   "outputs": [],
   "source": [
    "begin_time = time.time()\n",
    "best_chromossomes_9 = evolutionary_strategy1(np_array, chromossomes, budget, crossover, mutation_v2, delta_to_converge, mutation_rate, crossover_rate, min_iteration_converget)\n",
    "print (\"Tempo para convergir: \", round(time.time() - begin_time, 2), \"segundos\")"
   ]
  },
  {
   "cell_type": "markdown",
   "metadata": {},
   "source": [
    "### Segundo conjunto de Testes"
   ]
  },
  {
   "cell_type": "markdown",
   "metadata": {},
   "source": [
    "#### Primeiro teste - Crescimento da população"
   ]
  },
  {
   "cell_type": "markdown",
   "metadata": {},
   "source": [
    "Em um segundo momento será feito um teste visando avaliar o comportamento do tempo gasto pela função de acordo com o tamanho da população. Para tal, serão fixadas as taxas e funções de mutação que trouxeram os melhores resultados no primeiro conjunto de testes e iremos avaliar a população de um valor fixo. \n",
    "Parâmetros setados:\n",
    "1. Budget &rarr; 10.000\n",
    "2. Delta &rarr; 0.01\n",
    "4. Crossover &rarr; crossover2\n",
    "    1. Taxa &rarr; 0.3\n",
    "5. Mutação &rarr; mutation\n",
    "    1. Taxa &rarr; 0.3"
   ]
  },
  {
   "cell_type": "code",
   "execution_count": 110,
   "metadata": {},
   "outputs": [],
   "source": [
    "budget = 10000\n",
    "delta_to_converge = 0.01\n",
    "min_iteration_converget = 3\n",
    "np_array = excels[5].values # Irá utilizar a primeira lista de valores da bolsa\n",
    "mutation_rate = 0.3\n",
    "crossover_rate = 0.3"
   ]
  },
  {
   "cell_type": "code",
   "execution_count": 112,
   "metadata": {},
   "outputs": [
    {
     "name": "stdout",
     "output_type": "stream",
     "text": [
      "Testando populacao de tamanho: 10\n",
      "\t Tempo gasto: 35.13\n",
      "Testando populacao de tamanho: 20\n",
      "\t Tempo gasto: 78.9\n",
      "Testando populacao de tamanho: 30\n",
      "\t Tempo gasto: 238.56\n",
      "Testando populacao de tamanho: 40\n",
      "\t Tempo gasto: 207.65\n",
      "Testando populacao de tamanho: 50\n",
      "\t Tempo gasto: 243.23\n",
      "Testando populacao de tamanho: 60\n",
      "\t Tempo gasto: 455.52\n",
      "Testando populacao de tamanho: 70\n",
      "\t Tempo gasto: 1260.41\n",
      "Testando populacao de tamanho: 80\n",
      "\t Tempo gasto: 237.16\n",
      "Testando populacao de tamanho: 90\n",
      "\t Tempo gasto: 883.5\n",
      "Testando populacao de tamanho: 100\n",
      "\t Tempo gasto: 539.61\n"
     ]
    }
   ],
   "source": [
    "tempo_gasto = []\n",
    "for i in range(10,110,10):\n",
    "    print(\"Testando populacao de tamanho: \" + str(i))\n",
    "    chromossomes = create_population(i)\n",
    "    begin_time = time.time()\n",
    "    best_chromossomes_10 = evolutionary_strategy1(np_array, chromossomes, budget, crossover2, mutation, delta_to_converge, mutation_rate, crossover_rate, min_iteration_converget)\n",
    "    tempo_gasto.append(round(time.time() - begin_time, 2))\n",
    "    print(\"\\t Tempo gasto: \" + str(round(time.time() - begin_time, 2)))"
   ]
  },
  {
   "cell_type": "code",
   "execution_count": 158,
   "metadata": {},
   "outputs": [
    {
     "data": {
      "image/png": "[encoded data removed]",
      "text/plain": [
       "<Figure size 432x288 with 1 Axes>"
      ]
     },
     "metadata": {
      "needs_background": "light"
     },
     "output_type": "display_data"
    }
   ],
   "source": [
    "x = [10,20,30,40,50,60,70,80,90,100]\n",
    "y = tempo_gasto\n",
    "\n",
    "fit = np.polyfit(x,y,1)\n",
    "fit_fn = np.poly1d(fit)\n",
    "\n",
    "plt.plot(x,fit_fn(x), color='r', )\n",
    "plt.scatter(x,y)\n",
    "plt.xlabel(\"Tamanho da população\")\n",
    "plt.ylabel(\"Tempo Gasto (s)\")\n",
    "plt.show()"
   ]
  },
  {
   "cell_type": "markdown",
   "metadata": {},
   "source": [
    "#### Segundo teste - Crescimento da Taxa de Mutação"
   ]
  },
  {
   "cell_type": "markdown",
   "metadata": {},
   "source": [
    "O segundo teste feito nessa seção visa avaliar a performance da solução a medida em que aumentamos a taxa de mutação. Para tal, iremos fixar todos os parâmetros usados na estratégia evolutiva e iremos variar a taxa de mutação entre 0 e 1. É importante ressaltar que a fim de avaliar exclusivamente a influência da mutação iremos considerar uma taxa de crossover igual a 0.Parâmetros usados: \n",
    "1. Tamanho da População &rarr; 10\n",
    "2. Budget &rarr; 10.000\n",
    "3. Delta &rarr; 0.01\n",
    "4. Crossover &rarr; crossover2\n",
    "    1. Taxa &rarr; 0.0\n",
    "5. Mutação &rarr; mutation\n",
    "    1. Taxa &rarr; variável de 0 a 1"
   ]
  },
  {
   "cell_type": "code",
   "execution_count": 187,
   "metadata": {},
   "outputs": [],
   "source": [
    "population_size = 10\n",
    "budget = 10000\n",
    "delta_to_converge = 0.01\n",
    "min_iteration_converget = 10\n",
    "np_array = excels[5].values # Irá utilizar a primeira lista de valores da bolsa\n",
    "crossover_rate = 0.0\n",
    "chromossomes = create_population(population_size)"
   ]
  },
  {
   "cell_type": "code",
   "execution_count": 188,
   "metadata": {},
   "outputs": [
    {
     "name": "stdout",
     "output_type": "stream",
     "text": [
      "Testando taxa de: 0.0\n",
      "\t Tempo gasto: 13.86\n",
      "Testando taxa de: 0.1\n",
      "\t Tempo gasto: 26.98\n",
      "Testando taxa de: 0.2\n",
      "\t Tempo gasto: 35.14\n",
      "Testando taxa de: 0.30000000000000004\n",
      "\t Tempo gasto: 22.74\n",
      "Testando taxa de: 0.4\n",
      "\t Tempo gasto: 44.51\n",
      "Testando taxa de: 0.5\n",
      "\t Tempo gasto: 42.04\n",
      "Testando taxa de: 0.6\n",
      "\t Tempo gasto: 30.33\n",
      "Testando taxa de: 0.7\n",
      "\t Tempo gasto: 31.43\n",
      "Testando taxa de: 0.7999999999999999\n",
      "\t Tempo gasto: 49.44\n",
      "Testando taxa de: 0.8999999999999999\n",
      "\t Tempo gasto: 35.41\n",
      "Testando taxa de: 0.9999999999999999\n",
      "\t Tempo gasto: 83.35\n"
     ]
    }
   ],
   "source": [
    "tempo_gasto_2 = []\n",
    "i = 0.00\n",
    "while i < 1.01:\n",
    "    mutation_rate = i\n",
    "    print(\"Testando taxa de: \" + str(i))\n",
    "    begin_time = time.time()\n",
    "    temp = evolutionary_strategy1(np_array, chromossomes, budget, crossover2, mutation, delta_to_converge, mutation_rate, crossover_rate, min_iteration_converget)\n",
    "    i = i + 0.10\n",
    "    tempo_gasto_2.append(round(time.time() - begin_time, 2))\n",
    "    print(\"\\t Tempo gasto: \" + str(round(time.time() - begin_time, 2)))"
   ]
  },
  {
   "cell_type": "code",
   "execution_count": 200,
   "metadata": {},
   "outputs": [
    {
     "data": {
      "image/png": "[encoded data removed]",
      "text/plain": [
       "<Figure size 432x288 with 1 Axes>"
      ]
     },
     "metadata": {
      "needs_background": "light"
     },
     "output_type": "display_data"
    }
   ],
   "source": [
    "x_2 = [0.0, 0.1, 0.2, 0.3, 0.4, 0.5, 0.6, 0.7, 0.8, 0.9, 1.0]\n",
    "y_2 = tempo_gasto_2\n",
    "\n",
    "fit = np.polyfit(x_2,y_2,1)\n",
    "fit_fn = np.poly1d(fit)\n",
    "\n",
    "plt.plot(x_2,fit_fn(x_2), color='r')\n",
    "plt.scatter(x_2,y_2)\n",
    "plt.xlabel(\"Taxa de Mutação\")\n",
    "plt.ylabel(\"Tempo Gasto (s)\")\n",
    "plt.show()"
   ]
  },
  {
   "cell_type": "markdown",
   "metadata": {},
   "source": [
    "#### Terceiro teste - Crescimento da Taxa de Crossover"
   ]
  },
  {
   "cell_type": "markdown",
   "metadata": {},
   "source": [
    "O terceiro teste feito nessa seção visa avaliar a performance da solução a medida em que aumentamos a taxa de crossover. Para tal, iremos fixar todos os parâmetros usados na estratégia evolutiva e iremos variar a taxa de crossover entre 0 e 1. É importante ressaltar que a fim de avaliar exclusivamente a influência do crossover iremos considerar uma taxa de mutação igual a 0. Parâmetros usados: \n",
    "1. Tamanho da População &rarr; 10\n",
    "2. Budget &rarr; 10.000\n",
    "3. Delta &rarr; 0.01\n",
    "4. Crossover &rarr; crossover2\n",
    "    1. Taxa &rarr; variável de 0 a 1\n",
    "5. Mutação &rarr; mutation\n",
    "    1. Taxa &rarr; 0"
   ]
  },
  {
   "cell_type": "code",
   "execution_count": 178,
   "metadata": {},
   "outputs": [],
   "source": [
    "population_size = 10\n",
    "budget = 10000\n",
    "delta_to_converge = 0.01\n",
    "min_iteration_converget = 10\n",
    "np_array = excels[5].values # Irá utilizar a primeira lista de valores da bolsa\n",
    "mutation_rate = 0.0\n",
    "chromossomes = create_population(population_size)"
   ]
  },
  {
   "cell_type": "code",
   "execution_count": 179,
   "metadata": {},
   "outputs": [
    {
     "name": "stdout",
     "output_type": "stream",
     "text": [
      "Testando taxa de: 0.0\n",
      "\t Tempo gasto: 13.57\n",
      "Testando taxa de: 0.1\n",
      "\t Tempo gasto: 15.77\n",
      "Testando taxa de: 0.2\n",
      "\t Tempo gasto: 16.25\n",
      "Testando taxa de: 0.30000000000000004\n",
      "\t Tempo gasto: 46.33\n",
      "Testando taxa de: 0.4\n",
      "\t Tempo gasto: 63.97\n",
      "Testando taxa de: 0.5\n",
      "\t Tempo gasto: 61.23\n",
      "Testando taxa de: 0.6\n",
      "\t Tempo gasto: 62.35\n",
      "Testando taxa de: 0.7\n",
      "\t Tempo gasto: 110.53\n",
      "Testando taxa de: 0.7999999999999999\n",
      "\t Tempo gasto: 64.76\n",
      "Testando taxa de: 0.8999999999999999\n",
      "\t Tempo gasto: 249.47\n",
      "Testando taxa de: 0.9999999999999999\n",
      "\t Tempo gasto: 474.93\n"
     ]
    }
   ],
   "source": [
    "tempo_gasto_3 = []\n",
    "i = 0.00\n",
    "while i < 1.01:\n",
    "    crossover_rate = i\n",
    "    print(\"Testando taxa de: \" + str(i))\n",
    "    begin_time = time.time()\n",
    "    temp = evolutionary_strategy1(np_array, chromossomes, budget, crossover2, mutation, delta_to_converge, mutation_rate, crossover_rate, min_iteration_converget)\n",
    "    i = i + 0.10\n",
    "    tempo_gasto_3.append(round(time.time() - begin_time, 2))\n",
    "    print(\"\\t Tempo gasto: \" + str(round(time.time() - begin_time, 2)))"
   ]
  },
  {
   "cell_type": "code",
   "execution_count": 192,
   "metadata": {},
   "outputs": [
    {
     "data": {
      "image/png": "[encoded data removed]",
      "text/plain": [
       "<Figure size 432x288 with 1 Axes>"
      ]
     },
     "metadata": {
      "needs_background": "light"
     },
     "output_type": "display_data"
    }
   ],
   "source": [
    "x_2 = [0.0, 0.1, 0.2, 0.3, 0.4, 0.5, 0.6, 0.7, 0.8, 0.9, 1.0]\n",
    "y_3 = tempo_gasto_3\n",
    "\n",
    "fit = np.polyfit(x_2,y_3,2)\n",
    "fit_fn = np.poly1d(fit)\n",
    "\n",
    "plt.plot(x_2,fit_fn(x_2), color='r')\n",
    "plt.scatter(x_2,y_3)\n",
    "plt.xlabel(\"Taxa de Crossover\")\n",
    "plt.ylabel(\"Tempo Gasto (s)\")\n",
    "plt.show()"
   ]
  },
  {
   "cell_type": "code",
   "execution_count": null,
   "metadata": {},
   "outputs": [],
   "source": []
  }
 ],
 "metadata": {
  "kernelspec": {
   "display_name": "Python 3",
   "language": "python",
   "name": "python3"
  },
  "language_info": {
   "codemirror_mode": {
    "name": "ipython",
    "version": 3
   },
   "file_extension": ".py",
   "mimetype": "text/x-python",
   "name": "python",
   "nbconvert_exporter": "python",
   "pygments_lexer": "ipython3",
   "version": "3.6.5"
  }
 },
 "nbformat": 4,
 "nbformat_minor": 2
}
