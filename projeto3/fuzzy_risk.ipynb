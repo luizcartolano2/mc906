{
 "cells": [
  {
   "cell_type": "code",
   "execution_count": 1,
   "metadata": {},
   "outputs": [],
   "source": [
    "import numpy as np\n",
    "import skfuzzy as fuzz\n",
    "import matplotlib.pyplot as plt"
   ]
  },
  {
   "cell_type": "markdown",
   "metadata": {},
   "source": [
    "### Fuzzy 2 - Classificação do Grau de Risco de uma stock\n",
    "1. INPUTS\n",
    "    * Média de Variação (famosa volatilidade)\n",
    "        1. Universo: Qual foi a média de variação no valor das stocks (em módulo)?\n",
    "        2. Conjunto Fuzzy: baixo, média, alto\n",
    "    * Beta\n",
    "        1. Universo: Qual o valor da volatilidade da stock com relação a volatilidade do mercado?\n",
    "        2. Conjunto Fuzzy: baixo, alto\n",
    "2. OUTPUTS\n",
    "    * Risco\n",
    "        1. Universo: Qual o grau de risco ao se investir nessa stock ?\n",
    "        2. Conjunto Fuzzy: baixo, médio, alto\n",
    "3. RULES\n",
    "    * Se um deles for baixo &rarr; baixo\n",
    "    * Se um deles for alto &rarr; alto\n",
    "    * Se um deles for medio &rarr; medio"
   ]
  },
  {
   "cell_type": "markdown",
   "metadata": {},
   "source": [
    "#### Input1: volatilidade"
   ]
  },
  {
   "cell_type": "code",
   "execution_count": null,
   "metadata": {},
   "outputs": [],
   "source": [
    "x_vol = np.arange(0, 16, 1)\n",
    "\n",
    "vol_lo = fuzz.trimf(x_vol, [0, 0, 5])\n",
    "vol_md = fuzz.trimf(x_vol, [0, 5, 10])\n",
    "vol_hi = fuzz.trimf(x_vol, [7, 15, 15])\n",
    "\n",
    "plt.plot(x_vol, vol_lo, 'b', linewidth=1.5, label='Bad')\n",
    "plt.plot(x_vol, vol_md, 'g', linewidth=1.5, label='Decent')\n",
    "plt.plot(x_vol, vol_hi, 'r', linewidth=1.5, label='Great')\n",
    "plt.legend()\n",
    "plt.show()"
   ]
  },
  {
   "cell_type": "markdown",
   "metadata": {},
   "source": [
    "#### Input2: Beta"
   ]
  },
  {
   "cell_type": "code",
   "execution_count": null,
   "metadata": {},
   "outputs": [],
   "source": [
    "x_beta = np.arange(0.9, 1.2, 0.01)\n",
    "\n",
    "beta_lo = fuzz.trimf(x_beta, [0.9, 0.9, 1.05])\n",
    "beta_md = fuzz.trimf(x_beta, [0.9, 1.05, 1.2])\n",
    "beta_hi = fuzz.trimf(x_beta, [1.05, 1.2, 1.2])\n",
    "\n",
    "plt.plot(x_beta, beta_lo, 'b', linewidth=1.5, label='Bad')\n",
    "plt.plot(x_beta, beta_md, 'g', linewidth=1.5, label='Decent')\n",
    "plt.plot(x_beta, beta_hi, 'r', linewidth=1.5, label='Great')\n",
    "plt.legend()\n",
    "plt.show()"
   ]
  },
  {
   "cell_type": "code",
   "execution_count": null,
   "metadata": {},
   "outputs": [],
   "source": [
    "# x_beta = np.arange(0.0, 1.6, 0.01)\n",
    "\n",
    "# beta_lo = fuzz.trimf(x_beta, [0, 0, 0.75])\n",
    "# beta_md = fuzz.trimf(x_beta, [0, 0.75, 1.5])\n",
    "# beta_hi = fuzz.trimf(x_beta, [0.75, 1.0, 1.5])\n",
    "\n",
    "# plt.plot(x_beta, beta_lo, 'b', linewidth=1.5, label='Bad')\n",
    "# plt.plot(x_beta, beta_md, 'g', linewidth=1.5, label='Decent')\n",
    "# plt.plot(x_beta, beta_hi, 'r', linewidth=1.5, label='Great')\n",
    "# plt.legend()\n",
    "# plt.show()"
   ]
  },
  {
   "cell_type": "markdown",
   "metadata": {},
   "source": [
    "#### Output: risk"
   ]
  },
  {
   "cell_type": "code",
   "execution_count": null,
   "metadata": {},
   "outputs": [],
   "source": [
    "x_risk = np.arange(0, 101, 1)\n",
    "\n",
    "risk_lo = fuzz.trimf(x_risk, [0, 0, 50])\n",
    "risk_md = fuzz.trimf(x_risk, [0, 50, 100])\n",
    "risk_hi = fuzz.trimf(x_risk, [50, 100, 100])\n",
    "\n",
    "plt.plot(x_risk, risk_lo, 'b', linewidth=1.5, label='Bad')\n",
    "plt.plot(x_risk, risk_md, 'g', linewidth=1.5, label='Decent')\n",
    "plt.plot(x_risk, risk_hi, 'r', linewidth=1.5, label='Great')\n",
    "plt.legend()\n",
    "plt.show()"
   ]
  },
  {
   "cell_type": "markdown",
   "metadata": {},
   "source": [
    "#### Ativa as funcoes fuzzy no valor do input"
   ]
  },
  {
   "cell_type": "code",
   "execution_count": null,
   "metadata": {},
   "outputs": [],
   "source": [
    "vol_level_lo = fuzz.interp_membership(x_vol, vol_lo, 1.0)\n",
    "vol_level_md = fuzz.interp_membership(x_vol, vol_md, 1.0)\n",
    "vol_level_hi = fuzz.interp_membership(x_vol, vol_hi, 1.0)\n",
    "\n",
    "beta_level_lo = fuzz.interp_membership(x_beta, beta_lo, 1.1)\n",
    "beta_level_md = fuzz.interp_membership(x_beta, beta_md, 1.1)\n",
    "beta_level_hi = fuzz.interp_membership(x_beta, beta_hi, 1.1)"
   ]
  },
  {
   "cell_type": "markdown",
   "metadata": {},
   "source": [
    "#### REGRAS"
   ]
  },
  {
   "cell_type": "code",
   "execution_count": null,
   "metadata": {},
   "outputs": [],
   "source": [
    "# Rule 1 --> low vol OR beta\n",
    "# The OR operator means we take the maximum of these two.\n",
    "rule1 = np.fmax(vol_level_lo, beta_level_lo)\n",
    "activation_lo = np.fmin(rule1, risk_lo)\n",
    "\n",
    "# Rule 2 --> high vol OR beta\n",
    "rule2 = np.fmax(vol_level_hi, beta_level_hi)\n",
    "activation_hi = np.fmin(rule2, risk_hi)\n",
    "\n",
    "# Rule 3 --> medium vol to medium risk\n",
    "activation_md = np.fmin(vol_level_md, risk_md)"
   ]
  },
  {
   "cell_type": "code",
   "execution_count": null,
   "metadata": {},
   "outputs": [],
   "source": [
    "# visualizacao\n",
    "risk0 = np.zeros_like(x_risk)\n",
    "\n",
    "fig, ax0 = plt.subplots(figsize=(8, 3))\n",
    "\n",
    "ax0.fill_between(x_risk, risk0, activation_lo, facecolor='b', alpha=0.7)\n",
    "ax0.plot(x_risk, risk_lo, 'b', linewidth=0.5, linestyle='--', )\n",
    "ax0.fill_between(x_risk, risk0, activation_md, facecolor='g', alpha=0.7)\n",
    "ax0.plot(x_risk, risk_md, 'g', linewidth=0.5, linestyle='--')\n",
    "ax0.fill_between(x_risk, risk0, activation_hi, facecolor='r', alpha=0.7)\n",
    "ax0.plot(x_risk, risk_hi, 'r', linewidth=0.5, linestyle='--')\n",
    "ax0.set_title('Output membership activity')\n",
    "plt.show()"
   ]
  },
  {
   "cell_type": "markdown",
   "metadata": {},
   "source": [
    "#### Defuzzification"
   ]
  },
  {
   "cell_type": "code",
   "execution_count": null,
   "metadata": {},
   "outputs": [],
   "source": [
    "# Aggregate all three output membership functions together\n",
    "aggregated = np.fmax(activation_lo, np.fmax(activation_md, activation_hi))\n",
    "\n",
    "# Calculate defuzzified result\n",
    "risk = fuzz.defuzz(x_risk, aggregated, 'centroid')\n",
    "risk_activation = fuzz.interp_membership(x_risk, aggregated, risk)  # for plot\n",
    "\n",
    "# Visualize this\n",
    "fig, ax0 = plt.subplots(figsize=(8, 3))\n",
    "\n",
    "ax0.plot(x_risk, risk_lo, 'b', linewidth=0.5, linestyle='--', )\n",
    "ax0.plot(x_risk, risk_md, 'g', linewidth=0.5, linestyle='--')\n",
    "ax0.plot(x_risk, risk_hi, 'r', linewidth=0.5, linestyle='--')\n",
    "ax0.fill_between(x_risk, risk0, aggregated, facecolor='Orange', alpha=0.7)\n",
    "ax0.plot([risk, risk], [0, risk_activation], 'k', linewidth=1.5, alpha=0.9)\n",
    "ax0.set_title('Aggregated membership and result (line)')\n",
    "\n",
    "# Turn off top/right axes\n",
    "for ax in (ax0,):\n",
    "    ax.spines['top'].set_visible(False)\n",
    "    ax.spines['right'].set_visible(False)\n",
    "    ax.get_xaxis().tick_bottom()\n",
    "    ax.get_yaxis().tick_left()\n",
    "\n",
    "plt.tight_layout()"
   ]
  },
  {
   "cell_type": "code",
   "execution_count": null,
   "metadata": {},
   "outputs": [],
   "source": [
    "print(\"Risco indicado de: \", round(risk,2))"
   ]
  },
  {
   "cell_type": "code",
   "execution_count": 2,
   "metadata": {},
   "outputs": [],
   "source": [
    "def fuzzy_risk_triangle(i_vol, i_beta, defuzzy_method):\n",
    "    # input volatilidade\n",
    "    x_vol = np.arange(0, 16, 1)\n",
    "    vol_lo = fuzz.trimf(x_vol, [0, 0, 5])\n",
    "    vol_md = fuzz.trimf(x_vol, [0, 5, 10])\n",
    "    vol_hi = fuzz.trimf(x_vol, [7, 15, 15])\n",
    "    \n",
    "    # input beta\n",
    "    x_beta = np.arange(0.9, 1.2, 0.01)\n",
    "    beta_lo = fuzz.trimf(x_beta, [0.9, 0.9, 1.05])\n",
    "    beta_md = fuzz.trimf(x_beta, [0.9, 1.05, 1.2])\n",
    "    beta_hi = fuzz.trimf(x_beta, [1.05, 1.2, 1.2])\n",
    "    \n",
    "    # output risk\n",
    "    x_risk = np.arange(0, 101, 1)\n",
    "    risk_lo = fuzz.trimf(x_risk, [0, 0, 50])\n",
    "    risk_md = fuzz.trimf(x_risk, [0, 50, 100])\n",
    "    risk_hi = fuzz.trimf(x_risk, [50, 100, 100])\n",
    "    \n",
    "    # fuzzyfica os valores\n",
    "    vol_level_lo = fuzz.interp_membership(x_vol, vol_lo, i_vol)\n",
    "    vol_level_md = fuzz.interp_membership(x_vol, vol_md, i_vol)\n",
    "    vol_level_hi = fuzz.interp_membership(x_vol, vol_hi, i_vol)\n",
    "    beta_level_lo = fuzz.interp_membership(x_beta, beta_lo, i_beta)\n",
    "    beta_level_md = fuzz.interp_membership(x_beta, beta_md, i_beta)\n",
    "    beta_level_hi = fuzz.interp_membership(x_beta, beta_hi, i_beta)\n",
    "\n",
    "    # regras\n",
    "    # Rule 1 --> low vol OR beta\n",
    "    rule1 = np.fmax(vol_level_lo, beta_level_lo)\n",
    "    activation_lo = np.fmin(rule1, risk_lo)\n",
    "    # Rule 2 --> high vol OR beta\n",
    "    rule2 = np.fmax(vol_level_hi, beta_level_hi)\n",
    "    activation_hi = np.fmin(rule2, risk_hi)\n",
    "    # Rule 3 --> medium vol to medium risk\n",
    "    activation_md = np.fmin(vol_level_md, risk_md)\n",
    "    \n",
    "    # Aggregate all three output membership functions together\n",
    "    aggregated = np.fmax(activation_lo, np.fmax(activation_md, activation_hi))\n",
    "\n",
    "    # Calculate defuzzified result\n",
    "    risk = fuzz.defuzz(x_risk, aggregated, defuzzy_method)\n",
    "\n",
    "    return risk"
   ]
  },
  {
   "cell_type": "code",
   "execution_count": 8,
   "metadata": {},
   "outputs": [
    {
     "data": {
      "text/plain": [
       "79.32824552765469"
      ]
     },
     "execution_count": 8,
     "metadata": {},
     "output_type": "execute_result"
    }
   ],
   "source": [
    "fuzzy_risk_triangle(10, 1.98, 'centroid')"
   ]
  },
  {
   "cell_type": "code",
   "execution_count": null,
   "metadata": {},
   "outputs": [],
   "source": []
  }
 ],
 "metadata": {
  "kernelspec": {
   "display_name": "Python 3",
   "language": "python",
   "name": "python3"
  },
  "language_info": {
   "codemirror_mode": {
    "name": "ipython",
    "version": 3
   },
   "file_extension": ".py",
   "mimetype": "text/x-python",
   "name": "python",
   "nbconvert_exporter": "python",
   "pygments_lexer": "ipython3",
   "version": "3.7.3"
  }
 },
 "nbformat": 4,
 "nbformat_minor": 2
}
