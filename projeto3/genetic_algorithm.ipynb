{
 "cells": [
  {
   "cell_type": "markdown",
   "metadata": {},
   "source": [
    "# Falta fazer\n",
    "## Relatório\n",
    "## Documentação"
   ]
  },
  {
   "cell_type": "code",
   "execution_count": 1,
   "metadata": {},
   "outputs": [],
   "source": [
    "# import das bibliotecas\n",
    "import os\n",
    "import pandas as pd\n",
    "import random\n",
    "import time\n",
    "from greedy_filter import *\n",
    "from math import inf\n",
    "import numpy as np\n",
    "import matplotlib.pyplot as plt\n",
    "from sklearn import linear_model"
   ]
  },
  {
   "cell_type": "code",
   "execution_count": 2,
   "metadata": {},
   "outputs": [],
   "source": [
    "# definicao das constantes\n",
    "PATH_EXCEL = os.getcwd() + '/excel_files/'"
   ]
  },
  {
   "cell_type": "markdown",
   "metadata": {},
   "source": [
    "Estruturas que irao armazenar os dataframes com o histórico de preços das ações.\n",
    "1. dict_excels: dicionario onde a chave é o nome da ação e o valor da chave é o dataframe\n",
    "2. filenames: lista com o nome dos arquivos\n",
    "3. excels: lista com os dataframes"
   ]
  },
  {
   "cell_type": "code",
   "execution_count": 3,
   "metadata": {},
   "outputs": [],
   "source": [
    "dict_excels = {}\n",
    "filenames = []\n",
    "excels = []\n",
    "for filename in os.listdir(PATH_EXCEL):\n",
    "    filenames.append(filename[:filename.find('.')])\n",
    "    excels.append(pd.read_excel(PATH_EXCEL + filename).sort_values(by=['Exchange Date']).reset_index(drop=True))\n",
    "    dict_excels[filename[:filename.find('.')]] = (pd.read_excel(PATH_EXCEL + filename).sort_values(by=['Exchange Date']).reset_index(drop=True))"
   ]
  },
  {
   "cell_type": "code",
   "execution_count": 4,
   "metadata": {},
   "outputs": [
    {
     "data": {
      "text/plain": [
       "'alphabet'"
      ]
     },
     "execution_count": 4,
     "metadata": {},
     "output_type": "execute_result"
    }
   ],
   "source": [
    "filenames[6]"
   ]
  },
  {
   "cell_type": "markdown",
   "metadata": {},
   "source": [
    "## Modelagem do problema\n",
    "### Algoritmo Genético 1 - Escolha dos Parâmetros das Regras de Filtro\n",
    "1. Gene: cada um dos parâmetros do filtro\n",
    "    1. x - porcentagem de variação: porcentagem acima/abaixo da ultima subida ou queda\n",
    "       1. varia de 0 a 1\n",
    "       2. varia de 0.01 a 0.10\n",
    "    2. h - hold days: após um sinal de compra/venda esperamos por h dias\n",
    "       1. varia de 1 até o número de dias entre a data atual e a data onde acabam as informacoes\n",
    "       2. varia de 1 até 30\n",
    "    3. d - delay days: após receber um sinal ignora-se os próximos d dias\n",
    "       1. varia de 1 até o número de dias entre a data atual e a data onde acabam as informacoes\n",
    "       2. varia de 1 até 30\n",
    "    4. p - previous days: olha-se p dias para tomar uma decisão\n",
    "       1. varia de 0 até o número de dias transcorridos até o momento\n",
    "       2. varia de 30 até o número máximo de dias\n",
    "2. Cromossomo: conjunto de parâmetros\n",
    "    1. Estrutura usada: lista com os parâmetros &rarr; [x, h, d, p]\n",
    "3. População: conjunto de cromossomos\n",
    "    1. Tamanho da População:\n",
    "4. Mutação:\n",
    "    1. taxa de mutação:\n",
    "5. Crossover:\n",
    "    1. taxa de crossover:\n",
    "6. Critério de Parada:\n",
    "7. Seleção:\n",
    "    1. Fitness: cálculo do lucro obtido por cada cromossomo\n",
    "    2. Técnica de Seleção:\n",
    "        1. Técnica 1:\n",
    "        2. Técnica 2:"
   ]
  },
  {
   "cell_type": "markdown",
   "metadata": {},
   "source": [
    "Funções para realizar o crossover entre dois cromossomos"
   ]
  },
  {
   "cell_type": "code",
   "execution_count": 5,
   "metadata": {},
   "outputs": [],
   "source": [
    "def crossover(chromosome1, chromosome2):\n",
    "    \"\"\"\n",
    "        Funcao para realizar o crossover entre dois cromossomos\n",
    "        :param: chromosome1 - cromossomo pai\n",
    "        :param: chromosome2 - cromossomo mae\n",
    "        :return: new_chromosome1 - primeiro filho gerado no crossover\n",
    "        :return: new_chromosome2 - segundo filho gerado no crossover\n",
    "    \"\"\"\n",
    "    # escolhe um gene aleatorio para realizar o crossover\n",
    "    rand = random.randint(1,len(chromosome1) - 1)\n",
    "\n",
    "    # gera os dois novos cromossomos\n",
    "    new_chromosome1 = chromosome1[:rand] + chromosome2[rand:]\n",
    "    new_chromosome2 = chromosome2[:rand] + chromosome1[rand:]\n",
    "    \n",
    "    return new_chromosome1, new_chromosome2\n",
    "\n",
    "def crossover2(chromosome1, chromosome2):\n",
    "    \"\"\"\n",
    "        Funcao para realizar o crossover entre dois cromossomos com 2 pontos de corte\n",
    "        :param: chromosome1 - cromossomo pai\n",
    "        :param: chromosome2 - cromossomo mae\n",
    "        :return: new_chromosome1 - primeiro filho gerado no crossover\n",
    "        :return: new_chromosome2 - segundo filho gerado no crossover\n",
    "    \"\"\"\n",
    "    # escolhe um gene aleatorio para realizar o crossover\n",
    "    rand = random.randint(1,len(chromosome1) - 2)\n",
    "    rand2 = random.randint(rand+1, len(chromosome1) - 1)\n",
    "    # gera os dois novos cromossomos\n",
    "    new_chromosome1 = chromosome1[:rand] + chromosome2[rand:rand2] + chromosome1[rand2:]\n",
    "    new_chromosome2 = chromosome2[:rand] + chromosome1[rand:rand2] + chromosome2[rand2:]\n",
    "    \n",
    "    return new_chromosome1, new_chromosome2"
   ]
  },
  {
   "cell_type": "markdown",
   "metadata": {},
   "source": [
    "Funções para realizar a mutação de um cromossomo"
   ]
  },
  {
   "cell_type": "code",
   "execution_count": 6,
   "metadata": {},
   "outputs": [],
   "source": [
    "def mutation(chromossome):\n",
    "    \"\"\"\n",
    "        Funcao para realizar a mutacao de um dado cromossomo\n",
    "        :param: chromossome - cromossomo que ira passar pelo processo de mutacao\n",
    "        :param: today_index - indice da tabela referente a data atual da acao\n",
    "        :param: last_day_index - indice da tabela referente a ultima data da qual se tem informacao da acao\n",
    "        :return: new_chromossome - novo cromossomo apos o processo de mutacao\n",
    "    \"\"\"\n",
    "    # faz a copia do cromossomo original\n",
    "    new_chromossome = chromossome\n",
    "    \n",
    "    # escolhe, aleatoriamente, um gene para ser alterado\n",
    "    gene_initial_position = random.randint(0,len(chromossome) - 1)\n",
    "    gene_final_position = random.randint(gene_initial_position, len(chromossome) - 1)\n",
    "    \n",
    "    # modifica o conjunto de genes escolhidos seguindo, como unica regra, os valores que eles podem assumir\n",
    "    for i in range(gene_initial_position, gene_final_position + 1):\n",
    "        if i == 0:\n",
    "            new_chromossome[0] = random.uniform(0.01,0.10)\n",
    "        elif i == 1:\n",
    "            new_chromossome[1] = random.randint(1,30)\n",
    "        elif i == 2:\n",
    "            new_chromossome[2] = random.randint(1,30)\n",
    "        elif i == 3:\n",
    "            new_chromossome[3] = random.randint(30,500)\n",
    "        else:\n",
    "            raise Exception('Gene inexistente no cromossomo!')\n",
    "        \n",
    "    return new_chromossome\n",
    "\n",
    "def mutation_v2(chromossome):\n",
    "    \"\"\"\n",
    "        Funcao para realizar a mutacao de um dado cromossomo\n",
    "        :param: chromossome - cromossomo que ira passar pelo processo de mutacao\n",
    "        :return: new_chromossome - novo cromossomo apos o processo de mutacao\n",
    "    \"\"\"\n",
    "    # faz a copia do cromossomo original\n",
    "    new_chromossome = chromossome\n",
    "    \n",
    "    # escolhe, aleatoriamente, um gene para ser alterado\n",
    "    gene_position = random.randint(0,len(chromossome) - 1)\n",
    "    \n",
    "    # modifica o gene escolhido seguindo, como unica regra, os valores que ele pode assumir\n",
    "    if gene_position == 0:\n",
    "        new_chromossome[0] = random.uniform(0.01,0.10)\n",
    "    elif gene_position == 1:\n",
    "        new_chromossome[1] = random.randint(1,30)\n",
    "    elif gene_position == 2:\n",
    "        new_chromossome[2] = random.randint(1,30)\n",
    "    elif gene_position == 3:\n",
    "        new_chromossome[3] = random.randint(30,500)\n",
    "    else:\n",
    "        raise Exception('Gene inexistente no cromossomo!')\n",
    "        \n",
    "    return new_chromossome"
   ]
  },
  {
   "cell_type": "markdown",
   "metadata": {},
   "source": [
    "Função para realizar a inicialização randômica de uma população"
   ]
  },
  {
   "cell_type": "code",
   "execution_count": 7,
   "metadata": {},
   "outputs": [],
   "source": [
    "def create_population(population_size):\n",
    "    \"\"\"\n",
    "        Funcao para criar uma populacao randomica de cromossomos\n",
    "        :param: population_size - tamanho da populacao que sera criada\n",
    "        :return: population - nova populacao\n",
    "    \"\"\"\n",
    "    population = []\n",
    "    for i in range(0, population_size):\n",
    "        population.append([random.uniform(0,0.1), random.randint(1,30), random.randint(1,30), random.randint(1,500)])\n",
    "        \n",
    "    return population"
   ]
  },
  {
   "cell_type": "code",
   "execution_count": 8,
   "metadata": {},
   "outputs": [],
   "source": [
    "def fitness(np_array, chromossomes, budget):\n",
    "    \"\"\"\n",
    "        Funcao para calcular o lucro de cada um dos cromossomos de uma dada populacao\n",
    "        :param: np_array - conjunto de dados de determinada acao\n",
    "        :param: chromossomes - lista de cromossomos que sera avaliada\n",
    "        :param: budget - dinheiro inicial do problema\n",
    "        :return: fit_chromossomes - matriz com os cromossomos e o lucro(em porcentagem) obtido por eles\n",
    "    \"\"\"\n",
    "    fit_chromossomes = []\n",
    "    for chromossome in chromossomes:\n",
    "        money = greedy_filter_rule(np_array, chromossome, budget)\n",
    "        fit_chromossomes.append([chromossome, (money-budget)/budget])\n",
    "        \n",
    "    return fit_chromossomes"
   ]
  },
  {
   "cell_type": "code",
   "execution_count": 9,
   "metadata": {},
   "outputs": [],
   "source": [
    "def selection(stock_value, list_chromossomes, budget, cut_size):\n",
    "    \"\"\"\n",
    "        :param: stock_value - \n",
    "        :param: list_chromossomes - \n",
    "        :param: budget - \n",
    "        :param: cut_size - \n",
    "        \n",
    "        :return: new_generation - \n",
    "        :return: fitness_array - \n",
    "    \"\"\"\n",
    "    fitness_array = fitness(stock_value, list_chromossomes, budget)\n",
    "    fitness_array.sort(key=lambda x: x[1], reverse = True)\n",
    "    new_generation = []\n",
    "    for i in range (0,cut_size):\n",
    "        new_generation.append(fitness_array[i][0])\n",
    "    return new_generation, fitness_array[:cut_size]"
   ]
  },
  {
   "cell_type": "code",
   "execution_count": 10,
   "metadata": {},
   "outputs": [],
   "source": [
    "def roulette_selection(stock_value, list_chromossomes, budget, cut_size):\n",
    "    \"\"\"\n",
    "        :param: stock_value - \n",
    "        :param: list_chromossomes - \n",
    "        :param: budget - \n",
    "        :param: cut_size - \n",
    "        \n",
    "        :return: new_population - \n",
    "        :return: cut_size - \n",
    "    \"\"\"\n",
    "    fitness_array = fitness(stock_value, list_chromossomes, budget)\n",
    "#     fitness_array = linear_normalization(fitness_array)\n",
    "\n",
    "    adds_skills = 0\n",
    "    for fit in fitness_array:\n",
    "        adds_skills = adds_skills + fit[1]\n",
    "    \n",
    "    new_population = []\n",
    "    for i in range(cut_size):\n",
    "        r = random.uniform(0, adds_skills)\n",
    "        temp_soma = 0\n",
    "        for fit in fitness_array:\n",
    "            temp_soma = temp_soma + fit[1]\n",
    "            if temp_soma >= r:\n",
    "                new_population.append(fit[0])\n",
    "                break\n",
    "    return new_population, fitness(stock_value, new_population, budget)"
   ]
  },
  {
   "cell_type": "code",
   "execution_count": 11,
   "metadata": {},
   "outputs": [],
   "source": [
    "def stop_criterion(old_population, new_population, limit_to_converge):\n",
    "    \"\"\"\n",
    "        :param: old_population - populacao ao iniciar a iteracao\n",
    "        :param: new_population - populacao ao fim da iteracao\n",
    "        :param: limit_to_converge - limiar abaixo do qual iremos considerar que ambas as pop convergem\n",
    "\n",
    "        :return: True se for para parar, False c.c.\n",
    "    \"\"\"\n",
    "    soma_old = 0\n",
    "    for x in old_population:\n",
    "        soma_old = soma_old + x[1]\n",
    "\n",
    "    soma_new = 0\n",
    "    for x in new_population:\n",
    "        soma_new = soma_new + x[1]\n",
    "    \n",
    "    media_old = soma_old / len(old_population)\n",
    "    media_new = soma_new / len(new_population)\n",
    "    \n",
    "    if abs(media_new - media_old) < limit_to_converge:\n",
    "        return True\n",
    "    else:\n",
    "        return False"
   ]
  },
  {
   "cell_type": "code",
   "execution_count": 12,
   "metadata": {},
   "outputs": [],
   "source": [
    "def generate_children(old_generation, crossover_function, crossover_rate):\n",
    "    \"\"\"\n",
    "        :param: old_generation - \n",
    "        :param: crossover_function - \n",
    "        :param: crossover_rate - \n",
    "        \n",
    "        :return: children - \n",
    "    \"\"\"\n",
    "    size_generation = len(old_generation)\n",
    "    number_to_crossover = int(size_generation * crossover_rate)\n",
    "    random.shuffle(old_generation)\n",
    "    children = []\n",
    "    for i in range (number_to_crossover):\n",
    "        for j in range (i+1, number_to_crossover):\n",
    "            new_chromossome1, new_chromossome2 = crossover_function(old_generation[i], old_generation[j])\n",
    "            children.append(new_chromossome1)\n",
    "            children.append(new_chromossome2)\n",
    "    return children"
   ]
  },
  {
   "cell_type": "code",
   "execution_count": 13,
   "metadata": {},
   "outputs": [],
   "source": [
    "def mutation_chromossome(chromossomes, mutation_function, mutation_rate):\n",
    "    \"\"\"\n",
    "        :param: chromossomes - \n",
    "        :param: mutation_function - \n",
    "        :param: mutation_rate - \n",
    "        \n",
    "        :return: chromossomes - \n",
    "    \"\"\"\n",
    "    number_chromossomes_to_mutate = int(len(chromossomes) * mutation_rate)\n",
    "    random.shuffle(chromossomes)\n",
    "    for i in range (0,number_chromossomes_to_mutate):\n",
    "        chromossomes[i] = mutation_function(chromossomes[i])\n",
    "    return chromossomes\n",
    "    "
   ]
  },
  {
   "cell_type": "code",
   "execution_count": 14,
   "metadata": {},
   "outputs": [],
   "source": [
    "def evolutionary_strategy1(stock_values, first_population, budget, crossover_function, delta, mutation_rate, crossover_rate, min_iteration_converge):\n",
    "    \"\"\"\n",
    "        :param: stock_values - \n",
    "        :param: first_population - \n",
    "        :param: budget - \n",
    "        :param: crossover_function - \n",
    "        :param: delta -\n",
    "        \n",
    "        :return: old_population - \n",
    "    \"\"\"\n",
    "    flag = False\n",
    "    iteration = 0\n",
    "    old_population = first_population\n",
    "    while (not flag):\n",
    "        fitness_old_population = fitness(stock_values, old_population, budget)\n",
    "        children = generate_children(first_population, crossover_function, crossover_rate)\n",
    "        parents_and_children = old_population + children\n",
    "        chromossomes_parents_children_mutated = mutation_chromossome(parents_and_children, mutation_v2, mutation_rate)\n",
    "        new_population, fitness_new_population = selection(stock_values, chromossomes_parents_children_mutated, budget, len(old_population))\n",
    "        flag = (stop_criterion(fitness_old_population, fitness_new_population, delta) and iteration > min_iteration_converge)\n",
    "        iteration = iteration + 1\n",
    "        old_population = new_population\n",
    "    return old_population\n",
    "        "
   ]
  },
  {
   "cell_type": "code",
   "execution_count": 15,
   "metadata": {},
   "outputs": [],
   "source": [
    "def linear_normalization(fitness_population, increment=20):\n",
    "    pop_size = len(fitness_population)\n",
    "    fitness_population = sorted(fitness_population, key=lambda x: x[1], reverse = False)\n",
    "    min_value = 1\n",
    "    max_value = 201\n",
    "    normalized_fitness = []\n",
    "    for i in range(pop_size):\n",
    "        temp_fit = min_value + ((max_value - min_value)/(pop_size - 1)) * (i)\n",
    "        normalized_fitness.append([fitness_population[i][0],temp_fit])\n",
    "    \n",
    "    return normalized_fitness"
   ]
  },
  {
   "cell_type": "code",
   "execution_count": 16,
   "metadata": {},
   "outputs": [],
   "source": [
    "def evolutionary_strategy2(stock_values, first_population, budget, crossover_function, mutation_func,delta, mutation_rate, crossover_rate, min_iteration_converge):\n",
    "    \"\"\"\n",
    "        :param: stock_values - \n",
    "        :param: first_population - \n",
    "        :param: budget - \n",
    "        :param: crossover_function - \n",
    "        :param: mutation_func - \n",
    "        :param: delta -\n",
    "        \n",
    "        :return: old_population - \n",
    "    \"\"\"\n",
    "    flag = False\n",
    "    iteration = 0\n",
    "    old_population = first_population\n",
    "    while (not flag):\n",
    "        #         print(\"While: \", iteration)\n",
    "        fitness_old_population = fitness(stock_values, old_population, budget)\n",
    "        children = generate_children(first_population, crossover_function, crossover_rate)\n",
    "        parents_and_children = old_population + children\n",
    "        chromossomes_parents_children_mutated = mutation_chromossome(parents_and_children, mutation_func, mutation_rate)\n",
    "        chromossomes_parents_children_mutated = random.sample(chromossomes_parents_children_mutated, len(chromossomes_parents_children_mutated))\n",
    "        new_population, fitness_new_population = roulette_selection(stock_values, chromossomes_parents_children_mutated, budget, len(old_population))\n",
    "        flag = (stop_criterion(fitness_old_population, fitness_new_population, delta) and iteration > min_iteration_converge) or iteration > 100\n",
    "        iteration = iteration + 1\n",
    "        old_population = new_population\n",
    "    return old_population\n",
    "\n"
   ]
  },
  {
   "cell_type": "markdown",
   "metadata": {},
   "source": [
    "# Let's play"
   ]
  },
  {
   "cell_type": "markdown",
   "metadata": {},
   "source": [
    "## Primeiro conjunto de testes - Defuzzi: Risk - centroid Pct - LOM"
   ]
  },
  {
   "cell_type": "markdown",
   "metadata": {},
   "source": [
    "### Variaveis que serão usadas para a primeira população\n",
    "Para as ações da Alphabet serão testados:\n",
    "1. Dados Fixos:\n",
    "    1. Budget &rarr; 10.000,00\n",
    "    2. Delta para considerar convergência &rarr; 0.01\n",
    "2. Dados variáveis:\n",
    "    1. População:\n",
    "        1. Para uma população de 100 e outra de 1000, testamos:\n",
    "            1. Duas funções de Crossover:\n",
    "                1. Taxa de Crossover &rarr; 0.3\n",
    "                2. Taxa de Crossover &rarr; 0.8\n",
    "            2. Duas funções de Mutação:\n",
    "                1. Taxa de Mutação &rarr; 0.3\n",
    "                2. Taxa de Mutação &rarr; 0.8\n"
   ]
  },
  {
   "cell_type": "markdown",
   "metadata": {},
   "source": [
    "#### Primeira iteração:\n",
    "1. População &rarr; 100\n",
    "2. Budget &rarr; 10.000\n",
    "3. Delta &rarr; 0.01\n",
    "4. Crossover &rarr; crossover\n",
    "    1. Taxa &rarr; 0.3\n",
    "5. Mutação &rarr; mutation\n",
    "    1. Taxa &rarr; 0.3\n",
    "6. Melhor Resultado:\n",
    "    [[0.029757806673384436, 16, 10, 339], 1.6809029999999998]\n",
    "7. Pior Resultado:\n",
    "    [[0.0903877154523101, 24, 3, 304], 0.0]\n",
    "8. Média:\n",
    "    0.3572531\n",
    "9. Desvio:\n",
    "    0.409838862518003"
   ]
  },
  {
   "cell_type": "markdown",
   "metadata": {},
   "source": [
    "Dados fixos que serão usados para todas as iterações de 100 cromossomos"
   ]
  },
  {
   "cell_type": "code",
   "execution_count": 17,
   "metadata": {},
   "outputs": [],
   "source": [
    "population_len = 10\n",
    "budget = 10000\n",
    "delta_to_converge = 0.01\n",
    "min_iteration_converget = 3\n",
    "np_array = excels[6].values # Irá utilizar a primeira lista de valores da bolsa\n",
    "chromossomes = create_population(population_len)"
   ]
  },
  {
   "cell_type": "markdown",
   "metadata": {},
   "source": [
    "Aplicação da estratégia evolucionária"
   ]
  },
  {
   "cell_type": "code",
   "execution_count": 18,
   "metadata": {},
   "outputs": [],
   "source": [
    "# Dados variáveis\n",
    "mutation_rate = 0.3\n",
    "crossover_rate = 0.3"
   ]
  },
  {
   "cell_type": "code",
   "execution_count": 20,
   "metadata": {},
   "outputs": [
    {
     "name": "stdout",
     "output_type": "stream",
     "text": [
      "Tempo para convergir:  103.55 segundos\n"
     ]
    }
   ],
   "source": [
    "begin_time = time.time()\n",
    "best_chromossomes_1 = evolutionary_strategy2(np_array, chromossomes, budget, crossover, mutation, delta_to_converge, mutation_rate, crossover_rate, min_iteration_converget)\n",
    "print (\"Tempo para convergir: \", round(time.time() - begin_time, 2), \"segundos\")"
   ]
  },
  {
   "cell_type": "markdown",
   "metadata": {},
   "source": [
    "#### Resultados da Primeira Iteração"
   ]
  },
  {
   "cell_type": "code",
   "execution_count": 21,
   "metadata": {},
   "outputs": [
    {
     "data": {
      "text/plain": [
       "103.56"
      ]
     },
     "execution_count": 21,
     "metadata": {},
     "output_type": "execute_result"
    }
   ],
   "source": [
    "tempo_1 = round(time.time() - begin_time, 2)\n",
    "tempo_1"
   ]
  },
  {
   "cell_type": "code",
   "execution_count": 22,
   "metadata": {
    "scrolled": true
   },
   "outputs": [
    {
     "data": {
      "text/plain": [
       "[[[0.024387026319011622, 22, 25, 28], 0.22503000000000012],\n",
       " [[0.04859978793630076, 22, 16, 160], 0.2071],\n",
       " [[0.04859978793630076, 22, 16, 160], 0.2071],\n",
       " [[0.046079438124175004, 1, 16, 383], 0.22172000000000008],\n",
       " [[0.051268761198829, 9, 17, 266], 0.2071],\n",
       " [[0.024387026319011622, 22, 25, 28], 0.22503000000000012],\n",
       " [[0.05748448119077433, 18, 5, 477], 0.026895999999999913],\n",
       " [[0.019407448994008005, 14, 24, 273], 0.21732600000000002],\n",
       " [[0.051268761198829, 9, 17, 266], 0.2071],\n",
       " [[0.019407448994008005, 14, 24, 273], 0.21732600000000002]]"
      ]
     },
     "execution_count": 22,
     "metadata": {},
     "output_type": "execute_result"
    }
   ],
   "source": [
    "# best_chromossomes_1 = best_chromossomes_temp\n",
    "best_chromossomes_1 = fitness(np_array, best_chromossomes_1, budget)\n",
    "best_chromossomes_1"
   ]
  },
  {
   "cell_type": "code",
   "execution_count": 23,
   "metadata": {
    "scrolled": true
   },
   "outputs": [
    {
     "data": {
      "text/plain": [
       "[[[0.05748448119077433, 18, 5, 477], 0.026895999999999913],\n",
       " [[0.04859978793630076, 22, 16, 160], 0.2071],\n",
       " [[0.04859978793630076, 22, 16, 160], 0.2071],\n",
       " [[0.051268761198829, 9, 17, 266], 0.2071],\n",
       " [[0.051268761198829, 9, 17, 266], 0.2071],\n",
       " [[0.019407448994008005, 14, 24, 273], 0.21732600000000002],\n",
       " [[0.019407448994008005, 14, 24, 273], 0.21732600000000002],\n",
       " [[0.046079438124175004, 1, 16, 383], 0.22172000000000008],\n",
       " [[0.024387026319011622, 22, 25, 28], 0.22503000000000012],\n",
       " [[0.024387026319011622, 22, 25, 28], 0.22503000000000012]]"
      ]
     },
     "execution_count": 23,
     "metadata": {},
     "output_type": "execute_result"
    }
   ],
   "source": [
    "best_chromossomes_1 = sorted(best_chromossomes_1, key=lambda x: x[1], reverse = False)\n",
    "best_chromossomes_1"
   ]
  },
  {
   "cell_type": "markdown",
   "metadata": {},
   "source": [
    "Melhor cromossomo"
   ]
  },
  {
   "cell_type": "code",
   "execution_count": 24,
   "metadata": {},
   "outputs": [
    {
     "data": {
      "text/plain": [
       "[[0.024387026319011622, 22, 25, 28], 0.22503000000000012]"
      ]
     },
     "execution_count": 24,
     "metadata": {},
     "output_type": "execute_result"
    }
   ],
   "source": [
    "best_1 = best_chromossomes_1[-1]\n",
    "best_1"
   ]
  },
  {
   "cell_type": "markdown",
   "metadata": {},
   "source": [
    "Pior cromossomo"
   ]
  },
  {
   "cell_type": "code",
   "execution_count": 25,
   "metadata": {},
   "outputs": [
    {
     "data": {
      "text/plain": [
       "[[0.05748448119077433, 18, 5, 477], 0.026895999999999913]"
      ]
     },
     "execution_count": 25,
     "metadata": {},
     "output_type": "execute_result"
    }
   ],
   "source": [
    "worst_1 = best_chromossomes_1[0]\n",
    "worst_1"
   ]
  },
  {
   "cell_type": "markdown",
   "metadata": {},
   "source": [
    "Valor médio dos fitness"
   ]
  },
  {
   "cell_type": "code",
   "execution_count": 26,
   "metadata": {},
   "outputs": [
    {
     "data": {
      "text/plain": [
       "0.1961728"
      ]
     },
     "execution_count": 26,
     "metadata": {},
     "output_type": "execute_result"
    }
   ],
   "source": [
    "mean_1 = 0\n",
    "for x in best_chromossomes_1: mean_1 = mean_1 + x[1]\n",
    "mean_1 = mean_1/len(best_chromossomes_1)\n",
    "mean_1"
   ]
  },
  {
   "cell_type": "code",
   "execution_count": 27,
   "metadata": {},
   "outputs": [
    {
     "data": {
      "text/plain": [
       "0.05994933135536676"
      ]
     },
     "execution_count": 27,
     "metadata": {},
     "output_type": "execute_result"
    }
   ],
   "source": [
    "std_1 = 0\n",
    "for x in best_chromossomes_1: std_1 = std_1 + (x[1] - mean_1) ** 2\n",
    "std_1 = (std_1 / (len(best_chromossomes_1) - 1)) ** (1/2)\n",
    "std_1"
   ]
  },
  {
   "cell_type": "markdown",
   "metadata": {},
   "source": [
    "#### Segunda iteração:\n",
    "1. População &rarr; 100\n",
    "2. Budget &rarr; 10.000\n",
    "3. Delta &rarr; 0.001\n",
    "4. Crossover &rarr; crossover\n",
    "    1. Taxa &rarr; 0.8\n",
    "5. Mutação &rarr; mutation\n",
    "    1. Taxa &rarr; 0.3"
   ]
  },
  {
   "cell_type": "code",
   "execution_count": 28,
   "metadata": {},
   "outputs": [],
   "source": [
    "# Dados variáveis\n",
    "mutation_rate = 0.3\n",
    "crossover_rate = 0.8"
   ]
  },
  {
   "cell_type": "code",
   "execution_count": 29,
   "metadata": {
    "scrolled": true
   },
   "outputs": [
    {
     "name": "stdout",
     "output_type": "stream",
     "text": [
      "Tempo para convergir:  153.58 segundos\n"
     ]
    }
   ],
   "source": [
    "begin_time = time.time()\n",
    "best_chromossomes_2 = evolutionary_strategy2(np_array, chromossomes, budget, crossover, mutation, delta_to_converge, mutation_rate, crossover_rate, min_iteration_converget)\n",
    "print (\"Tempo para convergir: \", round(time.time() - begin_time, 2), \"segundos\")"
   ]
  },
  {
   "cell_type": "markdown",
   "metadata": {},
   "source": [
    "Resultado da segunda iteração"
   ]
  },
  {
   "cell_type": "code",
   "execution_count": 103,
   "metadata": {},
   "outputs": [
    {
     "data": {
      "text/plain": [
       "153.58"
      ]
     },
     "execution_count": 103,
     "metadata": {},
     "output_type": "execute_result"
    }
   ],
   "source": [
    "tempo_2 = 153.58\n",
    "tempo_2"
   ]
  },
  {
   "cell_type": "code",
   "execution_count": 31,
   "metadata": {},
   "outputs": [],
   "source": [
    "best_chromossomes_2 = fitness(np_array, best_chromossomes_2, budget)"
   ]
  },
  {
   "cell_type": "code",
   "execution_count": 32,
   "metadata": {
    "scrolled": true
   },
   "outputs": [],
   "source": [
    "best_chromossomes_2 = sorted(best_chromossomes_2, key=lambda x: x[1], reverse = False)"
   ]
  },
  {
   "cell_type": "markdown",
   "metadata": {},
   "source": [
    "Melhor cromossomo"
   ]
  },
  {
   "cell_type": "code",
   "execution_count": 33,
   "metadata": {},
   "outputs": [
    {
     "data": {
      "text/plain": [
       "[[0.04859978793630076, 22, 25, 354], 0.3264580000000002]"
      ]
     },
     "execution_count": 33,
     "metadata": {},
     "output_type": "execute_result"
    }
   ],
   "source": [
    "best_2 = best_chromossomes_2[-1]\n",
    "best_2"
   ]
  },
  {
   "cell_type": "markdown",
   "metadata": {},
   "source": [
    "Pior cromossomo"
   ]
  },
  {
   "cell_type": "code",
   "execution_count": 34,
   "metadata": {},
   "outputs": [
    {
     "data": {
      "text/plain": [
       "[[0.04859978793630076, 22, 21, 28], 0.027184000000000014]"
      ]
     },
     "execution_count": 34,
     "metadata": {},
     "output_type": "execute_result"
    }
   ],
   "source": [
    "worst_2 = best_chromossomes_2[0]\n",
    "worst_2"
   ]
  },
  {
   "cell_type": "markdown",
   "metadata": {},
   "source": [
    "Valor médio dos fitness"
   ]
  },
  {
   "cell_type": "code",
   "execution_count": 35,
   "metadata": {},
   "outputs": [
    {
     "data": {
      "text/plain": [
       "0.17815560000000003"
      ]
     },
     "execution_count": 35,
     "metadata": {},
     "output_type": "execute_result"
    }
   ],
   "source": [
    "mean_2 = 0\n",
    "for x in best_chromossomes_2: mean_2 = mean_2 + x[1]\n",
    "mean_2 = mean_2/len(best_chromossomes_2)\n",
    "mean_2"
   ]
  },
  {
   "cell_type": "code",
   "execution_count": 36,
   "metadata": {},
   "outputs": [
    {
     "data": {
      "text/plain": [
       "0.10646482022109988"
      ]
     },
     "execution_count": 36,
     "metadata": {},
     "output_type": "execute_result"
    }
   ],
   "source": [
    "std_2 = 0\n",
    "for x in best_chromossomes_2: std_2 = std_2 + (x[1] - mean_2) ** 2\n",
    "std_2 = (std_2 / (len(best_chromossomes_2) - 1)) ** (1/2)\n",
    "std_2"
   ]
  },
  {
   "cell_type": "markdown",
   "metadata": {},
   "source": [
    "#### Terceira iteração:\n",
    "1. População &rarr; 100\n",
    "2. Budget &rarr; 10.000\n",
    "3. Delta &rarr; 0.001\n",
    "4. Crossover &rarr; crossover\n",
    "    1. Taxa &rarr; 0.3\n",
    "5. Mutação &rarr; mutation\n",
    "    1. Taxa &rarr; 0.8"
   ]
  },
  {
   "cell_type": "code",
   "execution_count": 37,
   "metadata": {},
   "outputs": [],
   "source": [
    "# Dados variáveis\n",
    "mutation_rate = 0.8\n",
    "crossover_rate = 0.3"
   ]
  },
  {
   "cell_type": "code",
   "execution_count": 39,
   "metadata": {},
   "outputs": [
    {
     "name": "stdout",
     "output_type": "stream",
     "text": [
      "Tempo para convergir:  86.96 segundos\n"
     ]
    }
   ],
   "source": [
    "begin_time = time.time()\n",
    "best_chromossomes_3 = evolutionary_strategy2(np_array, chromossomes, budget, crossover, mutation, delta_to_converge, mutation_rate, crossover_rate, min_iteration_converget)\n",
    "print (\"Tempo para convergir: \", round(time.time() - begin_time, 2), \"segundos\")"
   ]
  },
  {
   "cell_type": "markdown",
   "metadata": {},
   "source": [
    "Resultado da terceira iteração"
   ]
  },
  {
   "cell_type": "code",
   "execution_count": 40,
   "metadata": {},
   "outputs": [],
   "source": [
    "tempo_3 = round(time.time() - begin_time, 2)"
   ]
  },
  {
   "cell_type": "code",
   "execution_count": 110,
   "metadata": {},
   "outputs": [
    {
     "data": {
      "text/plain": [
       "299.69"
      ]
     },
     "execution_count": 110,
     "metadata": {},
     "output_type": "execute_result"
    }
   ],
   "source": [
    "tempo_9"
   ]
  },
  {
   "cell_type": "code",
   "execution_count": 41,
   "metadata": {},
   "outputs": [],
   "source": [
    "best_chromossomes_3 = fitness(np_array, best_chromossomes_3, budget)"
   ]
  },
  {
   "cell_type": "code",
   "execution_count": 42,
   "metadata": {
    "scrolled": true
   },
   "outputs": [],
   "source": [
    "best_chromossomes_3 = sorted(best_chromossomes_3, key=lambda x: x[1], reverse = False)"
   ]
  },
  {
   "cell_type": "markdown",
   "metadata": {},
   "source": [
    "Melhor cromossomo"
   ]
  },
  {
   "cell_type": "code",
   "execution_count": 43,
   "metadata": {},
   "outputs": [
    {
     "data": {
      "text/plain": [
       "[[0.05192811268481813, 1, 24, 306], 0.2071]"
      ]
     },
     "execution_count": 43,
     "metadata": {},
     "output_type": "execute_result"
    }
   ],
   "source": [
    "best_3 = best_chromossomes_3[-1]\n",
    "best_3"
   ]
  },
  {
   "cell_type": "markdown",
   "metadata": {},
   "source": [
    "Pior cromossomo"
   ]
  },
  {
   "cell_type": "code",
   "execution_count": 44,
   "metadata": {},
   "outputs": [
    {
     "data": {
      "text/plain": [
       "[[0.013584148004297227, 16, 11, 134], 0.09415900000000002]"
      ]
     },
     "execution_count": 44,
     "metadata": {},
     "output_type": "execute_result"
    }
   ],
   "source": [
    "worst_3 = best_chromossomes_3[0]\n",
    "worst_3"
   ]
  },
  {
   "cell_type": "markdown",
   "metadata": {},
   "source": [
    "Valor médio dos fitness"
   ]
  },
  {
   "cell_type": "code",
   "execution_count": 45,
   "metadata": {},
   "outputs": [
    {
     "data": {
      "text/plain": [
       "0.14719229999999997"
      ]
     },
     "execution_count": 45,
     "metadata": {},
     "output_type": "execute_result"
    }
   ],
   "source": [
    "mean_3 = 0\n",
    "for x in best_chromossomes_3: mean_3 = mean_3 + x[1]\n",
    "mean_3 = mean_3/len(best_chromossomes_3)\n",
    "mean_3"
   ]
  },
  {
   "cell_type": "code",
   "execution_count": 46,
   "metadata": {},
   "outputs": [
    {
     "data": {
      "text/plain": [
       "0.03462094230712585"
      ]
     },
     "execution_count": 46,
     "metadata": {},
     "output_type": "execute_result"
    }
   ],
   "source": [
    "std_3 = 0\n",
    "for x in best_chromossomes_3: std_3 = std_3 + (x[1] - mean_3) ** 2\n",
    "std_3 = (std_3 / (len(best_chromossomes_3) - 1)) ** (1/2)\n",
    "std_3"
   ]
  },
  {
   "cell_type": "markdown",
   "metadata": {},
   "source": [
    "#### Quarta iteração:\n",
    "1. População &rarr; 100\n",
    "2. Budget &rarr; 10.000\n",
    "3. Delta &rarr; 0.001\n",
    "4. Crossover &rarr; crossover2\n",
    "    1. Taxa &rarr; 0.3\n",
    "5. Mutação &rarr; mutation\n",
    "    1. Taxa &rarr; 0.3"
   ]
  },
  {
   "cell_type": "code",
   "execution_count": 47,
   "metadata": {},
   "outputs": [],
   "source": [
    "# Dados variáveis\n",
    "mutation_rate = 0.3\n",
    "crossover_rate = 0.3"
   ]
  },
  {
   "cell_type": "code",
   "execution_count": 48,
   "metadata": {},
   "outputs": [
    {
     "name": "stdout",
     "output_type": "stream",
     "text": [
      "Tempo para convergir:  166.02 segundos\n"
     ]
    }
   ],
   "source": [
    "begin_time = time.time()\n",
    "best_chromossomes_4 = evolutionary_strategy2(np_array, chromossomes, budget, crossover2, mutation, delta_to_converge, mutation_rate, crossover_rate, min_iteration_converget)\n",
    "print (\"Tempo para convergir: \", round(time.time() - begin_time, 2), \"segundos\")"
   ]
  },
  {
   "cell_type": "code",
   "execution_count": 49,
   "metadata": {},
   "outputs": [],
   "source": [
    "tempo_4 = round(time.time() - begin_time, 2)"
   ]
  },
  {
   "cell_type": "code",
   "execution_count": 50,
   "metadata": {},
   "outputs": [],
   "source": [
    "best_chromossomes_4 = fitness(np_array, best_chromossomes_4, budget)"
   ]
  },
  {
   "cell_type": "code",
   "execution_count": 51,
   "metadata": {
    "scrolled": true
   },
   "outputs": [],
   "source": [
    "best_chromossomes_4 = sorted(best_chromossomes_4, key=lambda x: x[1], reverse = False)"
   ]
  },
  {
   "cell_type": "markdown",
   "metadata": {},
   "source": [
    "Melhor cromossomo"
   ]
  },
  {
   "cell_type": "code",
   "execution_count": 52,
   "metadata": {},
   "outputs": [
    {
     "data": {
      "text/plain": [
       "[[0.049908325920641226, 11, 5, 450], 0.18339899999999998]"
      ]
     },
     "execution_count": 52,
     "metadata": {},
     "output_type": "execute_result"
    }
   ],
   "source": [
    "best_4 = best_chromossomes_4[-1]\n",
    "best_4"
   ]
  },
  {
   "cell_type": "markdown",
   "metadata": {},
   "source": [
    "Pior cromossomo"
   ]
  },
  {
   "cell_type": "code",
   "execution_count": 53,
   "metadata": {},
   "outputs": [
    {
     "data": {
      "text/plain": [
       "[[0.019496509502395395, 29, 4, 231], 0.03639700000000012]"
      ]
     },
     "execution_count": 53,
     "metadata": {},
     "output_type": "execute_result"
    }
   ],
   "source": [
    "worst_4 = best_chromossomes_4[0]\n",
    "worst_4"
   ]
  },
  {
   "cell_type": "markdown",
   "metadata": {},
   "source": [
    "Valor médio dos fitness"
   ]
  },
  {
   "cell_type": "code",
   "execution_count": 54,
   "metadata": {},
   "outputs": [
    {
     "data": {
      "text/plain": [
       "0.13754910000000004"
      ]
     },
     "execution_count": 54,
     "metadata": {},
     "output_type": "execute_result"
    }
   ],
   "source": [
    "mean_4 = 0\n",
    "for x in best_chromossomes_4: mean_4 = mean_4 + x[1]\n",
    "mean_4 = mean_4/len(best_chromossomes_4)\n",
    "mean_4"
   ]
  },
  {
   "cell_type": "code",
   "execution_count": 55,
   "metadata": {},
   "outputs": [
    {
     "data": {
      "text/plain": [
       "0.06566504036302552"
      ]
     },
     "execution_count": 55,
     "metadata": {},
     "output_type": "execute_result"
    }
   ],
   "source": [
    "std_4 = 0\n",
    "for x in best_chromossomes_4: std_4 = std_4 + (x[1] - mean_4) ** 2\n",
    "std_4 = (std_4 / (len(best_chromossomes_4) - 1)) ** (1/2)\n",
    "std_4"
   ]
  },
  {
   "cell_type": "markdown",
   "metadata": {},
   "source": [
    "#### Quinta iteração:\n",
    "1. População &rarr; 100\n",
    "2. Budget &rarr; 10.000\n",
    "3. Delta &rarr; 0.001\n",
    "4. Crossover &rarr; crossover2\n",
    "    1. Taxa &rarr; 0.8\n",
    "5. Mutação &rarr; mutation\n",
    "    1. Taxa &rarr; 0.3"
   ]
  },
  {
   "cell_type": "code",
   "execution_count": 56,
   "metadata": {},
   "outputs": [],
   "source": [
    "# Dados variáveis\n",
    "mutation_rate = 0.3\n",
    "crossover_rate = 0.8"
   ]
  },
  {
   "cell_type": "code",
   "execution_count": 58,
   "metadata": {},
   "outputs": [
    {
     "name": "stdout",
     "output_type": "stream",
     "text": [
      "Tempo para convergir:  442.55 segundos\n"
     ]
    }
   ],
   "source": [
    "begin_time = time.time()\n",
    "best_chromossomes_5 = evolutionary_strategy2(np_array, chromossomes, budget, crossover2, mutation, delta_to_converge, mutation_rate, crossover_rate, min_iteration_converget)\n",
    "print (\"Tempo para convergir: \", round(time.time() - begin_time, 2), \"segundos\")"
   ]
  },
  {
   "cell_type": "markdown",
   "metadata": {},
   "source": [
    "Resultado da quinta iteração"
   ]
  },
  {
   "cell_type": "code",
   "execution_count": 59,
   "metadata": {},
   "outputs": [],
   "source": [
    "tempo_5 = round(time.time() - begin_time, 2)"
   ]
  },
  {
   "cell_type": "code",
   "execution_count": 60,
   "metadata": {},
   "outputs": [],
   "source": [
    "best_chromossomes_5 = fitness(np_array, best_chromossomes_5, budget)"
   ]
  },
  {
   "cell_type": "code",
   "execution_count": 61,
   "metadata": {
    "scrolled": true
   },
   "outputs": [],
   "source": [
    "best_chromossomes_5 = sorted(best_chromossomes_5, key=lambda x: x[1], reverse = False)"
   ]
  },
  {
   "cell_type": "markdown",
   "metadata": {},
   "source": [
    "Melhor cromossomo"
   ]
  },
  {
   "cell_type": "code",
   "execution_count": 62,
   "metadata": {},
   "outputs": [
    {
     "data": {
      "text/plain": [
       "[[0.0477042104268528, 2, 30, 37], 0.2071]"
      ]
     },
     "execution_count": 62,
     "metadata": {},
     "output_type": "execute_result"
    }
   ],
   "source": [
    "best_5 = best_chromossomes_5[-1]\n",
    "best_5"
   ]
  },
  {
   "cell_type": "markdown",
   "metadata": {},
   "source": [
    "Pior cromossomo"
   ]
  },
  {
   "cell_type": "code",
   "execution_count": 63,
   "metadata": {},
   "outputs": [
    {
     "data": {
      "text/plain": [
       "[[0.07392231270778872, 14, 25, 242], 0.030496000000000096]"
      ]
     },
     "execution_count": 63,
     "metadata": {},
     "output_type": "execute_result"
    }
   ],
   "source": [
    "worst_5 = best_chromossomes_5[0]\n",
    "worst_5"
   ]
  },
  {
   "cell_type": "markdown",
   "metadata": {},
   "source": [
    "Valor médio dos fitness"
   ]
  },
  {
   "cell_type": "code",
   "execution_count": 64,
   "metadata": {},
   "outputs": [
    {
     "data": {
      "text/plain": [
       "0.15108589999999997"
      ]
     },
     "execution_count": 64,
     "metadata": {},
     "output_type": "execute_result"
    }
   ],
   "source": [
    "mean_5 = 0\n",
    "for x in best_chromossomes_5: mean_5 = mean_5 + x[1]\n",
    "mean_5 = mean_5/len(best_chromossomes_5)\n",
    "mean_5"
   ]
  },
  {
   "cell_type": "code",
   "execution_count": 65,
   "metadata": {},
   "outputs": [
    {
     "data": {
      "text/plain": [
       "0.0684914557111566"
      ]
     },
     "execution_count": 65,
     "metadata": {},
     "output_type": "execute_result"
    }
   ],
   "source": [
    "std_5 = 0\n",
    "for x in best_chromossomes_5: std_5 = std_5 + (x[1] - mean_5) ** 2\n",
    "std_5 = (std_5 / (len(best_chromossomes_5) - 1)) ** (1/2)\n",
    "std_5"
   ]
  },
  {
   "cell_type": "markdown",
   "metadata": {},
   "source": [
    "#### Sexta iteração:\n",
    "1. População &rarr; 100\n",
    "2. Budget &rarr; 10.000\n",
    "3. Delta &rarr; 0.001\n",
    "4. Crossover &rarr; crossover2\n",
    "    1. Taxa &rarr; 0.3\n",
    "5. Mutação &rarr; mutation\n",
    "    1. Taxa &rarr; 0.8"
   ]
  },
  {
   "cell_type": "code",
   "execution_count": 66,
   "metadata": {},
   "outputs": [],
   "source": [
    "# Dados variáveis\n",
    "mutation_rate = 0.8\n",
    "crossover_rate = 0.3"
   ]
  },
  {
   "cell_type": "code",
   "execution_count": 67,
   "metadata": {},
   "outputs": [
    {
     "name": "stdout",
     "output_type": "stream",
     "text": [
      "Tempo para convergir:  288.24 segundos\n"
     ]
    }
   ],
   "source": [
    "begin_time = time.time()\n",
    "best_chromossomes_6 = evolutionary_strategy2(np_array, chromossomes, budget, crossover2, mutation, delta_to_converge, mutation_rate, crossover_rate, min_iteration_converget)\n",
    "print (\"Tempo para convergir: \", round(time.time() - begin_time, 2), \"segundos\")"
   ]
  },
  {
   "cell_type": "markdown",
   "metadata": {},
   "source": [
    "Resultado da sexta iteração"
   ]
  },
  {
   "cell_type": "code",
   "execution_count": 68,
   "metadata": {},
   "outputs": [],
   "source": [
    "tempo_6 = round(time.time() - begin_time, 2)"
   ]
  },
  {
   "cell_type": "code",
   "execution_count": 69,
   "metadata": {},
   "outputs": [],
   "source": [
    "best_chromossomes_6 = fitness(np_array, best_chromossomes_6, budget)"
   ]
  },
  {
   "cell_type": "code",
   "execution_count": 70,
   "metadata": {
    "scrolled": true
   },
   "outputs": [],
   "source": [
    "best_chromossomes_6 = sorted(best_chromossomes_6, key=lambda x: x[1], reverse = False)"
   ]
  },
  {
   "cell_type": "markdown",
   "metadata": {},
   "source": [
    "Melhor cromossomo"
   ]
  },
  {
   "cell_type": "code",
   "execution_count": 71,
   "metadata": {},
   "outputs": [
    {
     "data": {
      "text/plain": [
       "[[0.06844099679841738, 23, 8, 175], 0.14282999999999993]"
      ]
     },
     "execution_count": 71,
     "metadata": {},
     "output_type": "execute_result"
    }
   ],
   "source": [
    "best_6 = best_chromossomes_6[-1]\n",
    "best_6"
   ]
  },
  {
   "cell_type": "markdown",
   "metadata": {},
   "source": [
    "Pior cromossomo"
   ]
  },
  {
   "cell_type": "code",
   "execution_count": 72,
   "metadata": {},
   "outputs": [
    {
     "data": {
      "text/plain": [
       "[[0.06844099679841738, 22, 19, 229], 0.030496000000000096]"
      ]
     },
     "execution_count": 72,
     "metadata": {},
     "output_type": "execute_result"
    }
   ],
   "source": [
    "worst_6 = best_chromossomes_6[0]\n",
    "worst_6"
   ]
  },
  {
   "cell_type": "markdown",
   "metadata": {},
   "source": [
    "Valor médio dos fitness"
   ]
  },
  {
   "cell_type": "code",
   "execution_count": 73,
   "metadata": {},
   "outputs": [
    {
     "data": {
      "text/plain": [
       "0.1269251"
      ]
     },
     "execution_count": 73,
     "metadata": {},
     "output_type": "execute_result"
    }
   ],
   "source": [
    "mean_6 = 0\n",
    "for x in best_chromossomes_6: mean_6 = mean_6 + x[1]\n",
    "mean_6 = mean_6/len(best_chromossomes_6)\n",
    "mean_6"
   ]
  },
  {
   "cell_type": "code",
   "execution_count": 74,
   "metadata": {},
   "outputs": [
    {
     "data": {
      "text/plain": [
       "0.03565939258674426"
      ]
     },
     "execution_count": 74,
     "metadata": {},
     "output_type": "execute_result"
    }
   ],
   "source": [
    "std_6 = 0\n",
    "for x in best_chromossomes_6: std_6 = std_6 + (x[1] - mean_6) ** 2\n",
    "std_6 = (std_6 / (len(best_chromossomes_6) - 1)) ** (1/2)\n",
    "std_6"
   ]
  },
  {
   "cell_type": "markdown",
   "metadata": {},
   "source": [
    "#### Sétima iteração:\n",
    "1. População &rarr; 100\n",
    "2. Budget &rarr; 10.000\n",
    "3. Delta &rarr; 0.001\n",
    "4. Crossover &rarr; crossover\n",
    "    1. Taxa &rarr; 0.3\n",
    "5. Mutação &rarr; mutation_v2\n",
    "    1. Taxa &rarr; 0.3"
   ]
  },
  {
   "cell_type": "code",
   "execution_count": 75,
   "metadata": {},
   "outputs": [],
   "source": [
    "# Dados variáveis\n",
    "mutation_rate = 0.3\n",
    "crossover_rate = 0.3"
   ]
  },
  {
   "cell_type": "code",
   "execution_count": 76,
   "metadata": {},
   "outputs": [
    {
     "name": "stdout",
     "output_type": "stream",
     "text": [
      "Tempo para convergir:  102.47 segundos\n"
     ]
    }
   ],
   "source": [
    "begin_time = time.time()\n",
    "best_chromossomes_7 = evolutionary_strategy2(np_array, chromossomes, budget, crossover, mutation_v2, delta_to_converge, mutation_rate, crossover_rate, min_iteration_converget)\n",
    "print (\"Tempo para convergir: \", round(time.time() - begin_time, 2), \"segundos\")"
   ]
  },
  {
   "cell_type": "markdown",
   "metadata": {},
   "source": [
    "Resultado da sétima iteração"
   ]
  },
  {
   "cell_type": "code",
   "execution_count": 77,
   "metadata": {},
   "outputs": [],
   "source": [
    "tempo_7 = round(time.time() - begin_time, 2)"
   ]
  },
  {
   "cell_type": "code",
   "execution_count": 78,
   "metadata": {},
   "outputs": [],
   "source": [
    "best_chromossomes_7 = fitness(np_array, best_chromossomes_7, budget)"
   ]
  },
  {
   "cell_type": "code",
   "execution_count": 79,
   "metadata": {
    "scrolled": true
   },
   "outputs": [],
   "source": [
    "best_chromossomes_7 = sorted(best_chromossomes_7, key=lambda x: x[1], reverse = False)"
   ]
  },
  {
   "cell_type": "markdown",
   "metadata": {},
   "source": [
    "Melhor cromossomo"
   ]
  },
  {
   "cell_type": "code",
   "execution_count": 80,
   "metadata": {},
   "outputs": [
    {
     "data": {
      "text/plain": [
       "[[0.039024865585914066, 11, 24, 411], 0.07430499999999993]"
      ]
     },
     "execution_count": 80,
     "metadata": {},
     "output_type": "execute_result"
    }
   ],
   "source": [
    "best_7 = best_chromossomes_7[-1]\n",
    "best_7"
   ]
  },
  {
   "cell_type": "markdown",
   "metadata": {},
   "source": [
    "Pior cromossomo"
   ]
  },
  {
   "cell_type": "code",
   "execution_count": 81,
   "metadata": {},
   "outputs": [
    {
     "data": {
      "text/plain": [
       "[[0.06841443732086265, 1, 29, 163], 0.030496000000000096]"
      ]
     },
     "execution_count": 81,
     "metadata": {},
     "output_type": "execute_result"
    }
   ],
   "source": [
    "worst_7 = best_chromossomes_7[0]\n",
    "worst_7"
   ]
  },
  {
   "cell_type": "markdown",
   "metadata": {},
   "source": [
    "Valor médio dos fitness"
   ]
  },
  {
   "cell_type": "code",
   "execution_count": 82,
   "metadata": {},
   "outputs": [
    {
     "data": {
      "text/plain": [
       "0.05825580000000001"
      ]
     },
     "execution_count": 82,
     "metadata": {},
     "output_type": "execute_result"
    }
   ],
   "source": [
    "mean_7 = 0\n",
    "for x in best_chromossomes_7: mean_7 = mean_7 + x[1]\n",
    "mean_7 = mean_7/len(best_chromossomes_7)\n",
    "mean_7"
   ]
  },
  {
   "cell_type": "code",
   "execution_count": 83,
   "metadata": {},
   "outputs": [
    {
     "data": {
      "text/plain": [
       "0.021152072295640353"
      ]
     },
     "execution_count": 83,
     "metadata": {},
     "output_type": "execute_result"
    }
   ],
   "source": [
    "std_7 = 0\n",
    "for x in best_chromossomes_7: std_7 = std_7 + (x[1] - mean_7) ** 2\n",
    "std_7 = (std_7 / (len(best_chromossomes_7) - 1)) ** (1/2)\n",
    "std_7"
   ]
  },
  {
   "cell_type": "markdown",
   "metadata": {},
   "source": [
    "#### Oitava iteração:\n",
    "1. População &rarr; 100\n",
    "2. Budget &rarr; 10.000\n",
    "3. Delta &rarr; 0.001\n",
    "4. Crossover &rarr; crossover\n",
    "    1. Taxa &rarr; 0.8\n",
    "5. Mutação &rarr; mutation_v2\n",
    "    1. Taxa &rarr; 0.3"
   ]
  },
  {
   "cell_type": "code",
   "execution_count": 84,
   "metadata": {},
   "outputs": [],
   "source": [
    "# Dados variáveis\n",
    "mutation_rate = 0.3\n",
    "crossover_rate = 0.8"
   ]
  },
  {
   "cell_type": "code",
   "execution_count": 85,
   "metadata": {},
   "outputs": [
    {
     "name": "stdout",
     "output_type": "stream",
     "text": [
      "Tempo para convergir:  218.51 segundos\n"
     ]
    }
   ],
   "source": [
    "begin_time = time.time()\n",
    "best_chromossomes_8 = evolutionary_strategy2(np_array, chromossomes, budget, crossover, mutation_v2, delta_to_converge, mutation_rate, crossover_rate, min_iteration_converget)\n",
    "print (\"Tempo para convergir: \", round(time.time() - begin_time, 2), \"segundos\")"
   ]
  },
  {
   "cell_type": "markdown",
   "metadata": {},
   "source": [
    "Resultado da oitava iteração"
   ]
  },
  {
   "cell_type": "code",
   "execution_count": 86,
   "metadata": {},
   "outputs": [],
   "source": [
    "tempo_8 = round(time.time() - begin_time, 2)"
   ]
  },
  {
   "cell_type": "code",
   "execution_count": 87,
   "metadata": {},
   "outputs": [],
   "source": [
    "best_chromossomes_8 = fitness(np_array, best_chromossomes_8, budget)"
   ]
  },
  {
   "cell_type": "code",
   "execution_count": 88,
   "metadata": {
    "scrolled": true
   },
   "outputs": [],
   "source": [
    "best_chromossomes_8 = sorted(best_chromossomes_8, key=lambda x: x[1], reverse = False)"
   ]
  },
  {
   "cell_type": "markdown",
   "metadata": {},
   "source": [
    "Melhor cromossomo"
   ]
  },
  {
   "cell_type": "code",
   "execution_count": 89,
   "metadata": {},
   "outputs": [
    {
     "data": {
      "text/plain": [
       "[[0.03381512981563863, 11, 5, 365], 0.17741499999999996]"
      ]
     },
     "execution_count": 89,
     "metadata": {},
     "output_type": "execute_result"
    }
   ],
   "source": [
    "best_8 = best_chromossomes_8[-1]\n",
    "best_8"
   ]
  },
  {
   "cell_type": "markdown",
   "metadata": {},
   "source": [
    "Pior cromossomo"
   ]
  },
  {
   "cell_type": "code",
   "execution_count": 90,
   "metadata": {},
   "outputs": [
    {
     "data": {
      "text/plain": [
       "[[0.07236401539451241, 16, 22, 365], 0.030496000000000096]"
      ]
     },
     "execution_count": 90,
     "metadata": {},
     "output_type": "execute_result"
    }
   ],
   "source": [
    "worst_8 = best_chromossomes_8[0]\n",
    "worst_8"
   ]
  },
  {
   "cell_type": "markdown",
   "metadata": {},
   "source": [
    "Valor médio dos fitness"
   ]
  },
  {
   "cell_type": "code",
   "execution_count": 91,
   "metadata": {},
   "outputs": [
    {
     "data": {
      "text/plain": [
       "0.11503419999999995"
      ]
     },
     "execution_count": 91,
     "metadata": {},
     "output_type": "execute_result"
    }
   ],
   "source": [
    "mean_8 = 0\n",
    "for x in best_chromossomes_8: mean_8 = mean_8 + x[1]\n",
    "mean_8 = mean_8/len(best_chromossomes_8)\n",
    "mean_8"
   ]
  },
  {
   "cell_type": "code",
   "execution_count": 92,
   "metadata": {},
   "outputs": [
    {
     "data": {
      "text/plain": [
       "0.1293870715519907"
      ]
     },
     "execution_count": 92,
     "metadata": {},
     "output_type": "execute_result"
    }
   ],
   "source": [
    "std_8 = 0\n",
    "for x in best_chromossomes_8: std_8 = std_8 + (x[1] - mean_8) ** 2\n",
    "std_8 = (std_8 / (len(best_chromossomes_8) - 8)) ** (1/2)\n",
    "std_8"
   ]
  },
  {
   "cell_type": "markdown",
   "metadata": {},
   "source": [
    "#### Nona iteração:\n",
    "1. População &rarr; 100\n",
    "2. Budget &rarr; 10.000\n",
    "3. Delta &rarr; 0.001\n",
    "4. Crossover &rarr; crossover\n",
    "    1. Taxa &rarr; 0.3\n",
    "5. Mutação &rarr; mutation_v2\n",
    "    1. Taxa &rarr; 0.8"
   ]
  },
  {
   "cell_type": "code",
   "execution_count": 93,
   "metadata": {},
   "outputs": [],
   "source": [
    "# Dados variáveis\n",
    "mutation_rate = 0.8\n",
    "crossover_rate = 0.3"
   ]
  },
  {
   "cell_type": "code",
   "execution_count": 94,
   "metadata": {},
   "outputs": [
    {
     "name": "stdout",
     "output_type": "stream",
     "text": [
      "Tempo para convergir:  96.69 segundos\n"
     ]
    }
   ],
   "source": [
    "begin_time = time.time()\n",
    "best_chromossomes_9 = evolutionary_strategy2(np_array, chromossomes, budget, crossover, mutation_v2, delta_to_converge, mutation_rate, crossover_rate, min_iteration_converget)\n",
    "print (\"Tempo para convergir: \", round(time.time() - begin_time, 2), \"segundos\")"
   ]
  },
  {
   "cell_type": "markdown",
   "metadata": {},
   "source": [
    "Resultado da nona iteração"
   ]
  },
  {
   "cell_type": "code",
   "execution_count": 95,
   "metadata": {},
   "outputs": [],
   "source": [
    "tempo_9 = round(time.time() - begin_time, 2)"
   ]
  },
  {
   "cell_type": "code",
   "execution_count": 96,
   "metadata": {},
   "outputs": [],
   "source": [
    "best_chromossomes_9 = fitness(np_array, best_chromossomes_9, budget)"
   ]
  },
  {
   "cell_type": "code",
   "execution_count": 97,
   "metadata": {
    "scrolled": true
   },
   "outputs": [],
   "source": [
    "best_chromossomes_9 = sorted(best_chromossomes_9, key=lambda x: x[1], reverse = False)"
   ]
  },
  {
   "cell_type": "markdown",
   "metadata": {},
   "source": [
    "Melhor cromossomo"
   ]
  },
  {
   "cell_type": "code",
   "execution_count": 98,
   "metadata": {},
   "outputs": [
    {
     "data": {
      "text/plain": [
       "[[0.02021508999242241, 17, 29, 45], 0.22274799999999995]"
      ]
     },
     "execution_count": 98,
     "metadata": {},
     "output_type": "execute_result"
    }
   ],
   "source": [
    "best_9 = best_chromossomes_9[-1]\n",
    "best_9"
   ]
  },
  {
   "cell_type": "markdown",
   "metadata": {},
   "source": [
    "Pior cromossomo"
   ]
  },
  {
   "cell_type": "code",
   "execution_count": 99,
   "metadata": {},
   "outputs": [
    {
     "data": {
      "text/plain": [
       "[[0.023591393425030492, 18, 29, 294], 0.11475499999999993]"
      ]
     },
     "execution_count": 99,
     "metadata": {},
     "output_type": "execute_result"
    }
   ],
   "source": [
    "worst_9 = best_chromossomes_9[0]\n",
    "worst_9"
   ]
  },
  {
   "cell_type": "markdown",
   "metadata": {},
   "source": [
    "Valor médio dos fitness"
   ]
  },
  {
   "cell_type": "code",
   "execution_count": 100,
   "metadata": {},
   "outputs": [
    {
     "data": {
      "text/plain": [
       "0.16172760000000003"
      ]
     },
     "execution_count": 100,
     "metadata": {},
     "output_type": "execute_result"
    }
   ],
   "source": [
    "mean_9 = 0\n",
    "for x in best_chromossomes_9: mean_9 = mean_9 + x[1]\n",
    "mean_9 = mean_9/len(best_chromossomes_9)\n",
    "mean_9"
   ]
  },
  {
   "cell_type": "code",
   "execution_count": 101,
   "metadata": {},
   "outputs": [
    {
     "data": {
      "text/plain": [
       "0.04391272164241749"
      ]
     },
     "execution_count": 101,
     "metadata": {},
     "output_type": "execute_result"
    }
   ],
   "source": [
    "std_9 = 0\n",
    "for x in best_chromossomes_9: std_9 = std_9 + (x[1] - mean_9) ** 2\n",
    "std_9 = (std_9 / (len(best_chromossomes_9) - 1)) ** (1/2)\n",
    "std_9"
   ]
  },
  {
   "cell_type": "markdown",
   "metadata": {},
   "source": [
    "## Segundo conjunto de testes - Defuzzi: Risk/Pct - Centroid"
   ]
  },
  {
   "cell_type": "markdown",
   "metadata": {},
   "source": [
    "### Variaveis que serão usadas para a primeira população\n",
    "Para as ações da Alphabet serão testados:\n",
    "1. Dados Fixos:\n",
    "    1. Budget &rarr; 10.000,00\n",
    "    2. Delta para considerar convergência &rarr; 0.01\n",
    "2. Dados variáveis:\n",
    "    1. População:\n",
    "        1. Para uma população de 100 e outra de 1000, testamos:\n",
    "            1. Duas funções de Crossover:\n",
    "                1. Taxa de Crossover &rarr; 0.3\n",
    "                2. Taxa de Crossover &rarr; 0.8\n",
    "            2. Duas funções de Mutação:\n",
    "                1. Taxa de Mutação &rarr; 0.3\n",
    "                2. Taxa de Mutação &rarr; 0.8\n"
   ]
  },
  {
   "cell_type": "markdown",
   "metadata": {},
   "source": [
    "#### Primeira iteração:\n",
    "1. População &rarr; 100\n",
    "2. Budget &rarr; 10.000\n",
    "3. Delta &rarr; 0.01\n",
    "4. Crossover &rarr; crossover\n",
    "    1. Taxa &rarr; 0.3\n",
    "5. Mutação &rarr; mutation\n",
    "    1. Taxa &rarr; 0.3\n",
    "6. Melhor Resultado:\n",
    "    [[0.029757806673384436, 16, 10, 339], 1.6809029999999998]\n",
    "7. Pior Resultado:\n",
    "    [[0.0903877154523101, 24, 3, 304], 0.0]\n",
    "8. Média:\n",
    "    0.3572531\n",
    "9. Desvio:\n",
    "    0.409838862518003"
   ]
  },
  {
   "cell_type": "markdown",
   "metadata": {},
   "source": [
    "Dados fixos que serão usados para todas as iterações de 100 cromossomos"
   ]
  },
  {
   "cell_type": "code",
   "execution_count": 18,
   "metadata": {},
   "outputs": [],
   "source": [
    "population_len = 10\n",
    "budget = 10000\n",
    "delta_to_converge = 0.01\n",
    "min_iteration_converget = 3\n",
    "np_array = excels[6].values # Irá utilizar a primeira lista de valores da bolsa\n",
    "chromossomes = create_population(population_len)"
   ]
  },
  {
   "cell_type": "markdown",
   "metadata": {},
   "source": [
    "Aplicação da estratégia evolucionária"
   ]
  },
  {
   "cell_type": "code",
   "execution_count": 19,
   "metadata": {},
   "outputs": [],
   "source": [
    "# Dados variáveis\n",
    "mutation_rate = 0.3\n",
    "crossover_rate = 0.3"
   ]
  },
  {
   "cell_type": "code",
   "execution_count": 20,
   "metadata": {},
   "outputs": [
    {
     "name": "stdout",
     "output_type": "stream",
     "text": [
      "Tempo para convergir:  68.92 segundos\n"
     ]
    }
   ],
   "source": [
    "begin_time = time.time()\n",
    "best_chromossomes_1 = evolutionary_strategy2(np_array, chromossomes, budget, crossover, mutation, delta_to_converge, mutation_rate, crossover_rate, min_iteration_converget)\n",
    "print (\"Tempo para convergir: \", round(time.time() - begin_time, 2), \"segundos\")"
   ]
  },
  {
   "cell_type": "markdown",
   "metadata": {},
   "source": [
    "#### Resultados da Primeira Iteração"
   ]
  },
  {
   "cell_type": "code",
   "execution_count": 21,
   "metadata": {},
   "outputs": [
    {
     "data": {
      "text/plain": [
       "68.92"
      ]
     },
     "execution_count": 21,
     "metadata": {},
     "output_type": "execute_result"
    }
   ],
   "source": [
    "tempo_1 = 68.92\n",
    "tempo_1"
   ]
  },
  {
   "cell_type": "code",
   "execution_count": 22,
   "metadata": {
    "scrolled": true
   },
   "outputs": [
    {
     "data": {
      "text/plain": [
       "[[[0.05497170765277004, 2, 16, 431], 0.19897000000000006],\n",
       " [[0.03333103317732289, 27, 14, 313], 0.2208960000000003],\n",
       " [[0.05497170765277004, 2, 16, 431], 0.19897000000000006],\n",
       " [[0.03333103317732289, 27, 14, 313], 0.2208960000000003],\n",
       " [[0.05497170765277004, 2, 16, 431], 0.19897000000000006],\n",
       " [[0.05497170765277004, 2, 16, 431], 0.19897000000000006],\n",
       " [[0.050173952817343076, 22, 27, 321], 0.1885620000000001],\n",
       " [[0.05497170765277004, 2, 16, 431], 0.19897000000000006],\n",
       " [[0.05497170765277004, 2, 16, 431], 0.19897000000000006],\n",
       " [[0.0559867315560339, 9, 8, 263], 0.2028100000000002]]"
      ]
     },
     "execution_count": 22,
     "metadata": {},
     "output_type": "execute_result"
    }
   ],
   "source": [
    "# best_chromossomes_1 = best_chromossomes_temp\n",
    "best_chromossomes_1 = fitness(np_array, best_chromossomes_1, budget)\n",
    "best_chromossomes_1"
   ]
  },
  {
   "cell_type": "code",
   "execution_count": 23,
   "metadata": {
    "scrolled": true
   },
   "outputs": [
    {
     "data": {
      "text/plain": [
       "[[[0.050173952817343076, 22, 27, 321], 0.1885620000000001],\n",
       " [[0.05497170765277004, 2, 16, 431], 0.19897000000000006],\n",
       " [[0.05497170765277004, 2, 16, 431], 0.19897000000000006],\n",
       " [[0.05497170765277004, 2, 16, 431], 0.19897000000000006],\n",
       " [[0.05497170765277004, 2, 16, 431], 0.19897000000000006],\n",
       " [[0.05497170765277004, 2, 16, 431], 0.19897000000000006],\n",
       " [[0.05497170765277004, 2, 16, 431], 0.19897000000000006],\n",
       " [[0.0559867315560339, 9, 8, 263], 0.2028100000000002],\n",
       " [[0.03333103317732289, 27, 14, 313], 0.2208960000000003],\n",
       " [[0.03333103317732289, 27, 14, 313], 0.2208960000000003]]"
      ]
     },
     "execution_count": 23,
     "metadata": {},
     "output_type": "execute_result"
    }
   ],
   "source": [
    "best_chromossomes_1 = sorted(best_chromossomes_1, key=lambda x: x[1], reverse = False)\n",
    "best_chromossomes_1"
   ]
  },
  {
   "cell_type": "markdown",
   "metadata": {},
   "source": [
    "Melhor cromossomo"
   ]
  },
  {
   "cell_type": "code",
   "execution_count": 24,
   "metadata": {},
   "outputs": [
    {
     "data": {
      "text/plain": [
       "[[0.03333103317732289, 27, 14, 313], 0.2208960000000003]"
      ]
     },
     "execution_count": 24,
     "metadata": {},
     "output_type": "execute_result"
    }
   ],
   "source": [
    "best_1 = best_chromossomes_1[-1]\n",
    "best_1"
   ]
  },
  {
   "cell_type": "markdown",
   "metadata": {},
   "source": [
    "Pior cromossomo"
   ]
  },
  {
   "cell_type": "code",
   "execution_count": 25,
   "metadata": {},
   "outputs": [
    {
     "data": {
      "text/plain": [
       "[[0.050173952817343076, 22, 27, 321], 0.1885620000000001]"
      ]
     },
     "execution_count": 25,
     "metadata": {},
     "output_type": "execute_result"
    }
   ],
   "source": [
    "worst_1 = best_chromossomes_1[0]\n",
    "worst_1"
   ]
  },
  {
   "cell_type": "markdown",
   "metadata": {},
   "source": [
    "Valor médio dos fitness"
   ]
  },
  {
   "cell_type": "code",
   "execution_count": 26,
   "metadata": {},
   "outputs": [
    {
     "data": {
      "text/plain": [
       "0.2026984000000001"
      ]
     },
     "execution_count": 26,
     "metadata": {},
     "output_type": "execute_result"
    }
   ],
   "source": [
    "mean_1 = 0\n",
    "for x in best_chromossomes_1: mean_1 = mean_1 + x[1]\n",
    "mean_1 = mean_1/len(best_chromossomes_1)\n",
    "mean_1"
   ]
  },
  {
   "cell_type": "code",
   "execution_count": 27,
   "metadata": {},
   "outputs": [
    {
     "data": {
      "text/plain": [
       "0.010249993769103882"
      ]
     },
     "execution_count": 27,
     "metadata": {},
     "output_type": "execute_result"
    }
   ],
   "source": [
    "std_1 = 0\n",
    "for x in best_chromossomes_1: std_1 = std_1 + (x[1] - mean_1) ** 2\n",
    "std_1 = (std_1 / (len(best_chromossomes_1) - 1)) ** (1/2)\n",
    "std_1"
   ]
  },
  {
   "cell_type": "markdown",
   "metadata": {},
   "source": [
    "#### Segunda iteração:\n",
    "1. População &rarr; 100\n",
    "2. Budget &rarr; 10.000\n",
    "3. Delta &rarr; 0.001\n",
    "4. Crossover &rarr; crossover\n",
    "    1. Taxa &rarr; 0.8\n",
    "5. Mutação &rarr; mutation\n",
    "    1. Taxa &rarr; 0.3"
   ]
  },
  {
   "cell_type": "code",
   "execution_count": 28,
   "metadata": {},
   "outputs": [],
   "source": [
    "# Dados variáveis\n",
    "mutation_rate = 0.3\n",
    "crossover_rate = 0.8"
   ]
  },
  {
   "cell_type": "code",
   "execution_count": 29,
   "metadata": {
    "scrolled": true
   },
   "outputs": [
    {
     "name": "stdout",
     "output_type": "stream",
     "text": [
      "Tempo para convergir:  228.94 segundos\n"
     ]
    }
   ],
   "source": [
    "begin_time = time.time()\n",
    "best_chromossomes_2 = evolutionary_strategy2(np_array, chromossomes, budget, crossover, mutation, delta_to_converge, mutation_rate, crossover_rate, min_iteration_converget)\n",
    "print (\"Tempo para convergir: \", round(time.time() - begin_time, 2), \"segundos\")"
   ]
  },
  {
   "cell_type": "markdown",
   "metadata": {},
   "source": [
    "Resultado da segunda iteração"
   ]
  },
  {
   "cell_type": "code",
   "execution_count": 30,
   "metadata": {},
   "outputs": [
    {
     "data": {
      "text/plain": [
       "228.94"
      ]
     },
     "execution_count": 30,
     "metadata": {},
     "output_type": "execute_result"
    }
   ],
   "source": [
    "tempo_2 = 228.94\n",
    "tempo_2"
   ]
  },
  {
   "cell_type": "code",
   "execution_count": 31,
   "metadata": {},
   "outputs": [],
   "source": [
    "best_chromossomes_2 = fitness(np_array, best_chromossomes_2, budget)"
   ]
  },
  {
   "cell_type": "code",
   "execution_count": 33,
   "metadata": {
    "scrolled": true
   },
   "outputs": [],
   "source": [
    "best_chromossomes_2 = sorted(best_chromossomes_2, key=lambda x: x[1], reverse = False)"
   ]
  },
  {
   "cell_type": "markdown",
   "metadata": {},
   "source": [
    "Melhor cromossomo"
   ]
  },
  {
   "cell_type": "code",
   "execution_count": 34,
   "metadata": {},
   "outputs": [
    {
     "data": {
      "text/plain": [
       "[[0.013732684419469822, 2, 20, 313], 0.21384400000000006]"
      ]
     },
     "execution_count": 34,
     "metadata": {},
     "output_type": "execute_result"
    }
   ],
   "source": [
    "best_2 = best_chromossomes_2[-1]\n",
    "best_2"
   ]
  },
  {
   "cell_type": "markdown",
   "metadata": {},
   "source": [
    "Pior cromossomo"
   ]
  },
  {
   "cell_type": "code",
   "execution_count": 35,
   "metadata": {},
   "outputs": [
    {
     "data": {
      "text/plain": [
       "[[0.06390727324323515, 1, 12, 450], 0.022872000000000118]"
      ]
     },
     "execution_count": 35,
     "metadata": {},
     "output_type": "execute_result"
    }
   ],
   "source": [
    "worst_2 = best_chromossomes_2[0]\n",
    "worst_2"
   ]
  },
  {
   "cell_type": "markdown",
   "metadata": {},
   "source": [
    "Valor médio dos fitness"
   ]
  },
  {
   "cell_type": "code",
   "execution_count": 36,
   "metadata": {},
   "outputs": [
    {
     "data": {
      "text/plain": [
       "0.14594820000000006"
      ]
     },
     "execution_count": 36,
     "metadata": {},
     "output_type": "execute_result"
    }
   ],
   "source": [
    "mean_2 = 0\n",
    "for x in best_chromossomes_2: mean_2 = mean_2 + x[1]\n",
    "mean_2 = mean_2/len(best_chromossomes_2)\n",
    "mean_2"
   ]
  },
  {
   "cell_type": "code",
   "execution_count": 37,
   "metadata": {},
   "outputs": [
    {
     "data": {
      "text/plain": [
       "0.0556858831877523"
      ]
     },
     "execution_count": 37,
     "metadata": {},
     "output_type": "execute_result"
    }
   ],
   "source": [
    "std_2 = 0\n",
    "for x in best_chromossomes_2: std_2 = std_2 + (x[1] - mean_2) ** 2\n",
    "std_2 = (std_2 / (len(best_chromossomes_2) - 1)) ** (1/2)\n",
    "std_2"
   ]
  },
  {
   "cell_type": "markdown",
   "metadata": {},
   "source": [
    "#### Terceira iteração:\n",
    "1. População &rarr; 100\n",
    "2. Budget &rarr; 10.000\n",
    "3. Delta &rarr; 0.001\n",
    "4. Crossover &rarr; crossover\n",
    "    1. Taxa &rarr; 0.3\n",
    "5. Mutação &rarr; mutation\n",
    "    1. Taxa &rarr; 0.8"
   ]
  },
  {
   "cell_type": "code",
   "execution_count": 38,
   "metadata": {},
   "outputs": [],
   "source": [
    "# Dados variáveis\n",
    "mutation_rate = 0.8\n",
    "crossover_rate = 0.3"
   ]
  },
  {
   "cell_type": "code",
   "execution_count": 39,
   "metadata": {},
   "outputs": [
    {
     "name": "stdout",
     "output_type": "stream",
     "text": [
      "Tempo para convergir:  67.53 segundos\n"
     ]
    }
   ],
   "source": [
    "begin_time = time.time()\n",
    "best_chromossomes_3 = evolutionary_strategy2(np_array, chromossomes, budget, crossover, mutation, delta_to_converge, mutation_rate, crossover_rate, min_iteration_converget)\n",
    "print (\"Tempo para convergir: \", round(time.time() - begin_time, 2), \"segundos\")"
   ]
  },
  {
   "cell_type": "markdown",
   "metadata": {},
   "source": [
    "Resultado da terceira iteração"
   ]
  },
  {
   "cell_type": "code",
   "execution_count": 40,
   "metadata": {},
   "outputs": [],
   "source": [
    "tempo_3 = 67.53"
   ]
  },
  {
   "cell_type": "code",
   "execution_count": 42,
   "metadata": {},
   "outputs": [],
   "source": [
    "best_chromossomes_3 = fitness(np_array, best_chromossomes_3, budget)"
   ]
  },
  {
   "cell_type": "code",
   "execution_count": 43,
   "metadata": {
    "scrolled": true
   },
   "outputs": [],
   "source": [
    "best_chromossomes_3 = sorted(best_chromossomes_3, key=lambda x: x[1], reverse = False)"
   ]
  },
  {
   "cell_type": "markdown",
   "metadata": {},
   "source": [
    "Melhor cromossomo"
   ]
  },
  {
   "cell_type": "code",
   "execution_count": 44,
   "metadata": {},
   "outputs": [
    {
     "data": {
      "text/plain": [
       "[[0.025258102732316795, 2, 28, 254], 0.18272800000000006]"
      ]
     },
     "execution_count": 44,
     "metadata": {},
     "output_type": "execute_result"
    }
   ],
   "source": [
    "best_3 = best_chromossomes_3[-1]\n",
    "best_3"
   ]
  },
  {
   "cell_type": "markdown",
   "metadata": {},
   "source": [
    "Pior cromossomo"
   ]
  },
  {
   "cell_type": "code",
   "execution_count": 45,
   "metadata": {},
   "outputs": [
    {
     "data": {
      "text/plain": [
       "[[0.0652253745315831, 8, 22, 439], 0.022872000000000118]"
      ]
     },
     "execution_count": 45,
     "metadata": {},
     "output_type": "execute_result"
    }
   ],
   "source": [
    "worst_3 = best_chromossomes_3[0]\n",
    "worst_3"
   ]
  },
  {
   "cell_type": "markdown",
   "metadata": {},
   "source": [
    "Valor médio dos fitness"
   ]
  },
  {
   "cell_type": "code",
   "execution_count": 46,
   "metadata": {},
   "outputs": [
    {
     "data": {
      "text/plain": [
       "0.13147330000000007"
      ]
     },
     "execution_count": 46,
     "metadata": {},
     "output_type": "execute_result"
    }
   ],
   "source": [
    "mean_3 = 0\n",
    "for x in best_chromossomes_3: mean_3 = mean_3 + x[1]\n",
    "mean_3 = mean_3/len(best_chromossomes_3)\n",
    "mean_3"
   ]
  },
  {
   "cell_type": "code",
   "execution_count": 47,
   "metadata": {},
   "outputs": [
    {
     "data": {
      "text/plain": [
       "0.05224320113139652"
      ]
     },
     "execution_count": 47,
     "metadata": {},
     "output_type": "execute_result"
    }
   ],
   "source": [
    "std_3 = 0\n",
    "for x in best_chromossomes_3: std_3 = std_3 + (x[1] - mean_3) ** 2\n",
    "std_3 = (std_3 / (len(best_chromossomes_3) - 1)) ** (1/2)\n",
    "std_3"
   ]
  },
  {
   "cell_type": "markdown",
   "metadata": {},
   "source": [
    "#### Quarta iteração:\n",
    "1. População &rarr; 100\n",
    "2. Budget &rarr; 10.000\n",
    "3. Delta &rarr; 0.001\n",
    "4. Crossover &rarr; crossover2\n",
    "    1. Taxa &rarr; 0.3\n",
    "5. Mutação &rarr; mutation\n",
    "    1. Taxa &rarr; 0.3"
   ]
  },
  {
   "cell_type": "code",
   "execution_count": 48,
   "metadata": {},
   "outputs": [],
   "source": [
    "# Dados variáveis\n",
    "mutation_rate = 0.3\n",
    "crossover_rate = 0.3"
   ]
  },
  {
   "cell_type": "code",
   "execution_count": 49,
   "metadata": {},
   "outputs": [
    {
     "name": "stdout",
     "output_type": "stream",
     "text": [
      "Tempo para convergir:  62.34 segundos\n"
     ]
    }
   ],
   "source": [
    "begin_time = time.time()\n",
    "best_chromossomes_4 = evolutionary_strategy2(np_array, chromossomes, budget, crossover2, mutation, delta_to_converge, mutation_rate, crossover_rate, min_iteration_converget)\n",
    "print (\"Tempo para convergir: \", round(time.time() - begin_time, 2), \"segundos\")"
   ]
  },
  {
   "cell_type": "code",
   "execution_count": 50,
   "metadata": {},
   "outputs": [],
   "source": [
    "tempo_4 = 62.34"
   ]
  },
  {
   "cell_type": "code",
   "execution_count": 51,
   "metadata": {},
   "outputs": [],
   "source": [
    "best_chromossomes_4 = fitness(np_array, best_chromossomes_4, budget)"
   ]
  },
  {
   "cell_type": "code",
   "execution_count": 52,
   "metadata": {
    "scrolled": true
   },
   "outputs": [],
   "source": [
    "best_chromossomes_4 = sorted(best_chromossomes_4, key=lambda x: x[1], reverse = False)"
   ]
  },
  {
   "cell_type": "markdown",
   "metadata": {},
   "source": [
    "Melhor cromossomo"
   ]
  },
  {
   "cell_type": "code",
   "execution_count": 53,
   "metadata": {},
   "outputs": [
    {
     "data": {
      "text/plain": [
       "[[0.05497170765277004, 26, 16, 199], 0.1468600000000002]"
      ]
     },
     "execution_count": 53,
     "metadata": {},
     "output_type": "execute_result"
    }
   ],
   "source": [
    "best_4 = best_chromossomes_4[-1]\n",
    "best_4"
   ]
  },
  {
   "cell_type": "markdown",
   "metadata": {},
   "source": [
    "Pior cromossomo"
   ]
  },
  {
   "cell_type": "code",
   "execution_count": 54,
   "metadata": {},
   "outputs": [
    {
     "data": {
      "text/plain": [
       "[[0.024345923863482458, 22, 3, 254], 0.08910600000000013]"
      ]
     },
     "execution_count": 54,
     "metadata": {},
     "output_type": "execute_result"
    }
   ],
   "source": [
    "worst_4 = best_chromossomes_4[0]\n",
    "worst_4"
   ]
  },
  {
   "cell_type": "markdown",
   "metadata": {},
   "source": [
    "Valor médio dos fitness"
   ]
  },
  {
   "cell_type": "code",
   "execution_count": 55,
   "metadata": {},
   "outputs": [
    {
     "data": {
      "text/plain": [
       "0.12751050000000028"
      ]
     },
     "execution_count": 55,
     "metadata": {},
     "output_type": "execute_result"
    }
   ],
   "source": [
    "mean_4 = 0\n",
    "for x in best_chromossomes_4: mean_4 = mean_4 + x[1]\n",
    "mean_4 = mean_4/len(best_chromossomes_4)\n",
    "mean_4"
   ]
  },
  {
   "cell_type": "code",
   "execution_count": 56,
   "metadata": {},
   "outputs": [
    {
     "data": {
      "text/plain": [
       "0.02239980548154626"
      ]
     },
     "execution_count": 56,
     "metadata": {},
     "output_type": "execute_result"
    }
   ],
   "source": [
    "std_4 = 0\n",
    "for x in best_chromossomes_4: std_4 = std_4 + (x[1] - mean_4) ** 2\n",
    "std_4 = (std_4 / (len(best_chromossomes_4) - 1)) ** (1/2)\n",
    "std_4"
   ]
  },
  {
   "cell_type": "markdown",
   "metadata": {},
   "source": [
    "#### Quinta iteração:\n",
    "1. População &rarr; 100\n",
    "2. Budget &rarr; 10.000\n",
    "3. Delta &rarr; 0.001\n",
    "4. Crossover &rarr; crossover2\n",
    "    1. Taxa &rarr; 0.8\n",
    "5. Mutação &rarr; mutation\n",
    "    1. Taxa &rarr; 0.3"
   ]
  },
  {
   "cell_type": "code",
   "execution_count": 57,
   "metadata": {},
   "outputs": [],
   "source": [
    "# Dados variáveis\n",
    "mutation_rate = 0.3\n",
    "crossover_rate = 0.8"
   ]
  },
  {
   "cell_type": "code",
   "execution_count": 58,
   "metadata": {},
   "outputs": [
    {
     "name": "stdout",
     "output_type": "stream",
     "text": [
      "Tempo para convergir:  444.98 segundos\n"
     ]
    }
   ],
   "source": [
    "begin_time = time.time()\n",
    "best_chromossomes_5 = evolutionary_strategy2(np_array, chromossomes, budget, crossover2, mutation, delta_to_converge, mutation_rate, crossover_rate, min_iteration_converget)\n",
    "print (\"Tempo para convergir: \", round(time.time() - begin_time, 2), \"segundos\")"
   ]
  },
  {
   "cell_type": "markdown",
   "metadata": {},
   "source": [
    "Resultado da quinta iteração"
   ]
  },
  {
   "cell_type": "code",
   "execution_count": 59,
   "metadata": {},
   "outputs": [],
   "source": [
    "tempo_5 = 444.98"
   ]
  },
  {
   "cell_type": "code",
   "execution_count": 60,
   "metadata": {},
   "outputs": [],
   "source": [
    "best_chromossomes_5 = fitness(np_array, best_chromossomes_5, budget)"
   ]
  },
  {
   "cell_type": "code",
   "execution_count": 61,
   "metadata": {
    "scrolled": true
   },
   "outputs": [],
   "source": [
    "best_chromossomes_5 = sorted(best_chromossomes_5, key=lambda x: x[1], reverse = False)"
   ]
  },
  {
   "cell_type": "markdown",
   "metadata": {},
   "source": [
    "Melhor cromossomo"
   ]
  },
  {
   "cell_type": "code",
   "execution_count": 63,
   "metadata": {},
   "outputs": [
    {
     "data": {
      "text/plain": [
       "[[0.014527123198729876, 24, 27, 282], 0.19364300000000004]"
      ]
     },
     "execution_count": 63,
     "metadata": {},
     "output_type": "execute_result"
    }
   ],
   "source": [
    "best_5 = best_chromossomes_5[-1]\n",
    "best_5"
   ]
  },
  {
   "cell_type": "markdown",
   "metadata": {},
   "source": [
    "Pior cromossomo"
   ]
  },
  {
   "cell_type": "code",
   "execution_count": 64,
   "metadata": {},
   "outputs": [
    {
     "data": {
      "text/plain": [
       "[[0.08499958111170343, 14, 24, 87], 0.01981800000000003]"
      ]
     },
     "execution_count": 64,
     "metadata": {},
     "output_type": "execute_result"
    }
   ],
   "source": [
    "worst_5 = best_chromossomes_5[0]\n",
    "worst_5"
   ]
  },
  {
   "cell_type": "markdown",
   "metadata": {},
   "source": [
    "Valor médio dos fitness"
   ]
  },
  {
   "cell_type": "code",
   "execution_count": 65,
   "metadata": {},
   "outputs": [
    {
     "data": {
      "text/plain": [
       "0.12444380000000006"
      ]
     },
     "execution_count": 65,
     "metadata": {},
     "output_type": "execute_result"
    }
   ],
   "source": [
    "mean_5 = 0\n",
    "for x in best_chromossomes_5: mean_5 = mean_5 + x[1]\n",
    "mean_5 = mean_5/len(best_chromossomes_5)\n",
    "mean_5"
   ]
  },
  {
   "cell_type": "code",
   "execution_count": 66,
   "metadata": {},
   "outputs": [
    {
     "data": {
      "text/plain": [
       "0.054120492951273885"
      ]
     },
     "execution_count": 66,
     "metadata": {},
     "output_type": "execute_result"
    }
   ],
   "source": [
    "std_5 = 0\n",
    "for x in best_chromossomes_5: std_5 = std_5 + (x[1] - mean_5) ** 2\n",
    "std_5 = (std_5 / (len(best_chromossomes_5) - 1)) ** (1/2)\n",
    "std_5"
   ]
  },
  {
   "cell_type": "markdown",
   "metadata": {},
   "source": [
    "#### Sexta iteração:\n",
    "1. População &rarr; 100\n",
    "2. Budget &rarr; 10.000\n",
    "3. Delta &rarr; 0.001\n",
    "4. Crossover &rarr; crossover2\n",
    "    1. Taxa &rarr; 0.3\n",
    "5. Mutação &rarr; mutation\n",
    "    1. Taxa &rarr; 0.8"
   ]
  },
  {
   "cell_type": "code",
   "execution_count": 67,
   "metadata": {},
   "outputs": [],
   "source": [
    "# Dados variáveis\n",
    "mutation_rate = 0.8\n",
    "crossover_rate = 0.3"
   ]
  },
  {
   "cell_type": "code",
   "execution_count": 68,
   "metadata": {},
   "outputs": [
    {
     "name": "stdout",
     "output_type": "stream",
     "text": [
      "Tempo para convergir:  136.27 segundos\n"
     ]
    }
   ],
   "source": [
    "begin_time = time.time()\n",
    "best_chromossomes_6 = evolutionary_strategy2(np_array, chromossomes, budget, crossover2, mutation, delta_to_converge, mutation_rate, crossover_rate, min_iteration_converget)\n",
    "print (\"Tempo para convergir: \", round(time.time() - begin_time, 2), \"segundos\")"
   ]
  },
  {
   "cell_type": "markdown",
   "metadata": {},
   "source": [
    "Resultado da sexta iteração"
   ]
  },
  {
   "cell_type": "code",
   "execution_count": 69,
   "metadata": {},
   "outputs": [],
   "source": [
    "tempo_6 = 136.27"
   ]
  },
  {
   "cell_type": "code",
   "execution_count": 70,
   "metadata": {},
   "outputs": [],
   "source": [
    "best_chromossomes_6 = fitness(np_array, best_chromossomes_6, budget)"
   ]
  },
  {
   "cell_type": "code",
   "execution_count": 71,
   "metadata": {
    "scrolled": true
   },
   "outputs": [],
   "source": [
    "best_chromossomes_6 = sorted(best_chromossomes_6, key=lambda x: x[1], reverse = False)"
   ]
  },
  {
   "cell_type": "markdown",
   "metadata": {},
   "source": [
    "Melhor cromossomo"
   ]
  },
  {
   "cell_type": "code",
   "execution_count": 72,
   "metadata": {},
   "outputs": [
    {
     "data": {
      "text/plain": [
       "[[0.04156247430979256, 21, 20, 143], 0.18805800000000017]"
      ]
     },
     "execution_count": 72,
     "metadata": {},
     "output_type": "execute_result"
    }
   ],
   "source": [
    "best_6 = best_chromossomes_6[-1]\n",
    "best_6"
   ]
  },
  {
   "cell_type": "markdown",
   "metadata": {},
   "source": [
    "Pior cromossomo"
   ]
  },
  {
   "cell_type": "code",
   "execution_count": 73,
   "metadata": {},
   "outputs": [
    {
     "data": {
      "text/plain": [
       "[[0.08191657100538824, 20, 14, 144], 0.022872000000000118]"
      ]
     },
     "execution_count": 73,
     "metadata": {},
     "output_type": "execute_result"
    }
   ],
   "source": [
    "worst_6 = best_chromossomes_6[0]\n",
    "worst_6"
   ]
  },
  {
   "cell_type": "markdown",
   "metadata": {},
   "source": [
    "Valor médio dos fitness"
   ]
  },
  {
   "cell_type": "code",
   "execution_count": 74,
   "metadata": {},
   "outputs": [
    {
     "data": {
      "text/plain": [
       "0.09641830000000012"
      ]
     },
     "execution_count": 74,
     "metadata": {},
     "output_type": "execute_result"
    }
   ],
   "source": [
    "mean_6 = 0\n",
    "for x in best_chromossomes_6: mean_6 = mean_6 + x[1]\n",
    "mean_6 = mean_6/len(best_chromossomes_6)\n",
    "mean_6"
   ]
  },
  {
   "cell_type": "code",
   "execution_count": 75,
   "metadata": {},
   "outputs": [
    {
     "data": {
      "text/plain": [
       "0.0683887459813382"
      ]
     },
     "execution_count": 75,
     "metadata": {},
     "output_type": "execute_result"
    }
   ],
   "source": [
    "std_6 = 0\n",
    "for x in best_chromossomes_6: std_6 = std_6 + (x[1] - mean_6) ** 2\n",
    "std_6 = (std_6 / (len(best_chromossomes_6) - 1)) ** (1/2)\n",
    "std_6"
   ]
  },
  {
   "cell_type": "markdown",
   "metadata": {},
   "source": [
    "#### Sétima iteração:\n",
    "1. População &rarr; 100\n",
    "2. Budget &rarr; 10.000\n",
    "3. Delta &rarr; 0.001\n",
    "4. Crossover &rarr; crossover\n",
    "    1. Taxa &rarr; 0.3\n",
    "5. Mutação &rarr; mutation_v2\n",
    "    1. Taxa &rarr; 0.3"
   ]
  },
  {
   "cell_type": "code",
   "execution_count": 76,
   "metadata": {},
   "outputs": [],
   "source": [
    "# Dados variáveis\n",
    "mutation_rate = 0.3\n",
    "crossover_rate = 0.3"
   ]
  },
  {
   "cell_type": "code",
   "execution_count": 77,
   "metadata": {},
   "outputs": [
    {
     "name": "stdout",
     "output_type": "stream",
     "text": [
      "Tempo para convergir:  147.09 segundos\n"
     ]
    }
   ],
   "source": [
    "begin_time = time.time()\n",
    "best_chromossomes_7 = evolutionary_strategy2(np_array, chromossomes, budget, crossover, mutation_v2, delta_to_converge, mutation_rate, crossover_rate, min_iteration_converget)\n",
    "print (\"Tempo para convergir: \", round(time.time() - begin_time, 2), \"segundos\")"
   ]
  },
  {
   "cell_type": "markdown",
   "metadata": {},
   "source": [
    "Resultado da sétima iteração"
   ]
  },
  {
   "cell_type": "code",
   "execution_count": 79,
   "metadata": {},
   "outputs": [],
   "source": [
    "tempo_7 = 147.09"
   ]
  },
  {
   "cell_type": "code",
   "execution_count": 80,
   "metadata": {},
   "outputs": [],
   "source": [
    "best_chromossomes_7 = fitness(np_array, best_chromossomes_7, budget)"
   ]
  },
  {
   "cell_type": "code",
   "execution_count": 81,
   "metadata": {
    "scrolled": true
   },
   "outputs": [],
   "source": [
    "best_chromossomes_7 = sorted(best_chromossomes_7, key=lambda x: x[1], reverse = False)"
   ]
  },
  {
   "cell_type": "markdown",
   "metadata": {},
   "source": [
    "Melhor cromossomo"
   ]
  },
  {
   "cell_type": "code",
   "execution_count": 82,
   "metadata": {},
   "outputs": [
    {
     "data": {
      "text/plain": [
       "[[0.013732684419469822, 7, 11, 374], 0.14247700000000021]"
      ]
     },
     "execution_count": 82,
     "metadata": {},
     "output_type": "execute_result"
    }
   ],
   "source": [
    "best_7 = best_chromossomes_7[-1]\n",
    "best_7"
   ]
  },
  {
   "cell_type": "markdown",
   "metadata": {},
   "source": [
    "Pior cromossomo"
   ]
  },
  {
   "cell_type": "code",
   "execution_count": 83,
   "metadata": {},
   "outputs": [
    {
     "data": {
      "text/plain": [
       "[[0.050173952817343076, 24, 15, 298], 0.11473000000000029]"
      ]
     },
     "execution_count": 83,
     "metadata": {},
     "output_type": "execute_result"
    }
   ],
   "source": [
    "worst_7 = best_chromossomes_7[0]\n",
    "worst_7"
   ]
  },
  {
   "cell_type": "markdown",
   "metadata": {},
   "source": [
    "Valor médio dos fitness"
   ]
  },
  {
   "cell_type": "code",
   "execution_count": 84,
   "metadata": {},
   "outputs": [
    {
     "data": {
      "text/plain": [
       "0.12599900000000017"
      ]
     },
     "execution_count": 84,
     "metadata": {},
     "output_type": "execute_result"
    }
   ],
   "source": [
    "mean_7 = 0\n",
    "for x in best_chromossomes_7: mean_7 = mean_7 + x[1]\n",
    "mean_7 = mean_7/len(best_chromossomes_7)\n",
    "mean_7"
   ]
  },
  {
   "cell_type": "code",
   "execution_count": 85,
   "metadata": {},
   "outputs": [
    {
     "data": {
      "text/plain": [
       "0.010108929364125984"
      ]
     },
     "execution_count": 85,
     "metadata": {},
     "output_type": "execute_result"
    }
   ],
   "source": [
    "std_7 = 0\n",
    "for x in best_chromossomes_7: std_7 = std_7 + (x[1] - mean_7) ** 2\n",
    "std_7 = (std_7 / (len(best_chromossomes_7) - 1)) ** (1/2)\n",
    "std_7"
   ]
  },
  {
   "cell_type": "markdown",
   "metadata": {},
   "source": [
    "#### Oitava iteração:\n",
    "1. População &rarr; 100\n",
    "2. Budget &rarr; 10.000\n",
    "3. Delta &rarr; 0.001\n",
    "4. Crossover &rarr; crossover\n",
    "    1. Taxa &rarr; 0.8\n",
    "5. Mutação &rarr; mutation_v2\n",
    "    1. Taxa &rarr; 0.3"
   ]
  },
  {
   "cell_type": "code",
   "execution_count": 86,
   "metadata": {},
   "outputs": [],
   "source": [
    "# Dados variáveis\n",
    "mutation_rate = 0.3\n",
    "crossover_rate = 0.8"
   ]
  },
  {
   "cell_type": "code",
   "execution_count": 87,
   "metadata": {},
   "outputs": [
    {
     "name": "stdout",
     "output_type": "stream",
     "text": [
      "Tempo para convergir:  330.69 segundos\n"
     ]
    }
   ],
   "source": [
    "begin_time = time.time()\n",
    "best_chromossomes_8 = evolutionary_strategy2(np_array, chromossomes, budget, crossover, mutation_v2, delta_to_converge, mutation_rate, crossover_rate, min_iteration_converget)\n",
    "print (\"Tempo para convergir: \", round(time.time() - begin_time, 2), \"segundos\")"
   ]
  },
  {
   "cell_type": "markdown",
   "metadata": {},
   "source": [
    "Resultado da oitava iteração"
   ]
  },
  {
   "cell_type": "code",
   "execution_count": 89,
   "metadata": {},
   "outputs": [],
   "source": [
    "tempo_8 = 330.69"
   ]
  },
  {
   "cell_type": "code",
   "execution_count": 90,
   "metadata": {},
   "outputs": [],
   "source": [
    "best_chromossomes_8 = fitness(np_array, best_chromossomes_8, budget)"
   ]
  },
  {
   "cell_type": "code",
   "execution_count": 91,
   "metadata": {
    "scrolled": true
   },
   "outputs": [],
   "source": [
    "best_chromossomes_8 = sorted(best_chromossomes_8, key=lambda x: x[1], reverse = False)"
   ]
  },
  {
   "cell_type": "markdown",
   "metadata": {},
   "source": [
    "Melhor cromossomo"
   ]
  },
  {
   "cell_type": "code",
   "execution_count": 92,
   "metadata": {},
   "outputs": [
    {
     "data": {
      "text/plain": [
       "[[0.04276160301445853, 4, 22, 145], 0.1590880000000001]"
      ]
     },
     "execution_count": 92,
     "metadata": {},
     "output_type": "execute_result"
    }
   ],
   "source": [
    "best_8 = best_chromossomes_8[-1]\n",
    "best_8"
   ]
  },
  {
   "cell_type": "markdown",
   "metadata": {},
   "source": [
    "Pior cromossomo"
   ]
  },
  {
   "cell_type": "code",
   "execution_count": 93,
   "metadata": {},
   "outputs": [
    {
     "data": {
      "text/plain": [
       "[[0.0762399053752945, 5, 23, 374], 0.022872000000000118]"
      ]
     },
     "execution_count": 93,
     "metadata": {},
     "output_type": "execute_result"
    }
   ],
   "source": [
    "worst_8 = best_chromossomes_8[0]\n",
    "worst_8"
   ]
  },
  {
   "cell_type": "markdown",
   "metadata": {},
   "source": [
    "Valor médio dos fitness"
   ]
  },
  {
   "cell_type": "code",
   "execution_count": 94,
   "metadata": {},
   "outputs": [
    {
     "data": {
      "text/plain": [
       "0.11518200000000005"
      ]
     },
     "execution_count": 94,
     "metadata": {},
     "output_type": "execute_result"
    }
   ],
   "source": [
    "mean_8 = 0\n",
    "for x in best_chromossomes_8: mean_8 = mean_8 + x[1]\n",
    "mean_8 = mean_8/len(best_chromossomes_8)\n",
    "mean_8"
   ]
  },
  {
   "cell_type": "code",
   "execution_count": 95,
   "metadata": {},
   "outputs": [
    {
     "data": {
      "text/plain": [
       "0.09385162455706357"
      ]
     },
     "execution_count": 95,
     "metadata": {},
     "output_type": "execute_result"
    }
   ],
   "source": [
    "std_8 = 0\n",
    "for x in best_chromossomes_8: std_8 = std_8 + (x[1] - mean_8) ** 2\n",
    "std_8 = (std_8 / (len(best_chromossomes_8) - 8)) ** (1/2)\n",
    "std_8"
   ]
  },
  {
   "cell_type": "markdown",
   "metadata": {},
   "source": [
    "#### Nona iteração:\n",
    "1. População &rarr; 100\n",
    "2. Budget &rarr; 10.000\n",
    "3. Delta &rarr; 0.001\n",
    "4. Crossover &rarr; crossover\n",
    "    1. Taxa &rarr; 0.3\n",
    "5. Mutação &rarr; mutation_v2\n",
    "    1. Taxa &rarr; 0.8"
   ]
  },
  {
   "cell_type": "code",
   "execution_count": 96,
   "metadata": {},
   "outputs": [],
   "source": [
    "# Dados variáveis\n",
    "mutation_rate = 0.8\n",
    "crossover_rate = 0.3"
   ]
  },
  {
   "cell_type": "code",
   "execution_count": 97,
   "metadata": {},
   "outputs": [
    {
     "name": "stdout",
     "output_type": "stream",
     "text": [
      "Tempo para convergir:  109.46 segundos\n"
     ]
    }
   ],
   "source": [
    "begin_time = time.time()\n",
    "best_chromossomes_9 = evolutionary_strategy2(np_array, chromossomes, budget, crossover, mutation_v2, delta_to_converge, mutation_rate, crossover_rate, min_iteration_converget)\n",
    "print (\"Tempo para convergir: \", round(time.time() - begin_time, 2), \"segundos\")"
   ]
  },
  {
   "cell_type": "markdown",
   "metadata": {},
   "source": [
    "Resultado da nona iteração"
   ]
  },
  {
   "cell_type": "code",
   "execution_count": 98,
   "metadata": {},
   "outputs": [],
   "source": [
    "tempo_9 = 109.46"
   ]
  },
  {
   "cell_type": "code",
   "execution_count": 99,
   "metadata": {},
   "outputs": [],
   "source": [
    "best_chromossomes_9 = fitness(np_array, best_chromossomes_9, budget)"
   ]
  },
  {
   "cell_type": "code",
   "execution_count": 100,
   "metadata": {
    "scrolled": true
   },
   "outputs": [],
   "source": [
    "best_chromossomes_9 = sorted(best_chromossomes_9, key=lambda x: x[1], reverse = False)"
   ]
  },
  {
   "cell_type": "markdown",
   "metadata": {},
   "source": [
    "Melhor cromossomo"
   ]
  },
  {
   "cell_type": "code",
   "execution_count": 101,
   "metadata": {},
   "outputs": [
    {
     "data": {
      "text/plain": [
       "[[0.05123513294149655, 4, 19, 98], 0.18103800000000012]"
      ]
     },
     "execution_count": 101,
     "metadata": {},
     "output_type": "execute_result"
    }
   ],
   "source": [
    "best_9 = best_chromossomes_9[-1]\n",
    "best_9"
   ]
  },
  {
   "cell_type": "markdown",
   "metadata": {},
   "source": [
    "Pior cromossomo"
   ]
  },
  {
   "cell_type": "code",
   "execution_count": 102,
   "metadata": {},
   "outputs": [
    {
     "data": {
      "text/plain": [
       "[[0.012466142985667016, 2, 2, 384], 0.07552700000000132]"
      ]
     },
     "execution_count": 102,
     "metadata": {},
     "output_type": "execute_result"
    }
   ],
   "source": [
    "worst_9 = best_chromossomes_9[0]\n",
    "worst_9"
   ]
  },
  {
   "cell_type": "markdown",
   "metadata": {},
   "source": [
    "Valor médio dos fitness"
   ]
  },
  {
   "cell_type": "code",
   "execution_count": 103,
   "metadata": {},
   "outputs": [
    {
     "data": {
      "text/plain": [
       "0.14600170000000018"
      ]
     },
     "execution_count": 103,
     "metadata": {},
     "output_type": "execute_result"
    }
   ],
   "source": [
    "mean_9 = 0\n",
    "for x in best_chromossomes_9: mean_9 = mean_9 + x[1]\n",
    "mean_9 = mean_9/len(best_chromossomes_9)\n",
    "mean_9"
   ]
  },
  {
   "cell_type": "code",
   "execution_count": 104,
   "metadata": {},
   "outputs": [
    {
     "data": {
      "text/plain": [
       "0.030811068386575005"
      ]
     },
     "execution_count": 104,
     "metadata": {},
     "output_type": "execute_result"
    }
   ],
   "source": [
    "std_9 = 0\n",
    "for x in best_chromossomes_9: std_9 = std_9 + (x[1] - mean_9) ** 2\n",
    "std_9 = (std_9 / (len(best_chromossomes_9) - 1)) ** (1/2)\n",
    "std_9"
   ]
  },
  {
   "cell_type": "code",
   "execution_count": null,
   "metadata": {
    "collapsed": true
   },
   "outputs": [],
   "source": []
  }
 ],
 "metadata": {
  "kernelspec": {
   "display_name": "Python 3",
   "language": "python",
   "name": "python3"
  },
  "language_info": {
   "codemirror_mode": {
    "name": "ipython",
    "version": 3
   },
   "file_extension": ".py",
   "mimetype": "text/x-python",
   "name": "python",
   "nbconvert_exporter": "python",
   "pygments_lexer": "ipython3",
   "version": "3.7.2"
  }
 },
 "nbformat": 4,
 "nbformat_minor": 2
}
