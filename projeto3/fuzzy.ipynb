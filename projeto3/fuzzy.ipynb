{
 "cells": [
  {
   "cell_type": "code",
   "execution_count": 9,
   "metadata": {},
   "outputs": [],
   "source": [
    "import numpy as np\n",
    "import skfuzzy as fuzz\n",
    "from skfuzzy import control as ctrl\n",
    "import matplotlib.pyplot as plt"
   ]
  },
  {
   "cell_type": "markdown",
   "metadata": {},
   "source": [
    "#### Definições importantes que vão pro relatório\n",
    "1. **Beta:** By definition, the market has a beta of 1.0, and individual stocks are ranked according to how much they deviate from the market. A stock that swings more than the market over time has a beta above 1.0. If a stock moves less than the market, the stock's beta is less than 1.0. High-beta stocks are supposed to be riskier but provide a potential for higher returns; low-beta stocks pose less risk but also lower returns."
   ]
  },
  {
   "cell_type": "markdown",
   "metadata": {},
   "source": [
    "### Fuzzy 2 - Classificação do Grau de Risco de uma *stock*\n",
    "1. **INPUTS**\n",
    "    1. Média de Variação\n",
    "        * Universo: Qual foi a média de variação no valor das *stocks* (em módulo)?\n",
    "        * Conjunto Fuzzy: baixo, médio, alto\n",
    "    2. Beta\n",
    "        * Universo: Qual o valor da volatilidade da *stock* com relação a volatilidade do mercado?\n",
    "        * Conjunto Fuzzy: baixo, alto\n",
    "2. **OUTPUTS**\n",
    "    1. Risco\n",
    "        * Universo: Qual o grau de risco ao se investir nessa *stock* ?\n",
    "        * Conjunto Fuzzy: baixo, médio, alto\n",
    "3. **RULES**\n",
    "    * Se a *stock* apresenta *baixa variação* e um *baixo valor beta* **ENTAO** o risco é baixo\n",
    "    * Se a *stock* apresenta *baixa variação* e um *alto valor beta* **ENTAO** o risco é baixo (ou médio)\n",
    "    * Se a *stock* apresenta *alta variação* e um *alto valor *beta* **ENTAO** o risco é alto\n",
    "    * Se a *stock* apresenta *alta variação* e um *baixo valor *beta* **ENTAO** o risco é alto (ou médio)\n",
    "    * **OBS: DA PRA PENSAR EM MAIS REGRA**"
   ]
  },
  {
   "cell_type": "code",
   "execution_count": null,
   "metadata": {},
   "outputs": [],
   "source": []
  }
 ],
 "metadata": {
  "kernelspec": {
   "display_name": "Python 3",
   "language": "python",
   "name": "python3"
  },
  "language_info": {
   "codemirror_mode": {
    "name": "ipython",
    "version": 3
   },
   "file_extension": ".py",
   "mimetype": "text/x-python",
   "name": "python",
   "nbconvert_exporter": "python",
   "pygments_lexer": "ipython3",
   "version": "3.7.2"
  }
 },
 "nbformat": 4,
 "nbformat_minor": 2
}
