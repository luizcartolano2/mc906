{
 "cells": [
  {
   "cell_type": "code",
   "execution_count": 1,
   "metadata": {},
   "outputs": [],
   "source": [
    "import numpy as np\n",
    "import skfuzzy as fuzz\n",
    "import matplotlib.pyplot as plt"
   ]
  },
  {
   "cell_type": "markdown",
   "metadata": {},
   "source": [
    "### Fuzzy 1 - Compra/Venda de uma *stock*\n",
    "1. **INPUTS**\n",
    "    1. Porcentagem de crescimento\n",
    "        * Universo: Quanto variou o preço da *stock* desde o último pico?\n",
    "        * Conjunto Fuzzy: baixo, médio, alto\n",
    "    2. Risco\n",
    "        * Universo: Qual o risco de se investir nessa *stock* ?\n",
    "        * Conjunto Fuzzy: baixo, médio, alto\n",
    "2. **OUTPUTS**\n",
    "    1. Porcentagem de compra/venda\n",
    "        * Universo: Qual a porcentagem do *budget* que deve ser gasta com essa ação?\n",
    "        * Conjunto Fuzzy: muito baixo, baixo, médio, alto e muito alto\n",
    "3. **RULES**\n",
    "    * Se a *stock* tem *alto crescimento* e *baixo risco* **ENTÃO** o investimento deve ser *muito alto*\n",
    "    * Se a *stock* tem *alto crescimento* e *médio risco* **ENTÃO** o investimento deve ser *alto*\n",
    "    * Se a *stock* tem *alto crescimento* e *alto risco* **ENTÃO** o investimento deve ser *baixo*\n",
    "\n",
    "    * Se a *stock* tem *médio crescimento* e *baixo risco* **ENTÃO** o investimento deve ser *alto*\n",
    "    * Se a *stock* tem *médio crescimento* e *médio risco* **ENTÃO** o investimento deve ser *médio*\n",
    "    * Se a *stock* tem *médio crescimento* e *alto risco* **ENTÃO** o investimento deve ser *baixo*\n",
    "    \n",
    "    * Se a *stock* tem *baixo crescimento* e *baixo risco* **ENTÃO** o investimento deve ser *baixo*\n",
    "    * Se a *stock* tem *baixo crescimento* e *médio risco* **ENTÃO** o investimento deve ser *muito baixo*\n",
    "    * Se a *stock* tem *baixo crescimento* e *alto risco* **ENTÃO** o investimento deve ser *muito baixo*"
   ]
  },
  {
   "cell_type": "markdown",
   "metadata": {},
   "source": [
    "#### Input1: variacao com relação ao ultimo pico"
   ]
  },
  {
   "cell_type": "code",
   "execution_count": null,
   "metadata": {},
   "outputs": [],
   "source": [
    "x_filter = np.arange(0, 0.2, 0.01)\n",
    "\n",
    "x_lo = fuzz.trimf(x_filter, [0, 0, 0.1])\n",
    "x_md = fuzz.trimf(x_filter, [0, 0.1, 0.2])\n",
    "x_hi = fuzz.trimf(x_filter, [0.07, 0.2, 0.2])\n",
    "\n",
    "plt.plot(x_filter, x_lo, 'b', linewidth=1.5, label='Bad')\n",
    "plt.plot(x_filter, x_md, 'g', linewidth=1.5, label='Decent')\n",
    "plt.plot(x_filter, x_hi, 'r', linewidth=1.5, label='Great')\n",
    "plt.legend()\n",
    "plt.show()"
   ]
  },
  {
   "cell_type": "markdown",
   "metadata": {},
   "source": [
    "#### Input2: risco da stock"
   ]
  },
  {
   "cell_type": "code",
   "execution_count": null,
   "metadata": {},
   "outputs": [],
   "source": [
    "x_risk = np.arange(0, 101, 1)\n",
    "\n",
    "risk_lo = fuzz.trimf(x_risk, [0, 0, 50])\n",
    "risk_md = fuzz.trimf(x_risk, [0, 50, 100])\n",
    "risk_hi = fuzz.trimf(x_risk, [50, 100, 100])\n",
    "\n",
    "plt.plot(x_risk, risk_lo, 'b', linewidth=1.5, label='Bad')\n",
    "plt.plot(x_risk, risk_md, 'g', linewidth=1.5, label='Decent')\n",
    "plt.plot(x_risk, risk_hi, 'r', linewidth=1.5, label='Great')\n",
    "plt.legend()\n",
    "plt.show()"
   ]
  },
  {
   "cell_type": "markdown",
   "metadata": {},
   "source": [
    "#### Output: pct de compra/venda"
   ]
  },
  {
   "cell_type": "code",
   "execution_count": null,
   "metadata": {},
   "outputs": [],
   "source": [
    "x_pct = np.arange(0, 101, 1)\n",
    "\n",
    "pct_lo = fuzz.trimf(x_pct, [0, 25, 50])\n",
    "pct_md = fuzz.trimf(x_pct, [25, 50, 75])\n",
    "pct_hi = fuzz.trimf(x_pct, [50, 75, 100])\n",
    "\n",
    "plt.plot(x_pct, pct_lo, 'green', linewidth=1.5, label='Low')\n",
    "plt.plot(x_pct, pct_md, 'red', linewidth=1.5, label='Medium')\n",
    "plt.plot(x_pct, pct_hi, 'black', linewidth=1.5, label='High')\n",
    "\n",
    "plt.legend()\n",
    "plt.show()"
   ]
  },
  {
   "cell_type": "markdown",
   "metadata": {},
   "source": [
    "#### Ativa as funcoes fuzzy no valor do input"
   ]
  },
  {
   "cell_type": "code",
   "execution_count": null,
   "metadata": {},
   "outputs": [],
   "source": [
    "x_level_lo = fuzz.interp_membership(x_filter, x_lo, 0.1)\n",
    "x_level_md = fuzz.interp_membership(x_filter, x_md, 0.1)\n",
    "x_level_hi = fuzz.interp_membership(x_filter, x_hi, 0.1)\n",
    "\n",
    "risk_level_lo = fuzz.interp_membership(x_risk, risk_lo, 80.5)\n",
    "risk_level_md = fuzz.interp_membership(x_risk, risk_md, 80.5)\n",
    "risk_level_hi = fuzz.interp_membership(x_risk, risk_hi, 80.5)"
   ]
  },
  {
   "cell_type": "markdown",
   "metadata": {},
   "source": [
    "#### REGRAS"
   ]
  },
  {
   "cell_type": "code",
   "execution_count": null,
   "metadata": {},
   "outputs": [],
   "source": [
    "# Rule 1 --> high x_filter AND low_risk\n",
    "rule1 = np.fmin(x_level_hi, risk_level_lo)\n",
    "activation_hi = np.fmin(rule1, pct_hi)\n",
    "\n",
    "# Rule 2 --> low x_filter OR high_risk\n",
    "rule2 = np.fmax(x_level_lo, risk_level_hi)\n",
    "activation_lo = np.fmin(rule2, pct_lo)\n",
    "\n",
    "# Rule 3 --> medium x_filter\n",
    "activation_md = np.fmin(x_level_md, pct_md)\n",
    "\n",
    "# # Rule 4 --> high risk\n",
    "# activation_lo = np.fmin(risk_level_hi, pct_lo)"
   ]
  },
  {
   "cell_type": "code",
   "execution_count": null,
   "metadata": {},
   "outputs": [],
   "source": [
    "# visualizacao\n",
    "pct0 = np.zeros_like(x_pct)\n",
    "\n",
    "fig, ax0 = plt.subplots(figsize=(8, 3))\n",
    "\n",
    "ax0.fill_between(x_pct, pct0, activation_lo, facecolor='b', alpha=0.7)\n",
    "ax0.plot(x_pct, pct_lo, 'b', linewidth=0.5, linestyle='--', )\n",
    "ax0.fill_between(x_pct, pct0, activation_md, facecolor='g', alpha=0.7)\n",
    "ax0.plot(x_pct, pct_md, 'g', linewidth=0.5, linestyle='--')\n",
    "ax0.fill_between(x_pct, pct0, activation_hi, facecolor='r', alpha=0.7)\n",
    "ax0.plot(x_pct, pct_hi, 'r', linewidth=0.5, linestyle='--')\n",
    "ax0.set_title('Output membership activity')\n",
    "plt.show()"
   ]
  },
  {
   "cell_type": "markdown",
   "metadata": {},
   "source": [
    "#### Defuzzification"
   ]
  },
  {
   "cell_type": "code",
   "execution_count": null,
   "metadata": {},
   "outputs": [],
   "source": [
    "# Aggregate all three output membership functions together\n",
    "aggregated = np.fmax(activation_lo, np.fmax(activation_md, activation_hi))\n",
    "\n",
    "# Calculate defuzzified result\n",
    "pct = fuzz.defuzz(x_pct, aggregated, 'lom')\n",
    "pct_activation = fuzz.interp_membership(x_pct, aggregated, pct)  # for plot\n",
    "\n",
    "# Visualize this\n",
    "fig, ax0 = plt.subplots(figsize=(8, 3))\n",
    "\n",
    "ax0.plot(x_pct, pct_lo, 'b', linewidth=0.5, linestyle='--', )\n",
    "ax0.plot(x_pct, pct_md, 'g', linewidth=0.5, linestyle='--')\n",
    "ax0.plot(x_pct, pct_hi, 'r', linewidth=0.5, linestyle='--')\n",
    "ax0.fill_between(x_pct, pct0, aggregated, facecolor='Orange', alpha=0.7)\n",
    "ax0.plot([pct, pct], [0, pct_activation], 'k', linewidth=1.5, alpha=0.9)\n",
    "ax0.set_title('Aggregated membership and result (line)')\n",
    "\n",
    "# Turn off top/right axes\n",
    "for ax in (ax0,):\n",
    "    ax.spines['top'].set_visible(False)\n",
    "    ax.spines['right'].set_visible(False)\n",
    "    ax.get_xaxis().tick_bottom()\n",
    "    ax.get_yaxis().tick_left()\n",
    "\n",
    "plt.tight_layout()"
   ]
  },
  {
   "cell_type": "code",
   "execution_count": null,
   "metadata": {},
   "outputs": [],
   "source": [
    "print(\"Risco indicado de: \", round(pct,2))"
   ]
  },
  {
   "cell_type": "code",
   "execution_count": 2,
   "metadata": {},
   "outputs": [],
   "source": [
    "def fuzzy_pct_triangle(i_x_filter, i_risk, defuzzy_method):\n",
    "    # input porcentagem pro ultimo pico\n",
    "    x_filter = np.arange(0, 0.2, 0.01)\n",
    "    x_lo = fuzz.trimf(x_filter, [0, 0, 0.1])\n",
    "    x_md = fuzz.trimf(x_filter, [0, 0.1, 0.2])\n",
    "    x_hi = fuzz.trimf(x_filter, [0.07, 0.2, 0.2])\n",
    "    \n",
    "    # input risco\n",
    "    x_risk = np.arange(0, 101, 1)\n",
    "    risk_lo = fuzz.trimf(x_risk, [0, 0, 50])\n",
    "    risk_md = fuzz.trimf(x_risk, [0, 50, 100])\n",
    "    risk_hi = fuzz.trimf(x_risk, [50, 100, 100])\n",
    "    \n",
    "    # output porcentagem\n",
    "    x_pct = np.arange(0, 101, 1)\n",
    "    pct_lo = fuzz.trimf(x_pct, [0, 25, 50])\n",
    "    pct_md = fuzz.trimf(x_pct, [25, 50, 75])\n",
    "    pct_hi = fuzz.trimf(x_pct, [50, 75, 100])\n",
    "    \n",
    "    # ativa o fuzzy no valor do input    \n",
    "    x_level_lo = fuzz.interp_membership(x_filter, x_lo, i_x_filter)\n",
    "    x_level_md = fuzz.interp_membership(x_filter, x_md, i_x_filter)\n",
    "    x_level_hi = fuzz.interp_membership(x_filter, x_hi, i_x_filter)\n",
    "    risk_level_lo = fuzz.interp_membership(x_risk, risk_lo, i_risk)\n",
    "    risk_level_md = fuzz.interp_membership(x_risk, risk_md, i_risk)\n",
    "    risk_level_hi = fuzz.interp_membership(x_risk, risk_hi, i_risk)\n",
    "\n",
    "    # regras\n",
    "    # Rule 1 --> high x_filter AND low_risk\n",
    "    rule1 = np.fmin(x_level_hi, risk_level_lo)\n",
    "    activation_hi = np.fmin(rule1, pct_hi)\n",
    "    # Rule 2 --> low x_filter OR high_risk\n",
    "    rule2 = np.fmax(x_level_lo, risk_level_hi)\n",
    "    activation_lo = np.fmin(rule2, pct_lo)\n",
    "    # Rule 3 --> medium x_filter\n",
    "    activation_md = np.fmin(x_level_md, pct_md)\n",
    "\n",
    "    # Aggregate all three output membership functions together\n",
    "    aggregated = np.fmax(activation_lo, np.fmax(activation_md, activation_hi))\n",
    "\n",
    "    # Calculate defuzzified result\n",
    "    pct = fuzz.defuzz(x_pct, aggregated, defuzzy_method)\n",
    "    \n",
    "    return pct"
   ]
  },
  {
   "cell_type": "code",
   "execution_count": null,
   "metadata": {},
   "outputs": [],
   "source": []
  }
 ],
 "metadata": {
  "kernelspec": {
   "display_name": "Python 3",
   "language": "python",
   "name": "python3"
  },
  "language_info": {
   "codemirror_mode": {
    "name": "ipython",
    "version": 3
   },
   "file_extension": ".py",
   "mimetype": "text/x-python",
   "name": "python",
   "nbconvert_exporter": "python",
   "pygments_lexer": "ipython3",
   "version": "3.7.2"
  }
 },
 "nbformat": 4,
 "nbformat_minor": 2
}
