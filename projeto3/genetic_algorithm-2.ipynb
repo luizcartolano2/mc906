{
 "cells": [
  {
   "cell_type": "markdown",
   "metadata": {},
   "source": [
    "# Falta fazer\n",
    "## Relatório\n",
    "## Documentação"
   ]
  },
  {
   "cell_type": "code",
   "execution_count": 1,
   "metadata": {},
   "outputs": [],
   "source": [
    "# import das bibliotecas\n",
    "import os\n",
    "import pandas as pd\n",
    "import random\n",
    "import time\n",
    "# from greedy_filter import *\n",
    "from greedy_filter_2 import *\n",
    "from math import inf\n",
    "import numpy as np\n",
    "import matplotlib.pyplot as plt\n",
    "from sklearn import linear_model"
   ]
  },
  {
   "cell_type": "code",
   "execution_count": 2,
   "metadata": {},
   "outputs": [],
   "source": [
    "# definicao das constantes\n",
    "PATH_EXCEL = os.getcwd() + '/excel_files/'"
   ]
  },
  {
   "cell_type": "markdown",
   "metadata": {},
   "source": [
    "Estruturas que irao armazenar os dataframes com o histórico de preços das ações.\n",
    "1. dict_excels: dicionario onde a chave é o nome da ação e o valor da chave é o dataframe\n",
    "2. filenames: lista com o nome dos arquivos\n",
    "3. excels: lista com os dataframes"
   ]
  },
  {
   "cell_type": "code",
   "execution_count": 3,
   "metadata": {},
   "outputs": [],
   "source": [
    "dict_excels = {}\n",
    "filenames = []\n",
    "excels = []\n",
    "for filename in os.listdir(PATH_EXCEL):\n",
    "    filenames.append(filename[:filename.find('.')])\n",
    "    excels.append(pd.read_excel(PATH_EXCEL + filename).sort_values(by=['Exchange Date']).reset_index(drop=True))\n",
    "    dict_excels[filename[:filename.find('.')]] = (pd.read_excel(PATH_EXCEL + filename).sort_values(by=['Exchange Date']).reset_index(drop=True))"
   ]
  },
  {
   "cell_type": "code",
   "execution_count": 4,
   "metadata": {},
   "outputs": [
    {
     "data": {
      "text/plain": [
       "['alphabet',\n",
       " 'bitcoin',\n",
       " 'boeing',\n",
       " 'amazon',\n",
       " 'disney',\n",
       " 'tesla',\n",
       " 'microsoft',\n",
       " 'nvidia',\n",
       " 'alibaba',\n",
       " 'apple',\n",
       " 'facebook']"
      ]
     },
     "execution_count": 4,
     "metadata": {},
     "output_type": "execute_result"
    }
   ],
   "source": [
    "filenames"
   ]
  },
  {
   "cell_type": "markdown",
   "metadata": {},
   "source": [
    "## Modelagem do problema\n",
    "### Algoritmo Genético 1 - Escolha dos Parâmetros das Regras de Filtro\n",
    "1. Gene: cada um dos parâmetros do filtro\n",
    "    1. x - porcentagem de variação: porcentagem acima/abaixo da ultima subida ou queda\n",
    "       1. varia de 0 a 1\n",
    "       2. varia de 0.01 a 0.10\n",
    "    2. h - hold days: após um sinal de compra/venda esperamos por h dias\n",
    "       1. varia de 1 até o número de dias entre a data atual e a data onde acabam as informacoes\n",
    "       2. varia de 1 até 30\n",
    "    3. d - delay days: após receber um sinal ignora-se os próximos d dias\n",
    "       1. varia de 1 até o número de dias entre a data atual e a data onde acabam as informacoes\n",
    "       2. varia de 1 até 30\n",
    "    4. p - previous days: olha-se p dias para tomar uma decisão\n",
    "       1. varia de 0 até o número de dias transcorridos até o momento\n",
    "       2. varia de 30 até o número máximo de dias\n",
    "2. Cromossomo: conjunto de parâmetros\n",
    "    1. Estrutura usada: lista com os parâmetros &rarr; [x, h, d, p]\n",
    "3. População: conjunto de cromossomos\n",
    "    1. Tamanho da População:\n",
    "4. Mutação:\n",
    "    1. taxa de mutação:\n",
    "5. Crossover:\n",
    "    1. taxa de crossover:\n",
    "6. Critério de Parada:\n",
    "7. Seleção:\n",
    "    1. Fitness: cálculo do lucro obtido por cada cromossomo\n",
    "    2. Técnica de Seleção:\n",
    "        1. Técnica 1:\n",
    "        2. Técnica 2:"
   ]
  },
  {
   "cell_type": "markdown",
   "metadata": {},
   "source": [
    "Funções para realizar o crossover entre dois cromossomos"
   ]
  },
  {
   "cell_type": "code",
   "execution_count": 5,
   "metadata": {},
   "outputs": [],
   "source": [
    "def crossover(chromosome1, chromosome2):\n",
    "    \"\"\"\n",
    "        Funcao para realizar o crossover entre dois cromossomos\n",
    "        :param: chromosome1 - cromossomo pai\n",
    "        :param: chromosome2 - cromossomo mae\n",
    "        :return: new_chromosome1 - primeiro filho gerado no crossover\n",
    "        :return: new_chromosome2 - segundo filho gerado no crossover\n",
    "    \"\"\"\n",
    "    # escolhe um gene aleatorio para realizar o crossover\n",
    "    rand = random.randint(1,len(chromosome1) - 1)\n",
    "\n",
    "    # gera os dois novos cromossomos\n",
    "    new_chromosome1 = chromosome1[:rand] + chromosome2[rand:]\n",
    "    new_chromosome2 = chromosome2[:rand] + chromosome1[rand:]\n",
    "    \n",
    "    return new_chromosome1, new_chromosome2\n",
    "\n",
    "def crossover2(chromosome1, chromosome2):\n",
    "    \"\"\"\n",
    "        Funcao para realizar o crossover entre dois cromossomos com 2 pontos de corte\n",
    "        :param: chromosome1 - cromossomo pai\n",
    "        :param: chromosome2 - cromossomo mae\n",
    "        :return: new_chromosome1 - primeiro filho gerado no crossover\n",
    "        :return: new_chromosome2 - segundo filho gerado no crossover\n",
    "    \"\"\"\n",
    "    # escolhe um gene aleatorio para realizar o crossover\n",
    "    rand = random.randint(1,len(chromosome1) - 2)\n",
    "    rand2 = random.randint(rand+1, len(chromosome1) - 1)\n",
    "    # gera os dois novos cromossomos\n",
    "    new_chromosome1 = chromosome1[:rand] + chromosome2[rand:rand2] + chromosome1[rand2:]\n",
    "    new_chromosome2 = chromosome2[:rand] + chromosome1[rand:rand2] + chromosome2[rand2:]\n",
    "    \n",
    "    return new_chromosome1, new_chromosome2"
   ]
  },
  {
   "cell_type": "markdown",
   "metadata": {},
   "source": [
    "Funções para realizar a mutação de um cromossomo"
   ]
  },
  {
   "cell_type": "code",
   "execution_count": 6,
   "metadata": {},
   "outputs": [],
   "source": [
    "def mutation(chromossome):\n",
    "    \"\"\"\n",
    "        Funcao para realizar a mutacao de um dado cromossomo\n",
    "        :param: chromossome - cromossomo que ira passar pelo processo de mutacao\n",
    "        :param: today_index - indice da tabela referente a data atual da acao\n",
    "        :param: last_day_index - indice da tabela referente a ultima data da qual se tem informacao da acao\n",
    "        :return: new_chromossome - novo cromossomo apos o processo de mutacao\n",
    "    \"\"\"\n",
    "    # faz a copia do cromossomo original\n",
    "    new_chromossome = chromossome\n",
    "    \n",
    "    # escolhe, aleatoriamente, um gene para ser alterado\n",
    "    gene_initial_position = random.randint(0,len(chromossome) - 1)\n",
    "    gene_final_position = random.randint(gene_initial_position, len(chromossome) - 1)\n",
    "    \n",
    "    # modifica o conjunto de genes escolhidos seguindo, como unica regra, os valores que eles podem assumir\n",
    "    for i in range(gene_initial_position, gene_final_position + 1):\n",
    "        if i == 0:\n",
    "            new_chromossome[0] = random.uniform(0.01,0.10)\n",
    "        elif i == 1:\n",
    "            new_chromossome[1] = random.randint(1,30)\n",
    "        elif i == 2:\n",
    "            new_chromossome[2] = random.randint(1,30)\n",
    "        elif i == 3:\n",
    "            new_chromossome[3] = random.randint(30,500)\n",
    "        else:\n",
    "            raise Exception('Gene inexistente no cromossomo!')\n",
    "        \n",
    "    return new_chromossome\n",
    "\n",
    "def mutation_v2(chromossome):\n",
    "    \"\"\"\n",
    "        Funcao para realizar a mutacao de um dado cromossomo\n",
    "        :param: chromossome - cromossomo que ira passar pelo processo de mutacao\n",
    "        :return: new_chromossome - novo cromossomo apos o processo de mutacao\n",
    "    \"\"\"\n",
    "    # faz a copia do cromossomo original\n",
    "    new_chromossome = chromossome\n",
    "    \n",
    "    # escolhe, aleatoriamente, um gene para ser alterado\n",
    "    gene_position = random.randint(0,len(chromossome) - 1)\n",
    "    \n",
    "    # modifica o gene escolhido seguindo, como unica regra, os valores que ele pode assumir\n",
    "    if gene_position == 0:\n",
    "        new_chromossome[0] = random.uniform(0.01,0.10)\n",
    "    elif gene_position == 1:\n",
    "        new_chromossome[1] = random.randint(1,30)\n",
    "    elif gene_position == 2:\n",
    "        new_chromossome[2] = random.randint(1,30)\n",
    "    elif gene_position == 3:\n",
    "        new_chromossome[3] = random.randint(30,500)\n",
    "    else:\n",
    "        raise Exception('Gene inexistente no cromossomo!')\n",
    "        \n",
    "    return new_chromossome"
   ]
  },
  {
   "cell_type": "markdown",
   "metadata": {},
   "source": [
    "Função para realizar a inicialização randômica de uma população"
   ]
  },
  {
   "cell_type": "code",
   "execution_count": 7,
   "metadata": {},
   "outputs": [],
   "source": [
    "def create_population(population_size):\n",
    "    \"\"\"\n",
    "        Funcao para criar uma populacao randomica de cromossomos\n",
    "        :param: population_size - tamanho da populacao que sera criada\n",
    "        :return: population - nova populacao\n",
    "    \"\"\"\n",
    "    population = []\n",
    "    for i in range(0, population_size):\n",
    "        population.append([random.uniform(0,0.1), random.randint(1,30), random.randint(1,30), random.randint(1,500)])\n",
    "        \n",
    "    return population"
   ]
  },
  {
   "cell_type": "code",
   "execution_count": 8,
   "metadata": {},
   "outputs": [],
   "source": [
    "def fitness(np_array, chromossomes, budget):\n",
    "    \"\"\"\n",
    "        Funcao para calcular o lucro de cada um dos cromossomos de uma dada populacao\n",
    "        :param: np_array - conjunto de dados de determinada acao\n",
    "        :param: chromossomes - lista de cromossomos que sera avaliada\n",
    "        :param: budget - dinheiro inicial do problema\n",
    "        :return: fit_chromossomes - matriz com os cromossomos e o lucro(em porcentagem) obtido por eles\n",
    "    \"\"\"\n",
    "    fit_chromossomes = []\n",
    "    for chromossome in chromossomes:\n",
    "        money = greedy_filter_rule(np_array, chromossome, budget)\n",
    "        fit_chromossomes.append([chromossome, (money-budget)/budget])\n",
    "        \n",
    "    return fit_chromossomes"
   ]
  },
  {
   "cell_type": "code",
   "execution_count": 9,
   "metadata": {},
   "outputs": [],
   "source": [
    "def selection(stock_value, list_chromossomes, budget, cut_size):\n",
    "    \"\"\"\n",
    "        :param: stock_value - \n",
    "        :param: list_chromossomes - \n",
    "        :param: budget - \n",
    "        :param: cut_size - \n",
    "        \n",
    "        :return: new_generation - \n",
    "        :return: fitness_array - \n",
    "    \"\"\"\n",
    "    fitness_array = fitness(stock_value, list_chromossomes, budget)\n",
    "    fitness_array.sort(key=lambda x: x[1], reverse = True)\n",
    "    new_generation = []\n",
    "    for i in range (0,cut_size):\n",
    "        new_generation.append(fitness_array[i][0])\n",
    "    return new_generation, fitness_array[:cut_size]"
   ]
  },
  {
   "cell_type": "code",
   "execution_count": 10,
   "metadata": {},
   "outputs": [],
   "source": [
    "def roulette_selection(stock_value, list_chromossomes, budget, cut_size):\n",
    "    \"\"\"\n",
    "        :param: stock_value - \n",
    "        :param: list_chromossomes - \n",
    "        :param: budget - \n",
    "        :param: cut_size - \n",
    "        \n",
    "        :return: new_population - \n",
    "        :return: cut_size - \n",
    "    \"\"\"\n",
    "    fitness_array = fitness(stock_value, list_chromossomes, budget)\n",
    "#     fitness_array = linear_normalization(fitness_array)\n",
    "\n",
    "    adds_skills = 0\n",
    "    for fit in fitness_array:\n",
    "        adds_skills = adds_skills + fit[1]\n",
    "    \n",
    "    new_population = []\n",
    "    for i in range(cut_size):\n",
    "        r = random.uniform(0, adds_skills)\n",
    "        temp_soma = 0\n",
    "        for fit in fitness_array:\n",
    "            temp_soma = temp_soma + fit[1]\n",
    "            if temp_soma >= r:\n",
    "                new_population.append(fit[0])\n",
    "                break\n",
    "    return new_population, fitness(stock_value, new_population, budget)"
   ]
  },
  {
   "cell_type": "code",
   "execution_count": 11,
   "metadata": {},
   "outputs": [],
   "source": [
    "def stop_criterion(old_population, new_population, limit_to_converge):\n",
    "    \"\"\"\n",
    "        :param: old_population - populacao ao iniciar a iteracao\n",
    "        :param: new_population - populacao ao fim da iteracao\n",
    "        :param: limit_to_converge - limiar abaixo do qual iremos considerar que ambas as pop convergem\n",
    "\n",
    "        :return: True se for para parar, False c.c.\n",
    "    \"\"\"\n",
    "    soma_old = 0\n",
    "    for x in old_population:\n",
    "        soma_old = soma_old + x[1]\n",
    "\n",
    "    soma_new = 0\n",
    "    for x in new_population:\n",
    "        soma_new = soma_new + x[1]\n",
    "    \n",
    "    media_old = soma_old / len(old_population)\n",
    "    media_new = soma_new / len(new_population)\n",
    "    \n",
    "    if abs(media_new - media_old) < limit_to_converge:\n",
    "        return True\n",
    "    else:\n",
    "        return False"
   ]
  },
  {
   "cell_type": "code",
   "execution_count": 12,
   "metadata": {},
   "outputs": [],
   "source": [
    "def generate_children(old_generation, crossover_function, crossover_rate):\n",
    "    \"\"\"\n",
    "        :param: old_generation - \n",
    "        :param: crossover_function - \n",
    "        :param: crossover_rate - \n",
    "        \n",
    "        :return: children - \n",
    "    \"\"\"\n",
    "    size_generation = len(old_generation)\n",
    "    number_to_crossover = int(size_generation * crossover_rate)\n",
    "    random.shuffle(old_generation)\n",
    "    children = []\n",
    "    for i in range (number_to_crossover):\n",
    "        for j in range (i+1, number_to_crossover):\n",
    "            new_chromossome1, new_chromossome2 = crossover_function(old_generation[i], old_generation[j])\n",
    "            children.append(new_chromossome1)\n",
    "            children.append(new_chromossome2)\n",
    "    return children"
   ]
  },
  {
   "cell_type": "code",
   "execution_count": 13,
   "metadata": {},
   "outputs": [],
   "source": [
    "def mutation_chromossome(chromossomes, mutation_function, mutation_rate):\n",
    "    \"\"\"\n",
    "        :param: chromossomes - \n",
    "        :param: mutation_function - \n",
    "        :param: mutation_rate - \n",
    "        \n",
    "        :return: chromossomes - \n",
    "    \"\"\"\n",
    "    number_chromossomes_to_mutate = int(len(chromossomes) * mutation_rate)\n",
    "    random.shuffle(chromossomes)\n",
    "    for i in range (0,number_chromossomes_to_mutate):\n",
    "        chromossomes[i] = mutation_function(chromossomes[i])\n",
    "    return chromossomes\n",
    "    "
   ]
  },
  {
   "cell_type": "code",
   "execution_count": 14,
   "metadata": {},
   "outputs": [],
   "source": [
    "def evolutionary_strategy1(stock_values, first_population, budget, crossover_function, delta, mutation_rate, crossover_rate, min_iteration_converge):\n",
    "    \"\"\"\n",
    "        :param: stock_values - \n",
    "        :param: first_population - \n",
    "        :param: budget - \n",
    "        :param: crossover_function - \n",
    "        :param: delta -\n",
    "        \n",
    "        :return: old_population - \n",
    "    \"\"\"\n",
    "    flag = False\n",
    "    iteration = 0\n",
    "    old_population = first_population\n",
    "    while (not flag):\n",
    "        fitness_old_population = fitness(stock_values, old_population, budget)\n",
    "        children = generate_children(first_population, crossover_function, crossover_rate)\n",
    "        parents_and_children = old_population + children\n",
    "        chromossomes_parents_children_mutated = mutation_chromossome(parents_and_children, mutation_v2, mutation_rate)\n",
    "        new_population, fitness_new_population = selection(stock_values, chromossomes_parents_children_mutated, budget, len(old_population))\n",
    "        flag = (stop_criterion(fitness_old_population, fitness_new_population, delta) and iteration > min_iteration_converge)\n",
    "        iteration = iteration + 1\n",
    "        old_population = new_population\n",
    "    return old_population\n",
    "        "
   ]
  },
  {
   "cell_type": "code",
   "execution_count": 15,
   "metadata": {},
   "outputs": [],
   "source": [
    "def linear_normalization(fitness_population, increment=20):\n",
    "    pop_size = len(fitness_population)\n",
    "    fitness_population = sorted(fitness_population, key=lambda x: x[1], reverse = False)\n",
    "    min_value = 1\n",
    "    max_value = 201\n",
    "    normalized_fitness = []\n",
    "    for i in range(pop_size):\n",
    "        temp_fit = min_value + ((max_value - min_value)/(pop_size - 1)) * (i)\n",
    "        normalized_fitness.append([fitness_population[i][0],temp_fit])\n",
    "    \n",
    "    return normalized_fitness"
   ]
  },
  {
   "cell_type": "code",
   "execution_count": 16,
   "metadata": {},
   "outputs": [],
   "source": [
    "def evolutionary_strategy2(stock_values, first_population, budget, crossover_function, mutation_func,delta, mutation_rate, crossover_rate, min_iteration_converge):\n",
    "    \"\"\"\n",
    "        :param: stock_values - \n",
    "        :param: first_population - \n",
    "        :param: budget - \n",
    "        :param: crossover_function - \n",
    "        :param: mutation_func - \n",
    "        :param: delta -\n",
    "        \n",
    "        :return: old_population - \n",
    "    \"\"\"\n",
    "    flag = False\n",
    "    iteration = 0\n",
    "    old_population = first_population\n",
    "    while (not flag):\n",
    "        #         print(\"While: \", iteration)\n",
    "        fitness_old_population = fitness(stock_values, old_population, budget)\n",
    "        children = generate_children(first_population, crossover_function, crossover_rate)\n",
    "        parents_and_children = old_population + children\n",
    "        chromossomes_parents_children_mutated = mutation_chromossome(parents_and_children, mutation_func, mutation_rate)\n",
    "        chromossomes_parents_children_mutated = random.sample(chromossomes_parents_children_mutated, len(chromossomes_parents_children_mutated))\n",
    "        new_population, fitness_new_population = roulette_selection(stock_values, chromossomes_parents_children_mutated, budget, len(old_population))\n",
    "        flag = (stop_criterion(fitness_old_population, fitness_new_population, delta) and iteration > min_iteration_converge) or iteration > 100\n",
    "        iteration = iteration + 1\n",
    "        old_population = new_population\n",
    "    return old_population\n",
    "\n"
   ]
  },
  {
   "cell_type": "markdown",
   "metadata": {},
   "source": [
    "# Let's play"
   ]
  },
  {
   "cell_type": "markdown",
   "metadata": {},
   "source": [
    "## Primeiro conjunto de testes - Defuzzi: Risk - centroid Pct - LOM"
   ]
  },
  {
   "cell_type": "markdown",
   "metadata": {},
   "source": [
    "### Variaveis que serão usadas para a primeira população\n",
    "Para as ações da Alphabet serão testados:\n",
    "1. Dados Fixos:\n",
    "    1. Budget &rarr; 10.000,00\n",
    "    2. Delta para considerar convergência &rarr; 0.01\n",
    "2. Dados variáveis:\n",
    "    1. População:\n",
    "        1. Para uma população de 100 e outra de 1000, testamos:\n",
    "            1. Duas funções de Crossover:\n",
    "                1. Taxa de Crossover &rarr; 0.3\n",
    "                2. Taxa de Crossover &rarr; 0.8\n",
    "            2. Duas funções de Mutação:\n",
    "                1. Taxa de Mutação &rarr; 0.3\n",
    "                2. Taxa de Mutação &rarr; 0.8\n"
   ]
  },
  {
   "cell_type": "markdown",
   "metadata": {},
   "source": [
    "#### Primeira iteração:\n",
    "1. População &rarr; 100\n",
    "2. Budget &rarr; 10.000\n",
    "3. Delta &rarr; 0.01\n",
    "4. Crossover &rarr; crossover\n",
    "    1. Taxa &rarr; 0.3\n",
    "5. Mutação &rarr; mutation\n",
    "    1. Taxa &rarr; 0.3\n",
    "6. Melhor Resultado:\n",
    "    [[0.029757806673384436, 16, 10, 339], 1.6809029999999998]\n",
    "7. Pior Resultado:\n",
    "    [[0.0903877154523101, 24, 3, 304], 0.0]\n",
    "8. Média:\n",
    "    0.3572531\n",
    "9. Desvio:\n",
    "    0.409838862518003"
   ]
  },
  {
   "cell_type": "markdown",
   "metadata": {},
   "source": [
    "Dados fixos que serão usados para todas as iterações de 100 cromossomos"
   ]
  },
  {
   "cell_type": "code",
   "execution_count": 17,
   "metadata": {},
   "outputs": [],
   "source": [
    "population_len = 10\n",
    "budget = 10000\n",
    "delta_to_converge = 0.01\n",
    "min_iteration_converget = 3\n",
    "np_array = excels[0].values # Irá utilizar a primeira lista de valores da bolsa\n",
    "chromossomes = create_population(population_len)"
   ]
  },
  {
   "cell_type": "markdown",
   "metadata": {},
   "source": [
    "Aplicação da estratégia evolucionária"
   ]
  },
  {
   "cell_type": "code",
   "execution_count": 18,
   "metadata": {},
   "outputs": [],
   "source": [
    "# Dados variáveis\n",
    "mutation_rate = 0.3\n",
    "crossover_rate = 0.3"
   ]
  },
  {
   "cell_type": "code",
   "execution_count": 19,
   "metadata": {},
   "outputs": [
    {
     "name": "stdout",
     "output_type": "stream",
     "text": [
      "Tempo para convergir:  217.31 segundos\n"
     ]
    }
   ],
   "source": [
    "begin_time = time.time()\n",
    "best_chromossomes_1 = evolutionary_strategy2(np_array, chromossomes, budget, crossover, mutation, delta_to_converge, mutation_rate, crossover_rate, min_iteration_converget)\n",
    "print (\"Tempo para convergir: \", round(time.time() - begin_time, 2), \"segundos\")"
   ]
  },
  {
   "cell_type": "markdown",
   "metadata": {},
   "source": [
    "#### Resultados da Primeira Iteração"
   ]
  },
  {
   "cell_type": "code",
   "execution_count": 20,
   "metadata": {},
   "outputs": [
    {
     "data": {
      "text/plain": [
       "217.46"
      ]
     },
     "execution_count": 20,
     "metadata": {},
     "output_type": "execute_result"
    }
   ],
   "source": [
    "tempo_1 = round(time.time() - begin_time, 2)\n",
    "tempo_1"
   ]
  },
  {
   "cell_type": "code",
   "execution_count": 21,
   "metadata": {
    "scrolled": true
   },
   "outputs": [
    {
     "data": {
      "text/plain": [
       "[[[0.04357720472818728, 4, 4, 256], 0.12313300000000017],\n",
       " [[0.0003956930344500842, 2, 1, 256], 0.10584500000000098],\n",
       " [[0.04485448273929904, 20, 15, 231], 0.16567999999999994],\n",
       " [[0.0003956930344500842, 2, 1, 256], 0.10584500000000098],\n",
       " [[0.04485448273929904, 20, 22, 451], 0.16655600000000012],\n",
       " [[0.04485448273929904, 20, 22, 451], 0.16655600000000012],\n",
       " [[0.04485448273929904, 20, 22, 451], 0.16655600000000012],\n",
       " [[0.04357720472818728, 4, 4, 256], 0.12313300000000017],\n",
       " [[0.0003956930344500842, 2, 1, 256], 0.10584500000000098],\n",
       " [[0.04357720472818728, 4, 4, 256], 0.12313300000000017]]"
      ]
     },
     "execution_count": 21,
     "metadata": {},
     "output_type": "execute_result"
    }
   ],
   "source": [
    "# best_chromossomes_1 = best_chromossomes_temp\n",
    "best_chromossomes_1 = fitness(np_array, best_chromossomes_1, budget)\n",
    "best_chromossomes_1"
   ]
  },
  {
   "cell_type": "code",
   "execution_count": 22,
   "metadata": {
    "scrolled": true
   },
   "outputs": [
    {
     "data": {
      "text/plain": [
       "[[[0.0003956930344500842, 2, 1, 256], 0.10584500000000098],\n",
       " [[0.0003956930344500842, 2, 1, 256], 0.10584500000000098],\n",
       " [[0.0003956930344500842, 2, 1, 256], 0.10584500000000098],\n",
       " [[0.04357720472818728, 4, 4, 256], 0.12313300000000017],\n",
       " [[0.04357720472818728, 4, 4, 256], 0.12313300000000017],\n",
       " [[0.04357720472818728, 4, 4, 256], 0.12313300000000017],\n",
       " [[0.04485448273929904, 20, 15, 231], 0.16567999999999994],\n",
       " [[0.04485448273929904, 20, 22, 451], 0.16655600000000012],\n",
       " [[0.04485448273929904, 20, 22, 451], 0.16655600000000012],\n",
       " [[0.04485448273929904, 20, 22, 451], 0.16655600000000012]]"
      ]
     },
     "execution_count": 22,
     "metadata": {},
     "output_type": "execute_result"
    }
   ],
   "source": [
    "best_chromossomes_1 = sorted(best_chromossomes_1, key=lambda x: x[1], reverse = False)\n",
    "best_chromossomes_1"
   ]
  },
  {
   "cell_type": "markdown",
   "metadata": {},
   "source": [
    "Melhor cromossomo"
   ]
  },
  {
   "cell_type": "code",
   "execution_count": 23,
   "metadata": {},
   "outputs": [
    {
     "data": {
      "text/plain": [
       "[[0.04485448273929904, 20, 22, 451], 0.16655600000000012]"
      ]
     },
     "execution_count": 23,
     "metadata": {},
     "output_type": "execute_result"
    }
   ],
   "source": [
    "best_1 = best_chromossomes_1[-1]\n",
    "best_1"
   ]
  },
  {
   "cell_type": "markdown",
   "metadata": {},
   "source": [
    "Pior cromossomo"
   ]
  },
  {
   "cell_type": "code",
   "execution_count": 24,
   "metadata": {},
   "outputs": [
    {
     "data": {
      "text/plain": [
       "[[0.0003956930344500842, 2, 1, 256], 0.10584500000000098]"
      ]
     },
     "execution_count": 24,
     "metadata": {},
     "output_type": "execute_result"
    }
   ],
   "source": [
    "worst_1 = best_chromossomes_1[0]\n",
    "worst_1"
   ]
  },
  {
   "cell_type": "markdown",
   "metadata": {},
   "source": [
    "Valor médio dos fitness"
   ]
  },
  {
   "cell_type": "code",
   "execution_count": 25,
   "metadata": {},
   "outputs": [
    {
     "data": {
      "text/plain": [
       "0.13522820000000038"
      ]
     },
     "execution_count": 25,
     "metadata": {},
     "output_type": "execute_result"
    }
   ],
   "source": [
    "mean_1 = 0\n",
    "for x in best_chromossomes_1: mean_1 = mean_1 + x[1]\n",
    "mean_1 = mean_1/len(best_chromossomes_1)\n",
    "mean_1"
   ]
  },
  {
   "cell_type": "code",
   "execution_count": 26,
   "metadata": {},
   "outputs": [
    {
     "data": {
      "text/plain": [
       "0.027689958463914584"
      ]
     },
     "execution_count": 26,
     "metadata": {},
     "output_type": "execute_result"
    }
   ],
   "source": [
    "std_1 = 0\n",
    "for x in best_chromossomes_1: std_1 = std_1 + (x[1] - mean_1) ** 2\n",
    "std_1 = (std_1 / (len(best_chromossomes_1) - 1)) ** (1/2)\n",
    "std_1"
   ]
  },
  {
   "cell_type": "markdown",
   "metadata": {},
   "source": [
    "#### Segunda iteração:\n",
    "1. População &rarr; 100\n",
    "2. Budget &rarr; 10.000\n",
    "3. Delta &rarr; 0.001\n",
    "4. Crossover &rarr; crossover\n",
    "    1. Taxa &rarr; 0.8\n",
    "5. Mutação &rarr; mutation\n",
    "    1. Taxa &rarr; 0.3"
   ]
  },
  {
   "cell_type": "code",
   "execution_count": 27,
   "metadata": {},
   "outputs": [],
   "source": [
    "# Dados variáveis\n",
    "mutation_rate = 0.3\n",
    "crossover_rate = 0.8"
   ]
  },
  {
   "cell_type": "code",
   "execution_count": 28,
   "metadata": {
    "scrolled": true
   },
   "outputs": [
    {
     "name": "stdout",
     "output_type": "stream",
     "text": [
      "Tempo para convergir:  534.66 segundos\n"
     ]
    }
   ],
   "source": [
    "begin_time = time.time()\n",
    "best_chromossomes_2 = evolutionary_strategy2(np_array, chromossomes, budget, crossover, mutation, delta_to_converge, mutation_rate, crossover_rate, min_iteration_converget)\n",
    "print (\"Tempo para convergir: \", round(time.time() - begin_time, 2), \"segundos\")"
   ]
  },
  {
   "cell_type": "markdown",
   "metadata": {},
   "source": [
    "Resultado da segunda iteração"
   ]
  },
  {
   "cell_type": "code",
   "execution_count": 29,
   "metadata": {},
   "outputs": [
    {
     "data": {
      "text/plain": [
       "153.58"
      ]
     },
     "execution_count": 29,
     "metadata": {},
     "output_type": "execute_result"
    }
   ],
   "source": [
    "tempo_2 = 153.58\n",
    "tempo_2"
   ]
  },
  {
   "cell_type": "code",
   "execution_count": 30,
   "metadata": {},
   "outputs": [],
   "source": [
    "best_chromossomes_2 = fitness(np_array, best_chromossomes_2, budget)"
   ]
  },
  {
   "cell_type": "code",
   "execution_count": 31,
   "metadata": {
    "scrolled": true
   },
   "outputs": [],
   "source": [
    "best_chromossomes_2 = sorted(best_chromossomes_2, key=lambda x: x[1], reverse = False)"
   ]
  },
  {
   "cell_type": "markdown",
   "metadata": {},
   "source": [
    "Melhor cromossomo"
   ]
  },
  {
   "cell_type": "code",
   "execution_count": 32,
   "metadata": {},
   "outputs": [
    {
     "data": {
      "text/plain": [
       "[[0.0003956930344500842, 9, 4, 123], 0.26289100000000054]"
      ]
     },
     "execution_count": 32,
     "metadata": {},
     "output_type": "execute_result"
    }
   ],
   "source": [
    "best_2 = best_chromossomes_2[-1]\n",
    "best_2"
   ]
  },
  {
   "cell_type": "markdown",
   "metadata": {},
   "source": [
    "Pior cromossomo"
   ]
  },
  {
   "cell_type": "code",
   "execution_count": 33,
   "metadata": {},
   "outputs": [
    {
     "data": {
      "text/plain": [
       "[[0.039834487556383746, 7, 7, 25], 0.05581399999999994]"
      ]
     },
     "execution_count": 33,
     "metadata": {},
     "output_type": "execute_result"
    }
   ],
   "source": [
    "worst_2 = best_chromossomes_2[0]\n",
    "worst_2"
   ]
  },
  {
   "cell_type": "markdown",
   "metadata": {},
   "source": [
    "Valor médio dos fitness"
   ]
  },
  {
   "cell_type": "code",
   "execution_count": 34,
   "metadata": {},
   "outputs": [
    {
     "data": {
      "text/plain": [
       "0.1328680000000003"
      ]
     },
     "execution_count": 34,
     "metadata": {},
     "output_type": "execute_result"
    }
   ],
   "source": [
    "mean_2 = 0\n",
    "for x in best_chromossomes_2: mean_2 = mean_2 + x[1]\n",
    "mean_2 = mean_2/len(best_chromossomes_2)\n",
    "mean_2"
   ]
  },
  {
   "cell_type": "code",
   "execution_count": 35,
   "metadata": {},
   "outputs": [
    {
     "data": {
      "text/plain": [
       "0.06839366964046367"
      ]
     },
     "execution_count": 35,
     "metadata": {},
     "output_type": "execute_result"
    }
   ],
   "source": [
    "std_2 = 0\n",
    "for x in best_chromossomes_2: std_2 = std_2 + (x[1] - mean_2) ** 2\n",
    "std_2 = (std_2 / (len(best_chromossomes_2) - 1)) ** (1/2)\n",
    "std_2"
   ]
  },
  {
   "cell_type": "markdown",
   "metadata": {},
   "source": [
    "#### Terceira iteração:\n",
    "1. População &rarr; 100\n",
    "2. Budget &rarr; 10.000\n",
    "3. Delta &rarr; 0.001\n",
    "4. Crossover &rarr; crossover\n",
    "    1. Taxa &rarr; 0.3\n",
    "5. Mutação &rarr; mutation\n",
    "    1. Taxa &rarr; 0.8"
   ]
  },
  {
   "cell_type": "code",
   "execution_count": 36,
   "metadata": {},
   "outputs": [],
   "source": [
    "# Dados variáveis\n",
    "mutation_rate = 0.8\n",
    "crossover_rate = 0.3"
   ]
  },
  {
   "cell_type": "code",
   "execution_count": 37,
   "metadata": {},
   "outputs": [
    {
     "name": "stdout",
     "output_type": "stream",
     "text": [
      "Tempo para convergir:  53.99 segundos\n"
     ]
    }
   ],
   "source": [
    "begin_time = time.time()\n",
    "best_chromossomes_3 = evolutionary_strategy2(np_array, chromossomes, budget, crossover, mutation, delta_to_converge, mutation_rate, crossover_rate, min_iteration_converget)\n",
    "print (\"Tempo para convergir: \", round(time.time() - begin_time, 2), \"segundos\")"
   ]
  },
  {
   "cell_type": "markdown",
   "metadata": {},
   "source": [
    "Resultado da terceira iteração"
   ]
  },
  {
   "cell_type": "code",
   "execution_count": 38,
   "metadata": {},
   "outputs": [],
   "source": [
    "tempo_3 = round(time.time() - begin_time, 2)"
   ]
  },
  {
   "cell_type": "code",
   "execution_count": 40,
   "metadata": {},
   "outputs": [
    {
     "data": {
      "text/plain": [
       "53.99"
      ]
     },
     "execution_count": 40,
     "metadata": {},
     "output_type": "execute_result"
    }
   ],
   "source": [
    "tempo_3"
   ]
  },
  {
   "cell_type": "code",
   "execution_count": 41,
   "metadata": {},
   "outputs": [],
   "source": [
    "best_chromossomes_3 = fitness(np_array, best_chromossomes_3, budget)"
   ]
  },
  {
   "cell_type": "code",
   "execution_count": 42,
   "metadata": {
    "scrolled": true
   },
   "outputs": [],
   "source": [
    "best_chromossomes_3 = sorted(best_chromossomes_3, key=lambda x: x[1], reverse = False)"
   ]
  },
  {
   "cell_type": "markdown",
   "metadata": {},
   "source": [
    "Melhor cromossomo"
   ]
  },
  {
   "cell_type": "code",
   "execution_count": 43,
   "metadata": {},
   "outputs": [
    {
     "data": {
      "text/plain": [
       "[[0.052513985920959634, 5, 18, 466], 0.16662800000000025]"
      ]
     },
     "execution_count": 43,
     "metadata": {},
     "output_type": "execute_result"
    }
   ],
   "source": [
    "best_3 = best_chromossomes_3[-1]\n",
    "best_3"
   ]
  },
  {
   "cell_type": "markdown",
   "metadata": {},
   "source": [
    "Pior cromossomo"
   ]
  },
  {
   "cell_type": "code",
   "execution_count": 44,
   "metadata": {},
   "outputs": [
    {
     "data": {
      "text/plain": [
       "[[0.0580583598078598, 8, 7, 135], 0.059060000000000216]"
      ]
     },
     "execution_count": 44,
     "metadata": {},
     "output_type": "execute_result"
    }
   ],
   "source": [
    "worst_3 = best_chromossomes_3[0]\n",
    "worst_3"
   ]
  },
  {
   "cell_type": "markdown",
   "metadata": {},
   "source": [
    "Valor médio dos fitness"
   ]
  },
  {
   "cell_type": "code",
   "execution_count": 45,
   "metadata": {},
   "outputs": [
    {
     "data": {
      "text/plain": [
       "0.14569080000000015"
      ]
     },
     "execution_count": 45,
     "metadata": {},
     "output_type": "execute_result"
    }
   ],
   "source": [
    "mean_3 = 0\n",
    "for x in best_chromossomes_3: mean_3 = mean_3 + x[1]\n",
    "mean_3 = mean_3/len(best_chromossomes_3)\n",
    "mean_3"
   ]
  },
  {
   "cell_type": "code",
   "execution_count": 46,
   "metadata": {},
   "outputs": [
    {
     "data": {
      "text/plain": [
       "0.03331103024791902"
      ]
     },
     "execution_count": 46,
     "metadata": {},
     "output_type": "execute_result"
    }
   ],
   "source": [
    "std_3 = 0\n",
    "for x in best_chromossomes_3: std_3 = std_3 + (x[1] - mean_3) ** 2\n",
    "std_3 = (std_3 / (len(best_chromossomes_3) - 1)) ** (1/2)\n",
    "std_3"
   ]
  },
  {
   "cell_type": "markdown",
   "metadata": {},
   "source": [
    "#### Quarta iteração:\n",
    "1. População &rarr; 100\n",
    "2. Budget &rarr; 10.000\n",
    "3. Delta &rarr; 0.001\n",
    "4. Crossover &rarr; crossover2\n",
    "    1. Taxa &rarr; 0.3\n",
    "5. Mutação &rarr; mutation\n",
    "    1. Taxa &rarr; 0.3"
   ]
  },
  {
   "cell_type": "code",
   "execution_count": 47,
   "metadata": {},
   "outputs": [],
   "source": [
    "# Dados variáveis\n",
    "mutation_rate = 0.3\n",
    "crossover_rate = 0.3"
   ]
  },
  {
   "cell_type": "code",
   "execution_count": 48,
   "metadata": {},
   "outputs": [
    {
     "name": "stdout",
     "output_type": "stream",
     "text": [
      "Tempo para convergir:  155.74 segundos\n"
     ]
    }
   ],
   "source": [
    "begin_time = time.time()\n",
    "best_chromossomes_4 = evolutionary_strategy2(np_array, chromossomes, budget, crossover2, mutation, delta_to_converge, mutation_rate, crossover_rate, min_iteration_converget)\n",
    "print (\"Tempo para convergir: \", round(time.time() - begin_time, 2), \"segundos\")"
   ]
  },
  {
   "cell_type": "code",
   "execution_count": 49,
   "metadata": {},
   "outputs": [],
   "source": [
    "tempo_4 = round(time.time() - begin_time, 2)"
   ]
  },
  {
   "cell_type": "code",
   "execution_count": 50,
   "metadata": {},
   "outputs": [],
   "source": [
    "best_chromossomes_4 = fitness(np_array, best_chromossomes_4, budget)"
   ]
  },
  {
   "cell_type": "code",
   "execution_count": 51,
   "metadata": {
    "scrolled": true
   },
   "outputs": [],
   "source": [
    "best_chromossomes_4 = sorted(best_chromossomes_4, key=lambda x: x[1], reverse = False)"
   ]
  },
  {
   "cell_type": "markdown",
   "metadata": {},
   "source": [
    "Melhor cromossomo"
   ]
  },
  {
   "cell_type": "code",
   "execution_count": 52,
   "metadata": {},
   "outputs": [
    {
     "data": {
      "text/plain": [
       "[[0.05133248806564352, 27, 7, 135], 0.2196380000000001]"
      ]
     },
     "execution_count": 52,
     "metadata": {},
     "output_type": "execute_result"
    }
   ],
   "source": [
    "best_4 = best_chromossomes_4[-1]\n",
    "best_4"
   ]
  },
  {
   "cell_type": "markdown",
   "metadata": {},
   "source": [
    "Pior cromossomo"
   ]
  },
  {
   "cell_type": "code",
   "execution_count": 53,
   "metadata": {},
   "outputs": [
    {
     "data": {
      "text/plain": [
       "[[0.05312822055785705, 2, 7, 331], 0.05623300000000017]"
      ]
     },
     "execution_count": 53,
     "metadata": {},
     "output_type": "execute_result"
    }
   ],
   "source": [
    "worst_4 = best_chromossomes_4[0]\n",
    "worst_4"
   ]
  },
  {
   "cell_type": "markdown",
   "metadata": {},
   "source": [
    "Valor médio dos fitness"
   ]
  },
  {
   "cell_type": "code",
   "execution_count": 54,
   "metadata": {},
   "outputs": [
    {
     "data": {
      "text/plain": [
       "0.1480869000000002"
      ]
     },
     "execution_count": 54,
     "metadata": {},
     "output_type": "execute_result"
    }
   ],
   "source": [
    "mean_4 = 0\n",
    "for x in best_chromossomes_4: mean_4 = mean_4 + x[1]\n",
    "mean_4 = mean_4/len(best_chromossomes_4)\n",
    "mean_4"
   ]
  },
  {
   "cell_type": "code",
   "execution_count": 55,
   "metadata": {},
   "outputs": [
    {
     "data": {
      "text/plain": [
       "0.0643462182096024"
      ]
     },
     "execution_count": 55,
     "metadata": {},
     "output_type": "execute_result"
    }
   ],
   "source": [
    "std_4 = 0\n",
    "for x in best_chromossomes_4: std_4 = std_4 + (x[1] - mean_4) ** 2\n",
    "std_4 = (std_4 / (len(best_chromossomes_4) - 1)) ** (1/2)\n",
    "std_4"
   ]
  },
  {
   "cell_type": "markdown",
   "metadata": {},
   "source": [
    "#### Quinta iteração:\n",
    "1. População &rarr; 100\n",
    "2. Budget &rarr; 10.000\n",
    "3. Delta &rarr; 0.001\n",
    "4. Crossover &rarr; crossover2\n",
    "    1. Taxa &rarr; 0.8\n",
    "5. Mutação &rarr; mutation\n",
    "    1. Taxa &rarr; 0.3"
   ]
  },
  {
   "cell_type": "code",
   "execution_count": 56,
   "metadata": {},
   "outputs": [],
   "source": [
    "# Dados variáveis\n",
    "mutation_rate = 0.3\n",
    "crossover_rate = 0.8"
   ]
  },
  {
   "cell_type": "code",
   "execution_count": 57,
   "metadata": {},
   "outputs": [
    {
     "name": "stdout",
     "output_type": "stream",
     "text": [
      "Tempo para convergir:  294.89 segundos\n"
     ]
    }
   ],
   "source": [
    "begin_time = time.time()\n",
    "best_chromossomes_5 = evolutionary_strategy2(np_array, chromossomes, budget, crossover2, mutation, delta_to_converge, mutation_rate, crossover_rate, min_iteration_converget)\n",
    "print (\"Tempo para convergir: \", round(time.time() - begin_time, 2), \"segundos\")"
   ]
  },
  {
   "cell_type": "markdown",
   "metadata": {},
   "source": [
    "Resultado da quinta iteração"
   ]
  },
  {
   "cell_type": "code",
   "execution_count": 58,
   "metadata": {},
   "outputs": [],
   "source": [
    "tempo_5 = round(time.time() - begin_time, 2)"
   ]
  },
  {
   "cell_type": "code",
   "execution_count": 59,
   "metadata": {},
   "outputs": [],
   "source": [
    "best_chromossomes_5 = fitness(np_array, best_chromossomes_5, budget)"
   ]
  },
  {
   "cell_type": "code",
   "execution_count": 60,
   "metadata": {
    "scrolled": true
   },
   "outputs": [],
   "source": [
    "best_chromossomes_5 = sorted(best_chromossomes_5, key=lambda x: x[1], reverse = False)"
   ]
  },
  {
   "cell_type": "markdown",
   "metadata": {},
   "source": [
    "Melhor cromossomo"
   ]
  },
  {
   "cell_type": "code",
   "execution_count": 61,
   "metadata": {},
   "outputs": [
    {
     "data": {
      "text/plain": [
       "[[0.05133248806564352, 26, 11, 135], 0.2217260000000002]"
      ]
     },
     "execution_count": 61,
     "metadata": {},
     "output_type": "execute_result"
    }
   ],
   "source": [
    "best_5 = best_chromossomes_5[-1]\n",
    "best_5"
   ]
  },
  {
   "cell_type": "markdown",
   "metadata": {},
   "source": [
    "Pior cromossomo"
   ]
  },
  {
   "cell_type": "code",
   "execution_count": 62,
   "metadata": {},
   "outputs": [
    {
     "data": {
      "text/plain": [
       "[[0.02375978254199059, 1, 1, 172], 0.07884400000000077]"
      ]
     },
     "execution_count": 62,
     "metadata": {},
     "output_type": "execute_result"
    }
   ],
   "source": [
    "worst_5 = best_chromossomes_5[0]\n",
    "worst_5"
   ]
  },
  {
   "cell_type": "markdown",
   "metadata": {},
   "source": [
    "Valor médio dos fitness"
   ]
  },
  {
   "cell_type": "code",
   "execution_count": 63,
   "metadata": {},
   "outputs": [
    {
     "data": {
      "text/plain": [
       "0.15002820000000022"
      ]
     },
     "execution_count": 63,
     "metadata": {},
     "output_type": "execute_result"
    }
   ],
   "source": [
    "mean_5 = 0\n",
    "for x in best_chromossomes_5: mean_5 = mean_5 + x[1]\n",
    "mean_5 = mean_5/len(best_chromossomes_5)\n",
    "mean_5"
   ]
  },
  {
   "cell_type": "code",
   "execution_count": 64,
   "metadata": {},
   "outputs": [
    {
     "data": {
      "text/plain": [
       "0.054571431145690845"
      ]
     },
     "execution_count": 64,
     "metadata": {},
     "output_type": "execute_result"
    }
   ],
   "source": [
    "std_5 = 0\n",
    "for x in best_chromossomes_5: std_5 = std_5 + (x[1] - mean_5) ** 2\n",
    "std_5 = (std_5 / (len(best_chromossomes_5) - 1)) ** (1/2)\n",
    "std_5"
   ]
  },
  {
   "cell_type": "markdown",
   "metadata": {},
   "source": [
    "#### Sexta iteração:\n",
    "1. População &rarr; 100\n",
    "2. Budget &rarr; 10.000\n",
    "3. Delta &rarr; 0.001\n",
    "4. Crossover &rarr; crossover2\n",
    "    1. Taxa &rarr; 0.3\n",
    "5. Mutação &rarr; mutation\n",
    "    1. Taxa &rarr; 0.8"
   ]
  },
  {
   "cell_type": "code",
   "execution_count": 65,
   "metadata": {},
   "outputs": [],
   "source": [
    "# Dados variáveis\n",
    "mutation_rate = 0.8\n",
    "crossover_rate = 0.3"
   ]
  },
  {
   "cell_type": "code",
   "execution_count": 66,
   "metadata": {},
   "outputs": [
    {
     "name": "stdout",
     "output_type": "stream",
     "text": [
      "Tempo para convergir:  133.71 segundos\n"
     ]
    }
   ],
   "source": [
    "begin_time = time.time()\n",
    "best_chromossomes_6 = evolutionary_strategy2(np_array, chromossomes, budget, crossover2, mutation, delta_to_converge, mutation_rate, crossover_rate, min_iteration_converget)\n",
    "print (\"Tempo para convergir: \", round(time.time() - begin_time, 2), \"segundos\")"
   ]
  },
  {
   "cell_type": "markdown",
   "metadata": {},
   "source": [
    "Resultado da sexta iteração"
   ]
  },
  {
   "cell_type": "code",
   "execution_count": 67,
   "metadata": {},
   "outputs": [],
   "source": [
    "tempo_6 = round(time.time() - begin_time, 2)"
   ]
  },
  {
   "cell_type": "code",
   "execution_count": 68,
   "metadata": {},
   "outputs": [],
   "source": [
    "best_chromossomes_6 = fitness(np_array, best_chromossomes_6, budget)"
   ]
  },
  {
   "cell_type": "code",
   "execution_count": 69,
   "metadata": {
    "scrolled": true
   },
   "outputs": [],
   "source": [
    "best_chromossomes_6 = sorted(best_chromossomes_6, key=lambda x: x[1], reverse = False)"
   ]
  },
  {
   "cell_type": "markdown",
   "metadata": {},
   "source": [
    "Melhor cromossomo"
   ]
  },
  {
   "cell_type": "code",
   "execution_count": 70,
   "metadata": {},
   "outputs": [
    {
     "data": {
      "text/plain": [
       "[[0.010418897601116625, 22, 23, 78], 0.2279680000000004]"
      ]
     },
     "execution_count": 70,
     "metadata": {},
     "output_type": "execute_result"
    }
   ],
   "source": [
    "best_6 = best_chromossomes_6[-1]\n",
    "best_6"
   ]
  },
  {
   "cell_type": "markdown",
   "metadata": {},
   "source": [
    "Pior cromossomo"
   ]
  },
  {
   "cell_type": "code",
   "execution_count": 71,
   "metadata": {},
   "outputs": [
    {
     "data": {
      "text/plain": [
       "[[0.013305524462922661, 29, 20, 233], 0.13487800000000025]"
      ]
     },
     "execution_count": 71,
     "metadata": {},
     "output_type": "execute_result"
    }
   ],
   "source": [
    "worst_6 = best_chromossomes_6[0]\n",
    "worst_6"
   ]
  },
  {
   "cell_type": "markdown",
   "metadata": {},
   "source": [
    "Valor médio dos fitness"
   ]
  },
  {
   "cell_type": "code",
   "execution_count": 72,
   "metadata": {},
   "outputs": [
    {
     "data": {
      "text/plain": [
       "0.16740900000000009"
      ]
     },
     "execution_count": 72,
     "metadata": {},
     "output_type": "execute_result"
    }
   ],
   "source": [
    "mean_6 = 0\n",
    "for x in best_chromossomes_6: mean_6 = mean_6 + x[1]\n",
    "mean_6 = mean_6/len(best_chromossomes_6)\n",
    "mean_6"
   ]
  },
  {
   "cell_type": "code",
   "execution_count": 73,
   "metadata": {},
   "outputs": [
    {
     "data": {
      "text/plain": [
       "0.02412330930402755"
      ]
     },
     "execution_count": 73,
     "metadata": {},
     "output_type": "execute_result"
    }
   ],
   "source": [
    "std_6 = 0\n",
    "for x in best_chromossomes_6: std_6 = std_6 + (x[1] - mean_6) ** 2\n",
    "std_6 = (std_6 / (len(best_chromossomes_6) - 1)) ** (1/2)\n",
    "std_6"
   ]
  },
  {
   "cell_type": "markdown",
   "metadata": {},
   "source": [
    "#### Sétima iteração:\n",
    "1. População &rarr; 100\n",
    "2. Budget &rarr; 10.000\n",
    "3. Delta &rarr; 0.001\n",
    "4. Crossover &rarr; crossover\n",
    "    1. Taxa &rarr; 0.3\n",
    "5. Mutação &rarr; mutation_v2\n",
    "    1. Taxa &rarr; 0.3"
   ]
  },
  {
   "cell_type": "code",
   "execution_count": 74,
   "metadata": {},
   "outputs": [],
   "source": [
    "# Dados variáveis\n",
    "mutation_rate = 0.3\n",
    "crossover_rate = 0.3"
   ]
  },
  {
   "cell_type": "code",
   "execution_count": 75,
   "metadata": {},
   "outputs": [
    {
     "name": "stdout",
     "output_type": "stream",
     "text": [
      "Tempo para convergir:  85.99 segundos\n"
     ]
    }
   ],
   "source": [
    "begin_time = time.time()\n",
    "best_chromossomes_7 = evolutionary_strategy2(np_array, chromossomes, budget, crossover, mutation_v2, delta_to_converge, mutation_rate, crossover_rate, min_iteration_converget)\n",
    "print (\"Tempo para convergir: \", round(time.time() - begin_time, 2), \"segundos\")"
   ]
  },
  {
   "cell_type": "markdown",
   "metadata": {},
   "source": [
    "Resultado da sétima iteração"
   ]
  },
  {
   "cell_type": "code",
   "execution_count": 76,
   "metadata": {},
   "outputs": [],
   "source": [
    "tempo_7 = round(time.time() - begin_time, 2)"
   ]
  },
  {
   "cell_type": "code",
   "execution_count": 77,
   "metadata": {},
   "outputs": [],
   "source": [
    "best_chromossomes_7 = fitness(np_array, best_chromossomes_7, budget)"
   ]
  },
  {
   "cell_type": "code",
   "execution_count": 78,
   "metadata": {
    "scrolled": true
   },
   "outputs": [],
   "source": [
    "best_chromossomes_7 = sorted(best_chromossomes_7, key=lambda x: x[1], reverse = False)"
   ]
  },
  {
   "cell_type": "markdown",
   "metadata": {},
   "source": [
    "Melhor cromossomo"
   ]
  },
  {
   "cell_type": "code",
   "execution_count": 79,
   "metadata": {},
   "outputs": [
    {
     "data": {
      "text/plain": [
       "[[0.02375978254199059, 11, 13, 497], 0.17932000000000026]"
      ]
     },
     "execution_count": 79,
     "metadata": {},
     "output_type": "execute_result"
    }
   ],
   "source": [
    "best_7 = best_chromossomes_7[-1]\n",
    "best_7"
   ]
  },
  {
   "cell_type": "markdown",
   "metadata": {},
   "source": [
    "Pior cromossomo"
   ]
  },
  {
   "cell_type": "code",
   "execution_count": 80,
   "metadata": {},
   "outputs": [
    {
     "data": {
      "text/plain": [
       "[[0.05312822055785705, 2, 6, 352], 0.12721500000000013]"
      ]
     },
     "execution_count": 80,
     "metadata": {},
     "output_type": "execute_result"
    }
   ],
   "source": [
    "worst_7 = best_chromossomes_7[0]\n",
    "worst_7"
   ]
  },
  {
   "cell_type": "markdown",
   "metadata": {},
   "source": [
    "Valor médio dos fitness"
   ]
  },
  {
   "cell_type": "code",
   "execution_count": 81,
   "metadata": {},
   "outputs": [
    {
     "data": {
      "text/plain": [
       "0.1450301000000002"
      ]
     },
     "execution_count": 81,
     "metadata": {},
     "output_type": "execute_result"
    }
   ],
   "source": [
    "mean_7 = 0\n",
    "for x in best_chromossomes_7: mean_7 = mean_7 + x[1]\n",
    "mean_7 = mean_7/len(best_chromossomes_7)\n",
    "mean_7"
   ]
  },
  {
   "cell_type": "code",
   "execution_count": 82,
   "metadata": {},
   "outputs": [
    {
     "data": {
      "text/plain": [
       "0.023781921048701457"
      ]
     },
     "execution_count": 82,
     "metadata": {},
     "output_type": "execute_result"
    }
   ],
   "source": [
    "std_7 = 0\n",
    "for x in best_chromossomes_7: std_7 = std_7 + (x[1] - mean_7) ** 2\n",
    "std_7 = (std_7 / (len(best_chromossomes_7) - 1)) ** (1/2)\n",
    "std_7"
   ]
  },
  {
   "cell_type": "markdown",
   "metadata": {},
   "source": [
    "#### Oitava iteração:\n",
    "1. População &rarr; 100\n",
    "2. Budget &rarr; 10.000\n",
    "3. Delta &rarr; 0.001\n",
    "4. Crossover &rarr; crossover\n",
    "    1. Taxa &rarr; 0.8\n",
    "5. Mutação &rarr; mutation_v2\n",
    "    1. Taxa &rarr; 0.3"
   ]
  },
  {
   "cell_type": "code",
   "execution_count": 83,
   "metadata": {},
   "outputs": [],
   "source": [
    "# Dados variáveis\n",
    "mutation_rate = 0.3\n",
    "crossover_rate = 0.8"
   ]
  },
  {
   "cell_type": "code",
   "execution_count": 84,
   "metadata": {},
   "outputs": [
    {
     "name": "stdout",
     "output_type": "stream",
     "text": [
      "Tempo para convergir:  243.11 segundos\n"
     ]
    }
   ],
   "source": [
    "begin_time = time.time()\n",
    "best_chromossomes_8 = evolutionary_strategy2(np_array, chromossomes, budget, crossover, mutation_v2, delta_to_converge, mutation_rate, crossover_rate, min_iteration_converget)\n",
    "print (\"Tempo para convergir: \", round(time.time() - begin_time, 2), \"segundos\")"
   ]
  },
  {
   "cell_type": "markdown",
   "metadata": {},
   "source": [
    "Resultado da oitava iteração"
   ]
  },
  {
   "cell_type": "code",
   "execution_count": 85,
   "metadata": {},
   "outputs": [],
   "source": [
    "tempo_8 = round(time.time() - begin_time, 2)"
   ]
  },
  {
   "cell_type": "code",
   "execution_count": 86,
   "metadata": {},
   "outputs": [],
   "source": [
    "best_chromossomes_8 = fitness(np_array, best_chromossomes_8, budget)"
   ]
  },
  {
   "cell_type": "code",
   "execution_count": 87,
   "metadata": {
    "scrolled": true
   },
   "outputs": [],
   "source": [
    "best_chromossomes_8 = sorted(best_chromossomes_8, key=lambda x: x[1], reverse = False)"
   ]
  },
  {
   "cell_type": "markdown",
   "metadata": {},
   "source": [
    "Melhor cromossomo"
   ]
  },
  {
   "cell_type": "code",
   "execution_count": 88,
   "metadata": {},
   "outputs": [
    {
     "data": {
      "text/plain": [
       "[[0.05312822055785705, 2, 9, 276], 0.2238680000000002]"
      ]
     },
     "execution_count": 88,
     "metadata": {},
     "output_type": "execute_result"
    }
   ],
   "source": [
    "best_8 = best_chromossomes_8[-1]\n",
    "best_8"
   ]
  },
  {
   "cell_type": "markdown",
   "metadata": {},
   "source": [
    "Pior cromossomo"
   ]
  },
  {
   "cell_type": "code",
   "execution_count": 89,
   "metadata": {},
   "outputs": [
    {
     "data": {
      "text/plain": [
       "[[0.08112673351066328, 19, 20, 114], 0.019060000000000035]"
      ]
     },
     "execution_count": 89,
     "metadata": {},
     "output_type": "execute_result"
    }
   ],
   "source": [
    "worst_8 = best_chromossomes_8[0]\n",
    "worst_8"
   ]
  },
  {
   "cell_type": "markdown",
   "metadata": {},
   "source": [
    "Valor médio dos fitness"
   ]
  },
  {
   "cell_type": "code",
   "execution_count": 90,
   "metadata": {},
   "outputs": [
    {
     "data": {
      "text/plain": [
       "0.15430660000000013"
      ]
     },
     "execution_count": 90,
     "metadata": {},
     "output_type": "execute_result"
    }
   ],
   "source": [
    "mean_8 = 0\n",
    "for x in best_chromossomes_8: mean_8 = mean_8 + x[1]\n",
    "mean_8 = mean_8/len(best_chromossomes_8)\n",
    "mean_8"
   ]
  },
  {
   "cell_type": "code",
   "execution_count": 91,
   "metadata": {},
   "outputs": [
    {
     "data": {
      "text/plain": [
       "0.17329604473328297"
      ]
     },
     "execution_count": 91,
     "metadata": {},
     "output_type": "execute_result"
    }
   ],
   "source": [
    "std_8 = 0\n",
    "for x in best_chromossomes_8: std_8 = std_8 + (x[1] - mean_8) ** 2\n",
    "std_8 = (std_8 / (len(best_chromossomes_8) - 8)) ** (1/2)\n",
    "std_8"
   ]
  },
  {
   "cell_type": "markdown",
   "metadata": {},
   "source": [
    "#### Nona iteração:\n",
    "1. População &rarr; 100\n",
    "2. Budget &rarr; 10.000\n",
    "3. Delta &rarr; 0.001\n",
    "4. Crossover &rarr; crossover\n",
    "    1. Taxa &rarr; 0.3\n",
    "5. Mutação &rarr; mutation_v2\n",
    "    1. Taxa &rarr; 0.8"
   ]
  },
  {
   "cell_type": "code",
   "execution_count": 92,
   "metadata": {},
   "outputs": [],
   "source": [
    "# Dados variáveis\n",
    "mutation_rate = 0.8\n",
    "crossover_rate = 0.3"
   ]
  },
  {
   "cell_type": "code",
   "execution_count": 93,
   "metadata": {},
   "outputs": [
    {
     "name": "stdout",
     "output_type": "stream",
     "text": [
      "Tempo para convergir:  73.18 segundos\n"
     ]
    }
   ],
   "source": [
    "begin_time = time.time()\n",
    "best_chromossomes_9 = evolutionary_strategy2(np_array, chromossomes, budget, crossover, mutation_v2, delta_to_converge, mutation_rate, crossover_rate, min_iteration_converget)\n",
    "print (\"Tempo para convergir: \", round(time.time() - begin_time, 2), \"segundos\")"
   ]
  },
  {
   "cell_type": "markdown",
   "metadata": {},
   "source": [
    "Resultado da nona iteração"
   ]
  },
  {
   "cell_type": "code",
   "execution_count": 94,
   "metadata": {},
   "outputs": [],
   "source": [
    "tempo_9 = round(time.time() - begin_time, 2)"
   ]
  },
  {
   "cell_type": "code",
   "execution_count": 95,
   "metadata": {},
   "outputs": [],
   "source": [
    "best_chromossomes_9 = fitness(np_array, best_chromossomes_9, budget)"
   ]
  },
  {
   "cell_type": "code",
   "execution_count": 96,
   "metadata": {
    "scrolled": true
   },
   "outputs": [],
   "source": [
    "best_chromossomes_9 = sorted(best_chromossomes_9, key=lambda x: x[1], reverse = False)"
   ]
  },
  {
   "cell_type": "markdown",
   "metadata": {},
   "source": [
    "Melhor cromossomo"
   ]
  },
  {
   "cell_type": "code",
   "execution_count": 97,
   "metadata": {},
   "outputs": [
    {
     "data": {
      "text/plain": [
       "[[0.016411789891436185, 22, 26, 493], 0.20617000000000008]"
      ]
     },
     "execution_count": 97,
     "metadata": {},
     "output_type": "execute_result"
    }
   ],
   "source": [
    "best_9 = best_chromossomes_9[-1]\n",
    "best_9"
   ]
  },
  {
   "cell_type": "markdown",
   "metadata": {},
   "source": [
    "Pior cromossomo"
   ]
  },
  {
   "cell_type": "code",
   "execution_count": 98,
   "metadata": {},
   "outputs": [
    {
     "data": {
      "text/plain": [
       "[[0.08619702085364175, 10, 12, 497], 0.01981800000000003]"
      ]
     },
     "execution_count": 98,
     "metadata": {},
     "output_type": "execute_result"
    }
   ],
   "source": [
    "worst_9 = best_chromossomes_9[0]\n",
    "worst_9"
   ]
  },
  {
   "cell_type": "markdown",
   "metadata": {},
   "source": [
    "Valor médio dos fitness"
   ]
  },
  {
   "cell_type": "code",
   "execution_count": 99,
   "metadata": {},
   "outputs": [
    {
     "data": {
      "text/plain": [
       "0.15251200000000012"
      ]
     },
     "execution_count": 99,
     "metadata": {},
     "output_type": "execute_result"
    }
   ],
   "source": [
    "mean_9 = 0\n",
    "for x in best_chromossomes_9: mean_9 = mean_9 + x[1]\n",
    "mean_9 = mean_9/len(best_chromossomes_9)\n",
    "mean_9"
   ]
  },
  {
   "cell_type": "code",
   "execution_count": 100,
   "metadata": {},
   "outputs": [
    {
     "data": {
      "text/plain": [
       "0.05340861109929333"
      ]
     },
     "execution_count": 100,
     "metadata": {},
     "output_type": "execute_result"
    }
   ],
   "source": [
    "std_9 = 0\n",
    "for x in best_chromossomes_9: std_9 = std_9 + (x[1] - mean_9) ** 2\n",
    "std_9 = (std_9 / (len(best_chromossomes_9) - 1)) ** (1/2)\n",
    "std_9"
   ]
  },
  {
   "cell_type": "markdown",
   "metadata": {},
   "source": [
    "## Segundo conjunto de testes - Defuzzi: Risk/Pct - Centroid"
   ]
  },
  {
   "cell_type": "markdown",
   "metadata": {},
   "source": [
    "### Variaveis que serão usadas para a primeira população\n",
    "Para as ações da Alphabet serão testados:\n",
    "1. Dados Fixos:\n",
    "    1. Budget &rarr; 10.000,00\n",
    "    2. Delta para considerar convergência &rarr; 0.01\n",
    "2. Dados variáveis:\n",
    "    1. População:\n",
    "        1. Para uma população de 100 e outra de 1000, testamos:\n",
    "            1. Duas funções de Crossover:\n",
    "                1. Taxa de Crossover &rarr; 0.3\n",
    "                2. Taxa de Crossover &rarr; 0.8\n",
    "            2. Duas funções de Mutação:\n",
    "                1. Taxa de Mutação &rarr; 0.3\n",
    "                2. Taxa de Mutação &rarr; 0.8\n"
   ]
  },
  {
   "cell_type": "markdown",
   "metadata": {},
   "source": [
    "#### Primeira iteração:\n",
    "1. População &rarr; 100\n",
    "2. Budget &rarr; 10.000\n",
    "3. Delta &rarr; 0.01\n",
    "4. Crossover &rarr; crossover\n",
    "    1. Taxa &rarr; 0.3\n",
    "5. Mutação &rarr; mutation\n",
    "    1. Taxa &rarr; 0.3\n",
    "6. Melhor Resultado:\n",
    "    [[0.029757806673384436, 16, 10, 339], 1.6809029999999998]\n",
    "7. Pior Resultado:\n",
    "    [[0.0903877154523101, 24, 3, 304], 0.0]\n",
    "8. Média:\n",
    "    0.3572531\n",
    "9. Desvio:\n",
    "    0.409838862518003"
   ]
  },
  {
   "cell_type": "markdown",
   "metadata": {},
   "source": [
    "Dados fixos que serão usados para todas as iterações de 100 cromossomos"
   ]
  },
  {
   "cell_type": "code",
   "execution_count": null,
   "metadata": {},
   "outputs": [],
   "source": [
    "population_len = 10\n",
    "budget = 10000\n",
    "delta_to_converge = 0.01\n",
    "min_iteration_converget = 3\n",
    "np_array = excels[6].values # Irá utilizar a primeira lista de valores da bolsa\n",
    "chromossomes = create_population(population_len)"
   ]
  },
  {
   "cell_type": "markdown",
   "metadata": {},
   "source": [
    "Aplicação da estratégia evolucionária"
   ]
  },
  {
   "cell_type": "code",
   "execution_count": null,
   "metadata": {},
   "outputs": [],
   "source": [
    "# Dados variáveis\n",
    "mutation_rate = 0.3\n",
    "crossover_rate = 0.3"
   ]
  },
  {
   "cell_type": "code",
   "execution_count": null,
   "metadata": {},
   "outputs": [],
   "source": [
    "begin_time = time.time()\n",
    "best_chromossomes_1 = evolutionary_strategy2(np_array, chromossomes, budget, crossover, mutation, delta_to_converge, mutation_rate, crossover_rate, min_iteration_converget)\n",
    "print (\"Tempo para convergir: \", round(time.time() - begin_time, 2), \"segundos\")"
   ]
  },
  {
   "cell_type": "markdown",
   "metadata": {},
   "source": [
    "#### Resultados da Primeira Iteração"
   ]
  },
  {
   "cell_type": "code",
   "execution_count": null,
   "metadata": {},
   "outputs": [],
   "source": [
    "tempo_1 = 68.92\n",
    "tempo_1"
   ]
  },
  {
   "cell_type": "code",
   "execution_count": null,
   "metadata": {
    "scrolled": true
   },
   "outputs": [],
   "source": [
    "# best_chromossomes_1 = best_chromossomes_temp\n",
    "best_chromossomes_1 = fitness(np_array, best_chromossomes_1, budget)\n",
    "best_chromossomes_1"
   ]
  },
  {
   "cell_type": "code",
   "execution_count": null,
   "metadata": {
    "scrolled": true
   },
   "outputs": [],
   "source": [
    "best_chromossomes_1 = sorted(best_chromossomes_1, key=lambda x: x[1], reverse = False)\n",
    "best_chromossomes_1"
   ]
  },
  {
   "cell_type": "markdown",
   "metadata": {},
   "source": [
    "Melhor cromossomo"
   ]
  },
  {
   "cell_type": "code",
   "execution_count": null,
   "metadata": {},
   "outputs": [],
   "source": [
    "best_1 = best_chromossomes_1[-1]\n",
    "best_1"
   ]
  },
  {
   "cell_type": "markdown",
   "metadata": {},
   "source": [
    "Pior cromossomo"
   ]
  },
  {
   "cell_type": "code",
   "execution_count": null,
   "metadata": {},
   "outputs": [],
   "source": [
    "worst_1 = best_chromossomes_1[0]\n",
    "worst_1"
   ]
  },
  {
   "cell_type": "markdown",
   "metadata": {},
   "source": [
    "Valor médio dos fitness"
   ]
  },
  {
   "cell_type": "code",
   "execution_count": null,
   "metadata": {},
   "outputs": [],
   "source": [
    "mean_1 = 0\n",
    "for x in best_chromossomes_1: mean_1 = mean_1 + x[1]\n",
    "mean_1 = mean_1/len(best_chromossomes_1)\n",
    "mean_1"
   ]
  },
  {
   "cell_type": "code",
   "execution_count": null,
   "metadata": {},
   "outputs": [],
   "source": [
    "std_1 = 0\n",
    "for x in best_chromossomes_1: std_1 = std_1 + (x[1] - mean_1) ** 2\n",
    "std_1 = (std_1 / (len(best_chromossomes_1) - 1)) ** (1/2)\n",
    "std_1"
   ]
  },
  {
   "cell_type": "markdown",
   "metadata": {},
   "source": [
    "#### Segunda iteração:\n",
    "1. População &rarr; 100\n",
    "2. Budget &rarr; 10.000\n",
    "3. Delta &rarr; 0.001\n",
    "4. Crossover &rarr; crossover\n",
    "    1. Taxa &rarr; 0.8\n",
    "5. Mutação &rarr; mutation\n",
    "    1. Taxa &rarr; 0.3"
   ]
  },
  {
   "cell_type": "code",
   "execution_count": null,
   "metadata": {},
   "outputs": [],
   "source": [
    "# Dados variáveis\n",
    "mutation_rate = 0.3\n",
    "crossover_rate = 0.8"
   ]
  },
  {
   "cell_type": "code",
   "execution_count": null,
   "metadata": {
    "scrolled": true
   },
   "outputs": [],
   "source": [
    "begin_time = time.time()\n",
    "best_chromossomes_2 = evolutionary_strategy2(np_array, chromossomes, budget, crossover, mutation, delta_to_converge, mutation_rate, crossover_rate, min_iteration_converget)\n",
    "print (\"Tempo para convergir: \", round(time.time() - begin_time, 2), \"segundos\")"
   ]
  },
  {
   "cell_type": "markdown",
   "metadata": {},
   "source": [
    "Resultado da segunda iteração"
   ]
  },
  {
   "cell_type": "code",
   "execution_count": null,
   "metadata": {},
   "outputs": [],
   "source": [
    "tempo_2 = 228.94\n",
    "tempo_2"
   ]
  },
  {
   "cell_type": "code",
   "execution_count": null,
   "metadata": {},
   "outputs": [],
   "source": [
    "best_chromossomes_2 = fitness(np_array, best_chromossomes_2, budget)"
   ]
  },
  {
   "cell_type": "code",
   "execution_count": null,
   "metadata": {
    "scrolled": true
   },
   "outputs": [],
   "source": [
    "best_chromossomes_2 = sorted(best_chromossomes_2, key=lambda x: x[1], reverse = False)"
   ]
  },
  {
   "cell_type": "markdown",
   "metadata": {},
   "source": [
    "Melhor cromossomo"
   ]
  },
  {
   "cell_type": "code",
   "execution_count": null,
   "metadata": {},
   "outputs": [],
   "source": [
    "best_2 = best_chromossomes_2[-1]\n",
    "best_2"
   ]
  },
  {
   "cell_type": "markdown",
   "metadata": {},
   "source": [
    "Pior cromossomo"
   ]
  },
  {
   "cell_type": "code",
   "execution_count": null,
   "metadata": {},
   "outputs": [],
   "source": [
    "worst_2 = best_chromossomes_2[0]\n",
    "worst_2"
   ]
  },
  {
   "cell_type": "markdown",
   "metadata": {},
   "source": [
    "Valor médio dos fitness"
   ]
  },
  {
   "cell_type": "code",
   "execution_count": null,
   "metadata": {},
   "outputs": [],
   "source": [
    "mean_2 = 0\n",
    "for x in best_chromossomes_2: mean_2 = mean_2 + x[1]\n",
    "mean_2 = mean_2/len(best_chromossomes_2)\n",
    "mean_2"
   ]
  },
  {
   "cell_type": "code",
   "execution_count": null,
   "metadata": {},
   "outputs": [],
   "source": [
    "std_2 = 0\n",
    "for x in best_chromossomes_2: std_2 = std_2 + (x[1] - mean_2) ** 2\n",
    "std_2 = (std_2 / (len(best_chromossomes_2) - 1)) ** (1/2)\n",
    "std_2"
   ]
  },
  {
   "cell_type": "markdown",
   "metadata": {},
   "source": [
    "#### Terceira iteração:\n",
    "1. População &rarr; 100\n",
    "2. Budget &rarr; 10.000\n",
    "3. Delta &rarr; 0.001\n",
    "4. Crossover &rarr; crossover\n",
    "    1. Taxa &rarr; 0.3\n",
    "5. Mutação &rarr; mutation\n",
    "    1. Taxa &rarr; 0.8"
   ]
  },
  {
   "cell_type": "code",
   "execution_count": null,
   "metadata": {},
   "outputs": [],
   "source": [
    "# Dados variáveis\n",
    "mutation_rate = 0.8\n",
    "crossover_rate = 0.3"
   ]
  },
  {
   "cell_type": "code",
   "execution_count": null,
   "metadata": {},
   "outputs": [],
   "source": [
    "begin_time = time.time()\n",
    "best_chromossomes_3 = evolutionary_strategy2(np_array, chromossomes, budget, crossover, mutation, delta_to_converge, mutation_rate, crossover_rate, min_iteration_converget)\n",
    "print (\"Tempo para convergir: \", round(time.time() - begin_time, 2), \"segundos\")"
   ]
  },
  {
   "cell_type": "markdown",
   "metadata": {},
   "source": [
    "Resultado da terceira iteração"
   ]
  },
  {
   "cell_type": "code",
   "execution_count": null,
   "metadata": {},
   "outputs": [],
   "source": [
    "tempo_3 = 67.53"
   ]
  },
  {
   "cell_type": "code",
   "execution_count": null,
   "metadata": {},
   "outputs": [],
   "source": [
    "best_chromossomes_3 = fitness(np_array, best_chromossomes_3, budget)"
   ]
  },
  {
   "cell_type": "code",
   "execution_count": null,
   "metadata": {
    "scrolled": true
   },
   "outputs": [],
   "source": [
    "best_chromossomes_3 = sorted(best_chromossomes_3, key=lambda x: x[1], reverse = False)"
   ]
  },
  {
   "cell_type": "markdown",
   "metadata": {},
   "source": [
    "Melhor cromossomo"
   ]
  },
  {
   "cell_type": "code",
   "execution_count": null,
   "metadata": {},
   "outputs": [],
   "source": [
    "best_3 = best_chromossomes_3[-1]\n",
    "best_3"
   ]
  },
  {
   "cell_type": "markdown",
   "metadata": {},
   "source": [
    "Pior cromossomo"
   ]
  },
  {
   "cell_type": "code",
   "execution_count": null,
   "metadata": {},
   "outputs": [],
   "source": [
    "worst_3 = best_chromossomes_3[0]\n",
    "worst_3"
   ]
  },
  {
   "cell_type": "markdown",
   "metadata": {},
   "source": [
    "Valor médio dos fitness"
   ]
  },
  {
   "cell_type": "code",
   "execution_count": null,
   "metadata": {},
   "outputs": [],
   "source": [
    "mean_3 = 0\n",
    "for x in best_chromossomes_3: mean_3 = mean_3 + x[1]\n",
    "mean_3 = mean_3/len(best_chromossomes_3)\n",
    "mean_3"
   ]
  },
  {
   "cell_type": "code",
   "execution_count": null,
   "metadata": {},
   "outputs": [],
   "source": [
    "std_3 = 0\n",
    "for x in best_chromossomes_3: std_3 = std_3 + (x[1] - mean_3) ** 2\n",
    "std_3 = (std_3 / (len(best_chromossomes_3) - 1)) ** (1/2)\n",
    "std_3"
   ]
  },
  {
   "cell_type": "markdown",
   "metadata": {},
   "source": [
    "#### Quarta iteração:\n",
    "1. População &rarr; 100\n",
    "2. Budget &rarr; 10.000\n",
    "3. Delta &rarr; 0.001\n",
    "4. Crossover &rarr; crossover2\n",
    "    1. Taxa &rarr; 0.3\n",
    "5. Mutação &rarr; mutation\n",
    "    1. Taxa &rarr; 0.3"
   ]
  },
  {
   "cell_type": "code",
   "execution_count": null,
   "metadata": {},
   "outputs": [],
   "source": [
    "# Dados variáveis\n",
    "mutation_rate = 0.3\n",
    "crossover_rate = 0.3"
   ]
  },
  {
   "cell_type": "code",
   "execution_count": null,
   "metadata": {},
   "outputs": [],
   "source": [
    "begin_time = time.time()\n",
    "best_chromossomes_4 = evolutionary_strategy2(np_array, chromossomes, budget, crossover2, mutation, delta_to_converge, mutation_rate, crossover_rate, min_iteration_converget)\n",
    "print (\"Tempo para convergir: \", round(time.time() - begin_time, 2), \"segundos\")"
   ]
  },
  {
   "cell_type": "code",
   "execution_count": null,
   "metadata": {},
   "outputs": [],
   "source": [
    "tempo_4 = 62.34"
   ]
  },
  {
   "cell_type": "code",
   "execution_count": null,
   "metadata": {},
   "outputs": [],
   "source": [
    "best_chromossomes_4 = fitness(np_array, best_chromossomes_4, budget)"
   ]
  },
  {
   "cell_type": "code",
   "execution_count": null,
   "metadata": {
    "scrolled": true
   },
   "outputs": [],
   "source": [
    "best_chromossomes_4 = sorted(best_chromossomes_4, key=lambda x: x[1], reverse = False)"
   ]
  },
  {
   "cell_type": "markdown",
   "metadata": {},
   "source": [
    "Melhor cromossomo"
   ]
  },
  {
   "cell_type": "code",
   "execution_count": null,
   "metadata": {},
   "outputs": [],
   "source": [
    "best_4 = best_chromossomes_4[-1]\n",
    "best_4"
   ]
  },
  {
   "cell_type": "markdown",
   "metadata": {},
   "source": [
    "Pior cromossomo"
   ]
  },
  {
   "cell_type": "code",
   "execution_count": null,
   "metadata": {},
   "outputs": [],
   "source": [
    "worst_4 = best_chromossomes_4[0]\n",
    "worst_4"
   ]
  },
  {
   "cell_type": "markdown",
   "metadata": {},
   "source": [
    "Valor médio dos fitness"
   ]
  },
  {
   "cell_type": "code",
   "execution_count": null,
   "metadata": {},
   "outputs": [],
   "source": [
    "mean_4 = 0\n",
    "for x in best_chromossomes_4: mean_4 = mean_4 + x[1]\n",
    "mean_4 = mean_4/len(best_chromossomes_4)\n",
    "mean_4"
   ]
  },
  {
   "cell_type": "code",
   "execution_count": null,
   "metadata": {},
   "outputs": [],
   "source": [
    "std_4 = 0\n",
    "for x in best_chromossomes_4: std_4 = std_4 + (x[1] - mean_4) ** 2\n",
    "std_4 = (std_4 / (len(best_chromossomes_4) - 1)) ** (1/2)\n",
    "std_4"
   ]
  },
  {
   "cell_type": "markdown",
   "metadata": {},
   "source": [
    "#### Quinta iteração:\n",
    "1. População &rarr; 100\n",
    "2. Budget &rarr; 10.000\n",
    "3. Delta &rarr; 0.001\n",
    "4. Crossover &rarr; crossover2\n",
    "    1. Taxa &rarr; 0.8\n",
    "5. Mutação &rarr; mutation\n",
    "    1. Taxa &rarr; 0.3"
   ]
  },
  {
   "cell_type": "code",
   "execution_count": null,
   "metadata": {},
   "outputs": [],
   "source": [
    "# Dados variáveis\n",
    "mutation_rate = 0.3\n",
    "crossover_rate = 0.8"
   ]
  },
  {
   "cell_type": "code",
   "execution_count": null,
   "metadata": {},
   "outputs": [],
   "source": [
    "begin_time = time.time()\n",
    "best_chromossomes_5 = evolutionary_strategy2(np_array, chromossomes, budget, crossover2, mutation, delta_to_converge, mutation_rate, crossover_rate, min_iteration_converget)\n",
    "print (\"Tempo para convergir: \", round(time.time() - begin_time, 2), \"segundos\")"
   ]
  },
  {
   "cell_type": "markdown",
   "metadata": {},
   "source": [
    "Resultado da quinta iteração"
   ]
  },
  {
   "cell_type": "code",
   "execution_count": null,
   "metadata": {},
   "outputs": [],
   "source": [
    "tempo_5 = 444.98"
   ]
  },
  {
   "cell_type": "code",
   "execution_count": null,
   "metadata": {},
   "outputs": [],
   "source": [
    "best_chromossomes_5 = fitness(np_array, best_chromossomes_5, budget)"
   ]
  },
  {
   "cell_type": "code",
   "execution_count": null,
   "metadata": {
    "scrolled": true
   },
   "outputs": [],
   "source": [
    "best_chromossomes_5 = sorted(best_chromossomes_5, key=lambda x: x[1], reverse = False)"
   ]
  },
  {
   "cell_type": "markdown",
   "metadata": {},
   "source": [
    "Melhor cromossomo"
   ]
  },
  {
   "cell_type": "code",
   "execution_count": null,
   "metadata": {},
   "outputs": [],
   "source": [
    "best_5 = best_chromossomes_5[-1]\n",
    "best_5"
   ]
  },
  {
   "cell_type": "markdown",
   "metadata": {},
   "source": [
    "Pior cromossomo"
   ]
  },
  {
   "cell_type": "code",
   "execution_count": null,
   "metadata": {},
   "outputs": [],
   "source": [
    "worst_5 = best_chromossomes_5[0]\n",
    "worst_5"
   ]
  },
  {
   "cell_type": "markdown",
   "metadata": {},
   "source": [
    "Valor médio dos fitness"
   ]
  },
  {
   "cell_type": "code",
   "execution_count": null,
   "metadata": {},
   "outputs": [],
   "source": [
    "mean_5 = 0\n",
    "for x in best_chromossomes_5: mean_5 = mean_5 + x[1]\n",
    "mean_5 = mean_5/len(best_chromossomes_5)\n",
    "mean_5"
   ]
  },
  {
   "cell_type": "code",
   "execution_count": null,
   "metadata": {},
   "outputs": [],
   "source": [
    "std_5 = 0\n",
    "for x in best_chromossomes_5: std_5 = std_5 + (x[1] - mean_5) ** 2\n",
    "std_5 = (std_5 / (len(best_chromossomes_5) - 1)) ** (1/2)\n",
    "std_5"
   ]
  },
  {
   "cell_type": "markdown",
   "metadata": {},
   "source": [
    "#### Sexta iteração:\n",
    "1. População &rarr; 100\n",
    "2. Budget &rarr; 10.000\n",
    "3. Delta &rarr; 0.001\n",
    "4. Crossover &rarr; crossover2\n",
    "    1. Taxa &rarr; 0.3\n",
    "5. Mutação &rarr; mutation\n",
    "    1. Taxa &rarr; 0.8"
   ]
  },
  {
   "cell_type": "code",
   "execution_count": null,
   "metadata": {},
   "outputs": [],
   "source": [
    "# Dados variáveis\n",
    "mutation_rate = 0.8\n",
    "crossover_rate = 0.3"
   ]
  },
  {
   "cell_type": "code",
   "execution_count": null,
   "metadata": {},
   "outputs": [],
   "source": [
    "begin_time = time.time()\n",
    "best_chromossomes_6 = evolutionary_strategy2(np_array, chromossomes, budget, crossover2, mutation, delta_to_converge, mutation_rate, crossover_rate, min_iteration_converget)\n",
    "print (\"Tempo para convergir: \", round(time.time() - begin_time, 2), \"segundos\")"
   ]
  },
  {
   "cell_type": "markdown",
   "metadata": {},
   "source": [
    "Resultado da sexta iteração"
   ]
  },
  {
   "cell_type": "code",
   "execution_count": null,
   "metadata": {},
   "outputs": [],
   "source": [
    "tempo_6 = 136.27"
   ]
  },
  {
   "cell_type": "code",
   "execution_count": null,
   "metadata": {},
   "outputs": [],
   "source": [
    "best_chromossomes_6 = fitness(np_array, best_chromossomes_6, budget)"
   ]
  },
  {
   "cell_type": "code",
   "execution_count": null,
   "metadata": {
    "scrolled": true
   },
   "outputs": [],
   "source": [
    "best_chromossomes_6 = sorted(best_chromossomes_6, key=lambda x: x[1], reverse = False)"
   ]
  },
  {
   "cell_type": "markdown",
   "metadata": {},
   "source": [
    "Melhor cromossomo"
   ]
  },
  {
   "cell_type": "code",
   "execution_count": null,
   "metadata": {},
   "outputs": [],
   "source": [
    "best_6 = best_chromossomes_6[-1]\n",
    "best_6"
   ]
  },
  {
   "cell_type": "markdown",
   "metadata": {},
   "source": [
    "Pior cromossomo"
   ]
  },
  {
   "cell_type": "code",
   "execution_count": null,
   "metadata": {},
   "outputs": [],
   "source": [
    "worst_6 = best_chromossomes_6[0]\n",
    "worst_6"
   ]
  },
  {
   "cell_type": "markdown",
   "metadata": {},
   "source": [
    "Valor médio dos fitness"
   ]
  },
  {
   "cell_type": "code",
   "execution_count": null,
   "metadata": {},
   "outputs": [],
   "source": [
    "mean_6 = 0\n",
    "for x in best_chromossomes_6: mean_6 = mean_6 + x[1]\n",
    "mean_6 = mean_6/len(best_chromossomes_6)\n",
    "mean_6"
   ]
  },
  {
   "cell_type": "code",
   "execution_count": null,
   "metadata": {},
   "outputs": [],
   "source": [
    "std_6 = 0\n",
    "for x in best_chromossomes_6: std_6 = std_6 + (x[1] - mean_6) ** 2\n",
    "std_6 = (std_6 / (len(best_chromossomes_6) - 1)) ** (1/2)\n",
    "std_6"
   ]
  },
  {
   "cell_type": "markdown",
   "metadata": {},
   "source": [
    "#### Sétima iteração:\n",
    "1. População &rarr; 100\n",
    "2. Budget &rarr; 10.000\n",
    "3. Delta &rarr; 0.001\n",
    "4. Crossover &rarr; crossover\n",
    "    1. Taxa &rarr; 0.3\n",
    "5. Mutação &rarr; mutation_v2\n",
    "    1. Taxa &rarr; 0.3"
   ]
  },
  {
   "cell_type": "code",
   "execution_count": null,
   "metadata": {},
   "outputs": [],
   "source": [
    "# Dados variáveis\n",
    "mutation_rate = 0.3\n",
    "crossover_rate = 0.3"
   ]
  },
  {
   "cell_type": "code",
   "execution_count": null,
   "metadata": {},
   "outputs": [],
   "source": [
    "begin_time = time.time()\n",
    "best_chromossomes_7 = evolutionary_strategy2(np_array, chromossomes, budget, crossover, mutation_v2, delta_to_converge, mutation_rate, crossover_rate, min_iteration_converget)\n",
    "print (\"Tempo para convergir: \", round(time.time() - begin_time, 2), \"segundos\")"
   ]
  },
  {
   "cell_type": "markdown",
   "metadata": {},
   "source": [
    "Resultado da sétima iteração"
   ]
  },
  {
   "cell_type": "code",
   "execution_count": null,
   "metadata": {},
   "outputs": [],
   "source": [
    "tempo_7 = 147.09"
   ]
  },
  {
   "cell_type": "code",
   "execution_count": null,
   "metadata": {},
   "outputs": [],
   "source": [
    "best_chromossomes_7 = fitness(np_array, best_chromossomes_7, budget)"
   ]
  },
  {
   "cell_type": "code",
   "execution_count": null,
   "metadata": {
    "scrolled": true
   },
   "outputs": [],
   "source": [
    "best_chromossomes_7 = sorted(best_chromossomes_7, key=lambda x: x[1], reverse = False)"
   ]
  },
  {
   "cell_type": "markdown",
   "metadata": {},
   "source": [
    "Melhor cromossomo"
   ]
  },
  {
   "cell_type": "code",
   "execution_count": null,
   "metadata": {},
   "outputs": [],
   "source": [
    "best_7 = best_chromossomes_7[-1]\n",
    "best_7"
   ]
  },
  {
   "cell_type": "markdown",
   "metadata": {},
   "source": [
    "Pior cromossomo"
   ]
  },
  {
   "cell_type": "code",
   "execution_count": null,
   "metadata": {},
   "outputs": [],
   "source": [
    "worst_7 = best_chromossomes_7[0]\n",
    "worst_7"
   ]
  },
  {
   "cell_type": "markdown",
   "metadata": {},
   "source": [
    "Valor médio dos fitness"
   ]
  },
  {
   "cell_type": "code",
   "execution_count": null,
   "metadata": {},
   "outputs": [],
   "source": [
    "mean_7 = 0\n",
    "for x in best_chromossomes_7: mean_7 = mean_7 + x[1]\n",
    "mean_7 = mean_7/len(best_chromossomes_7)\n",
    "mean_7"
   ]
  },
  {
   "cell_type": "code",
   "execution_count": null,
   "metadata": {},
   "outputs": [],
   "source": [
    "std_7 = 0\n",
    "for x in best_chromossomes_7: std_7 = std_7 + (x[1] - mean_7) ** 2\n",
    "std_7 = (std_7 / (len(best_chromossomes_7) - 1)) ** (1/2)\n",
    "std_7"
   ]
  },
  {
   "cell_type": "markdown",
   "metadata": {},
   "source": [
    "#### Oitava iteração:\n",
    "1. População &rarr; 100\n",
    "2. Budget &rarr; 10.000\n",
    "3. Delta &rarr; 0.001\n",
    "4. Crossover &rarr; crossover\n",
    "    1. Taxa &rarr; 0.8\n",
    "5. Mutação &rarr; mutation_v2\n",
    "    1. Taxa &rarr; 0.3"
   ]
  },
  {
   "cell_type": "code",
   "execution_count": null,
   "metadata": {},
   "outputs": [],
   "source": [
    "# Dados variáveis\n",
    "mutation_rate = 0.3\n",
    "crossover_rate = 0.8"
   ]
  },
  {
   "cell_type": "code",
   "execution_count": null,
   "metadata": {},
   "outputs": [],
   "source": [
    "begin_time = time.time()\n",
    "best_chromossomes_8 = evolutionary_strategy2(np_array, chromossomes, budget, crossover, mutation_v2, delta_to_converge, mutation_rate, crossover_rate, min_iteration_converget)\n",
    "print (\"Tempo para convergir: \", round(time.time() - begin_time, 2), \"segundos\")"
   ]
  },
  {
   "cell_type": "markdown",
   "metadata": {},
   "source": [
    "Resultado da oitava iteração"
   ]
  },
  {
   "cell_type": "code",
   "execution_count": null,
   "metadata": {},
   "outputs": [],
   "source": [
    "tempo_8 = 330.69"
   ]
  },
  {
   "cell_type": "code",
   "execution_count": null,
   "metadata": {},
   "outputs": [],
   "source": [
    "best_chromossomes_8 = fitness(np_array, best_chromossomes_8, budget)"
   ]
  },
  {
   "cell_type": "code",
   "execution_count": null,
   "metadata": {
    "scrolled": true
   },
   "outputs": [],
   "source": [
    "best_chromossomes_8 = sorted(best_chromossomes_8, key=lambda x: x[1], reverse = False)"
   ]
  },
  {
   "cell_type": "markdown",
   "metadata": {},
   "source": [
    "Melhor cromossomo"
   ]
  },
  {
   "cell_type": "code",
   "execution_count": null,
   "metadata": {},
   "outputs": [],
   "source": [
    "best_8 = best_chromossomes_8[-1]\n",
    "best_8"
   ]
  },
  {
   "cell_type": "markdown",
   "metadata": {},
   "source": [
    "Pior cromossomo"
   ]
  },
  {
   "cell_type": "code",
   "execution_count": null,
   "metadata": {},
   "outputs": [],
   "source": [
    "worst_8 = best_chromossomes_8[0]\n",
    "worst_8"
   ]
  },
  {
   "cell_type": "markdown",
   "metadata": {},
   "source": [
    "Valor médio dos fitness"
   ]
  },
  {
   "cell_type": "code",
   "execution_count": null,
   "metadata": {},
   "outputs": [],
   "source": [
    "mean_8 = 0\n",
    "for x in best_chromossomes_8: mean_8 = mean_8 + x[1]\n",
    "mean_8 = mean_8/len(best_chromossomes_8)\n",
    "mean_8"
   ]
  },
  {
   "cell_type": "code",
   "execution_count": null,
   "metadata": {},
   "outputs": [],
   "source": [
    "std_8 = 0\n",
    "for x in best_chromossomes_8: std_8 = std_8 + (x[1] - mean_8) ** 2\n",
    "std_8 = (std_8 / (len(best_chromossomes_8) - 8)) ** (1/2)\n",
    "std_8"
   ]
  },
  {
   "cell_type": "markdown",
   "metadata": {},
   "source": [
    "#### Nona iteração:\n",
    "1. População &rarr; 100\n",
    "2. Budget &rarr; 10.000\n",
    "3. Delta &rarr; 0.001\n",
    "4. Crossover &rarr; crossover\n",
    "    1. Taxa &rarr; 0.3\n",
    "5. Mutação &rarr; mutation_v2\n",
    "    1. Taxa &rarr; 0.8"
   ]
  },
  {
   "cell_type": "code",
   "execution_count": null,
   "metadata": {},
   "outputs": [],
   "source": [
    "# Dados variáveis\n",
    "mutation_rate = 0.8\n",
    "crossover_rate = 0.3"
   ]
  },
  {
   "cell_type": "code",
   "execution_count": null,
   "metadata": {},
   "outputs": [],
   "source": [
    "begin_time = time.time()\n",
    "best_chromossomes_9 = evolutionary_strategy2(np_array, chromossomes, budget, crossover, mutation_v2, delta_to_converge, mutation_rate, crossover_rate, min_iteration_converget)\n",
    "print (\"Tempo para convergir: \", round(time.time() - begin_time, 2), \"segundos\")"
   ]
  },
  {
   "cell_type": "markdown",
   "metadata": {},
   "source": [
    "Resultado da nona iteração"
   ]
  },
  {
   "cell_type": "code",
   "execution_count": null,
   "metadata": {},
   "outputs": [],
   "source": [
    "tempo_9 = 109.46"
   ]
  },
  {
   "cell_type": "code",
   "execution_count": null,
   "metadata": {},
   "outputs": [],
   "source": [
    "best_chromossomes_9 = fitness(np_array, best_chromossomes_9, budget)"
   ]
  },
  {
   "cell_type": "code",
   "execution_count": null,
   "metadata": {
    "scrolled": true
   },
   "outputs": [],
   "source": [
    "best_chromossomes_9 = sorted(best_chromossomes_9, key=lambda x: x[1], reverse = False)"
   ]
  },
  {
   "cell_type": "markdown",
   "metadata": {},
   "source": [
    "Melhor cromossomo"
   ]
  },
  {
   "cell_type": "code",
   "execution_count": null,
   "metadata": {},
   "outputs": [],
   "source": [
    "best_9 = best_chromossomes_9[-1]\n",
    "best_9"
   ]
  },
  {
   "cell_type": "markdown",
   "metadata": {},
   "source": [
    "Pior cromossomo"
   ]
  },
  {
   "cell_type": "code",
   "execution_count": null,
   "metadata": {},
   "outputs": [],
   "source": [
    "worst_9 = best_chromossomes_9[0]\n",
    "worst_9"
   ]
  },
  {
   "cell_type": "markdown",
   "metadata": {},
   "source": [
    "Valor médio dos fitness"
   ]
  },
  {
   "cell_type": "code",
   "execution_count": null,
   "metadata": {},
   "outputs": [],
   "source": [
    "mean_9 = 0\n",
    "for x in best_chromossomes_9: mean_9 = mean_9 + x[1]\n",
    "mean_9 = mean_9/len(best_chromossomes_9)\n",
    "mean_9"
   ]
  },
  {
   "cell_type": "code",
   "execution_count": null,
   "metadata": {},
   "outputs": [],
   "source": [
    "std_9 = 0\n",
    "for x in best_chromossomes_9: std_9 = std_9 + (x[1] - mean_9) ** 2\n",
    "std_9 = (std_9 / (len(best_chromossomes_9) - 1)) ** (1/2)\n",
    "std_9"
   ]
  },
  {
   "cell_type": "code",
   "execution_count": null,
   "metadata": {},
   "outputs": [],
   "source": []
  }
 ],
 "metadata": {
  "kernelspec": {
   "display_name": "Python 3",
   "language": "python",
   "name": "python3"
  },
  "language_info": {
   "codemirror_mode": {
    "name": "ipython",
    "version": 3
   },
   "file_extension": ".py",
   "mimetype": "text/x-python",
   "name": "python",
   "nbconvert_exporter": "python",
   "pygments_lexer": "ipython3",
   "version": "3.6.5"
  }
 },
 "nbformat": 4,
 "nbformat_minor": 2
}
