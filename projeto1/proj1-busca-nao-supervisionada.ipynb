{
 "cells": [
  {
   "cell_type": "markdown",
   "metadata": {},
   "source": [
    "# Imports"
   ]
  },
  {
   "cell_type": "code",
   "execution_count": 140,
   "metadata": {},
   "outputs": [],
   "source": [
    "# imports necessarios\n",
    "from search import *\n",
    "from notebook import psource, heatmap, gaussian_kernel, show_map, final_path_colors, display_visual, plot_NQueens\n",
    "import networkx as nx\n",
    "import numpy as np\n",
    "import matplotlib.pyplot as plt\n",
    "from matplotlib.ticker import MultipleLocator\n",
    "import time\n",
    "from statistics import mean, stdev\n",
    "from math import sqrt\n",
    "\n",
    "# Needed to hide warnings in the matplotlib sections\n",
    "import warnings\n",
    "warnings.filterwarnings(\"ignore\")"
   ]
  },
  {
   "cell_type": "markdown",
   "metadata": {},
   "source": [
    "# Cria o mapa"
   ]
  },
  {
   "cell_type": "code",
   "execution_count": 2,
   "metadata": {
    "scrolled": true
   },
   "outputs": [],
   "source": [
    "# make the dict where the key is associated with his neighbors\n",
    "mapa = {}\n",
    "for i in range(0,60):\n",
    "    for j in range(0,60):\n",
    "        mapa[(i,j)] = {(i+1,j):1, (i-1,j):1, (i,j+1):1, (i,j-1):1}\n",
    "        \n",
    "grafo = UndirectedGraph(mapa)"
   ]
  },
  {
   "cell_type": "markdown",
   "metadata": {},
   "source": [
    "# Classe do Problema"
   ]
  },
  {
   "cell_type": "code",
   "execution_count": 197,
   "metadata": {},
   "outputs": [],
   "source": [
    "class RobotProblem(Problem):\n",
    "\n",
    "    \"\"\"Problema para encontrar o goal saindo de uma posicao (x,y) com um robo.\"\"\"\n",
    "\n",
    "    def __init__(self, initial, goal, mapa, graph):\n",
    "        Problem.__init__(self, initial, goal)\n",
    "        self.mapa = mapa\n",
    "        self.graph = graph\n",
    "\n",
    "    def actions(self, actual_pos):\n",
    "        \"\"\"The actions at a graph node are just its neighbors.\"\"\"\n",
    "        neighbors = list(self.graph.get(actual_pos).keys())\n",
    "        valid_actions = []\n",
    "        for act in neighbors:\n",
    "            if act[0] == 0 or act[0] == 60 or act[1] == 0 or act[1] == 60:\n",
    "                i = 1\n",
    "            elif (act[0] == 20 and (0<= act[1] <= 40)):\n",
    "                i = 2\n",
    "            elif (act[0] == 40 and (20<= act[1] <= 60)):\n",
    "                i = 3\n",
    "            else:\n",
    "                valid_actions.append(act)\n",
    "                \n",
    "        return valid_actions\n",
    "\n",
    "    def result(self, state, action):\n",
    "        \"\"\"The result of going to a neighbor is just that neighbor.\"\"\"\n",
    "        return action\n",
    "\n",
    "    def path_cost(self, cost_so_far, state1, action, state2):\n",
    "        return cost_so_far + 1\n",
    "\n",
    "    def goal_test(self, state):\n",
    "        if state[0] == self.goal[0] and state[1] == self.goal[1]:\n",
    "            return True\n",
    "        else:\n",
    "            return False"
   ]
  },
  {
   "cell_type": "markdown",
   "metadata": {},
   "source": [
    "# Busca nao supervisionada: DFS"
   ]
  },
  {
   "cell_type": "markdown",
   "metadata": {},
   "source": [
    "## Calculo do custo da busca e o caminho percorrido"
   ]
  },
  {
   "cell_type": "code",
   "execution_count": 198,
   "metadata": {},
   "outputs": [
    {
     "name": "stdout",
     "output_type": "stream",
     "text": [
      "Custo da busca DFS: 1084\n"
     ]
    }
   ],
   "source": [
    "init_pos = (10,10)\n",
    "goal_pos = (50,50)\n",
    "\n",
    "robot_problem = RobotProblem(init_pos, goal_pos, mapa, grafo)\n",
    "node = depth_first_graph_search(robot_problem)\n",
    "print(\"Custo da busca DFS: \" + str(node.path_cost))"
   ]
  },
  {
   "cell_type": "code",
   "execution_count": 199,
   "metadata": {},
   "outputs": [],
   "source": [
    "list_nodes = []\n",
    "for n in node.path():\n",
    "    list_nodes.append(n.state)"
   ]
  },
  {
   "cell_type": "code",
   "execution_count": 200,
   "metadata": {},
   "outputs": [],
   "source": [
    "x = []\n",
    "y = []\n",
    "for nod in list_nodes:\n",
    "    x.append(nod[0])\n",
    "    y.append(nod[1])"
   ]
  },
  {
   "cell_type": "code",
   "execution_count": 201,
   "metadata": {},
   "outputs": [
    {
     "data": {
      "image/png": "[encoded data removed]",
      "text/plain": [
       "<Figure size 432x288 with 1 Axes>"
      ]
     },
     "metadata": {
      "needs_background": "light"
     },
     "output_type": "display_data"
    }
   ],
   "source": [
    "fig = plt.figure()\n",
    "plt.xlim(0,60)\n",
    "plt.ylim(0,60)\n",
    "plt.title('Caminho percorrido pelo robo na busca DFS')\n",
    "plt.annotate(\"\",\n",
    "              xy=(0,0), xycoords='data',\n",
    "              xytext=(0, 60), textcoords='data',\n",
    "              arrowprops=dict(arrowstyle=\"-\",\n",
    "                              edgecolor = \"black\",\n",
    "                              linewidth=5,\n",
    "                              alpha=0.65,\n",
    "                              connectionstyle=\"arc3,rad=0.\"),\n",
    "              )\n",
    "plt.annotate(\"\",\n",
    "              xy=(0,0), xycoords='data',\n",
    "              xytext=(60, 0), textcoords='data',\n",
    "              arrowprops=dict(arrowstyle=\"-\",\n",
    "                              edgecolor = \"black\",\n",
    "                              linewidth=5,\n",
    "                              alpha=0.65,\n",
    "                              connectionstyle=\"arc3,rad=0.\"),\n",
    "              )\n",
    "\n",
    "plt.annotate(\"\",\n",
    "              xy=(60,0), xycoords='data',\n",
    "              xytext=(60, 60), textcoords='data',\n",
    "              arrowprops=dict(arrowstyle=\"-\",\n",
    "                              edgecolor = \"black\",\n",
    "                              linewidth=5,\n",
    "                              alpha=0.65,\n",
    "                              connectionstyle=\"arc3,rad=0.\"),\n",
    "              )\n",
    "\n",
    "plt.annotate(\"\",\n",
    "              xy=(0,60), xycoords='data',\n",
    "              xytext=(60, 60), textcoords='data',\n",
    "              arrowprops=dict(arrowstyle=\"-\",\n",
    "                              edgecolor = \"black\",\n",
    "                              linewidth=5,\n",
    "                              alpha=0.65,\n",
    "                              connectionstyle=\"arc3,rad=0.\"),\n",
    "              )\n",
    "plt.annotate(\"\",\n",
    "              xy=(40,20), xycoords='data',\n",
    "              xytext=(40, 60), textcoords='data',\n",
    "              arrowprops=dict(arrowstyle=\"-\",\n",
    "                              edgecolor = \"black\",\n",
    "                              linewidth=5,\n",
    "                              alpha=0.65,\n",
    "                              connectionstyle=\"arc3,rad=0.\"),\n",
    "              )\n",
    "plt.annotate(\"\",\n",
    "              xy=(20,0), xycoords='data',\n",
    "              xytext=(20, 40), textcoords='data',\n",
    "              arrowprops=dict(arrowstyle=\"-\",\n",
    "                              edgecolor = \"black\",\n",
    "                              linewidth=5,\n",
    "                              alpha=0.65,\n",
    "                              connectionstyle=\"arc3,rad=0.\"),\n",
    "              )\n",
    "plt.scatter(x,y)\n",
    "plt.scatter(10,10,color='r')\n",
    "plt.scatter(50,50,color='r')\n",
    "plt.show()"
   ]
  },
  {
   "cell_type": "markdown",
   "metadata": {},
   "source": [
    "## Calculo do tempo gasto pela DFS com inicio em (10,10) e fim em (50,50)"
   ]
  },
  {
   "cell_type": "code",
   "execution_count": 11,
   "metadata": {},
   "outputs": [],
   "source": [
    "init_pos = (10,10)\n",
    "goal_pos = (50,50)\n",
    "\n",
    "robot_problem = RobotProblem(init_pos, goal_pos, mapa, grafo)\n",
    "\n",
    "times = []\n",
    "for i in range(0,1000):\n",
    "    start = time.time()\n",
    "    node = depth_first_graph_search(robot_problem)\n",
    "    end = time.time()\n",
    "    times.append(end - start)"
   ]
  },
  {
   "cell_type": "code",
   "execution_count": 64,
   "metadata": {},
   "outputs": [
    {
     "name": "stdout",
     "output_type": "stream",
     "text": [
      "Media do tempo gasto para a busca DFS: 1.009512909412384\n",
      "Desvio padrao do tempo gasto para a busca DFS: 0.14409295994680466\n",
      "Intervalo de confiança para a busca DFS: (1.0005819352271286,1.0184438835976395)\n"
     ]
    },
    {
     "data": {
      "image/png": "[encoded data removed]",
      "text/plain": [
       "<Figure size 432x288 with 1 Axes>"
      ]
     },
     "metadata": {
      "needs_background": "light"
     },
     "output_type": "display_data"
    }
   ],
   "source": [
    "media_dfs = mean(times)\n",
    "desvio_dfs = stdev(times)\n",
    "intervalo_conf = '(' + str( media_dfs - 1.96 * (desvio_dfs / (len(times)) ** (1/2)) ) + ',' + str( media_dfs + 1.96 * (desvio_dfs / (len(times)) ** (1/2)) ) + ')'\n",
    "print(\"Media do tempo gasto para a busca DFS: \" + str(media_dfs))\n",
    "print(\"Desvio padrao do tempo gasto para a busca DFS: \" + str(desvio_dfs))\n",
    "print(\"Intervalo de confiança para a busca DFS: \" + intervalo_conf)\n",
    "fig = plt.figure()\n",
    "plt.hist(times,bins=50)\n",
    "plt.title('Histograma para o tempo de execucao da DFS')\n",
    "plt.show()"
   ]
  },
  {
   "cell_type": "markdown",
   "metadata": {},
   "source": [
    "## Projecao da relacao entre distancia em linha reta e tempo para a DFS"
   ]
  },
  {
   "cell_type": "code",
   "execution_count": 79,
   "metadata": {},
   "outputs": [],
   "source": [
    "goal_pos = (50,50)\n",
    "x = []\n",
    "y = []\n",
    "for i in range(5,50):\n",
    "    for j in range(5,50):\n",
    "        if i != 20 and i != 40:\n",
    "            init_pos = (i,i)\n",
    "            distancia_linha_reta = sqrt( (goal_pos[0] - init_pos[0]) ** 2 + (goal_pos[1] - init_pos[1]) ** 2)\n",
    "            robot_problem = RobotProblem(init_pos, goal_pos, mapa, grafo)\n",
    "            start = time.time()\n",
    "            node = depth_first_graph_search(robot_problem)\n",
    "            end = time.time()\n",
    "            x.append(distancia_linha_reta)\n",
    "            y.append(end - start)"
   ]
  },
  {
   "cell_type": "code",
   "execution_count": 90,
   "metadata": {},
   "outputs": [
    {
     "data": {
      "image/png": "[encoded data removed]",
      "text/plain": [
       "<Figure size 432x288 with 1 Axes>"
      ]
     },
     "metadata": {
      "needs_background": "light"
     },
     "output_type": "display_data"
    }
   ],
   "source": [
    "fig = plt.figure()\n",
    "plt.scatter(x,y)\n",
    "plt.ylim(0.2, 2)\n",
    "plt.title(\"Distancia em linha reta x Tempo DFS\")\n",
    "plt.xlabel(\"Distancia em linha reta entre os pontos inicial e final\")\n",
    "plt.ylabel(\"Tempo da busca DFS\")\n",
    "plt.show()"
   ]
  },
  {
   "cell_type": "markdown",
   "metadata": {},
   "source": [
    "# Busca nao supervisionada: BFS"
   ]
  },
  {
   "cell_type": "markdown",
   "metadata": {},
   "source": [
    "## Calculo do custo da busca e o caminho percorrido"
   ]
  },
  {
   "cell_type": "code",
   "execution_count": 203,
   "metadata": {},
   "outputs": [
    {
     "name": "stdout",
     "output_type": "stream",
     "text": [
      "Custo da busca BFS: 124\n"
     ]
    }
   ],
   "source": [
    "init_pos = (10,10)\n",
    "goal_pos = (50,50)\n",
    "\n",
    "robot_problem = RobotProblem(init_pos, goal_pos, mapa, grafo)\n",
    "node = breadth_first_graph_search(robot_problem)\n",
    "print(\"Custo da busca BFS: \" + str(node.path_cost))"
   ]
  },
  {
   "cell_type": "code",
   "execution_count": 205,
   "metadata": {},
   "outputs": [],
   "source": [
    "list_nodes = []\n",
    "for n in node.path():\n",
    "    list_nodes.append(n.state)\n",
    "    \n",
    "x = []\n",
    "y = []\n",
    "for nod in list_nodes:\n",
    "    x.append(nod[0])\n",
    "    y.append(nod[1])"
   ]
  },
  {
   "cell_type": "code",
   "execution_count": 207,
   "metadata": {},
   "outputs": [
    {
     "data": {
      "image/png": "[encoded data removed]",
      "text/plain": [
       "<Figure size 432x288 with 1 Axes>"
      ]
     },
     "metadata": {
      "needs_background": "light"
     },
     "output_type": "display_data"
    }
   ],
   "source": [
    "fig = plt.figure()\n",
    "plt.xlim(0,60)\n",
    "plt.ylim(0,60)\n",
    "plt.title('Caminho percorrido pelo robo na busca BFS')\n",
    "plt.annotate(\"\",\n",
    "              xy=(0,0), xycoords='data',\n",
    "              xytext=(0, 60), textcoords='data',\n",
    "              arrowprops=dict(arrowstyle=\"-\",\n",
    "                              edgecolor = \"black\",\n",
    "                              linewidth=5,\n",
    "                              alpha=0.65,\n",
    "                              connectionstyle=\"arc3,rad=0.\"),\n",
    "              )\n",
    "plt.annotate(\"\",\n",
    "              xy=(0,0), xycoords='data',\n",
    "              xytext=(60, 0), textcoords='data',\n",
    "              arrowprops=dict(arrowstyle=\"-\",\n",
    "                              edgecolor = \"black\",\n",
    "                              linewidth=5,\n",
    "                              alpha=0.65,\n",
    "                              connectionstyle=\"arc3,rad=0.\"),\n",
    "              )\n",
    "\n",
    "plt.annotate(\"\",\n",
    "              xy=(60,0), xycoords='data',\n",
    "              xytext=(60, 60), textcoords='data',\n",
    "              arrowprops=dict(arrowstyle=\"-\",\n",
    "                              edgecolor = \"black\",\n",
    "                              linewidth=5,\n",
    "                              alpha=0.65,\n",
    "                              connectionstyle=\"arc3,rad=0.\"),\n",
    "              )\n",
    "\n",
    "plt.annotate(\"\",\n",
    "              xy=(0,60), xycoords='data',\n",
    "              xytext=(60, 60), textcoords='data',\n",
    "              arrowprops=dict(arrowstyle=\"-\",\n",
    "                              edgecolor = \"black\",\n",
    "                              linewidth=5,\n",
    "                              alpha=0.65,\n",
    "                              connectionstyle=\"arc3,rad=0.\"),\n",
    "              )\n",
    "plt.annotate(\"\",\n",
    "              xy=(40,20), xycoords='data',\n",
    "              xytext=(40, 60), textcoords='data',\n",
    "              arrowprops=dict(arrowstyle=\"-\",\n",
    "                              edgecolor = \"black\",\n",
    "                              linewidth=5,\n",
    "                              alpha=0.65,\n",
    "                              connectionstyle=\"arc3,rad=0.\"),\n",
    "              )\n",
    "plt.annotate(\"\",\n",
    "              xy=(20,0), xycoords='data',\n",
    "              xytext=(20, 40), textcoords='data',\n",
    "              arrowprops=dict(arrowstyle=\"-\",\n",
    "                              edgecolor = \"black\",\n",
    "                              linewidth=5,\n",
    "                              alpha=0.65,\n",
    "                              connectionstyle=\"arc3,rad=0.\"),\n",
    "              )\n",
    "plt.scatter(x,y)\n",
    "plt.scatter(10,10,color='r')\n",
    "plt.scatter(50,50,color='r')\n",
    "plt.show()"
   ]
  },
  {
   "cell_type": "markdown",
   "metadata": {},
   "source": [
    "## Calculo do tempo gasto pela BFS com inicio em (10,10) e fim em (50,50)"
   ]
  },
  {
   "cell_type": "code",
   "execution_count": 91,
   "metadata": {},
   "outputs": [],
   "source": [
    "init_pos = (10,10)\n",
    "goal_pos = (50,50)\n",
    "\n",
    "robot_problem = RobotProblem(init_pos, goal_pos, mapa, grafo)\n",
    "\n",
    "times = []\n",
    "for i in range(0,1000):\n",
    "    start = time.time()\n",
    "    node = breadth_first_graph_search(robot_problem)\n",
    "    end = time.time()\n",
    "    times.append(end - start)"
   ]
  },
  {
   "cell_type": "code",
   "execution_count": 100,
   "metadata": {},
   "outputs": [
    {
     "name": "stdout",
     "output_type": "stream",
     "text": [
      "Media do tempo gasto para a busca BFS: 0.05700565814971924\n",
      "Desvio padrao do tempo gasto para a busca BFS: 0.009455976054136637\n",
      "Intervalo de confiança para a busca BFS: (0.056419570681830004,0.05759174561760847)\n"
     ]
    },
    {
     "data": {
      "image/png": "[encoded data removed]",
      "text/plain": [
       "<Figure size 432x288 with 1 Axes>"
      ]
     },
     "metadata": {
      "needs_background": "light"
     },
     "output_type": "display_data"
    }
   ],
   "source": [
    "media_bfs = mean(times)\n",
    "desvio_bfs = stdev(times)\n",
    "intervalo_conf = '(' + str( media_bfs - 1.96 * (desvio_bfs / (len(times)) ** (1/2)) ) + ',' + str( media_bfs + 1.96 * (desvio_bfs / (len(times)) ** (1/2)) ) + ')'\n",
    "print(\"Media do tempo gasto para a busca BFS: \" + str(media_bfs))\n",
    "print(\"Desvio padrao do tempo gasto para a busca BFS: \" + str(desvio_bfs))\n",
    "print(\"Intervalo de confiança para a busca BFS: \" + intervalo_conf)\n",
    "fig = plt.figure()\n",
    "plt.hist(times,bins=10)\n",
    "plt.title('Histograma para o tempo de execucao da BFS')\n",
    "plt.show()"
   ]
  },
  {
   "cell_type": "markdown",
   "metadata": {},
   "source": [
    "## Projecao da relacao entre distancia em linha reta e tempo para a BFS"
   ]
  },
  {
   "cell_type": "code",
   "execution_count": 102,
   "metadata": {},
   "outputs": [],
   "source": [
    "goal_pos = (50,50)\n",
    "x = []\n",
    "y = []\n",
    "for i in range(5,50):\n",
    "    for j in range(5,50):\n",
    "        if i != 20 and i != 40:\n",
    "            init_pos = (i,i)\n",
    "            distancia_linha_reta = sqrt( (goal_pos[0] - init_pos[0]) ** 2 + (goal_pos[1] - init_pos[1]) ** 2)\n",
    "            robot_problem = RobotProblem(init_pos, goal_pos, mapa, grafo)\n",
    "            start = time.time()\n",
    "            node = breadth_first_graph_search(robot_problem)\n",
    "            end = time.time()\n",
    "            x.append(distancia_linha_reta)\n",
    "            y.append(end - start)"
   ]
  },
  {
   "cell_type": "code",
   "execution_count": 108,
   "metadata": {},
   "outputs": [
    {
     "data": {
      "image/png": "[encoded data removed]",
      "text/plain": [
       "<Figure size 432x288 with 1 Axes>"
      ]
     },
     "metadata": {
      "needs_background": "light"
     },
     "output_type": "display_data"
    }
   ],
   "source": [
    "fig = plt.figure()\n",
    "plt.scatter(x,y)\n",
    "plt.xlim(0,42)\n",
    "plt.ylim(0, 0.15)\n",
    "plt.title(\"Distancia em linha reta x Tempo BFS\")\n",
    "plt.xlabel(\"Distancia em linha reta entre os pontos inicial e final\")\n",
    "plt.ylabel(\"Tempo da busca BFS\")\n",
    "plt.show()"
   ]
  }
 ],
 "metadata": {
  "kernelspec": {
   "display_name": "Python 3",
   "language": "python",
   "name": "python3"
  },
  "language_info": {
   "codemirror_mode": {
    "name": "ipython",
    "version": 3
   },
   "file_extension": ".py",
   "mimetype": "text/x-python",
   "name": "python",
   "nbconvert_exporter": "python",
   "pygments_lexer": "ipython3",
   "version": "3.7.0"
  }
 },
 "nbformat": 4,
 "nbformat_minor": 2
}
