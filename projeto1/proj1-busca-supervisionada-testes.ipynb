{
 "cells": [
  {
   "cell_type": "markdown",
   "metadata": {},
   "source": [
    "# Buscas supervisionadas"
   ]
  },
  {
   "cell_type": "markdown",
   "metadata": {},
   "source": [
    "## Imports"
   ]
  },
  {
   "cell_type": "code",
   "execution_count": 94,
   "metadata": {},
   "outputs": [],
   "source": [
    "# imports necessarios\n",
    "from search import *\n",
    "from notebook import psource, heatmap, gaussian_kernel, show_map, final_path_colors, display_visual, plot_NQueens\n",
    "import networkx as nx\n",
    "import numpy as np\n",
    "import matplotlib.pyplot as plt\n",
    "from matplotlib.ticker import MultipleLocator\n",
    "import time\n",
    "from statistics import mean, stdev\n",
    "from math import sqrt\n",
    "from memory_profiler import memory_usage\n",
    "import heapq\n",
    "\n",
    "# Needed to hide warnings in the matplotlib sections\n",
    "import warnings\n",
    "warnings.filterwarnings(\"ignore\")"
   ]
  },
  {
   "cell_type": "markdown",
   "metadata": {},
   "source": [
    "## Criação do mapa e do grafo"
   ]
  },
  {
   "cell_type": "code",
   "execution_count": 81,
   "metadata": {
    "scrolled": true
   },
   "outputs": [],
   "source": [
    "# make the dict where the key is associated with his neighbors\n",
    "# make the dict where the key is associated with his neighbors\n",
    "mapa = {}\n",
    "for i in range(0,60):\n",
    "    for j in range(0,60):\n",
    "        mapa[(i,j)] = {(i+1,j):1, (i-1,j):1, (i,j+1):1, (i,j-1):1,}\n",
    "#                        (i+1,j+1):sqrt(2), (i-1,j-1):sqrt(2), (i-1,j+1):sqrt(2), (i+1,j-1):sqrt(2),}\n",
    "        \n",
    "grafo = UndirectedGraph(mapa)"
   ]
  },
  {
   "cell_type": "markdown",
   "metadata": {},
   "source": [
    "## Modelagem da classe problema"
   ]
  },
  {
   "cell_type": "code",
   "execution_count": 71,
   "metadata": {},
   "outputs": [],
   "source": [
    "class RobotProblem(Problem):\n",
    "\n",
    "    \"\"\"Problema para encontrar o goal saindo de uma posicao (x,y) com um robo.\"\"\"\n",
    "\n",
    "    def __init__(self, initial, goal, mapa, graph):\n",
    "        Problem.__init__(self, initial, goal)\n",
    "        self.mapa = mapa\n",
    "        self.graph = graph\n",
    "\n",
    "    def actions(self, actual_pos):\n",
    "        \"\"\"The actions at a graph node are just its neighbors.\"\"\"\n",
    "        neighbors = list(self.graph.get(actual_pos).keys())\n",
    "        valid_actions = []\n",
    "        for act in neighbors:\n",
    "            if act[0] == 0 or act[0] == 60 or act[1] == 0 or act[1] == 60:\n",
    "                i = 1\n",
    "            elif (act[0] == 20 and (0<= act[1] <= 40)):\n",
    "                i = 2\n",
    "            elif (act[0] == 40 and (20<= act[1] <= 60)):\n",
    "                i = 3\n",
    "#             elif (act[1] == 40 and ((0<= act[0] < 18) or (19<= act[0] <= 18))):\n",
    "#                 i = 3\n",
    "            else:\n",
    "                valid_actions.append(act)\n",
    "                \n",
    "        return valid_actions\n",
    "\n",
    "    def result(self, state, action):\n",
    "        \"\"\"The result of going to a neighbor is just that neighbor.\"\"\"\n",
    "        return action\n",
    "\n",
    "    def path_cost(self, cost_so_far, state1, action, state2):\n",
    "        return cost_so_far + 1\n",
    "\n",
    "    def goal_test(self, state):\n",
    "        if state[0] == self.goal[0] and state[1] == self.goal[1]:\n",
    "            return True\n",
    "        else:\n",
    "            return False\n",
    "    \n",
    "    def heuristic_1(self, node):\n",
    "        \"\"\"h function is straight-line distance from a node's state to goal.\"\"\"\n",
    "        locs = getattr(self.graph, 'locations', None)\n",
    "        if locs:\n",
    "            if type(node) is str:\n",
    "                return int(distance(locs[node], locs[self.goal]))\n",
    "\n",
    "            return int(distance(locs[node.state], locs[self.goal]))\n",
    "        else:\n",
    "            return infinity\n",
    "    \n",
    "    def heuristic_2(self,node):\n",
    "        \"\"\" Manhattan Heuristic Function \"\"\"\n",
    "        x1,y1 = node.state[0], node.state[1]\n",
    "        x2,y2 = self.goal[0], self.goal[1]\n",
    "        \n",
    "        return abs(x2 - x1) + abs(y2 - y1)"
   ]
  },
  {
   "cell_type": "markdown",
   "metadata": {},
   "source": [
    "## Busca supervisionada A*: Heuristica 1 - Teste 1"
   ]
  },
  {
   "cell_type": "markdown",
   "metadata": {},
   "source": [
    "### Calculo do custo da busca e o caminho percorrido"
   ]
  },
  {
   "cell_type": "code",
   "execution_count": 7,
   "metadata": {},
   "outputs": [
    {
     "name": "stdout",
     "output_type": "stream",
     "text": [
      "None\n"
     ]
    }
   ],
   "source": [
    "init_pos = (10,10)\n",
    "goal_pos = (50,50)\n",
    "\n",
    "robot_problem = RobotProblem(init_pos, goal_pos, mapa, grafo)\n",
    "node = astar_search(robot_problem, h=robot_problem.heuristic_1)\n",
    "print(node)"
   ]
  },
  {
   "cell_type": "code",
   "execution_count": 8,
   "metadata": {},
   "outputs": [],
   "source": [
    "list_nodes = []\n",
    "try:\n",
    "    for n in node.path():\n",
    "        list_nodes.append(n.state)\n",
    "except:\n",
    "    pass"
   ]
  },
  {
   "cell_type": "code",
   "execution_count": 9,
   "metadata": {},
   "outputs": [],
   "source": [
    "x = []\n",
    "y = []\n",
    "for nod in list_nodes:\n",
    "    x.append(nod[0])\n",
    "    y.append(nod[1])"
   ]
  },
  {
   "cell_type": "code",
   "execution_count": 10,
   "metadata": {},
   "outputs": [
    {
     "data": {
      "image/png": "[encoded data removed]",
      "text/plain": [
       "<Figure size 432x288 with 1 Axes>"
      ]
     },
     "metadata": {
      "needs_background": "light"
     },
     "output_type": "display_data"
    }
   ],
   "source": [
    "fig = plt.figure()\n",
    "plt.xlim(0,60)\n",
    "plt.ylim(0,60)\n",
    "plt.title('Caminho percorrido pelo robo na busca A* com a primeira heuristica')\n",
    "plt.annotate(\"\",\n",
    "              xy=(0,0), xycoords='data',\n",
    "              xytext=(0, 60), textcoords='data',\n",
    "              arrowprops=dict(arrowstyle=\"-\",\n",
    "                              edgecolor = \"black\",\n",
    "                              linewidth=5,\n",
    "                              alpha=0.65,\n",
    "                              connectionstyle=\"arc3,rad=0.\"),\n",
    "              )\n",
    "plt.annotate(\"\",\n",
    "              xy=(0,0), xycoords='data',\n",
    "              xytext=(60, 0), textcoords='data',\n",
    "              arrowprops=dict(arrowstyle=\"-\",\n",
    "                              edgecolor = \"black\",\n",
    "                              linewidth=5,\n",
    "                              alpha=0.65,\n",
    "                              connectionstyle=\"arc3,rad=0.\"),\n",
    "              )\n",
    "\n",
    "plt.annotate(\"\",\n",
    "              xy=(60,0), xycoords='data',\n",
    "              xytext=(60, 60), textcoords='data',\n",
    "              arrowprops=dict(arrowstyle=\"-\",\n",
    "                              edgecolor = \"black\",\n",
    "                              linewidth=5,\n",
    "                              alpha=0.65,\n",
    "                              connectionstyle=\"arc3,rad=0.\"),\n",
    "              )\n",
    "\n",
    "plt.annotate(\"\",\n",
    "              xy=(0,60), xycoords='data',\n",
    "              xytext=(60, 60), textcoords='data',\n",
    "              arrowprops=dict(arrowstyle=\"-\",\n",
    "                              edgecolor = \"black\",\n",
    "                              linewidth=5,\n",
    "                              alpha=0.65,\n",
    "                              connectionstyle=\"arc3,rad=0.\"),\n",
    "              )\n",
    "plt.annotate(\"\",\n",
    "              xy=(20,0), xycoords='data',\n",
    "              xytext=(20, 40), textcoords='data',\n",
    "              arrowprops=dict(arrowstyle=\"-\",\n",
    "                              edgecolor = \"black\",\n",
    "                              linewidth=5,\n",
    "                              alpha=0.65,\n",
    "                              connectionstyle=\"arc3,rad=0.\"),\n",
    "              )\n",
    "plt.annotate(\"\",\n",
    "              xy=(20,40), xycoords='data',\n",
    "              xytext=(0, 40), textcoords='data',\n",
    "              arrowprops=dict(arrowstyle=\"-\",\n",
    "                              edgecolor = \"black\",\n",
    "                              linewidth=5,\n",
    "                              alpha=0.65,\n",
    "                              connectionstyle=\"arc3,rad=0.\"),\n",
    "              )\n",
    "\n",
    "\n",
    "plt.scatter(x,y)\n",
    "plt.scatter(10,10,color='r')\n",
    "plt.scatter(50,50,color='r')\n",
    "plt.show()"
   ]
  },
  {
   "cell_type": "markdown",
   "metadata": {},
   "source": [
    "## Busca supervisionada A*: Heuristica 2 - Teste 1"
   ]
  },
  {
   "cell_type": "markdown",
   "metadata": {},
   "source": [
    "### Calculo do custo da busca e o caminho percorrido"
   ]
  },
  {
   "cell_type": "code",
   "execution_count": 11,
   "metadata": {},
   "outputs": [
    {
     "name": "stdout",
     "output_type": "stream",
     "text": [
      "None\n"
     ]
    }
   ],
   "source": [
    "init_pos = (10,10)\n",
    "goal_pos = (50,50)\n",
    "\n",
    "robot_problem = RobotProblem(init_pos, goal_pos, mapa, grafo)\n",
    "node = astar_search(robot_problem, h=robot_problem.heuristic_2)\n",
    "print(node)"
   ]
  },
  {
   "cell_type": "code",
   "execution_count": 12,
   "metadata": {},
   "outputs": [],
   "source": [
    "list_nodes = []\n",
    "try:\n",
    "    for n in node.path():\n",
    "        list_nodes.append(n.state)\n",
    "except:\n",
    "    pass"
   ]
  },
  {
   "cell_type": "code",
   "execution_count": 13,
   "metadata": {},
   "outputs": [],
   "source": [
    "x = []\n",
    "y = []\n",
    "for nod in list_nodes:\n",
    "    x.append(nod[0])\n",
    "    y.append(nod[1])"
   ]
  },
  {
   "cell_type": "code",
   "execution_count": 14,
   "metadata": {
    "scrolled": true
   },
   "outputs": [
    {
     "data": {
      "image/png": "[encoded data removed]",
      "text/plain": [
       "<Figure size 432x288 with 1 Axes>"
      ]
     },
     "metadata": {
      "needs_background": "light"
     },
     "output_type": "display_data"
    }
   ],
   "source": [
    "fig = plt.figure()\n",
    "plt.xlim(0,60)\n",
    "plt.ylim(0,60)\n",
    "plt.title('Caminho percorrido pelo robo na busca A* com a segunda heuristica')\n",
    "plt.annotate(\"\",\n",
    "              xy=(0,0), xycoords='data',\n",
    "              xytext=(0, 60), textcoords='data',\n",
    "              arrowprops=dict(arrowstyle=\"-\",\n",
    "                              edgecolor = \"black\",\n",
    "                              linewidth=5,\n",
    "                              alpha=0.65,\n",
    "                              connectionstyle=\"arc3,rad=0.\"),\n",
    "              )\n",
    "plt.annotate(\"\",\n",
    "              xy=(0,0), xycoords='data',\n",
    "              xytext=(60, 0), textcoords='data',\n",
    "              arrowprops=dict(arrowstyle=\"-\",\n",
    "                              edgecolor = \"black\",\n",
    "                              linewidth=5,\n",
    "                              alpha=0.65,\n",
    "                              connectionstyle=\"arc3,rad=0.\"),\n",
    "              )\n",
    "\n",
    "plt.annotate(\"\",\n",
    "              xy=(60,0), xycoords='data',\n",
    "              xytext=(60, 60), textcoords='data',\n",
    "              arrowprops=dict(arrowstyle=\"-\",\n",
    "                              edgecolor = \"black\",\n",
    "                              linewidth=5,\n",
    "                              alpha=0.65,\n",
    "                              connectionstyle=\"arc3,rad=0.\"),\n",
    "              )\n",
    "\n",
    "plt.annotate(\"\",\n",
    "              xy=(0,60), xycoords='data',\n",
    "              xytext=(60, 60), textcoords='data',\n",
    "              arrowprops=dict(arrowstyle=\"-\",\n",
    "                              edgecolor = \"black\",\n",
    "                              linewidth=5,\n",
    "                              alpha=0.65,\n",
    "                              connectionstyle=\"arc3,rad=0.\"),\n",
    "              )\n",
    "plt.annotate(\"\",\n",
    "              xy=(20,0), xycoords='data',\n",
    "              xytext=(20, 40), textcoords='data',\n",
    "              arrowprops=dict(arrowstyle=\"-\",\n",
    "                              edgecolor = \"black\",\n",
    "                              linewidth=5,\n",
    "                              alpha=0.65,\n",
    "                              connectionstyle=\"arc3,rad=0.\"),\n",
    "              )\n",
    "plt.annotate(\"\",\n",
    "              xy=(20,40), xycoords='data',\n",
    "              xytext=(0, 40), textcoords='data',\n",
    "              arrowprops=dict(arrowstyle=\"-\",\n",
    "                              edgecolor = \"black\",\n",
    "                              linewidth=5,\n",
    "                              alpha=0.65,\n",
    "                              connectionstyle=\"arc3,rad=0.\"),\n",
    "              )\n",
    "plt.scatter(x,y)\n",
    "plt.scatter(10,10,color='r')\n",
    "plt.scatter(50,50,color='r')\n",
    "plt.show()"
   ]
  },
  {
   "cell_type": "markdown",
   "metadata": {},
   "source": [
    "## Busca supervisionada A*: Heuristica 1 - Teste 2"
   ]
  },
  {
   "cell_type": "markdown",
   "metadata": {},
   "source": [
    "### Calculo do custo da busca e o caminho percorrido"
   ]
  },
  {
   "cell_type": "code",
   "execution_count": 18,
   "metadata": {},
   "outputs": [
    {
     "name": "stdout",
     "output_type": "stream",
     "text": [
      "132\n"
     ]
    }
   ],
   "source": [
    "init_pos = (10,10)\n",
    "goal_pos = (50,50)\n",
    "\n",
    "robot_problem = RobotProblem(init_pos, goal_pos, mapa, grafo)\n",
    "node = astar_search(robot_problem, h=robot_problem.heuristic_1)\n",
    "print(node.path_cost)"
   ]
  },
  {
   "cell_type": "code",
   "execution_count": 19,
   "metadata": {},
   "outputs": [],
   "source": [
    "list_nodes = []\n",
    "try:\n",
    "    for n in node.path():\n",
    "        list_nodes.append(n.state)\n",
    "except:\n",
    "    pass"
   ]
  },
  {
   "cell_type": "code",
   "execution_count": 20,
   "metadata": {},
   "outputs": [],
   "source": [
    "x = []\n",
    "y = []\n",
    "for nod in list_nodes:\n",
    "    x.append(nod[0])\n",
    "    y.append(nod[1])"
   ]
  },
  {
   "cell_type": "code",
   "execution_count": 21,
   "metadata": {},
   "outputs": [
    {
     "data": {
      "image/png": "[encoded data removed]",
      "text/plain": [
       "<Figure size 432x288 with 1 Axes>"
      ]
     },
     "metadata": {
      "needs_background": "light"
     },
     "output_type": "display_data"
    }
   ],
   "source": [
    "fig = plt.figure()\n",
    "plt.xlim(0,60)\n",
    "plt.ylim(0,60)\n",
    "plt.title('Caminho percorrido pelo robo na busca A* com a primeira heuristica')\n",
    "plt.annotate(\"\",\n",
    "              xy=(0,0), xycoords='data',\n",
    "              xytext=(0, 60), textcoords='data',\n",
    "              arrowprops=dict(arrowstyle=\"-\",\n",
    "                              edgecolor = \"black\",\n",
    "                              linewidth=5,\n",
    "                              alpha=0.65,\n",
    "                              connectionstyle=\"arc3,rad=0.\"),\n",
    "              )\n",
    "plt.annotate(\"\",\n",
    "              xy=(0,0), xycoords='data',\n",
    "              xytext=(60, 0), textcoords='data',\n",
    "              arrowprops=dict(arrowstyle=\"-\",\n",
    "                              edgecolor = \"black\",\n",
    "                              linewidth=5,\n",
    "                              alpha=0.65,\n",
    "                              connectionstyle=\"arc3,rad=0.\"),\n",
    "              )\n",
    "\n",
    "plt.annotate(\"\",\n",
    "              xy=(60,0), xycoords='data',\n",
    "              xytext=(60, 60), textcoords='data',\n",
    "              arrowprops=dict(arrowstyle=\"-\",\n",
    "                              edgecolor = \"black\",\n",
    "                              linewidth=5,\n",
    "                              alpha=0.65,\n",
    "                              connectionstyle=\"arc3,rad=0.\"),\n",
    "              )\n",
    "\n",
    "plt.annotate(\"\",\n",
    "              xy=(0,60), xycoords='data',\n",
    "              xytext=(60, 60), textcoords='data',\n",
    "              arrowprops=dict(arrowstyle=\"-\",\n",
    "                              edgecolor = \"black\",\n",
    "                              linewidth=5,\n",
    "                              alpha=0.65,\n",
    "                              connectionstyle=\"arc3,rad=0.\"),\n",
    "              )\n",
    "plt.annotate(\"\",\n",
    "              xy=(20,0), xycoords='data',\n",
    "              xytext=(20, 40), textcoords='data',\n",
    "              arrowprops=dict(arrowstyle=\"-\",\n",
    "                              edgecolor = \"black\",\n",
    "                              linewidth=5,\n",
    "                              alpha=0.65,\n",
    "                              connectionstyle=\"arc3,rad=0.\"),\n",
    "              )\n",
    "plt.annotate(\"\",\n",
    "              xy=(20,40), xycoords='data',\n",
    "              xytext=(19, 40), textcoords='data',\n",
    "              arrowprops=dict(arrowstyle=\"-\",\n",
    "                              edgecolor = \"black\",\n",
    "                              linewidth=5,\n",
    "                              alpha=0.65,\n",
    "                              connectionstyle=\"arc3,rad=0.\"),\n",
    "              )\n",
    "\n",
    "plt.annotate(\"\",\n",
    "              xy=(17,40), xycoords='data',\n",
    "              xytext=(0, 40), textcoords='data',\n",
    "              arrowprops=dict(arrowstyle=\"-\",\n",
    "                              edgecolor = \"black\",\n",
    "                              linewidth=5,\n",
    "                              alpha=0.65,\n",
    "                              connectionstyle=\"arc3,rad=0.\"),\n",
    "              )\n",
    "\n",
    "plt.scatter(x,y)\n",
    "plt.scatter(10,10,color='r')\n",
    "plt.scatter(50,50,color='r')\n",
    "plt.show()"
   ]
  },
  {
   "cell_type": "markdown",
   "metadata": {},
   "source": [
    "## Busca supervisionada A*: Heuristica 2 - Teste 2"
   ]
  },
  {
   "cell_type": "markdown",
   "metadata": {},
   "source": [
    "### Calculo do custo da busca e o caminho percorrido"
   ]
  },
  {
   "cell_type": "code",
   "execution_count": 22,
   "metadata": {},
   "outputs": [
    {
     "name": "stdout",
     "output_type": "stream",
     "text": [
      "80\n"
     ]
    }
   ],
   "source": [
    "init_pos = (10,10)\n",
    "goal_pos = (50,50)\n",
    "\n",
    "robot_problem = RobotProblem(init_pos, goal_pos, mapa, grafo)\n",
    "node = astar_search(robot_problem, h=robot_problem.heuristic_2)\n",
    "print(node.path_cost)"
   ]
  },
  {
   "cell_type": "code",
   "execution_count": 23,
   "metadata": {},
   "outputs": [],
   "source": [
    "list_nodes = []\n",
    "try:\n",
    "    for n in node.path():\n",
    "        list_nodes.append(n.state)\n",
    "except:\n",
    "    pass"
   ]
  },
  {
   "cell_type": "code",
   "execution_count": 24,
   "metadata": {},
   "outputs": [],
   "source": [
    "x = []\n",
    "y = []\n",
    "for nod in list_nodes:\n",
    "    x.append(nod[0])\n",
    "    y.append(nod[1])"
   ]
  },
  {
   "cell_type": "code",
   "execution_count": 25,
   "metadata": {},
   "outputs": [
    {
     "data": {
      "image/png": "[encoded data removed]",
      "text/plain": [
       "<Figure size 432x288 with 1 Axes>"
      ]
     },
     "metadata": {
      "needs_background": "light"
     },
     "output_type": "display_data"
    }
   ],
   "source": [
    "fig = plt.figure()\n",
    "plt.xlim(0,60)\n",
    "plt.ylim(0,60)\n",
    "plt.title('Caminho percorrido pelo robo na busca A* com a primeira heuristica')\n",
    "plt.annotate(\"\",\n",
    "              xy=(0,0), xycoords='data',\n",
    "              xytext=(0, 60), textcoords='data',\n",
    "              arrowprops=dict(arrowstyle=\"-\",\n",
    "                              edgecolor = \"black\",\n",
    "                              linewidth=5,\n",
    "                              alpha=0.65,\n",
    "                              connectionstyle=\"arc3,rad=0.\"),\n",
    "              )\n",
    "plt.annotate(\"\",\n",
    "              xy=(0,0), xycoords='data',\n",
    "              xytext=(60, 0), textcoords='data',\n",
    "              arrowprops=dict(arrowstyle=\"-\",\n",
    "                              edgecolor = \"black\",\n",
    "                              linewidth=5,\n",
    "                              alpha=0.65,\n",
    "                              connectionstyle=\"arc3,rad=0.\"),\n",
    "              )\n",
    "\n",
    "plt.annotate(\"\",\n",
    "              xy=(60,0), xycoords='data',\n",
    "              xytext=(60, 60), textcoords='data',\n",
    "              arrowprops=dict(arrowstyle=\"-\",\n",
    "                              edgecolor = \"black\",\n",
    "                              linewidth=5,\n",
    "                              alpha=0.65,\n",
    "                              connectionstyle=\"arc3,rad=0.\"),\n",
    "              )\n",
    "\n",
    "plt.annotate(\"\",\n",
    "              xy=(0,60), xycoords='data',\n",
    "              xytext=(60, 60), textcoords='data',\n",
    "              arrowprops=dict(arrowstyle=\"-\",\n",
    "                              edgecolor = \"black\",\n",
    "                              linewidth=5,\n",
    "                              alpha=0.65,\n",
    "                              connectionstyle=\"arc3,rad=0.\"),\n",
    "              )\n",
    "plt.annotate(\"\",\n",
    "              xy=(20,0), xycoords='data',\n",
    "              xytext=(20, 40), textcoords='data',\n",
    "              arrowprops=dict(arrowstyle=\"-\",\n",
    "                              edgecolor = \"black\",\n",
    "                              linewidth=5,\n",
    "                              alpha=0.65,\n",
    "                              connectionstyle=\"arc3,rad=0.\"),\n",
    "              )\n",
    "plt.annotate(\"\",\n",
    "              xy=(20,40), xycoords='data',\n",
    "              xytext=(19, 40), textcoords='data',\n",
    "              arrowprops=dict(arrowstyle=\"-\",\n",
    "                              edgecolor = \"black\",\n",
    "                              linewidth=5,\n",
    "                              alpha=0.65,\n",
    "                              connectionstyle=\"arc3,rad=0.\"),\n",
    "              )\n",
    "\n",
    "plt.annotate(\"\",\n",
    "              xy=(17,40), xycoords='data',\n",
    "              xytext=(0, 40), textcoords='data',\n",
    "              arrowprops=dict(arrowstyle=\"-\",\n",
    "                              edgecolor = \"black\",\n",
    "                              linewidth=5,\n",
    "                              alpha=0.65,\n",
    "                              connectionstyle=\"arc3,rad=0.\"),\n",
    "              )\n",
    "\n",
    "plt.scatter(x,y)\n",
    "plt.scatter(10,10,color='r')\n",
    "plt.scatter(50,50,color='r')\n",
    "plt.show()"
   ]
  },
  {
   "cell_type": "markdown",
   "metadata": {},
   "source": [
    "## Busca supervisionada A*: Heuristica 1 - Teste 3"
   ]
  },
  {
   "cell_type": "markdown",
   "metadata": {},
   "source": [
    "### Calculo do custo da busca e o caminho percorrido"
   ]
  },
  {
   "cell_type": "code",
   "execution_count": 28,
   "metadata": {},
   "outputs": [
    {
     "name": "stdout",
     "output_type": "stream",
     "text": [
      "136\n"
     ]
    }
   ],
   "source": [
    "init_pos = (10,10)\n",
    "goal_pos = (50,50)\n",
    "\n",
    "robot_problem = RobotProblem(init_pos, goal_pos, mapa, grafo)\n",
    "node = astar_search(robot_problem, h=robot_problem.heuristic_1)\n",
    "print(node.path_cost)"
   ]
  },
  {
   "cell_type": "code",
   "execution_count": 29,
   "metadata": {},
   "outputs": [],
   "source": [
    "list_nodes = []\n",
    "try:\n",
    "    for n in node.path():\n",
    "        list_nodes.append(n.state)\n",
    "except:\n",
    "    pass"
   ]
  },
  {
   "cell_type": "code",
   "execution_count": 30,
   "metadata": {},
   "outputs": [],
   "source": [
    "x = []\n",
    "y = []\n",
    "for nod in list_nodes:\n",
    "    x.append(nod[0])\n",
    "    y.append(nod[1])"
   ]
  },
  {
   "cell_type": "code",
   "execution_count": 31,
   "metadata": {
    "scrolled": true
   },
   "outputs": [
    {
     "data": {
      "image/png": "[encoded data removed]",
      "text/plain": [
       "<Figure size 432x288 with 1 Axes>"
      ]
     },
     "metadata": {
      "needs_background": "light"
     },
     "output_type": "display_data"
    }
   ],
   "source": [
    "fig = plt.figure()\n",
    "plt.xlim(0,60)\n",
    "plt.ylim(0,60)\n",
    "plt.title('Caminho percorrido pelo robo na busca A* com a primeira heuristica')\n",
    "plt.annotate(\"\",\n",
    "              xy=(0,0), xycoords='data',\n",
    "              xytext=(0, 60), textcoords='data',\n",
    "              arrowprops=dict(arrowstyle=\"-\",\n",
    "                              edgecolor = \"black\",\n",
    "                              linewidth=5,\n",
    "                              alpha=0.65,\n",
    "                              connectionstyle=\"arc3,rad=0.\"),\n",
    "              )\n",
    "plt.annotate(\"\",\n",
    "              xy=(0,0), xycoords='data',\n",
    "              xytext=(60, 0), textcoords='data',\n",
    "              arrowprops=dict(arrowstyle=\"-\",\n",
    "                              edgecolor = \"black\",\n",
    "                              linewidth=5,\n",
    "                              alpha=0.65,\n",
    "                              connectionstyle=\"arc3,rad=0.\"),\n",
    "              )\n",
    "\n",
    "plt.annotate(\"\",\n",
    "              xy=(60,0), xycoords='data',\n",
    "              xytext=(60, 60), textcoords='data',\n",
    "              arrowprops=dict(arrowstyle=\"-\",\n",
    "                              edgecolor = \"black\",\n",
    "                              linewidth=5,\n",
    "                              alpha=0.65,\n",
    "                              connectionstyle=\"arc3,rad=0.\"),\n",
    "              )\n",
    "\n",
    "plt.annotate(\"\",\n",
    "              xy=(0,60), xycoords='data',\n",
    "              xytext=(60, 60), textcoords='data',\n",
    "              arrowprops=dict(arrowstyle=\"-\",\n",
    "                              edgecolor = \"black\",\n",
    "                              linewidth=5,\n",
    "                              alpha=0.65,\n",
    "                              connectionstyle=\"arc3,rad=0.\"),\n",
    "              )\n",
    "plt.annotate(\"\",\n",
    "              xy=(20,0), xycoords='data',\n",
    "              xytext=(20, 40), textcoords='data',\n",
    "              arrowprops=dict(arrowstyle=\"-\",\n",
    "                              edgecolor = \"black\",\n",
    "                              linewidth=5,\n",
    "                              alpha=0.65,\n",
    "                              connectionstyle=\"arc3,rad=0.\"),\n",
    "              )\n",
    "plt.annotate(\"\",\n",
    "              xy=(40,20), xycoords='data',\n",
    "              xytext=(40, 60), textcoords='data',\n",
    "              arrowprops=dict(arrowstyle=\"-\",\n",
    "                              edgecolor = \"black\",\n",
    "                              linewidth=5,\n",
    "                              alpha=0.65,\n",
    "                              connectionstyle=\"arc3,rad=0.\"),\n",
    "              )\n",
    "plt.annotate(\"\",\n",
    "              xy=(20,0), xycoords='data',\n",
    "              xytext=(20, 40), textcoords='data',\n",
    "              arrowprops=dict(arrowstyle=\"-\",\n",
    "                              edgecolor = \"black\",\n",
    "                              linewidth=5,\n",
    "                              alpha=0.65,\n",
    "                              connectionstyle=\"arc3,rad=0.\"),\n",
    "              )\n",
    "\n",
    "plt.scatter(x,y)\n",
    "plt.scatter(10,10,color='r')\n",
    "plt.scatter(50,50,color='r')\n",
    "plt.show()"
   ]
  },
  {
   "cell_type": "markdown",
   "metadata": {},
   "source": [
    "## Busca supervisionada A*: Heuristica 2 - Teste 3"
   ]
  },
  {
   "cell_type": "markdown",
   "metadata": {},
   "source": [
    "### Calculo do custo da busca e o caminho percorrido"
   ]
  },
  {
   "cell_type": "code",
   "execution_count": 32,
   "metadata": {},
   "outputs": [
    {
     "name": "stdout",
     "output_type": "stream",
     "text": [
      "84\n"
     ]
    }
   ],
   "source": [
    "init_pos = (10,10)\n",
    "goal_pos = (50,50)\n",
    "\n",
    "robot_problem = RobotProblem(init_pos, goal_pos, mapa, grafo)\n",
    "node = astar_search(robot_problem, h=robot_problem.heuristic_2)\n",
    "print(node.path_cost)"
   ]
  },
  {
   "cell_type": "code",
   "execution_count": 33,
   "metadata": {},
   "outputs": [],
   "source": [
    "list_nodes = []\n",
    "try:\n",
    "    for n in node.path():\n",
    "        list_nodes.append(n.state)\n",
    "except:\n",
    "    pass"
   ]
  },
  {
   "cell_type": "code",
   "execution_count": 34,
   "metadata": {},
   "outputs": [],
   "source": [
    "x = []\n",
    "y = []\n",
    "for nod in list_nodes:\n",
    "    x.append(nod[0])\n",
    "    y.append(nod[1])"
   ]
  },
  {
   "cell_type": "code",
   "execution_count": 35,
   "metadata": {
    "scrolled": true
   },
   "outputs": [
    {
     "data": {
      "image/png": "[encoded data removed]",
      "text/plain": [
       "<Figure size 432x288 with 1 Axes>"
      ]
     },
     "metadata": {
      "needs_background": "light"
     },
     "output_type": "display_data"
    }
   ],
   "source": [
    "fig = plt.figure()\n",
    "plt.xlim(0,60)\n",
    "plt.ylim(0,60)\n",
    "plt.title('Caminho percorrido pelo robo na busca A* com a primeira heuristica')\n",
    "plt.annotate(\"\",\n",
    "              xy=(0,0), xycoords='data',\n",
    "              xytext=(0, 60), textcoords='data',\n",
    "              arrowprops=dict(arrowstyle=\"-\",\n",
    "                              edgecolor = \"black\",\n",
    "                              linewidth=5,\n",
    "                              alpha=0.65,\n",
    "                              connectionstyle=\"arc3,rad=0.\"),\n",
    "              )\n",
    "plt.annotate(\"\",\n",
    "              xy=(0,0), xycoords='data',\n",
    "              xytext=(60, 0), textcoords='data',\n",
    "              arrowprops=dict(arrowstyle=\"-\",\n",
    "                              edgecolor = \"black\",\n",
    "                              linewidth=5,\n",
    "                              alpha=0.65,\n",
    "                              connectionstyle=\"arc3,rad=0.\"),\n",
    "              )\n",
    "\n",
    "plt.annotate(\"\",\n",
    "              xy=(60,0), xycoords='data',\n",
    "              xytext=(60, 60), textcoords='data',\n",
    "              arrowprops=dict(arrowstyle=\"-\",\n",
    "                              edgecolor = \"black\",\n",
    "                              linewidth=5,\n",
    "                              alpha=0.65,\n",
    "                              connectionstyle=\"arc3,rad=0.\"),\n",
    "              )\n",
    "\n",
    "plt.annotate(\"\",\n",
    "              xy=(0,60), xycoords='data',\n",
    "              xytext=(60, 60), textcoords='data',\n",
    "              arrowprops=dict(arrowstyle=\"-\",\n",
    "                              edgecolor = \"black\",\n",
    "                              linewidth=5,\n",
    "                              alpha=0.65,\n",
    "                              connectionstyle=\"arc3,rad=0.\"),\n",
    "              )\n",
    "plt.annotate(\"\",\n",
    "              xy=(20,0), xycoords='data',\n",
    "              xytext=(20, 40), textcoords='data',\n",
    "              arrowprops=dict(arrowstyle=\"-\",\n",
    "                              edgecolor = \"black\",\n",
    "                              linewidth=5,\n",
    "                              alpha=0.65,\n",
    "                              connectionstyle=\"arc3,rad=0.\"),\n",
    "              )\n",
    "plt.annotate(\"\",\n",
    "              xy=(40,20), xycoords='data',\n",
    "              xytext=(40, 60), textcoords='data',\n",
    "              arrowprops=dict(arrowstyle=\"-\",\n",
    "                              edgecolor = \"black\",\n",
    "                              linewidth=5,\n",
    "                              alpha=0.65,\n",
    "                              connectionstyle=\"arc3,rad=0.\"),\n",
    "              )\n",
    "plt.annotate(\"\",\n",
    "              xy=(20,0), xycoords='data',\n",
    "              xytext=(20, 40), textcoords='data',\n",
    "              arrowprops=dict(arrowstyle=\"-\",\n",
    "                              edgecolor = \"black\",\n",
    "                              linewidth=5,\n",
    "                              alpha=0.65,\n",
    "                              connectionstyle=\"arc3,rad=0.\"),\n",
    "              )\n",
    "\n",
    "plt.scatter(x,y)\n",
    "plt.scatter(10,10,color='r')\n",
    "plt.scatter(50,50,color='r')\n",
    "plt.show()"
   ]
  },
  {
   "cell_type": "markdown",
   "metadata": {},
   "source": [
    "# Marcando todos os nós visitados pelos algoritmos"
   ]
  },
  {
   "cell_type": "code",
   "execution_count": 93,
   "metadata": {},
   "outputs": [],
   "source": [
    "# class Node:\n",
    "#     \"A Node in a search tree.\"\n",
    "#     def __init__(self, state, parent=None, action=None, path_cost=0):\n",
    "#         self.__dict__.update(state=state, parent=parent, action=action, path_cost=path_cost)\n",
    "\n",
    "#     def __repr__(self): return '<{}>'.format(self.state)\n",
    "#     def __len__(self): return 0 if self.parent is None else (1 + len(self.parent))\n",
    "#     def __lt__(self, other): return self.path_cost < other.path_cost"
   ]
  },
  {
   "cell_type": "code",
   "execution_count": 83,
   "metadata": {},
   "outputs": [],
   "source": [
    "FIFOQueue = deque\n",
    "\n",
    "LIFOQueue = list\n",
    "\n",
    "class PriorityQueue:\n",
    "    \"\"\"A queue in which the item with minimum f(item) is always popped first.\"\"\"\n",
    "\n",
    "    def __init__(self, items=(), key=lambda x: x): \n",
    "        self.key = key\n",
    "        self.items = [] # a heap of (score, item) pairs\n",
    "        for item in items:\n",
    "            self.add(item)\n",
    "         \n",
    "    def add(self, item):\n",
    "        \"\"\"Add item to the queuez.\"\"\"\n",
    "        pair = (self.key(item), item)\n",
    "        heapq.heappush(self.items, pair)\n",
    "\n",
    "    def pop(self):\n",
    "        \"\"\"Pop and return the item with min f(item) value.\"\"\"\n",
    "        return heapq.heappop(self.items)[1]\n",
    "    \n",
    "    def top(self): return self.items[0][1]\n",
    "\n",
    "    def __len__(self): return len(self.items)"
   ]
  },
  {
   "cell_type": "code",
   "execution_count": 84,
   "metadata": {},
   "outputs": [],
   "source": [
    "def expand(problem, node):\n",
    "    \"Expand a node, generating the children nodes.\"\n",
    "    s = node.state\n",
    "    for action in problem.actions(s):\n",
    "        s1 = problem.result(s, action)\n",
    "        cost = node.path_cost + 1\n",
    "        yield Node(s1, node, action, cost)\n",
    "        \n",
    "\n",
    "def path_actions(node):\n",
    "    \"The sequence of actions to get to this node.\"\n",
    "    if node.parent is None:\n",
    "        return []  \n",
    "    return path_actions(node.parent) + [node.action]\n",
    "\n",
    "\n",
    "def path_states(node):\n",
    "    \"The sequence of states to get to this node.\"\n",
    "    if node in (cutoff, failure, None): \n",
    "        return []\n",
    "    return path_states(node.parent) + [node.state]\n",
    "\n",
    "def best_first_search(problem, f):\n",
    "    \"Search nodes with minimum f(node) value first; make `reached` global.\"\n",
    "    global reached # <<<<<<<<<<< Only change here\n",
    "    frontier = PriorityQueue([Node(problem.initial)], key=f)\n",
    "    reached = {}\n",
    "    while frontier:\n",
    "        node = frontier.pop()\n",
    "        if problem.goal_test(node.state):\n",
    "            return node\n",
    "        for child in expand(problem, node):\n",
    "            s = child.state\n",
    "            if s not in reached or child.path_cost < reached[s].path_cost:\n",
    "                reached[s] = child\n",
    "                frontier.add(child)\n",
    "    return failure\n",
    "\n",
    "def g(n): return n.path_cost"
   ]
  },
  {
   "cell_type": "markdown",
   "metadata": {},
   "source": [
    "## Busca supervisionada: A* Heurística 1 - Printa todos os nos visitados"
   ]
  },
  {
   "cell_type": "markdown",
   "metadata": {},
   "source": [
    "### Calculo do custo da busca e o caminho percorrido"
   ]
  },
  {
   "cell_type": "code",
   "execution_count": 95,
   "metadata": {},
   "outputs": [],
   "source": [
    "init_pos = (10,10)\n",
    "goal_pos = (50,50)\n",
    "\n",
    "robot_problem = RobotProblem(init_pos, goal_pos, mapa, grafo)\n",
    "# node = best_first_search(robot_problem,f=lambda n: g(n) + robot_problem.heuristic_1(n))\n",
    "node = astar_search(robot_problem, h=robot_problem.heuristic_1)"
   ]
  },
  {
   "cell_type": "code",
   "execution_count": 92,
   "metadata": {},
   "outputs": [],
   "source": [
    "x_reach = []\n",
    "y_reach = []\n",
    "for nod in list(reached):\n",
    "    x_reach.append(nod[0])\n",
    "    y_reach.append(nod[1])"
   ]
  },
  {
   "cell_type": "code",
   "execution_count": 96,
   "metadata": {},
   "outputs": [],
   "source": [
    "list_nodes = []\n",
    "try:\n",
    "    for n in node.path():\n",
    "        list_nodes.append(n.state)\n",
    "except:\n",
    "    pass"
   ]
  },
  {
   "cell_type": "code",
   "execution_count": 97,
   "metadata": {},
   "outputs": [],
   "source": [
    "x = []\n",
    "y = []\n",
    "for nod in list_nodes:\n",
    "    x.append(nod[0])\n",
    "    y.append(nod[1])"
   ]
  },
  {
   "cell_type": "code",
   "execution_count": 98,
   "metadata": {
    "scrolled": true
   },
   "outputs": [
    {
     "data": {
      "image/png": "[encoded data removed]",
      "text/plain": [
       "<Figure size 432x288 with 1 Axes>"
      ]
     },
     "metadata": {
      "needs_background": "light"
     },
     "output_type": "display_data"
    }
   ],
   "source": [
    "fig = plt.figure()\n",
    "plt.xlim(0,60)\n",
    "plt.ylim(0,60)\n",
    "plt.annotate(\"\",\n",
    "              xy=(0,0), xycoords='data',\n",
    "              xytext=(0, 60), textcoords='data',\n",
    "              arrowprops=dict(arrowstyle=\"-\",\n",
    "                              edgecolor = \"black\",\n",
    "                              linewidth=5,\n",
    "                              alpha=0.65,\n",
    "                              connectionstyle=\"arc3,rad=0.\"),\n",
    "              )\n",
    "plt.annotate(\"\",\n",
    "              xy=(0,0), xycoords='data',\n",
    "              xytext=(60, 0), textcoords='data',\n",
    "              arrowprops=dict(arrowstyle=\"-\",\n",
    "                              edgecolor = \"black\",\n",
    "                              linewidth=5,\n",
    "                              alpha=0.65,\n",
    "                              connectionstyle=\"arc3,rad=0.\"),\n",
    "              )\n",
    "\n",
    "plt.annotate(\"\",\n",
    "              xy=(60,0), xycoords='data',\n",
    "              xytext=(60, 60), textcoords='data',\n",
    "              arrowprops=dict(arrowstyle=\"-\",\n",
    "                              edgecolor = \"black\",\n",
    "                              linewidth=5,\n",
    "                              alpha=0.65,\n",
    "                              connectionstyle=\"arc3,rad=0.\"),\n",
    "              )\n",
    "\n",
    "plt.annotate(\"\",\n",
    "              xy=(0,60), xycoords='data',\n",
    "              xytext=(60, 60), textcoords='data',\n",
    "              arrowprops=dict(arrowstyle=\"-\",\n",
    "                              edgecolor = \"black\",\n",
    "                              linewidth=5,\n",
    "                              alpha=0.65,\n",
    "                              connectionstyle=\"arc3,rad=0.\"),\n",
    "              )\n",
    "plt.annotate(\"\",\n",
    "              xy=(20,0), xycoords='data',\n",
    "              xytext=(20, 40), textcoords='data',\n",
    "              arrowprops=dict(arrowstyle=\"-\",\n",
    "                              edgecolor = \"black\",\n",
    "                              linewidth=5,\n",
    "                              alpha=0.65,\n",
    "                              connectionstyle=\"arc3,rad=0.\"),\n",
    "              )\n",
    "plt.annotate(\"\",\n",
    "              xy=(40,20), xycoords='data',\n",
    "              xytext=(40, 60), textcoords='data',\n",
    "              arrowprops=dict(arrowstyle=\"-\",\n",
    "                              edgecolor = \"black\",\n",
    "                              linewidth=5,\n",
    "                              alpha=0.65,\n",
    "                              connectionstyle=\"arc3,rad=0.\"),\n",
    "              )\n",
    "plt.annotate(\"\",\n",
    "              xy=(20,0), xycoords='data',\n",
    "              xytext=(20, 40), textcoords='data',\n",
    "              arrowprops=dict(arrowstyle=\"-\",\n",
    "                              edgecolor = \"black\",\n",
    "                              linewidth=5,\n",
    "                              alpha=0.65,\n",
    "                              connectionstyle=\"arc3,rad=0.\"),\n",
    "              )\n",
    "\n",
    "\n",
    "plt.scatter(x_reach,y_reach,color='g')\n",
    "plt.scatter(x,y,color='yellow')\n",
    "plt.scatter(10,10,color='r')\n",
    "plt.scatter(50,50,color='r')\n",
    "plt.show()"
   ]
  },
  {
   "cell_type": "markdown",
   "metadata": {},
   "source": [
    "## Busca supervisionada: A* Heurística 2 - Printa todos os nos visitados"
   ]
  },
  {
   "cell_type": "markdown",
   "metadata": {},
   "source": [
    "### Calculo do custo da busca e o caminho percorrido"
   ]
  },
  {
   "cell_type": "code",
   "execution_count": 99,
   "metadata": {},
   "outputs": [],
   "source": [
    "init_pos = (10,10)\n",
    "goal_pos = (50,50)\n",
    "\n",
    "robot_problem = RobotProblem(init_pos, goal_pos, mapa, grafo)\n",
    "# node, l = breadth_first_graph_search_mod(robot_problem)\n",
    "# node = node = best_first_search(robot_problem,f=lambda n: g(n) + robot_problem.heuristic_2(n))\n",
    "node = astar_search(robot_problem, h=robot_problem.heuristic_2)"
   ]
  },
  {
   "cell_type": "code",
   "execution_count": 90,
   "metadata": {},
   "outputs": [],
   "source": [
    "x_reach2 = []\n",
    "y_reach2 = []\n",
    "for nod in list(reached):\n",
    "    x_reach2.append(nod[0])\n",
    "    y_reach2.append(nod[1])"
   ]
  },
  {
   "cell_type": "code",
   "execution_count": 100,
   "metadata": {},
   "outputs": [],
   "source": [
    "list_nodes = []\n",
    "try:\n",
    "    for n in node.path():\n",
    "        list_nodes.append(n.state)\n",
    "except:\n",
    "    pass"
   ]
  },
  {
   "cell_type": "code",
   "execution_count": 101,
   "metadata": {},
   "outputs": [],
   "source": [
    "x = []\n",
    "y = []\n",
    "for nod in list_nodes:\n",
    "    x.append(nod[0])\n",
    "    y.append(nod[1])"
   ]
  },
  {
   "cell_type": "code",
   "execution_count": 102,
   "metadata": {
    "scrolled": true
   },
   "outputs": [
    {
     "data": {
      "image/png": "[encoded data removed]",
      "text/plain": [
       "<Figure size 432x288 with 1 Axes>"
      ]
     },
     "metadata": {
      "needs_background": "light"
     },
     "output_type": "display_data"
    }
   ],
   "source": [
    "fig = plt.figure()\n",
    "plt.xlim(0,60)\n",
    "plt.ylim(0,60)\n",
    "plt.annotate(\"\",\n",
    "              xy=(0,0), xycoords='data',\n",
    "              xytext=(0, 60), textcoords='data',\n",
    "              arrowprops=dict(arrowstyle=\"-\",\n",
    "                              edgecolor = \"black\",\n",
    "                              linewidth=5,\n",
    "                              alpha=0.65,\n",
    "                              connectionstyle=\"arc3,rad=0.\"),\n",
    "              )\n",
    "plt.annotate(\"\",\n",
    "              xy=(0,0), xycoords='data',\n",
    "              xytext=(60, 0), textcoords='data',\n",
    "              arrowprops=dict(arrowstyle=\"-\",\n",
    "                              edgecolor = \"black\",\n",
    "                              linewidth=5,\n",
    "                              alpha=0.65,\n",
    "                              connectionstyle=\"arc3,rad=0.\"),\n",
    "              )\n",
    "\n",
    "plt.annotate(\"\",\n",
    "              xy=(60,0), xycoords='data',\n",
    "              xytext=(60, 60), textcoords='data',\n",
    "              arrowprops=dict(arrowstyle=\"-\",\n",
    "                              edgecolor = \"black\",\n",
    "                              linewidth=5,\n",
    "                              alpha=0.65,\n",
    "                              connectionstyle=\"arc3,rad=0.\"),\n",
    "              )\n",
    "\n",
    "plt.annotate(\"\",\n",
    "              xy=(0,60), xycoords='data',\n",
    "              xytext=(60, 60), textcoords='data',\n",
    "              arrowprops=dict(arrowstyle=\"-\",\n",
    "                              edgecolor = \"black\",\n",
    "                              linewidth=5,\n",
    "                              alpha=0.65,\n",
    "                              connectionstyle=\"arc3,rad=0.\"),\n",
    "              )\n",
    "plt.annotate(\"\",\n",
    "              xy=(20,0), xycoords='data',\n",
    "              xytext=(20, 40), textcoords='data',\n",
    "              arrowprops=dict(arrowstyle=\"-\",\n",
    "                              edgecolor = \"black\",\n",
    "                              linewidth=5,\n",
    "                              alpha=0.65,\n",
    "                              connectionstyle=\"arc3,rad=0.\"),\n",
    "              )\n",
    "plt.annotate(\"\",\n",
    "              xy=(40,20), xycoords='data',\n",
    "              xytext=(40, 60), textcoords='data',\n",
    "              arrowprops=dict(arrowstyle=\"-\",\n",
    "                              edgecolor = \"black\",\n",
    "                              linewidth=5,\n",
    "                              alpha=0.65,\n",
    "                              connectionstyle=\"arc3,rad=0.\"),\n",
    "              )\n",
    "plt.annotate(\"\",\n",
    "              xy=(20,0), xycoords='data',\n",
    "              xytext=(20, 40), textcoords='data',\n",
    "              arrowprops=dict(arrowstyle=\"-\",\n",
    "                              edgecolor = \"black\",\n",
    "                              linewidth=5,\n",
    "                              alpha=0.65,\n",
    "                              connectionstyle=\"arc3,rad=0.\"),\n",
    "              )\n",
    "\n",
    "\n",
    "plt.scatter(x_reach2,y_reach2,color='g')\n",
    "plt.scatter(x,y,color='yellow')\n",
    "plt.scatter(10,10,color='r')\n",
    "plt.scatter(50,50,color='r')\n",
    "plt.show()"
   ]
  },
  {
   "cell_type": "code",
   "execution_count": null,
   "metadata": {},
   "outputs": [],
   "source": []
  }
 ],
 "metadata": {
  "kernelspec": {
   "display_name": "Python 3",
   "language": "python",
   "name": "python3"
  },
  "language_info": {
   "codemirror_mode": {
    "name": "ipython",
    "version": 3
   },
   "file_extension": ".py",
   "mimetype": "text/x-python",
   "name": "python",
   "nbconvert_exporter": "python",
   "pygments_lexer": "ipython3",
   "version": "3.7.0"
  }
 },
 "nbformat": 4,
 "nbformat_minor": 2
}
