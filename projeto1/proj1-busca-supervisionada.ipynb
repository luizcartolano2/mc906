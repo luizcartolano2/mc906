{
 "cells": [
  {
   "cell_type": "markdown",
   "metadata": {},
   "source": [
    "# Buscas supervisionadas"
   ]
  },
  {
   "cell_type": "markdown",
   "metadata": {},
   "source": [
    "## Imports"
   ]
  },
  {
   "cell_type": "code",
   "execution_count": 1,
   "metadata": {},
   "outputs": [],
   "source": [
    "# imports necessarios\n",
    "from search import *\n",
    "from notebook import psource, heatmap, gaussian_kernel, show_map, final_path_colors, display_visual, plot_NQueens\n",
    "import networkx as nx\n",
    "import numpy as np\n",
    "import matplotlib.pyplot as plt\n",
    "from matplotlib.ticker import MultipleLocator\n",
    "import time\n",
    "from statistics import mean, stdev\n",
    "from math import sqrt\n",
    "\n",
    "# Needed to hide warnings in the matplotlib sections\n",
    "import warnings\n",
    "warnings.filterwarnings(\"ignore\")"
   ]
  },
  {
   "cell_type": "markdown",
   "metadata": {},
   "source": [
    "## Criação do mapa e do grafo"
   ]
  },
  {
   "cell_type": "code",
   "execution_count": 2,
   "metadata": {
    "scrolled": true
   },
   "outputs": [],
   "source": [
    "# make the dict where the key is associated with his neighbors\n",
    "mapa = {}\n",
    "for i in range(0,60):\n",
    "    for j in range(0,60):\n",
    "        mapa[(i,j)] = {(i+1,j):1, (i-1,j):1, (i,j+1):1, (i,j-1):1}\n",
    "        \n",
    "grafo = UndirectedGraph(mapa)"
   ]
  },
  {
   "cell_type": "markdown",
   "metadata": {},
   "source": [
    "## Modelagem da classe problema"
   ]
  },
  {
   "cell_type": "code",
   "execution_count": 17,
   "metadata": {},
   "outputs": [],
   "source": [
    "class RobotProblem(Problem):\n",
    "\n",
    "    \"\"\"Problema para encontrar o goal saindo de uma posicao (x,y) com um robo.\"\"\"\n",
    "\n",
    "    def __init__(self, initial, goal, mapa, graph):\n",
    "        Problem.__init__(self, initial, goal)\n",
    "        self.mapa = mapa\n",
    "        self.graph = graph\n",
    "\n",
    "    def actions(self, actual_pos):\n",
    "        \"\"\"The actions at a graph node are just its neighbors.\"\"\"\n",
    "        neighbors = list(self.graph.get(actual_pos).keys())\n",
    "        valid_actions = []\n",
    "        for act in neighbors:\n",
    "            if act[0] == 0 or act[0] == 60 or act[1] == 0 or act[1] == 60:\n",
    "                i = 1\n",
    "            elif (act[0] == 20 and (0<= act[1] <= 40)):\n",
    "                i = 2\n",
    "            elif (act[0] == 40 and (20<= act[1] <= 60)):\n",
    "                i = 3\n",
    "            else:\n",
    "                valid_actions.append(act)\n",
    "                \n",
    "        return valid_actions\n",
    "\n",
    "    def result(self, state, action):\n",
    "        \"\"\"The result of going to a neighbor is just that neighbor.\"\"\"\n",
    "        return action\n",
    "\n",
    "    def path_cost(self, cost_so_far, state1, action, state2):\n",
    "        return cost_so_far + 1\n",
    "\n",
    "    def goal_test(self, state):\n",
    "        if state[0] == self.goal[0] and state[1] == self.goal[1]:\n",
    "            return True\n",
    "        else:\n",
    "            return False\n",
    "    \n",
    "    def heuristic_1(self, node):\n",
    "        \"\"\"h function is straight-line distance from a node's state to goal.\"\"\"\n",
    "        locs = getattr(self.graph, 'locations', None)\n",
    "        if locs:\n",
    "            if type(node) is str:\n",
    "                return int(distance(locs[node], locs[self.goal]))\n",
    "\n",
    "            return int(distance(locs[node.state], locs[self.goal]))\n",
    "        else:\n",
    "            return infinity"
   ]
  },
  {
   "cell_type": "markdown",
   "metadata": {},
   "source": [
    "## Busca supervisionada A*: Heuristica 1"
   ]
  },
  {
   "cell_type": "markdown",
   "metadata": {},
   "source": [
    "### Calculo do custo da busca e o caminho percorrido"
   ]
  },
  {
   "cell_type": "code",
   "execution_count": 23,
   "metadata": {},
   "outputs": [
    {
     "name": "stdout",
     "output_type": "stream",
     "text": [
      "Custo da busca A* com a primeira heuristica: 142\n"
     ]
    }
   ],
   "source": [
    "init_pos = (10,10)\n",
    "goal_pos = (50,50)\n",
    "\n",
    "robot_problem = RobotProblem(init_pos, goal_pos, mapa, grafo)\n",
    "node = astar_search(robot_problem, h=robot_problem.heuristic_1)\n",
    "print(\"Custo da busca A* com a primeira heuristica: \" + str(node.path_cost))"
   ]
  },
  {
   "cell_type": "code",
   "execution_count": 19,
   "metadata": {},
   "outputs": [],
   "source": [
    "list_nodes = []\n",
    "for n in node.path():\n",
    "    list_nodes.append(n.state)"
   ]
  },
  {
   "cell_type": "code",
   "execution_count": 20,
   "metadata": {},
   "outputs": [],
   "source": [
    "x = []\n",
    "y = []\n",
    "for nod in list_nodes:\n",
    "    x.append(nod[0])\n",
    "    y.append(nod[1])"
   ]
  },
  {
   "cell_type": "code",
   "execution_count": 25,
   "metadata": {},
   "outputs": [
    {
     "data": {
      "image/png": "[encoded data removed]",
      "text/plain": [
       "<Figure size 432x288 with 1 Axes>"
      ]
     },
     "metadata": {
      "needs_background": "light"
     },
     "output_type": "display_data"
    }
   ],
   "source": [
    "fig = plt.figure()\n",
    "plt.xlim(0,60)\n",
    "plt.ylim(0,60)\n",
    "plt.title('Caminho percorrido pelo robo na busca A* com a primeira heuristica')\n",
    "plt.annotate(\"\",\n",
    "              xy=(0,0), xycoords='data',\n",
    "              xytext=(0, 60), textcoords='data',\n",
    "              arrowprops=dict(arrowstyle=\"-\",\n",
    "                              edgecolor = \"black\",\n",
    "                              linewidth=5,\n",
    "                              alpha=0.65,\n",
    "                              connectionstyle=\"arc3,rad=0.\"),\n",
    "              )\n",
    "plt.annotate(\"\",\n",
    "              xy=(0,0), xycoords='data',\n",
    "              xytext=(60, 0), textcoords='data',\n",
    "              arrowprops=dict(arrowstyle=\"-\",\n",
    "                              edgecolor = \"black\",\n",
    "                              linewidth=5,\n",
    "                              alpha=0.65,\n",
    "                              connectionstyle=\"arc3,rad=0.\"),\n",
    "              )\n",
    "\n",
    "plt.annotate(\"\",\n",
    "              xy=(60,0), xycoords='data',\n",
    "              xytext=(60, 60), textcoords='data',\n",
    "              arrowprops=dict(arrowstyle=\"-\",\n",
    "                              edgecolor = \"black\",\n",
    "                              linewidth=5,\n",
    "                              alpha=0.65,\n",
    "                              connectionstyle=\"arc3,rad=0.\"),\n",
    "              )\n",
    "\n",
    "plt.annotate(\"\",\n",
    "              xy=(0,60), xycoords='data',\n",
    "              xytext=(60, 60), textcoords='data',\n",
    "              arrowprops=dict(arrowstyle=\"-\",\n",
    "                              edgecolor = \"black\",\n",
    "                              linewidth=5,\n",
    "                              alpha=0.65,\n",
    "                              connectionstyle=\"arc3,rad=0.\"),\n",
    "              )\n",
    "plt.annotate(\"\",\n",
    "              xy=(40,20), xycoords='data',\n",
    "              xytext=(40, 60), textcoords='data',\n",
    "              arrowprops=dict(arrowstyle=\"-\",\n",
    "                              edgecolor = \"black\",\n",
    "                              linewidth=5,\n",
    "                              alpha=0.65,\n",
    "                              connectionstyle=\"arc3,rad=0.\"),\n",
    "              )\n",
    "plt.annotate(\"\",\n",
    "              xy=(20,0), xycoords='data',\n",
    "              xytext=(20, 40), textcoords='data',\n",
    "              arrowprops=dict(arrowstyle=\"-\",\n",
    "                              edgecolor = \"black\",\n",
    "                              linewidth=5,\n",
    "                              alpha=0.65,\n",
    "                              connectionstyle=\"arc3,rad=0.\"),\n",
    "              )\n",
    "plt.scatter(x,y)\n",
    "plt.scatter(10,10,color='r')\n",
    "plt.scatter(50,50,color='r')\n",
    "plt.show()"
   ]
  },
  {
   "cell_type": "markdown",
   "metadata": {},
   "source": [
    "### Calculo do tempo gasto pelo A* com inicio em (10,10) e fim em (50,50) usando a heuristica 1"
   ]
  },
  {
   "cell_type": "code",
   "execution_count": 24,
   "metadata": {},
   "outputs": [],
   "source": [
    "init_pos = (10,10)\n",
    "goal_pos = (50,50)\n",
    "\n",
    "robot_problem = RobotProblem(init_pos, goal_pos, mapa, grafo)\n",
    "\n",
    "times = []\n",
    "for i in range(0,1000):\n",
    "    start = time.time()\n",
    "    node = astar_search(robot_problem, h=robot_problem.heuristic_1)\n",
    "    end = time.time()\n",
    "    times.append(end - start)"
   ]
  },
  {
   "cell_type": "code",
   "execution_count": 26,
   "metadata": {},
   "outputs": [
    {
     "name": "stdout",
     "output_type": "stream",
     "text": [
      "Media do tempo gasto para a busca A* com a primeira heuristica: 0.29269154953956605\n",
      "Desvio padrao do tempo gasto para a busca A* com a primeira heuristica: 0.024914598492101866\n",
      "Intervalo de confiança para a busca A* com a primeira heuristica: (0.2911473267263827,0.2942357723527494)\n"
     ]
    },
    {
     "data": {
      "image/png": "[encoded data removed]",
      "text/plain": [
       "<Figure size 432x288 with 1 Axes>"
      ]
     },
     "metadata": {
      "needs_background": "light"
     },
     "output_type": "display_data"
    }
   ],
   "source": [
    "media_a_1 = mean(times)\n",
    "desvio_a_1 = stdev(times)\n",
    "intervalo_conf = '(' + str( media_a_1 - 1.96 * (desvio_a_1 / (len(times)) ** (1/2)) ) + ',' + str( media_a_1 + 1.96 * (desvio_a_1 / (len(times)) ** (1/2)) ) + ')'\n",
    "print(\"Media do tempo gasto para a busca A* com a primeira heuristica: \" + str(media_a_1))\n",
    "print(\"Desvio padrao do tempo gasto para a busca A* com a primeira heuristica: \" + str(desvio_a_1))\n",
    "print(\"Intervalo de confiança para a busca A* com a primeira heuristica: \" + intervalo_conf)\n",
    "fig = plt.figure()\n",
    "plt.hist(times,bins=50)\n",
    "plt.title('Histograma para o tempo de execucao do A* com a primeira heuristica')\n",
    "plt.show()"
   ]
  },
  {
   "cell_type": "markdown",
   "metadata": {},
   "source": [
    "### Projecao da relacao entre distancia em linha reta e tempo para o A* com a primeira heuristica"
   ]
  },
  {
   "cell_type": "code",
   "execution_count": 27,
   "metadata": {},
   "outputs": [],
   "source": [
    "goal_pos = (50,50)\n",
    "x = []\n",
    "y = []\n",
    "for i in range(5,50):\n",
    "    for j in range(5,50):\n",
    "        if i != 20 and i != 40:\n",
    "            init_pos = (i,i)\n",
    "            distancia_linha_reta = sqrt( (goal_pos[0] - init_pos[0]) ** 2 + (goal_pos[1] - init_pos[1]) ** 2)\n",
    "            robot_problem = RobotProblem(init_pos, goal_pos, mapa, grafo)\n",
    "            start = time.time()\n",
    "            node = astar_search(robot_problem, h=robot_problem.heuristic_1)\n",
    "            end = time.time()\n",
    "            x.append(distancia_linha_reta)\n",
    "            y.append(end - start)"
   ]
  },
  {
   "cell_type": "code",
   "execution_count": 31,
   "metadata": {},
   "outputs": [
    {
     "data": {
      "image/png": "[encoded data removed]",
      "text/plain": [
       "<Figure size 432x288 with 1 Axes>"
      ]
     },
     "metadata": {
      "needs_background": "light"
     },
     "output_type": "display_data"
    }
   ],
   "source": [
    "fig = plt.figure()\n",
    "plt.scatter(x,y)\n",
    "plt.ylim(0.2, 1.0)\n",
    "plt.title(\"Distancia em linha reta x Tempo A*-heuristica1\")\n",
    "plt.xlabel(\"Distancia em linha reta entre os pontos inicial e final\")\n",
    "plt.ylabel(\"Tempo da busca A* com a primeira heuristica\")\n",
    "plt.show()"
   ]
  }
 ],
 "metadata": {
  "kernelspec": {
   "display_name": "Python 3",
   "language": "python",
   "name": "python3"
  },
  "language_info": {
   "codemirror_mode": {
    "name": "ipython",
    "version": 3
   },
   "file_extension": ".py",
   "mimetype": "text/x-python",
   "name": "python",
   "nbconvert_exporter": "python",
   "pygments_lexer": "ipython3",
   "version": "3.7.0"
  }
 },
 "nbformat": 4,
 "nbformat_minor": 2
}
